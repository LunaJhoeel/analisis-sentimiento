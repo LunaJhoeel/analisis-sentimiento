{
  "nbformat": 4,
  "nbformat_minor": 0,
  "metadata": {
    "colab": {
      "provenance": []
    },
    "kernelspec": {
      "name": "python3",
      "display_name": "Python 3"
    },
    "language_info": {
      "name": "python"
    },
    "widgets": {
      "application/vnd.jupyter.widget-state+json": {
        "49a92957b45d4de99eae7f538e14dfca": {
          "model_module": "@jupyter-widgets/controls",
          "model_name": "HBoxModel",
          "model_module_version": "1.5.0",
          "state": {
            "_dom_classes": [],
            "_model_module": "@jupyter-widgets/controls",
            "_model_module_version": "1.5.0",
            "_model_name": "HBoxModel",
            "_view_count": null,
            "_view_module": "@jupyter-widgets/controls",
            "_view_module_version": "1.5.0",
            "_view_name": "HBoxView",
            "box_style": "",
            "children": [
              "IPY_MODEL_e148924939dc4ad882cca6556468bf1a",
              "IPY_MODEL_bf492803af4c49f6b4e602659b4374aa",
              "IPY_MODEL_8f76a9e499784e86acfd6fa790bfce75"
            ],
            "layout": "IPY_MODEL_140a533a392d4c96ac55a44b27d541b1"
          }
        },
        "e148924939dc4ad882cca6556468bf1a": {
          "model_module": "@jupyter-widgets/controls",
          "model_name": "HTMLModel",
          "model_module_version": "1.5.0",
          "state": {
            "_dom_classes": [],
            "_model_module": "@jupyter-widgets/controls",
            "_model_module_version": "1.5.0",
            "_model_name": "HTMLModel",
            "_view_count": null,
            "_view_module": "@jupyter-widgets/controls",
            "_view_module_version": "1.5.0",
            "_view_name": "HTMLView",
            "description": "",
            "description_tooltip": null,
            "layout": "IPY_MODEL_ec93ae4323c84614aecf65eff7107fc1",
            "placeholder": "​",
            "style": "IPY_MODEL_f157e6d1917e43cd893eba68be51d09f",
            "value": "100%"
          }
        },
        "bf492803af4c49f6b4e602659b4374aa": {
          "model_module": "@jupyter-widgets/controls",
          "model_name": "FloatProgressModel",
          "model_module_version": "1.5.0",
          "state": {
            "_dom_classes": [],
            "_model_module": "@jupyter-widgets/controls",
            "_model_module_version": "1.5.0",
            "_model_name": "FloatProgressModel",
            "_view_count": null,
            "_view_module": "@jupyter-widgets/controls",
            "_view_module_version": "1.5.0",
            "_view_name": "ProgressView",
            "bar_style": "success",
            "description": "",
            "description_tooltip": null,
            "layout": "IPY_MODEL_9ecc3f4931cc4e4c911dc3154ca3d94e",
            "max": 3480,
            "min": 0,
            "orientation": "horizontal",
            "style": "IPY_MODEL_b582fb97273349c0bed57e23c879ea77",
            "value": 3480
          }
        },
        "8f76a9e499784e86acfd6fa790bfce75": {
          "model_module": "@jupyter-widgets/controls",
          "model_name": "HTMLModel",
          "model_module_version": "1.5.0",
          "state": {
            "_dom_classes": [],
            "_model_module": "@jupyter-widgets/controls",
            "_model_module_version": "1.5.0",
            "_model_name": "HTMLModel",
            "_view_count": null,
            "_view_module": "@jupyter-widgets/controls",
            "_view_module_version": "1.5.0",
            "_view_name": "HTMLView",
            "description": "",
            "description_tooltip": null,
            "layout": "IPY_MODEL_b49324ac47084614a5cc9574b4bc8f1f",
            "placeholder": "​",
            "style": "IPY_MODEL_92b4e3ad2f4b4f7cb546e7a893f0b624",
            "value": " 3480/3480 [07:13&lt;00:00, 10.21it/s]"
          }
        },
        "140a533a392d4c96ac55a44b27d541b1": {
          "model_module": "@jupyter-widgets/base",
          "model_name": "LayoutModel",
          "model_module_version": "1.2.0",
          "state": {
            "_model_module": "@jupyter-widgets/base",
            "_model_module_version": "1.2.0",
            "_model_name": "LayoutModel",
            "_view_count": null,
            "_view_module": "@jupyter-widgets/base",
            "_view_module_version": "1.2.0",
            "_view_name": "LayoutView",
            "align_content": null,
            "align_items": null,
            "align_self": null,
            "border": null,
            "bottom": null,
            "display": null,
            "flex": null,
            "flex_flow": null,
            "grid_area": null,
            "grid_auto_columns": null,
            "grid_auto_flow": null,
            "grid_auto_rows": null,
            "grid_column": null,
            "grid_gap": null,
            "grid_row": null,
            "grid_template_areas": null,
            "grid_template_columns": null,
            "grid_template_rows": null,
            "height": null,
            "justify_content": null,
            "justify_items": null,
            "left": null,
            "margin": null,
            "max_height": null,
            "max_width": null,
            "min_height": null,
            "min_width": null,
            "object_fit": null,
            "object_position": null,
            "order": null,
            "overflow": null,
            "overflow_x": null,
            "overflow_y": null,
            "padding": null,
            "right": null,
            "top": null,
            "visibility": null,
            "width": null
          }
        },
        "ec93ae4323c84614aecf65eff7107fc1": {
          "model_module": "@jupyter-widgets/base",
          "model_name": "LayoutModel",
          "model_module_version": "1.2.0",
          "state": {
            "_model_module": "@jupyter-widgets/base",
            "_model_module_version": "1.2.0",
            "_model_name": "LayoutModel",
            "_view_count": null,
            "_view_module": "@jupyter-widgets/base",
            "_view_module_version": "1.2.0",
            "_view_name": "LayoutView",
            "align_content": null,
            "align_items": null,
            "align_self": null,
            "border": null,
            "bottom": null,
            "display": null,
            "flex": null,
            "flex_flow": null,
            "grid_area": null,
            "grid_auto_columns": null,
            "grid_auto_flow": null,
            "grid_auto_rows": null,
            "grid_column": null,
            "grid_gap": null,
            "grid_row": null,
            "grid_template_areas": null,
            "grid_template_columns": null,
            "grid_template_rows": null,
            "height": null,
            "justify_content": null,
            "justify_items": null,
            "left": null,
            "margin": null,
            "max_height": null,
            "max_width": null,
            "min_height": null,
            "min_width": null,
            "object_fit": null,
            "object_position": null,
            "order": null,
            "overflow": null,
            "overflow_x": null,
            "overflow_y": null,
            "padding": null,
            "right": null,
            "top": null,
            "visibility": null,
            "width": null
          }
        },
        "f157e6d1917e43cd893eba68be51d09f": {
          "model_module": "@jupyter-widgets/controls",
          "model_name": "DescriptionStyleModel",
          "model_module_version": "1.5.0",
          "state": {
            "_model_module": "@jupyter-widgets/controls",
            "_model_module_version": "1.5.0",
            "_model_name": "DescriptionStyleModel",
            "_view_count": null,
            "_view_module": "@jupyter-widgets/base",
            "_view_module_version": "1.2.0",
            "_view_name": "StyleView",
            "description_width": ""
          }
        },
        "9ecc3f4931cc4e4c911dc3154ca3d94e": {
          "model_module": "@jupyter-widgets/base",
          "model_name": "LayoutModel",
          "model_module_version": "1.2.0",
          "state": {
            "_model_module": "@jupyter-widgets/base",
            "_model_module_version": "1.2.0",
            "_model_name": "LayoutModel",
            "_view_count": null,
            "_view_module": "@jupyter-widgets/base",
            "_view_module_version": "1.2.0",
            "_view_name": "LayoutView",
            "align_content": null,
            "align_items": null,
            "align_self": null,
            "border": null,
            "bottom": null,
            "display": null,
            "flex": null,
            "flex_flow": null,
            "grid_area": null,
            "grid_auto_columns": null,
            "grid_auto_flow": null,
            "grid_auto_rows": null,
            "grid_column": null,
            "grid_gap": null,
            "grid_row": null,
            "grid_template_areas": null,
            "grid_template_columns": null,
            "grid_template_rows": null,
            "height": null,
            "justify_content": null,
            "justify_items": null,
            "left": null,
            "margin": null,
            "max_height": null,
            "max_width": null,
            "min_height": null,
            "min_width": null,
            "object_fit": null,
            "object_position": null,
            "order": null,
            "overflow": null,
            "overflow_x": null,
            "overflow_y": null,
            "padding": null,
            "right": null,
            "top": null,
            "visibility": null,
            "width": null
          }
        },
        "b582fb97273349c0bed57e23c879ea77": {
          "model_module": "@jupyter-widgets/controls",
          "model_name": "ProgressStyleModel",
          "model_module_version": "1.5.0",
          "state": {
            "_model_module": "@jupyter-widgets/controls",
            "_model_module_version": "1.5.0",
            "_model_name": "ProgressStyleModel",
            "_view_count": null,
            "_view_module": "@jupyter-widgets/base",
            "_view_module_version": "1.2.0",
            "_view_name": "StyleView",
            "bar_color": null,
            "description_width": ""
          }
        },
        "b49324ac47084614a5cc9574b4bc8f1f": {
          "model_module": "@jupyter-widgets/base",
          "model_name": "LayoutModel",
          "model_module_version": "1.2.0",
          "state": {
            "_model_module": "@jupyter-widgets/base",
            "_model_module_version": "1.2.0",
            "_model_name": "LayoutModel",
            "_view_count": null,
            "_view_module": "@jupyter-widgets/base",
            "_view_module_version": "1.2.0",
            "_view_name": "LayoutView",
            "align_content": null,
            "align_items": null,
            "align_self": null,
            "border": null,
            "bottom": null,
            "display": null,
            "flex": null,
            "flex_flow": null,
            "grid_area": null,
            "grid_auto_columns": null,
            "grid_auto_flow": null,
            "grid_auto_rows": null,
            "grid_column": null,
            "grid_gap": null,
            "grid_row": null,
            "grid_template_areas": null,
            "grid_template_columns": null,
            "grid_template_rows": null,
            "height": null,
            "justify_content": null,
            "justify_items": null,
            "left": null,
            "margin": null,
            "max_height": null,
            "max_width": null,
            "min_height": null,
            "min_width": null,
            "object_fit": null,
            "object_position": null,
            "order": null,
            "overflow": null,
            "overflow_x": null,
            "overflow_y": null,
            "padding": null,
            "right": null,
            "top": null,
            "visibility": null,
            "width": null
          }
        },
        "92b4e3ad2f4b4f7cb546e7a893f0b624": {
          "model_module": "@jupyter-widgets/controls",
          "model_name": "DescriptionStyleModel",
          "model_module_version": "1.5.0",
          "state": {
            "_model_module": "@jupyter-widgets/controls",
            "_model_module_version": "1.5.0",
            "_model_name": "DescriptionStyleModel",
            "_view_count": null,
            "_view_module": "@jupyter-widgets/base",
            "_view_module_version": "1.2.0",
            "_view_name": "StyleView",
            "description_width": ""
          }
        }
      }
    }
  },
  "cells": [
    {
      "cell_type": "markdown",
      "source": [
        "**CASO:**\n",
        "\n",
        "Uno de nuestros clientes, Atlas Bank, que se dedica al sector de finanzas quiere conocer\n",
        "mejor la satisfacción de sus clientes.\n",
        "Actualmente tienen una encuesta en su página web que les permite recopilar niveles de\n",
        "satisfacción de 1 a 5 y comentarios."
      ],
      "metadata": {
        "id": "WeHUxIJpC_bi"
      }
    },
    {
      "cell_type": "code",
      "source": [
        "import pandas as pd\n",
        "import numpy as np\n",
        "import warnings\n",
        "warnings.filterwarnings('ignore')"
      ],
      "metadata": {
        "id": "9yl72dwKDDKb"
      },
      "execution_count": null,
      "outputs": []
    },
    {
      "cell_type": "code",
      "source": [
        "# Lee un archivo de valores separados por comas (csv) en un DataFrame\n",
        "df = pd.read_csv('data.csv')"
      ],
      "metadata": {
        "id": "4RFdu36CDErl"
      },
      "execution_count": null,
      "outputs": []
    },
    {
      "cell_type": "markdown",
      "source": [
        "**Exploratory Data Analysis (EDA)**: Análisis Exploratorio de Datos"
      ],
      "metadata": {
        "id": "AsvGnukWNi4t"
      }
    },
    {
      "cell_type": "code",
      "source": [
        "# Devuelve una tupla que representa la dimensionalidad del DataFrame\n",
        "df.shape"
      ],
      "metadata": {
        "colab": {
          "base_uri": "https://localhost:8080/"
        },
        "id": "eDlKTd0BDmFW",
        "outputId": "b9a5e3c2-8f7e-40c5-b13d-e7177408d634"
      },
      "execution_count": null,
      "outputs": [
        {
          "output_type": "execute_result",
          "data": {
            "text/plain": [
              "(11050, 6)"
            ]
          },
          "metadata": {},
          "execution_count": 3
        }
      ]
    },
    {
      "cell_type": "code",
      "source": [
        "# Esta función devuelve las primeras 3 filas del objeto según la posición\n",
        "df.head(3)"
      ],
      "metadata": {
        "colab": {
          "base_uri": "https://localhost:8080/",
          "height": 143
        },
        "id": "_yKgY3_hD8Sg",
        "outputId": "3cb0bd0a-b5d8-4b0b-b563-7a60b14656b4"
      },
      "execution_count": null,
      "outputs": [
        {
          "output_type": "execute_result",
          "data": {
            "text/plain": [
              "      Fecha  Pais Dispositivo                  Browser  Rank  \\\n",
              "0  8/8/2019  Peru       phone  Chrome Mobile 76.0.3809     1   \n",
              "1  8/8/2019  Peru     desktop         Chrome 76.0.3809     1   \n",
              "2  8/9/2019  Peru       phone  Chrome Mobile 42.0.2311     1   \n",
              "\n",
              "                                          Comentario  \n",
              "0  No consigo lo que deseo. No consigo agendar un...  \n",
              "1                                                NaN  \n",
              "2                                                NaN  "
            ],
            "text/html": [
              "\n",
              "  <div id=\"df-020d913f-6863-4671-a596-6f8b07d50c0a\">\n",
              "    <div class=\"colab-df-container\">\n",
              "      <div>\n",
              "<style scoped>\n",
              "    .dataframe tbody tr th:only-of-type {\n",
              "        vertical-align: middle;\n",
              "    }\n",
              "\n",
              "    .dataframe tbody tr th {\n",
              "        vertical-align: top;\n",
              "    }\n",
              "\n",
              "    .dataframe thead th {\n",
              "        text-align: right;\n",
              "    }\n",
              "</style>\n",
              "<table border=\"1\" class=\"dataframe\">\n",
              "  <thead>\n",
              "    <tr style=\"text-align: right;\">\n",
              "      <th></th>\n",
              "      <th>Fecha</th>\n",
              "      <th>Pais</th>\n",
              "      <th>Dispositivo</th>\n",
              "      <th>Browser</th>\n",
              "      <th>Rank</th>\n",
              "      <th>Comentario</th>\n",
              "    </tr>\n",
              "  </thead>\n",
              "  <tbody>\n",
              "    <tr>\n",
              "      <th>0</th>\n",
              "      <td>8/8/2019</td>\n",
              "      <td>Peru</td>\n",
              "      <td>phone</td>\n",
              "      <td>Chrome Mobile 76.0.3809</td>\n",
              "      <td>1</td>\n",
              "      <td>No consigo lo que deseo. No consigo agendar un...</td>\n",
              "    </tr>\n",
              "    <tr>\n",
              "      <th>1</th>\n",
              "      <td>8/8/2019</td>\n",
              "      <td>Peru</td>\n",
              "      <td>desktop</td>\n",
              "      <td>Chrome 76.0.3809</td>\n",
              "      <td>1</td>\n",
              "      <td>NaN</td>\n",
              "    </tr>\n",
              "    <tr>\n",
              "      <th>2</th>\n",
              "      <td>8/9/2019</td>\n",
              "      <td>Peru</td>\n",
              "      <td>phone</td>\n",
              "      <td>Chrome Mobile 42.0.2311</td>\n",
              "      <td>1</td>\n",
              "      <td>NaN</td>\n",
              "    </tr>\n",
              "  </tbody>\n",
              "</table>\n",
              "</div>\n",
              "      <button class=\"colab-df-convert\" onclick=\"convertToInteractive('df-020d913f-6863-4671-a596-6f8b07d50c0a')\"\n",
              "              title=\"Convert this dataframe to an interactive table.\"\n",
              "              style=\"display:none;\">\n",
              "        \n",
              "  <svg xmlns=\"http://www.w3.org/2000/svg\" height=\"24px\"viewBox=\"0 0 24 24\"\n",
              "       width=\"24px\">\n",
              "    <path d=\"M0 0h24v24H0V0z\" fill=\"none\"/>\n",
              "    <path d=\"M18.56 5.44l.94 2.06.94-2.06 2.06-.94-2.06-.94-.94-2.06-.94 2.06-2.06.94zm-11 1L8.5 8.5l.94-2.06 2.06-.94-2.06-.94L8.5 2.5l-.94 2.06-2.06.94zm10 10l.94 2.06.94-2.06 2.06-.94-2.06-.94-.94-2.06-.94 2.06-2.06.94z\"/><path d=\"M17.41 7.96l-1.37-1.37c-.4-.4-.92-.59-1.43-.59-.52 0-1.04.2-1.43.59L10.3 9.45l-7.72 7.72c-.78.78-.78 2.05 0 2.83L4 21.41c.39.39.9.59 1.41.59.51 0 1.02-.2 1.41-.59l7.78-7.78 2.81-2.81c.8-.78.8-2.07 0-2.86zM5.41 20L4 18.59l7.72-7.72 1.47 1.35L5.41 20z\"/>\n",
              "  </svg>\n",
              "      </button>\n",
              "      \n",
              "  <style>\n",
              "    .colab-df-container {\n",
              "      display:flex;\n",
              "      flex-wrap:wrap;\n",
              "      gap: 12px;\n",
              "    }\n",
              "\n",
              "    .colab-df-convert {\n",
              "      background-color: #E8F0FE;\n",
              "      border: none;\n",
              "      border-radius: 50%;\n",
              "      cursor: pointer;\n",
              "      display: none;\n",
              "      fill: #1967D2;\n",
              "      height: 32px;\n",
              "      padding: 0 0 0 0;\n",
              "      width: 32px;\n",
              "    }\n",
              "\n",
              "    .colab-df-convert:hover {\n",
              "      background-color: #E2EBFA;\n",
              "      box-shadow: 0px 1px 2px rgba(60, 64, 67, 0.3), 0px 1px 3px 1px rgba(60, 64, 67, 0.15);\n",
              "      fill: #174EA6;\n",
              "    }\n",
              "\n",
              "    [theme=dark] .colab-df-convert {\n",
              "      background-color: #3B4455;\n",
              "      fill: #D2E3FC;\n",
              "    }\n",
              "\n",
              "    [theme=dark] .colab-df-convert:hover {\n",
              "      background-color: #434B5C;\n",
              "      box-shadow: 0px 1px 3px 1px rgba(0, 0, 0, 0.15);\n",
              "      filter: drop-shadow(0px 1px 2px rgba(0, 0, 0, 0.3));\n",
              "      fill: #FFFFFF;\n",
              "    }\n",
              "  </style>\n",
              "\n",
              "      <script>\n",
              "        const buttonEl =\n",
              "          document.querySelector('#df-020d913f-6863-4671-a596-6f8b07d50c0a button.colab-df-convert');\n",
              "        buttonEl.style.display =\n",
              "          google.colab.kernel.accessAllowed ? 'block' : 'none';\n",
              "\n",
              "        async function convertToInteractive(key) {\n",
              "          const element = document.querySelector('#df-020d913f-6863-4671-a596-6f8b07d50c0a');\n",
              "          const dataTable =\n",
              "            await google.colab.kernel.invokeFunction('convertToInteractive',\n",
              "                                                     [key], {});\n",
              "          if (!dataTable) return;\n",
              "\n",
              "          const docLinkHtml = 'Like what you see? Visit the ' +\n",
              "            '<a target=\"_blank\" href=https://colab.research.google.com/notebooks/data_table.ipynb>data table notebook</a>'\n",
              "            + ' to learn more about interactive tables.';\n",
              "          element.innerHTML = '';\n",
              "          dataTable['output_type'] = 'display_data';\n",
              "          await google.colab.output.renderOutput(dataTable, element);\n",
              "          const docLink = document.createElement('div');\n",
              "          docLink.innerHTML = docLinkHtml;\n",
              "          element.appendChild(docLink);\n",
              "        }\n",
              "      </script>\n",
              "    </div>\n",
              "  </div>\n",
              "  "
            ]
          },
          "metadata": {},
          "execution_count": 4
        }
      ]
    },
    {
      "cell_type": "code",
      "source": [
        "# Revisa el tipo de datos en las columnas\n",
        "df.dtypes"
      ],
      "metadata": {
        "colab": {
          "base_uri": "https://localhost:8080/"
        },
        "id": "zSjVx0SpNthW",
        "outputId": "7c5e73e3-e704-4220-8f6f-92853486097d"
      },
      "execution_count": null,
      "outputs": [
        {
          "output_type": "execute_result",
          "data": {
            "text/plain": [
              "Fecha          object\n",
              "Pais           object\n",
              "Dispositivo    object\n",
              "Browser        object\n",
              "Rank            int64\n",
              "Comentario     object\n",
              "dtype: object"
            ]
          },
          "metadata": {},
          "execution_count": 5
        }
      ]
    },
    {
      "cell_type": "code",
      "source": [
        "# Revisa si existen valores nulos\n",
        "df.isna().sum()"
      ],
      "metadata": {
        "colab": {
          "base_uri": "https://localhost:8080/"
        },
        "id": "I4_bn4adNxJb",
        "outputId": "5323b6a0-97f3-4579-d9fc-99f1b05bbfb0"
      },
      "execution_count": null,
      "outputs": [
        {
          "output_type": "execute_result",
          "data": {
            "text/plain": [
              "Fecha             0\n",
              "Pais              0\n",
              "Dispositivo       0\n",
              "Browser           0\n",
              "Rank              0\n",
              "Comentario     7540\n",
              "dtype: int64"
            ]
          },
          "metadata": {},
          "execution_count": 6
        }
      ]
    },
    {
      "cell_type": "markdown",
      "source": [
        "**1. Cuantificar el número de usuarios felices/ infelices**"
      ],
      "metadata": {
        "id": "5z9pEuZCEFka"
      }
    },
    {
      "cell_type": "code",
      "source": [
        "# Suma la cantidad de valoraciones '4' y '5' de la columna rank\n",
        "q_u_felices = int(df['Rank'].value_counts().loc[4])+int(df['Rank'].value_counts().loc[5])\n",
        "# Suma la cantidad de valoraciones '1', '2' y '3' de la columna rank\n",
        "q_u_infelices = int(df['Rank'].value_counts().loc[1])+int(df['Rank'].value_counts().loc[2])+int(df['Rank'].value_counts().loc[3])\n",
        "\n",
        "# Crea un dataframe para visualiación\n",
        "tabla = pd.DataFrame(\n",
        "    {\n",
        "        'Cantidad': [q_u_felices, q_u_infelices],\n",
        "    },\n",
        "    index=[\n",
        "           'Usuarios felices', 'Usuarios infelices'\n",
        "    ])\n",
        "tabla.reset_index(inplace=True)\n",
        "tabla"
      ],
      "metadata": {
        "colab": {
          "base_uri": "https://localhost:8080/",
          "height": 112
        },
        "id": "F256IElGEGuR",
        "outputId": "892ab112-8700-41a2-d707-4e47f7b2be22"
      },
      "execution_count": null,
      "outputs": [
        {
          "output_type": "execute_result",
          "data": {
            "text/plain": [
              "                index  Cantidad\n",
              "0    Usuarios felices      4876\n",
              "1  Usuarios infelices      6174"
            ],
            "text/html": [
              "\n",
              "  <div id=\"df-e7e92551-fdaf-49a4-9f03-4c683bba25c7\">\n",
              "    <div class=\"colab-df-container\">\n",
              "      <div>\n",
              "<style scoped>\n",
              "    .dataframe tbody tr th:only-of-type {\n",
              "        vertical-align: middle;\n",
              "    }\n",
              "\n",
              "    .dataframe tbody tr th {\n",
              "        vertical-align: top;\n",
              "    }\n",
              "\n",
              "    .dataframe thead th {\n",
              "        text-align: right;\n",
              "    }\n",
              "</style>\n",
              "<table border=\"1\" class=\"dataframe\">\n",
              "  <thead>\n",
              "    <tr style=\"text-align: right;\">\n",
              "      <th></th>\n",
              "      <th>index</th>\n",
              "      <th>Cantidad</th>\n",
              "    </tr>\n",
              "  </thead>\n",
              "  <tbody>\n",
              "    <tr>\n",
              "      <th>0</th>\n",
              "      <td>Usuarios felices</td>\n",
              "      <td>4876</td>\n",
              "    </tr>\n",
              "    <tr>\n",
              "      <th>1</th>\n",
              "      <td>Usuarios infelices</td>\n",
              "      <td>6174</td>\n",
              "    </tr>\n",
              "  </tbody>\n",
              "</table>\n",
              "</div>\n",
              "      <button class=\"colab-df-convert\" onclick=\"convertToInteractive('df-e7e92551-fdaf-49a4-9f03-4c683bba25c7')\"\n",
              "              title=\"Convert this dataframe to an interactive table.\"\n",
              "              style=\"display:none;\">\n",
              "        \n",
              "  <svg xmlns=\"http://www.w3.org/2000/svg\" height=\"24px\"viewBox=\"0 0 24 24\"\n",
              "       width=\"24px\">\n",
              "    <path d=\"M0 0h24v24H0V0z\" fill=\"none\"/>\n",
              "    <path d=\"M18.56 5.44l.94 2.06.94-2.06 2.06-.94-2.06-.94-.94-2.06-.94 2.06-2.06.94zm-11 1L8.5 8.5l.94-2.06 2.06-.94-2.06-.94L8.5 2.5l-.94 2.06-2.06.94zm10 10l.94 2.06.94-2.06 2.06-.94-2.06-.94-.94-2.06-.94 2.06-2.06.94z\"/><path d=\"M17.41 7.96l-1.37-1.37c-.4-.4-.92-.59-1.43-.59-.52 0-1.04.2-1.43.59L10.3 9.45l-7.72 7.72c-.78.78-.78 2.05 0 2.83L4 21.41c.39.39.9.59 1.41.59.51 0 1.02-.2 1.41-.59l7.78-7.78 2.81-2.81c.8-.78.8-2.07 0-2.86zM5.41 20L4 18.59l7.72-7.72 1.47 1.35L5.41 20z\"/>\n",
              "  </svg>\n",
              "      </button>\n",
              "      \n",
              "  <style>\n",
              "    .colab-df-container {\n",
              "      display:flex;\n",
              "      flex-wrap:wrap;\n",
              "      gap: 12px;\n",
              "    }\n",
              "\n",
              "    .colab-df-convert {\n",
              "      background-color: #E8F0FE;\n",
              "      border: none;\n",
              "      border-radius: 50%;\n",
              "      cursor: pointer;\n",
              "      display: none;\n",
              "      fill: #1967D2;\n",
              "      height: 32px;\n",
              "      padding: 0 0 0 0;\n",
              "      width: 32px;\n",
              "    }\n",
              "\n",
              "    .colab-df-convert:hover {\n",
              "      background-color: #E2EBFA;\n",
              "      box-shadow: 0px 1px 2px rgba(60, 64, 67, 0.3), 0px 1px 3px 1px rgba(60, 64, 67, 0.15);\n",
              "      fill: #174EA6;\n",
              "    }\n",
              "\n",
              "    [theme=dark] .colab-df-convert {\n",
              "      background-color: #3B4455;\n",
              "      fill: #D2E3FC;\n",
              "    }\n",
              "\n",
              "    [theme=dark] .colab-df-convert:hover {\n",
              "      background-color: #434B5C;\n",
              "      box-shadow: 0px 1px 3px 1px rgba(0, 0, 0, 0.15);\n",
              "      filter: drop-shadow(0px 1px 2px rgba(0, 0, 0, 0.3));\n",
              "      fill: #FFFFFF;\n",
              "    }\n",
              "  </style>\n",
              "\n",
              "      <script>\n",
              "        const buttonEl =\n",
              "          document.querySelector('#df-e7e92551-fdaf-49a4-9f03-4c683bba25c7 button.colab-df-convert');\n",
              "        buttonEl.style.display =\n",
              "          google.colab.kernel.accessAllowed ? 'block' : 'none';\n",
              "\n",
              "        async function convertToInteractive(key) {\n",
              "          const element = document.querySelector('#df-e7e92551-fdaf-49a4-9f03-4c683bba25c7');\n",
              "          const dataTable =\n",
              "            await google.colab.kernel.invokeFunction('convertToInteractive',\n",
              "                                                     [key], {});\n",
              "          if (!dataTable) return;\n",
              "\n",
              "          const docLinkHtml = 'Like what you see? Visit the ' +\n",
              "            '<a target=\"_blank\" href=https://colab.research.google.com/notebooks/data_table.ipynb>data table notebook</a>'\n",
              "            + ' to learn more about interactive tables.';\n",
              "          element.innerHTML = '';\n",
              "          dataTable['output_type'] = 'display_data';\n",
              "          await google.colab.output.renderOutput(dataTable, element);\n",
              "          const docLink = document.createElement('div');\n",
              "          docLink.innerHTML = docLinkHtml;\n",
              "          element.appendChild(docLink);\n",
              "        }\n",
              "      </script>\n",
              "    </div>\n",
              "  </div>\n",
              "  "
            ]
          },
          "metadata": {},
          "execution_count": 7
        }
      ]
    },
    {
      "cell_type": "markdown",
      "source": [
        "**2. Listar sentimientos negativos/ positivos**"
      ],
      "metadata": {
        "id": "qJTgDgQaELXE"
      }
    },
    {
      "cell_type": "code",
      "source": [
        "# Instala la biblioteca pysentimiento que utiliza modelos previamente entrenados de transformers para diferentes tareas de NLP Social.\n",
        "# Utiliza como modelos base a [BETO] (https://github.com/dccuchile/beto) y [RoBERTuito] (https://github.com/pysentiment/robertuito) en español\n",
        "!pip install pysentimiento"
      ],
      "metadata": {
        "colab": {
          "base_uri": "https://localhost:8080/"
        },
        "id": "vSkvYPr1OlUi",
        "outputId": "99aef1ff-b5c5-42ba-d5c5-49d99233ba9d"
      },
      "execution_count": null,
      "outputs": [
        {
          "output_type": "stream",
          "name": "stdout",
          "text": [
            "Looking in indexes: https://pypi.org/simple, https://us-python.pkg.dev/colab-wheels/public/simple/\n",
            "Requirement already satisfied: pysentimiento in /usr/local/lib/python3.7/dist-packages (0.4.2)\n",
            "Requirement already satisfied: transformers==4.13 in /usr/local/lib/python3.7/dist-packages (from pysentimiento) (4.13.0)\n",
            "Requirement already satisfied: datasets<2.0.0,>=1.13.3 in /usr/local/lib/python3.7/dist-packages (from pysentimiento) (1.18.4)\n",
            "Requirement already satisfied: emoji<2.0.0,>=1.6.1 in /usr/local/lib/python3.7/dist-packages (from pysentimiento) (1.7.0)\n",
            "Requirement already satisfied: sklearn<0.1,>=0.0 in /usr/local/lib/python3.7/dist-packages (from pysentimiento) (0.0)\n",
            "Requirement already satisfied: torch<2.0.0,>=1.9.0 in /usr/local/lib/python3.7/dist-packages (from pysentimiento) (1.12.1+cu113)\n",
            "Requirement already satisfied: pyyaml>=5.1 in /usr/local/lib/python3.7/dist-packages (from transformers==4.13->pysentimiento) (6.0)\n",
            "Requirement already satisfied: regex!=2019.12.17 in /usr/local/lib/python3.7/dist-packages (from transformers==4.13->pysentimiento) (2022.6.2)\n",
            "Requirement already satisfied: huggingface-hub<1.0,>=0.1.0 in /usr/local/lib/python3.7/dist-packages (from transformers==4.13->pysentimiento) (0.10.0)\n",
            "Requirement already satisfied: importlib-metadata in /usr/local/lib/python3.7/dist-packages (from transformers==4.13->pysentimiento) (4.12.0)\n",
            "Requirement already satisfied: numpy>=1.17 in /usr/local/lib/python3.7/dist-packages (from transformers==4.13->pysentimiento) (1.21.6)\n",
            "Requirement already satisfied: tokenizers<0.11,>=0.10.1 in /usr/local/lib/python3.7/dist-packages (from transformers==4.13->pysentimiento) (0.10.3)\n",
            "Requirement already satisfied: sacremoses in /usr/local/lib/python3.7/dist-packages (from transformers==4.13->pysentimiento) (0.0.53)\n",
            "Requirement already satisfied: tqdm>=4.27 in /usr/local/lib/python3.7/dist-packages (from transformers==4.13->pysentimiento) (4.64.1)\n",
            "Requirement already satisfied: requests in /usr/local/lib/python3.7/dist-packages (from transformers==4.13->pysentimiento) (2.23.0)\n",
            "Requirement already satisfied: packaging>=20.0 in /usr/local/lib/python3.7/dist-packages (from transformers==4.13->pysentimiento) (21.3)\n",
            "Requirement already satisfied: filelock in /usr/local/lib/python3.7/dist-packages (from transformers==4.13->pysentimiento) (3.8.0)\n",
            "Requirement already satisfied: multiprocess in /usr/local/lib/python3.7/dist-packages (from datasets<2.0.0,>=1.13.3->pysentimiento) (0.70.13)\n",
            "Requirement already satisfied: dill in /usr/local/lib/python3.7/dist-packages (from datasets<2.0.0,>=1.13.3->pysentimiento) (0.3.5.1)\n",
            "Requirement already satisfied: pyarrow!=4.0.0,>=3.0.0 in /usr/local/lib/python3.7/dist-packages (from datasets<2.0.0,>=1.13.3->pysentimiento) (6.0.1)\n",
            "Requirement already satisfied: fsspec[http]>=2021.05.0 in /usr/local/lib/python3.7/dist-packages (from datasets<2.0.0,>=1.13.3->pysentimiento) (2022.8.2)\n",
            "Requirement already satisfied: responses<0.19 in /usr/local/lib/python3.7/dist-packages (from datasets<2.0.0,>=1.13.3->pysentimiento) (0.18.0)\n",
            "Requirement already satisfied: aiohttp in /usr/local/lib/python3.7/dist-packages (from datasets<2.0.0,>=1.13.3->pysentimiento) (3.8.1)\n",
            "Requirement already satisfied: xxhash in /usr/local/lib/python3.7/dist-packages (from datasets<2.0.0,>=1.13.3->pysentimiento) (3.0.0)\n",
            "Requirement already satisfied: pandas in /usr/local/lib/python3.7/dist-packages (from datasets<2.0.0,>=1.13.3->pysentimiento) (1.3.5)\n",
            "Requirement already satisfied: attrs>=17.3.0 in /usr/local/lib/python3.7/dist-packages (from aiohttp->datasets<2.0.0,>=1.13.3->pysentimiento) (22.1.0)\n",
            "Requirement already satisfied: async-timeout<5.0,>=4.0.0a3 in /usr/local/lib/python3.7/dist-packages (from aiohttp->datasets<2.0.0,>=1.13.3->pysentimiento) (4.0.2)\n",
            "Requirement already satisfied: charset-normalizer<3.0,>=2.0 in /usr/local/lib/python3.7/dist-packages (from aiohttp->datasets<2.0.0,>=1.13.3->pysentimiento) (2.1.1)\n",
            "Requirement already satisfied: aiosignal>=1.1.2 in /usr/local/lib/python3.7/dist-packages (from aiohttp->datasets<2.0.0,>=1.13.3->pysentimiento) (1.2.0)\n",
            "Requirement already satisfied: typing-extensions>=3.7.4 in /usr/local/lib/python3.7/dist-packages (from aiohttp->datasets<2.0.0,>=1.13.3->pysentimiento) (4.1.1)\n",
            "Requirement already satisfied: yarl<2.0,>=1.0 in /usr/local/lib/python3.7/dist-packages (from aiohttp->datasets<2.0.0,>=1.13.3->pysentimiento) (1.8.1)\n",
            "Requirement already satisfied: asynctest==0.13.0 in /usr/local/lib/python3.7/dist-packages (from aiohttp->datasets<2.0.0,>=1.13.3->pysentimiento) (0.13.0)\n",
            "Requirement already satisfied: frozenlist>=1.1.1 in /usr/local/lib/python3.7/dist-packages (from aiohttp->datasets<2.0.0,>=1.13.3->pysentimiento) (1.3.1)\n",
            "Requirement already satisfied: multidict<7.0,>=4.5 in /usr/local/lib/python3.7/dist-packages (from aiohttp->datasets<2.0.0,>=1.13.3->pysentimiento) (6.0.2)\n",
            "Requirement already satisfied: pyparsing!=3.0.5,>=2.0.2 in /usr/local/lib/python3.7/dist-packages (from packaging>=20.0->transformers==4.13->pysentimiento) (3.0.9)\n",
            "Requirement already satisfied: chardet<4,>=3.0.2 in /usr/local/lib/python3.7/dist-packages (from requests->transformers==4.13->pysentimiento) (3.0.4)\n",
            "Requirement already satisfied: idna<3,>=2.5 in /usr/local/lib/python3.7/dist-packages (from requests->transformers==4.13->pysentimiento) (2.10)\n",
            "Requirement already satisfied: certifi>=2017.4.17 in /usr/local/lib/python3.7/dist-packages (from requests->transformers==4.13->pysentimiento) (2022.6.15)\n",
            "Requirement already satisfied: urllib3!=1.25.0,!=1.25.1,<1.26,>=1.21.1 in /usr/local/lib/python3.7/dist-packages (from requests->transformers==4.13->pysentimiento) (1.25.11)\n",
            "Requirement already satisfied: scikit-learn in /usr/local/lib/python3.7/dist-packages (from sklearn<0.1,>=0.0->pysentimiento) (1.0.2)\n",
            "Requirement already satisfied: zipp>=0.5 in /usr/local/lib/python3.7/dist-packages (from importlib-metadata->transformers==4.13->pysentimiento) (3.8.1)\n",
            "Requirement already satisfied: pytz>=2017.3 in /usr/local/lib/python3.7/dist-packages (from pandas->datasets<2.0.0,>=1.13.3->pysentimiento) (2022.2.1)\n",
            "Requirement already satisfied: python-dateutil>=2.7.3 in /usr/local/lib/python3.7/dist-packages (from pandas->datasets<2.0.0,>=1.13.3->pysentimiento) (2.8.2)\n",
            "Requirement already satisfied: six>=1.5 in /usr/local/lib/python3.7/dist-packages (from python-dateutil>=2.7.3->pandas->datasets<2.0.0,>=1.13.3->pysentimiento) (1.15.0)\n",
            "Requirement already satisfied: click in /usr/local/lib/python3.7/dist-packages (from sacremoses->transformers==4.13->pysentimiento) (7.1.2)\n",
            "Requirement already satisfied: joblib in /usr/local/lib/python3.7/dist-packages (from sacremoses->transformers==4.13->pysentimiento) (1.1.0)\n",
            "Requirement already satisfied: threadpoolctl>=2.0.0 in /usr/local/lib/python3.7/dist-packages (from scikit-learn->sklearn<0.1,>=0.0->pysentimiento) (3.1.0)\n",
            "Requirement already satisfied: scipy>=1.1.0 in /usr/local/lib/python3.7/dist-packages (from scikit-learn->sklearn<0.1,>=0.0->pysentimiento) (1.7.3)\n"
          ]
        }
      ]
    },
    {
      "cell_type": "code",
      "source": [
        "# Elimina las filas en las cuales no existen comentarios\n",
        "df_sentimiento = df[df['Comentario'].notna()]\n",
        "df_sentimiento.shape"
      ],
      "metadata": {
        "colab": {
          "base_uri": "https://localhost:8080/"
        },
        "id": "TevyLWepEMmX",
        "outputId": "334f9441-4c13-4ca6-b5b0-da8c105a3459"
      },
      "execution_count": null,
      "outputs": [
        {
          "output_type": "execute_result",
          "data": {
            "text/plain": [
              "(3510, 6)"
            ]
          },
          "metadata": {},
          "execution_count": 9
        }
      ]
    },
    {
      "cell_type": "code",
      "source": [
        "df_sentimiento.head(3)"
      ],
      "metadata": {
        "colab": {
          "base_uri": "https://localhost:8080/",
          "height": 143
        },
        "id": "d6sjubfqFyxM",
        "outputId": "2281b799-9cf6-42aa-edbd-371e7c45709a"
      },
      "execution_count": null,
      "outputs": [
        {
          "output_type": "execute_result",
          "data": {
            "text/plain": [
              "       Fecha  Pais Dispositivo                  Browser  Rank  \\\n",
              "0   8/8/2019  Peru       phone  Chrome Mobile 76.0.3809     1   \n",
              "4   8/9/2019  Peru       phone  Chrome Mobile 75.0.3770     1   \n",
              "6  8/10/2019  Peru       phone     Mobile Safari 12.1.2     1   \n",
              "\n",
              "                                          Comentario  \n",
              "0  No consigo lo que deseo. No consigo agendar un...  \n",
              "4               No se como registrarme para mi clave  \n",
              "6                                 Sale otro idioma 😡  "
            ],
            "text/html": [
              "\n",
              "  <div id=\"df-73ba2c86-d55c-450f-9a93-094b7cf4e685\">\n",
              "    <div class=\"colab-df-container\">\n",
              "      <div>\n",
              "<style scoped>\n",
              "    .dataframe tbody tr th:only-of-type {\n",
              "        vertical-align: middle;\n",
              "    }\n",
              "\n",
              "    .dataframe tbody tr th {\n",
              "        vertical-align: top;\n",
              "    }\n",
              "\n",
              "    .dataframe thead th {\n",
              "        text-align: right;\n",
              "    }\n",
              "</style>\n",
              "<table border=\"1\" class=\"dataframe\">\n",
              "  <thead>\n",
              "    <tr style=\"text-align: right;\">\n",
              "      <th></th>\n",
              "      <th>Fecha</th>\n",
              "      <th>Pais</th>\n",
              "      <th>Dispositivo</th>\n",
              "      <th>Browser</th>\n",
              "      <th>Rank</th>\n",
              "      <th>Comentario</th>\n",
              "    </tr>\n",
              "  </thead>\n",
              "  <tbody>\n",
              "    <tr>\n",
              "      <th>0</th>\n",
              "      <td>8/8/2019</td>\n",
              "      <td>Peru</td>\n",
              "      <td>phone</td>\n",
              "      <td>Chrome Mobile 76.0.3809</td>\n",
              "      <td>1</td>\n",
              "      <td>No consigo lo que deseo. No consigo agendar un...</td>\n",
              "    </tr>\n",
              "    <tr>\n",
              "      <th>4</th>\n",
              "      <td>8/9/2019</td>\n",
              "      <td>Peru</td>\n",
              "      <td>phone</td>\n",
              "      <td>Chrome Mobile 75.0.3770</td>\n",
              "      <td>1</td>\n",
              "      <td>No se como registrarme para mi clave</td>\n",
              "    </tr>\n",
              "    <tr>\n",
              "      <th>6</th>\n",
              "      <td>8/10/2019</td>\n",
              "      <td>Peru</td>\n",
              "      <td>phone</td>\n",
              "      <td>Mobile Safari 12.1.2</td>\n",
              "      <td>1</td>\n",
              "      <td>Sale otro idioma 😡</td>\n",
              "    </tr>\n",
              "  </tbody>\n",
              "</table>\n",
              "</div>\n",
              "      <button class=\"colab-df-convert\" onclick=\"convertToInteractive('df-73ba2c86-d55c-450f-9a93-094b7cf4e685')\"\n",
              "              title=\"Convert this dataframe to an interactive table.\"\n",
              "              style=\"display:none;\">\n",
              "        \n",
              "  <svg xmlns=\"http://www.w3.org/2000/svg\" height=\"24px\"viewBox=\"0 0 24 24\"\n",
              "       width=\"24px\">\n",
              "    <path d=\"M0 0h24v24H0V0z\" fill=\"none\"/>\n",
              "    <path d=\"M18.56 5.44l.94 2.06.94-2.06 2.06-.94-2.06-.94-.94-2.06-.94 2.06-2.06.94zm-11 1L8.5 8.5l.94-2.06 2.06-.94-2.06-.94L8.5 2.5l-.94 2.06-2.06.94zm10 10l.94 2.06.94-2.06 2.06-.94-2.06-.94-.94-2.06-.94 2.06-2.06.94z\"/><path d=\"M17.41 7.96l-1.37-1.37c-.4-.4-.92-.59-1.43-.59-.52 0-1.04.2-1.43.59L10.3 9.45l-7.72 7.72c-.78.78-.78 2.05 0 2.83L4 21.41c.39.39.9.59 1.41.59.51 0 1.02-.2 1.41-.59l7.78-7.78 2.81-2.81c.8-.78.8-2.07 0-2.86zM5.41 20L4 18.59l7.72-7.72 1.47 1.35L5.41 20z\"/>\n",
              "  </svg>\n",
              "      </button>\n",
              "      \n",
              "  <style>\n",
              "    .colab-df-container {\n",
              "      display:flex;\n",
              "      flex-wrap:wrap;\n",
              "      gap: 12px;\n",
              "    }\n",
              "\n",
              "    .colab-df-convert {\n",
              "      background-color: #E8F0FE;\n",
              "      border: none;\n",
              "      border-radius: 50%;\n",
              "      cursor: pointer;\n",
              "      display: none;\n",
              "      fill: #1967D2;\n",
              "      height: 32px;\n",
              "      padding: 0 0 0 0;\n",
              "      width: 32px;\n",
              "    }\n",
              "\n",
              "    .colab-df-convert:hover {\n",
              "      background-color: #E2EBFA;\n",
              "      box-shadow: 0px 1px 2px rgba(60, 64, 67, 0.3), 0px 1px 3px 1px rgba(60, 64, 67, 0.15);\n",
              "      fill: #174EA6;\n",
              "    }\n",
              "\n",
              "    [theme=dark] .colab-df-convert {\n",
              "      background-color: #3B4455;\n",
              "      fill: #D2E3FC;\n",
              "    }\n",
              "\n",
              "    [theme=dark] .colab-df-convert:hover {\n",
              "      background-color: #434B5C;\n",
              "      box-shadow: 0px 1px 3px 1px rgba(0, 0, 0, 0.15);\n",
              "      filter: drop-shadow(0px 1px 2px rgba(0, 0, 0, 0.3));\n",
              "      fill: #FFFFFF;\n",
              "    }\n",
              "  </style>\n",
              "\n",
              "      <script>\n",
              "        const buttonEl =\n",
              "          document.querySelector('#df-73ba2c86-d55c-450f-9a93-094b7cf4e685 button.colab-df-convert');\n",
              "        buttonEl.style.display =\n",
              "          google.colab.kernel.accessAllowed ? 'block' : 'none';\n",
              "\n",
              "        async function convertToInteractive(key) {\n",
              "          const element = document.querySelector('#df-73ba2c86-d55c-450f-9a93-094b7cf4e685');\n",
              "          const dataTable =\n",
              "            await google.colab.kernel.invokeFunction('convertToInteractive',\n",
              "                                                     [key], {});\n",
              "          if (!dataTable) return;\n",
              "\n",
              "          const docLinkHtml = 'Like what you see? Visit the ' +\n",
              "            '<a target=\"_blank\" href=https://colab.research.google.com/notebooks/data_table.ipynb>data table notebook</a>'\n",
              "            + ' to learn more about interactive tables.';\n",
              "          element.innerHTML = '';\n",
              "          dataTable['output_type'] = 'display_data';\n",
              "          await google.colab.output.renderOutput(dataTable, element);\n",
              "          const docLink = document.createElement('div');\n",
              "          docLink.innerHTML = docLinkHtml;\n",
              "          element.appendChild(docLink);\n",
              "        }\n",
              "      </script>\n",
              "    </div>\n",
              "  </div>\n",
              "  "
            ]
          },
          "metadata": {},
          "execution_count": 10
        }
      ]
    },
    {
      "cell_type": "code",
      "source": [
        "def remover_emojis(inputString):\n",
        "    \"\"\"\n",
        "    Remueve emojis de un texto y los reemplza con un string vacío\n",
        "    \"\"\"\n",
        "\n",
        "    import re\n",
        "\n",
        "    # Expresión regular que coincide con una lista de emojis\n",
        "    emoji_pattern = re.compile(\"[\"\n",
        "    u\"\\U0001F600-\\U0001F64F\" # emoticons\n",
        "    u\"\\U0001F300-\\U0001F5FF\" # symbols & pictographs\n",
        "    u\"\\U0001F680-\\U0001F6FF\" # transport & map symbols\n",
        "    u\"\\U0001F1E0-\\U0001F1FF\" # flags (iOS)\n",
        "    u\"\\U00002702-\\U000027B0\"\n",
        "    u\"\\U000024C2-\\U0001F251\"\n",
        "    u\"\\U0001f926-\\U0001f937\"\n",
        "    u'\\U00010000-\\U0010ffff'\n",
        "    u\"\\u200d\"\n",
        "    u\"\\u2640-\\u2642\"\n",
        "    u\"\\u2600-\\u2B55\"\n",
        "    u\"\\u23cf\"\n",
        "    u\"\\u23e9\"\n",
        "    u\"\\u231a\"\n",
        "    u\"\\u3030\"\n",
        "    u\"\\ufe0f\"\n",
        "    u\"\\u2069\"\n",
        "    u\"\\u2066\"\n",
        "    u\"\\u200c\"\n",
        "    u\"\\u2068\"\n",
        "    u\"\\u2067\"\n",
        "            \"]+\", flags=re.UNICODE)\n",
        "    return emoji_pattern.sub(r'', inputString)"
      ],
      "metadata": {
        "id": "GE8_R87GFq2m"
      },
      "execution_count": null,
      "outputs": []
    },
    {
      "cell_type": "code",
      "source": [
        "# Aplica la función para remover emojis puesto que pysentimiento aún no funciona eficazmente con emojis\n",
        "df_sentimiento['Comentario'] = df_sentimiento['Comentario'].apply(remover_emojis)\n",
        "df_sentimiento.head(3)"
      ],
      "metadata": {
        "colab": {
          "base_uri": "https://localhost:8080/",
          "height": 143
        },
        "id": "amvNZAcoF4XJ",
        "outputId": "c14950c5-8fbf-466d-83a4-d3d003cbfae5"
      },
      "execution_count": null,
      "outputs": [
        {
          "output_type": "execute_result",
          "data": {
            "text/plain": [
              "       Fecha  Pais Dispositivo                  Browser  Rank  \\\n",
              "0   8/8/2019  Peru       phone  Chrome Mobile 76.0.3809     1   \n",
              "4   8/9/2019  Peru       phone  Chrome Mobile 75.0.3770     1   \n",
              "6  8/10/2019  Peru       phone     Mobile Safari 12.1.2     1   \n",
              "\n",
              "                                          Comentario  \n",
              "0  No consigo lo que deseo. No consigo agendar un...  \n",
              "4               No se como registrarme para mi clave  \n",
              "6                                  Sale otro idioma   "
            ],
            "text/html": [
              "\n",
              "  <div id=\"df-2aeb7923-9d5a-4dbd-8490-1081cb0ecfd1\">\n",
              "    <div class=\"colab-df-container\">\n",
              "      <div>\n",
              "<style scoped>\n",
              "    .dataframe tbody tr th:only-of-type {\n",
              "        vertical-align: middle;\n",
              "    }\n",
              "\n",
              "    .dataframe tbody tr th {\n",
              "        vertical-align: top;\n",
              "    }\n",
              "\n",
              "    .dataframe thead th {\n",
              "        text-align: right;\n",
              "    }\n",
              "</style>\n",
              "<table border=\"1\" class=\"dataframe\">\n",
              "  <thead>\n",
              "    <tr style=\"text-align: right;\">\n",
              "      <th></th>\n",
              "      <th>Fecha</th>\n",
              "      <th>Pais</th>\n",
              "      <th>Dispositivo</th>\n",
              "      <th>Browser</th>\n",
              "      <th>Rank</th>\n",
              "      <th>Comentario</th>\n",
              "    </tr>\n",
              "  </thead>\n",
              "  <tbody>\n",
              "    <tr>\n",
              "      <th>0</th>\n",
              "      <td>8/8/2019</td>\n",
              "      <td>Peru</td>\n",
              "      <td>phone</td>\n",
              "      <td>Chrome Mobile 76.0.3809</td>\n",
              "      <td>1</td>\n",
              "      <td>No consigo lo que deseo. No consigo agendar un...</td>\n",
              "    </tr>\n",
              "    <tr>\n",
              "      <th>4</th>\n",
              "      <td>8/9/2019</td>\n",
              "      <td>Peru</td>\n",
              "      <td>phone</td>\n",
              "      <td>Chrome Mobile 75.0.3770</td>\n",
              "      <td>1</td>\n",
              "      <td>No se como registrarme para mi clave</td>\n",
              "    </tr>\n",
              "    <tr>\n",
              "      <th>6</th>\n",
              "      <td>8/10/2019</td>\n",
              "      <td>Peru</td>\n",
              "      <td>phone</td>\n",
              "      <td>Mobile Safari 12.1.2</td>\n",
              "      <td>1</td>\n",
              "      <td>Sale otro idioma</td>\n",
              "    </tr>\n",
              "  </tbody>\n",
              "</table>\n",
              "</div>\n",
              "      <button class=\"colab-df-convert\" onclick=\"convertToInteractive('df-2aeb7923-9d5a-4dbd-8490-1081cb0ecfd1')\"\n",
              "              title=\"Convert this dataframe to an interactive table.\"\n",
              "              style=\"display:none;\">\n",
              "        \n",
              "  <svg xmlns=\"http://www.w3.org/2000/svg\" height=\"24px\"viewBox=\"0 0 24 24\"\n",
              "       width=\"24px\">\n",
              "    <path d=\"M0 0h24v24H0V0z\" fill=\"none\"/>\n",
              "    <path d=\"M18.56 5.44l.94 2.06.94-2.06 2.06-.94-2.06-.94-.94-2.06-.94 2.06-2.06.94zm-11 1L8.5 8.5l.94-2.06 2.06-.94-2.06-.94L8.5 2.5l-.94 2.06-2.06.94zm10 10l.94 2.06.94-2.06 2.06-.94-2.06-.94-.94-2.06-.94 2.06-2.06.94z\"/><path d=\"M17.41 7.96l-1.37-1.37c-.4-.4-.92-.59-1.43-.59-.52 0-1.04.2-1.43.59L10.3 9.45l-7.72 7.72c-.78.78-.78 2.05 0 2.83L4 21.41c.39.39.9.59 1.41.59.51 0 1.02-.2 1.41-.59l7.78-7.78 2.81-2.81c.8-.78.8-2.07 0-2.86zM5.41 20L4 18.59l7.72-7.72 1.47 1.35L5.41 20z\"/>\n",
              "  </svg>\n",
              "      </button>\n",
              "      \n",
              "  <style>\n",
              "    .colab-df-container {\n",
              "      display:flex;\n",
              "      flex-wrap:wrap;\n",
              "      gap: 12px;\n",
              "    }\n",
              "\n",
              "    .colab-df-convert {\n",
              "      background-color: #E8F0FE;\n",
              "      border: none;\n",
              "      border-radius: 50%;\n",
              "      cursor: pointer;\n",
              "      display: none;\n",
              "      fill: #1967D2;\n",
              "      height: 32px;\n",
              "      padding: 0 0 0 0;\n",
              "      width: 32px;\n",
              "    }\n",
              "\n",
              "    .colab-df-convert:hover {\n",
              "      background-color: #E2EBFA;\n",
              "      box-shadow: 0px 1px 2px rgba(60, 64, 67, 0.3), 0px 1px 3px 1px rgba(60, 64, 67, 0.15);\n",
              "      fill: #174EA6;\n",
              "    }\n",
              "\n",
              "    [theme=dark] .colab-df-convert {\n",
              "      background-color: #3B4455;\n",
              "      fill: #D2E3FC;\n",
              "    }\n",
              "\n",
              "    [theme=dark] .colab-df-convert:hover {\n",
              "      background-color: #434B5C;\n",
              "      box-shadow: 0px 1px 3px 1px rgba(0, 0, 0, 0.15);\n",
              "      filter: drop-shadow(0px 1px 2px rgba(0, 0, 0, 0.3));\n",
              "      fill: #FFFFFF;\n",
              "    }\n",
              "  </style>\n",
              "\n",
              "      <script>\n",
              "        const buttonEl =\n",
              "          document.querySelector('#df-2aeb7923-9d5a-4dbd-8490-1081cb0ecfd1 button.colab-df-convert');\n",
              "        buttonEl.style.display =\n",
              "          google.colab.kernel.accessAllowed ? 'block' : 'none';\n",
              "\n",
              "        async function convertToInteractive(key) {\n",
              "          const element = document.querySelector('#df-2aeb7923-9d5a-4dbd-8490-1081cb0ecfd1');\n",
              "          const dataTable =\n",
              "            await google.colab.kernel.invokeFunction('convertToInteractive',\n",
              "                                                     [key], {});\n",
              "          if (!dataTable) return;\n",
              "\n",
              "          const docLinkHtml = 'Like what you see? Visit the ' +\n",
              "            '<a target=\"_blank\" href=https://colab.research.google.com/notebooks/data_table.ipynb>data table notebook</a>'\n",
              "            + ' to learn more about interactive tables.';\n",
              "          element.innerHTML = '';\n",
              "          dataTable['output_type'] = 'display_data';\n",
              "          await google.colab.output.renderOutput(dataTable, element);\n",
              "          const docLink = document.createElement('div');\n",
              "          docLink.innerHTML = docLinkHtml;\n",
              "          element.appendChild(docLink);\n",
              "        }\n",
              "      </script>\n",
              "    </div>\n",
              "  </div>\n",
              "  "
            ]
          },
          "metadata": {},
          "execution_count": 12
        }
      ]
    },
    {
      "cell_type": "code",
      "source": [
        "# Coloca NaN a los comentarios que quedan vacíos\n",
        "df_sentimiento = df_sentimiento.replace(r'^\\s*$', np.nan, regex=True)\n",
        "# Elimina los comentarios con valores NaN\n",
        "df_sentimiento_limpio = df_sentimiento[df_sentimiento['Comentario'].notna()]\n",
        "df_sentimiento_limpio.shape"
      ],
      "metadata": {
        "colab": {
          "base_uri": "https://localhost:8080/"
        },
        "id": "A5dJ6NNUI-zP",
        "outputId": "591dfaf9-2f77-445f-d491-57bbc64633e1"
      },
      "execution_count": null,
      "outputs": [
        {
          "output_type": "execute_result",
          "data": {
            "text/plain": [
              "(3480, 6)"
            ]
          },
          "metadata": {},
          "execution_count": 13
        }
      ]
    },
    {
      "cell_type": "code",
      "source": [
        "def analizador_sentimiento(df):\n",
        "    \"\"\"\n",
        "    Analiza\n",
        "    \"\"\"\n",
        "\n",
        "    from pysentimiento import create_analyzer\n",
        "    # Crea un analizador\n",
        "    analizador = create_analyzer(task=\"sentiment\", lang=\"es\")\n",
        "\n",
        "    analisis = []\n",
        "\n",
        "    from tqdm.auto import tqdm\n",
        "\n",
        "    for ind in tqdm(df.index):\n",
        "        analisis.append(str(analizador.predict(df['Comentario'][ind])).split('=')[1][:3])\n",
        "\n",
        "    df['Análisis_Sentimiento'] = analisis\n",
        "\n",
        "    df['Análisis_Sentimiento'] = np.where((df['Análisis_Sentimiento'] == 'NEU'),'Neutro',df['Análisis_Sentimiento'])\n",
        "    df['Análisis_Sentimiento'] = np.where((df['Análisis_Sentimiento'] == 'NEG'),'Negativo',df['Análisis_Sentimiento'])\n",
        "    df['Análisis_Sentimiento'] = np.where((df['Análisis_Sentimiento'] == 'POS'),'Positivo',df['Análisis_Sentimiento'])\n",
        "\n",
        "    return df"
      ],
      "metadata": {
        "id": "TV5PrJRDKrnw"
      },
      "execution_count": null,
      "outputs": []
    },
    {
      "cell_type": "code",
      "source": [
        "%%time\n",
        "# Aplica la función para analizar sentimiento sobre el dataframe limpio\n",
        "analizador_sentimiento(df_sentimiento_limpio)\n",
        "df_sentimiento_limpio.head()"
      ],
      "metadata": {
        "colab": {
          "base_uri": "https://localhost:8080/",
          "height": 273,
          "referenced_widgets": [
            "49a92957b45d4de99eae7f538e14dfca",
            "e148924939dc4ad882cca6556468bf1a",
            "bf492803af4c49f6b4e602659b4374aa",
            "8f76a9e499784e86acfd6fa790bfce75",
            "140a533a392d4c96ac55a44b27d541b1",
            "ec93ae4323c84614aecf65eff7107fc1",
            "f157e6d1917e43cd893eba68be51d09f",
            "9ecc3f4931cc4e4c911dc3154ca3d94e",
            "b582fb97273349c0bed57e23c879ea77",
            "b49324ac47084614a5cc9574b4bc8f1f",
            "92b4e3ad2f4b4f7cb546e7a893f0b624"
          ]
        },
        "id": "oDYAZwn5Kssw",
        "outputId": "5afb08f8-26f9-4c96-ba6b-5c6d49addccc"
      },
      "execution_count": null,
      "outputs": [
        {
          "output_type": "display_data",
          "data": {
            "text/plain": [
              "  0%|          | 0/3480 [00:00<?, ?it/s]"
            ],
            "application/vnd.jupyter.widget-view+json": {
              "version_major": 2,
              "version_minor": 0,
              "model_id": "49a92957b45d4de99eae7f538e14dfca"
            }
          },
          "metadata": {}
        },
        {
          "output_type": "stream",
          "name": "stdout",
          "text": [
            "CPU times: user 7min 6s, sys: 6.54 s, total: 7min 13s\n",
            "Wall time: 7min 28s\n"
          ]
        },
        {
          "output_type": "execute_result",
          "data": {
            "text/plain": [
              "        Fecha  Pais Dispositivo                  Browser  Rank  \\\n",
              "0    8/8/2019  Peru       phone  Chrome Mobile 76.0.3809     1   \n",
              "4    8/9/2019  Peru       phone  Chrome Mobile 75.0.3770     1   \n",
              "6   8/10/2019  Peru       phone     Mobile Safari 12.1.2     1   \n",
              "10  8/10/2019  Peru     desktop         Chrome 76.0.3809     1   \n",
              "11  8/10/2019  Peru       phone  Chrome Mobile 76.0.3809     1   \n",
              "\n",
              "                                           Comentario Análisis_Sentimiento  \n",
              "0   No consigo lo que deseo. No consigo agendar un...             Negativo  \n",
              "4                No se como registrarme para mi clave               Neutro  \n",
              "6                                   Sale otro idioma                Neutro  \n",
              "10       NO PUEDO BLOQUEAR MI TARJETA MEDIANTE WEB :l             Negativo  \n",
              "11  No encuentro informacion como validar mi nueva...               Neutro  "
            ],
            "text/html": [
              "\n",
              "  <div id=\"df-fff6c47d-5bed-4e8a-871a-fd781b7722cd\">\n",
              "    <div class=\"colab-df-container\">\n",
              "      <div>\n",
              "<style scoped>\n",
              "    .dataframe tbody tr th:only-of-type {\n",
              "        vertical-align: middle;\n",
              "    }\n",
              "\n",
              "    .dataframe tbody tr th {\n",
              "        vertical-align: top;\n",
              "    }\n",
              "\n",
              "    .dataframe thead th {\n",
              "        text-align: right;\n",
              "    }\n",
              "</style>\n",
              "<table border=\"1\" class=\"dataframe\">\n",
              "  <thead>\n",
              "    <tr style=\"text-align: right;\">\n",
              "      <th></th>\n",
              "      <th>Fecha</th>\n",
              "      <th>Pais</th>\n",
              "      <th>Dispositivo</th>\n",
              "      <th>Browser</th>\n",
              "      <th>Rank</th>\n",
              "      <th>Comentario</th>\n",
              "      <th>Análisis_Sentimiento</th>\n",
              "    </tr>\n",
              "  </thead>\n",
              "  <tbody>\n",
              "    <tr>\n",
              "      <th>0</th>\n",
              "      <td>8/8/2019</td>\n",
              "      <td>Peru</td>\n",
              "      <td>phone</td>\n",
              "      <td>Chrome Mobile 76.0.3809</td>\n",
              "      <td>1</td>\n",
              "      <td>No consigo lo que deseo. No consigo agendar un...</td>\n",
              "      <td>Negativo</td>\n",
              "    </tr>\n",
              "    <tr>\n",
              "      <th>4</th>\n",
              "      <td>8/9/2019</td>\n",
              "      <td>Peru</td>\n",
              "      <td>phone</td>\n",
              "      <td>Chrome Mobile 75.0.3770</td>\n",
              "      <td>1</td>\n",
              "      <td>No se como registrarme para mi clave</td>\n",
              "      <td>Neutro</td>\n",
              "    </tr>\n",
              "    <tr>\n",
              "      <th>6</th>\n",
              "      <td>8/10/2019</td>\n",
              "      <td>Peru</td>\n",
              "      <td>phone</td>\n",
              "      <td>Mobile Safari 12.1.2</td>\n",
              "      <td>1</td>\n",
              "      <td>Sale otro idioma</td>\n",
              "      <td>Neutro</td>\n",
              "    </tr>\n",
              "    <tr>\n",
              "      <th>10</th>\n",
              "      <td>8/10/2019</td>\n",
              "      <td>Peru</td>\n",
              "      <td>desktop</td>\n",
              "      <td>Chrome 76.0.3809</td>\n",
              "      <td>1</td>\n",
              "      <td>NO PUEDO BLOQUEAR MI TARJETA MEDIANTE WEB :l</td>\n",
              "      <td>Negativo</td>\n",
              "    </tr>\n",
              "    <tr>\n",
              "      <th>11</th>\n",
              "      <td>8/10/2019</td>\n",
              "      <td>Peru</td>\n",
              "      <td>phone</td>\n",
              "      <td>Chrome Mobile 76.0.3809</td>\n",
              "      <td>1</td>\n",
              "      <td>No encuentro informacion como validar mi nueva...</td>\n",
              "      <td>Neutro</td>\n",
              "    </tr>\n",
              "  </tbody>\n",
              "</table>\n",
              "</div>\n",
              "      <button class=\"colab-df-convert\" onclick=\"convertToInteractive('df-fff6c47d-5bed-4e8a-871a-fd781b7722cd')\"\n",
              "              title=\"Convert this dataframe to an interactive table.\"\n",
              "              style=\"display:none;\">\n",
              "        \n",
              "  <svg xmlns=\"http://www.w3.org/2000/svg\" height=\"24px\"viewBox=\"0 0 24 24\"\n",
              "       width=\"24px\">\n",
              "    <path d=\"M0 0h24v24H0V0z\" fill=\"none\"/>\n",
              "    <path d=\"M18.56 5.44l.94 2.06.94-2.06 2.06-.94-2.06-.94-.94-2.06-.94 2.06-2.06.94zm-11 1L8.5 8.5l.94-2.06 2.06-.94-2.06-.94L8.5 2.5l-.94 2.06-2.06.94zm10 10l.94 2.06.94-2.06 2.06-.94-2.06-.94-.94-2.06-.94 2.06-2.06.94z\"/><path d=\"M17.41 7.96l-1.37-1.37c-.4-.4-.92-.59-1.43-.59-.52 0-1.04.2-1.43.59L10.3 9.45l-7.72 7.72c-.78.78-.78 2.05 0 2.83L4 21.41c.39.39.9.59 1.41.59.51 0 1.02-.2 1.41-.59l7.78-7.78 2.81-2.81c.8-.78.8-2.07 0-2.86zM5.41 20L4 18.59l7.72-7.72 1.47 1.35L5.41 20z\"/>\n",
              "  </svg>\n",
              "      </button>\n",
              "      \n",
              "  <style>\n",
              "    .colab-df-container {\n",
              "      display:flex;\n",
              "      flex-wrap:wrap;\n",
              "      gap: 12px;\n",
              "    }\n",
              "\n",
              "    .colab-df-convert {\n",
              "      background-color: #E8F0FE;\n",
              "      border: none;\n",
              "      border-radius: 50%;\n",
              "      cursor: pointer;\n",
              "      display: none;\n",
              "      fill: #1967D2;\n",
              "      height: 32px;\n",
              "      padding: 0 0 0 0;\n",
              "      width: 32px;\n",
              "    }\n",
              "\n",
              "    .colab-df-convert:hover {\n",
              "      background-color: #E2EBFA;\n",
              "      box-shadow: 0px 1px 2px rgba(60, 64, 67, 0.3), 0px 1px 3px 1px rgba(60, 64, 67, 0.15);\n",
              "      fill: #174EA6;\n",
              "    }\n",
              "\n",
              "    [theme=dark] .colab-df-convert {\n",
              "      background-color: #3B4455;\n",
              "      fill: #D2E3FC;\n",
              "    }\n",
              "\n",
              "    [theme=dark] .colab-df-convert:hover {\n",
              "      background-color: #434B5C;\n",
              "      box-shadow: 0px 1px 3px 1px rgba(0, 0, 0, 0.15);\n",
              "      filter: drop-shadow(0px 1px 2px rgba(0, 0, 0, 0.3));\n",
              "      fill: #FFFFFF;\n",
              "    }\n",
              "  </style>\n",
              "\n",
              "      <script>\n",
              "        const buttonEl =\n",
              "          document.querySelector('#df-fff6c47d-5bed-4e8a-871a-fd781b7722cd button.colab-df-convert');\n",
              "        buttonEl.style.display =\n",
              "          google.colab.kernel.accessAllowed ? 'block' : 'none';\n",
              "\n",
              "        async function convertToInteractive(key) {\n",
              "          const element = document.querySelector('#df-fff6c47d-5bed-4e8a-871a-fd781b7722cd');\n",
              "          const dataTable =\n",
              "            await google.colab.kernel.invokeFunction('convertToInteractive',\n",
              "                                                     [key], {});\n",
              "          if (!dataTable) return;\n",
              "\n",
              "          const docLinkHtml = 'Like what you see? Visit the ' +\n",
              "            '<a target=\"_blank\" href=https://colab.research.google.com/notebooks/data_table.ipynb>data table notebook</a>'\n",
              "            + ' to learn more about interactive tables.';\n",
              "          element.innerHTML = '';\n",
              "          dataTable['output_type'] = 'display_data';\n",
              "          await google.colab.output.renderOutput(dataTable, element);\n",
              "          const docLink = document.createElement('div');\n",
              "          docLink.innerHTML = docLinkHtml;\n",
              "          element.appendChild(docLink);\n",
              "        }\n",
              "      </script>\n",
              "    </div>\n",
              "  </div>\n",
              "  "
            ]
          },
          "metadata": {},
          "execution_count": 15
        }
      ]
    },
    {
      "cell_type": "code",
      "source": [
        "# Calcula la cantidad de sentimientos positivos, negativos y neutros\n",
        "tabla_sentimiento = df_sentimiento_limpio['Análisis_Sentimiento'].value_counts().rename_axis('Tipo de Comentario').to_frame('Cantidad')\n",
        "tabla_sentimiento.reset_index(inplace=True)\n",
        "tabla_sentimiento"
      ],
      "metadata": {
        "colab": {
          "base_uri": "https://localhost:8080/",
          "height": 143
        },
        "id": "v_ouIi77K3ER",
        "outputId": "b02a519c-0fd8-4c1d-f494-853aa5188dbb"
      },
      "execution_count": null,
      "outputs": [
        {
          "output_type": "execute_result",
          "data": {
            "text/plain": [
              "  Tipo de Comentario  Cantidad\n",
              "0           Negativo      1644\n",
              "1             Neutro      1272\n",
              "2           Positivo       564"
            ],
            "text/html": [
              "\n",
              "  <div id=\"df-29e3fbfe-4190-4749-a740-48523649468d\">\n",
              "    <div class=\"colab-df-container\">\n",
              "      <div>\n",
              "<style scoped>\n",
              "    .dataframe tbody tr th:only-of-type {\n",
              "        vertical-align: middle;\n",
              "    }\n",
              "\n",
              "    .dataframe tbody tr th {\n",
              "        vertical-align: top;\n",
              "    }\n",
              "\n",
              "    .dataframe thead th {\n",
              "        text-align: right;\n",
              "    }\n",
              "</style>\n",
              "<table border=\"1\" class=\"dataframe\">\n",
              "  <thead>\n",
              "    <tr style=\"text-align: right;\">\n",
              "      <th></th>\n",
              "      <th>Tipo de Comentario</th>\n",
              "      <th>Cantidad</th>\n",
              "    </tr>\n",
              "  </thead>\n",
              "  <tbody>\n",
              "    <tr>\n",
              "      <th>0</th>\n",
              "      <td>Negativo</td>\n",
              "      <td>1644</td>\n",
              "    </tr>\n",
              "    <tr>\n",
              "      <th>1</th>\n",
              "      <td>Neutro</td>\n",
              "      <td>1272</td>\n",
              "    </tr>\n",
              "    <tr>\n",
              "      <th>2</th>\n",
              "      <td>Positivo</td>\n",
              "      <td>564</td>\n",
              "    </tr>\n",
              "  </tbody>\n",
              "</table>\n",
              "</div>\n",
              "      <button class=\"colab-df-convert\" onclick=\"convertToInteractive('df-29e3fbfe-4190-4749-a740-48523649468d')\"\n",
              "              title=\"Convert this dataframe to an interactive table.\"\n",
              "              style=\"display:none;\">\n",
              "        \n",
              "  <svg xmlns=\"http://www.w3.org/2000/svg\" height=\"24px\"viewBox=\"0 0 24 24\"\n",
              "       width=\"24px\">\n",
              "    <path d=\"M0 0h24v24H0V0z\" fill=\"none\"/>\n",
              "    <path d=\"M18.56 5.44l.94 2.06.94-2.06 2.06-.94-2.06-.94-.94-2.06-.94 2.06-2.06.94zm-11 1L8.5 8.5l.94-2.06 2.06-.94-2.06-.94L8.5 2.5l-.94 2.06-2.06.94zm10 10l.94 2.06.94-2.06 2.06-.94-2.06-.94-.94-2.06-.94 2.06-2.06.94z\"/><path d=\"M17.41 7.96l-1.37-1.37c-.4-.4-.92-.59-1.43-.59-.52 0-1.04.2-1.43.59L10.3 9.45l-7.72 7.72c-.78.78-.78 2.05 0 2.83L4 21.41c.39.39.9.59 1.41.59.51 0 1.02-.2 1.41-.59l7.78-7.78 2.81-2.81c.8-.78.8-2.07 0-2.86zM5.41 20L4 18.59l7.72-7.72 1.47 1.35L5.41 20z\"/>\n",
              "  </svg>\n",
              "      </button>\n",
              "      \n",
              "  <style>\n",
              "    .colab-df-container {\n",
              "      display:flex;\n",
              "      flex-wrap:wrap;\n",
              "      gap: 12px;\n",
              "    }\n",
              "\n",
              "    .colab-df-convert {\n",
              "      background-color: #E8F0FE;\n",
              "      border: none;\n",
              "      border-radius: 50%;\n",
              "      cursor: pointer;\n",
              "      display: none;\n",
              "      fill: #1967D2;\n",
              "      height: 32px;\n",
              "      padding: 0 0 0 0;\n",
              "      width: 32px;\n",
              "    }\n",
              "\n",
              "    .colab-df-convert:hover {\n",
              "      background-color: #E2EBFA;\n",
              "      box-shadow: 0px 1px 2px rgba(60, 64, 67, 0.3), 0px 1px 3px 1px rgba(60, 64, 67, 0.15);\n",
              "      fill: #174EA6;\n",
              "    }\n",
              "\n",
              "    [theme=dark] .colab-df-convert {\n",
              "      background-color: #3B4455;\n",
              "      fill: #D2E3FC;\n",
              "    }\n",
              "\n",
              "    [theme=dark] .colab-df-convert:hover {\n",
              "      background-color: #434B5C;\n",
              "      box-shadow: 0px 1px 3px 1px rgba(0, 0, 0, 0.15);\n",
              "      filter: drop-shadow(0px 1px 2px rgba(0, 0, 0, 0.3));\n",
              "      fill: #FFFFFF;\n",
              "    }\n",
              "  </style>\n",
              "\n",
              "      <script>\n",
              "        const buttonEl =\n",
              "          document.querySelector('#df-29e3fbfe-4190-4749-a740-48523649468d button.colab-df-convert');\n",
              "        buttonEl.style.display =\n",
              "          google.colab.kernel.accessAllowed ? 'block' : 'none';\n",
              "\n",
              "        async function convertToInteractive(key) {\n",
              "          const element = document.querySelector('#df-29e3fbfe-4190-4749-a740-48523649468d');\n",
              "          const dataTable =\n",
              "            await google.colab.kernel.invokeFunction('convertToInteractive',\n",
              "                                                     [key], {});\n",
              "          if (!dataTable) return;\n",
              "\n",
              "          const docLinkHtml = 'Like what you see? Visit the ' +\n",
              "            '<a target=\"_blank\" href=https://colab.research.google.com/notebooks/data_table.ipynb>data table notebook</a>'\n",
              "            + ' to learn more about interactive tables.';\n",
              "          element.innerHTML = '';\n",
              "          dataTable['output_type'] = 'display_data';\n",
              "          await google.colab.output.renderOutput(dataTable, element);\n",
              "          const docLink = document.createElement('div');\n",
              "          docLink.innerHTML = docLinkHtml;\n",
              "          element.appendChild(docLink);\n",
              "        }\n",
              "      </script>\n",
              "    </div>\n",
              "  </div>\n",
              "  "
            ]
          },
          "metadata": {},
          "execution_count": 16
        }
      ]
    },
    {
      "cell_type": "markdown",
      "source": [
        "**3. Identificar y priorizar oportunidades para mejorar de la experiencia del consumidor mediante los comentarios de los usuarios digitales**"
      ],
      "metadata": {
        "id": "NFyWc7nPENoX"
      }
    },
    {
      "cell_type": "code",
      "source": [
        "!pip install stop_words\n",
        "!pip install stylecloud"
      ],
      "metadata": {
        "colab": {
          "base_uri": "https://localhost:8080/"
        },
        "id": "5mzGPJFKObxt",
        "outputId": "c9195f86-319d-444e-9bc1-e44deb5cd07c"
      },
      "execution_count": null,
      "outputs": [
        {
          "output_type": "stream",
          "name": "stdout",
          "text": [
            "Looking in indexes: https://pypi.org/simple, https://us-python.pkg.dev/colab-wheels/public/simple/\n",
            "Requirement already satisfied: stop_words in /usr/local/lib/python3.7/dist-packages (2018.7.23)\n",
            "Looking in indexes: https://pypi.org/simple, https://us-python.pkg.dev/colab-wheels/public/simple/\n",
            "Requirement already satisfied: stylecloud in /usr/local/lib/python3.7/dist-packages (0.5.2)\n",
            "Requirement already satisfied: matplotlib in /usr/local/lib/python3.7/dist-packages (from stylecloud) (3.2.2)\n",
            "Requirement already satisfied: wordcloud in /usr/local/lib/python3.7/dist-packages (from stylecloud) (1.8.2.2)\n",
            "Requirement already satisfied: fire in /usr/local/lib/python3.7/dist-packages (from stylecloud) (0.4.0)\n",
            "Requirement already satisfied: icon-font-to-png in /usr/local/lib/python3.7/dist-packages (from stylecloud) (0.4.1)\n",
            "Requirement already satisfied: palettable in /usr/local/lib/python3.7/dist-packages (from stylecloud) (3.3.0)\n",
            "Requirement already satisfied: termcolor in /usr/local/lib/python3.7/dist-packages (from fire->stylecloud) (1.1.0)\n",
            "Requirement already satisfied: six in /usr/local/lib/python3.7/dist-packages (from fire->stylecloud) (1.15.0)\n",
            "Requirement already satisfied: tinycss>=0.4 in /usr/local/lib/python3.7/dist-packages (from icon-font-to-png->stylecloud) (0.4)\n",
            "Requirement already satisfied: Pillow>=4.0.0 in /usr/local/lib/python3.7/dist-packages (from icon-font-to-png->stylecloud) (7.1.2)\n",
            "Requirement already satisfied: requests>=2.12.5 in /usr/local/lib/python3.7/dist-packages (from icon-font-to-png->stylecloud) (2.23.0)\n",
            "Requirement already satisfied: chardet<4,>=3.0.2 in /usr/local/lib/python3.7/dist-packages (from requests>=2.12.5->icon-font-to-png->stylecloud) (3.0.4)\n",
            "Requirement already satisfied: certifi>=2017.4.17 in /usr/local/lib/python3.7/dist-packages (from requests>=2.12.5->icon-font-to-png->stylecloud) (2022.6.15)\n",
            "Requirement already satisfied: idna<3,>=2.5 in /usr/local/lib/python3.7/dist-packages (from requests>=2.12.5->icon-font-to-png->stylecloud) (2.10)\n",
            "Requirement already satisfied: urllib3!=1.25.0,!=1.25.1,<1.26,>=1.21.1 in /usr/local/lib/python3.7/dist-packages (from requests>=2.12.5->icon-font-to-png->stylecloud) (1.25.11)\n",
            "Requirement already satisfied: numpy>=1.11 in /usr/local/lib/python3.7/dist-packages (from matplotlib->stylecloud) (1.21.6)\n",
            "Requirement already satisfied: kiwisolver>=1.0.1 in /usr/local/lib/python3.7/dist-packages (from matplotlib->stylecloud) (1.4.4)\n",
            "Requirement already satisfied: python-dateutil>=2.1 in /usr/local/lib/python3.7/dist-packages (from matplotlib->stylecloud) (2.8.2)\n",
            "Requirement already satisfied: pyparsing!=2.0.4,!=2.1.2,!=2.1.6,>=2.0.1 in /usr/local/lib/python3.7/dist-packages (from matplotlib->stylecloud) (3.0.9)\n",
            "Requirement already satisfied: cycler>=0.10 in /usr/local/lib/python3.7/dist-packages (from matplotlib->stylecloud) (0.11.0)\n",
            "Requirement already satisfied: typing-extensions in /usr/local/lib/python3.7/dist-packages (from kiwisolver>=1.0.1->matplotlib->stylecloud) (4.1.1)\n"
          ]
        }
      ]
    },
    {
      "cell_type": "code",
      "source": [
        "from stop_words import get_stop_words\n",
        "\n",
        "palabras_irrelevantes = get_stop_words('spanish')\n",
        "palabras_irrelevantes[:5]"
      ],
      "metadata": {
        "colab": {
          "base_uri": "https://localhost:8080/"
        },
        "id": "TOHMvFp-EOwx",
        "outputId": "69609334-33a3-46ad-bd99-da8c70cc96b3"
      },
      "execution_count": null,
      "outputs": [
        {
          "output_type": "execute_result",
          "data": {
            "text/plain": [
              "['a', 'al', 'algo', 'algunas', 'algunos']"
            ]
          },
          "metadata": {},
          "execution_count": 18
        }
      ]
    },
    {
      "cell_type": "code",
      "source": [
        "import stylecloud"
      ],
      "metadata": {
        "id": "qwf6e3omPaLL"
      },
      "execution_count": null,
      "outputs": []
    },
    {
      "cell_type": "code",
      "source": [
        "df_comentarios_positivos = df_sentimiento_limpio.loc[df_sentimiento_limpio['Análisis_Sentimiento'] == 'Positivo'].copy()\n",
        "comentarios_positivos = ' '.join([comentario for comentario in df_comentarios_positivos['Comentario']])\n",
        "comentarios_positivos"
      ],
      "metadata": {
        "colab": {
          "base_uri": "https://localhost:8080/",
          "height": 122
        },
        "id": "vQ4_MempO_LE",
        "outputId": "fd9feca3-2820-42e0-ddbb-451fe35f8a8d"
      },
      "execution_count": null,
      "outputs": [
        {
          "output_type": "execute_result",
          "data": {
            "text/plain": [
              "'Interbank es un buen banco No hay como hablar con soporte BBVA es el mejor bancoooooooo muchoo mejr es bbva Muy alto interés Continental es mejor De muy buena onda banco azteca tiene mejores tasas Bien Bien Muy bien  Bien  this is good execelente Bien  Bien Bien Me parecio concreto e interactivo Todo bien por ahora me gusta es como si te atendieran personalmente Excelente. Fácil de usar. Esta muy bien asy\\n Bien Si me gusta Muy bueno Me gusta mucho Buena pagina Muy bueno.. Bieen me gusta ! Bn Bien Excelente oportunidad para adquirir   un \\n Muy bien Excelente servicio Espetacular Me gusta el fácil y rápido  Exelente\\n Me gusta mucho Bien\\n Bien Muy bien Excelente  Excelente  Bien  Muy interesante\\n Muy bueno Muy bien  Exelente las promociones son buenas Es buena esta experiencia que lo disfruto con ansias de cumplir mi sueño de la casa propia  Muy buena Bien bien Bien  Muy buena información  Muy bueno AAA Muy buena y rápida Muy bueno Excelente Bien  Bien  muy bien Bien buena  experiencia bien Un 10. bien Muy satisfecha. Bien Muy obtimo el servicio..\\nGraciad Bien  Bien Me hace la vida mas fácil. Buena.  Bien Buena explicación :) Se ha mejorado bastante Me gustaría tener un crédito directo y rápido  Excelente\\n Buena calificación Muy bueno opción  GRACISD Hasta el momento a sido buena la atencion Conozco lo básico y se desempeñarme muy bien Buenos días.\\nBien Si me gustó  Excelente  bien Excelente y agil Gracias  Una experiencia buena Me.gusta Buena información Bien muy buena Buena , gracias  Muy bueno Me gusta por su rapides . solo hay que afinar los enlaces que se cuelgan justo cuando uno esta realizando una transferencia ú otra operación. Gracias! Si me encanta el simulador crédito Atlas Bank además recién voy a intentar sacar un crédito Muy buena Me gusta facilidad de la comunicación para obtener la información deseada, muchas gracias  Excelente  Excelente  Muy bien Bien Bien\\n Me gusta mucho Exelente\\n Me gusta el fácil y rápido  Espetacular Excelente servicio Muy bien Excelente oportunidad para adquirir   un \\n Bien Bn me gusta ! Bieen Muy bueno.. Buena pagina Excelente Excelente Muy buena  Muy buena me gusta esta banca por intenet por q no tengo q ir al banco para ver mi sueldo  Excelente, muy accesible  Muy útil y se puede calcular varias opciones con paciencia para tomar una buena decisión. todo con satisfaccion Muy bueno hola buen dia\\n aw Muy buena  Muy bueno...!!! Excelente servicio que brinda el Atlas Bank con este aplicativo plin! Recomendado 100% Excelente  Muy buena aplicación me sirve mucho Muy buena  Muy agradecida por aclarar mis dudas  Es muy importante  Excelente Graciaas Muy bien. Gracias  Gracias Excelente  excelente Me encanta\\n Muy bueno Fascinante  Me encanta esto porque es  mas rapido verificar tus depositos Me encanta\\nOk Muy buena Excelente Excelente  Muy buenl Super bienp Excelente  Muy buena. Excelente  Exelente Bien Muy interesante el apoyo del Atlas Bank para que nuestros hijos salgan adelante y triunfen en la vida.\\n\\nGracias. Me encanta Muy buena  Muy buena  Muy buena Excelente\\n Excelente  Bien Me 3ncanta Me encanta Muy buena informacio Bien muy buena informacion  Me. Encanta excelente Excelente.  Muy bien  Gracias por la información me fue de gran ayuda ahora estoy masa. Convencido de sacarme mi carro Muy buena Muy buena informacion Exelente Es muy buena Muy buena opción  Me encanta Me encanta  Muy buena informacion Excelente BUENISIMOOOOOO Excellent So Nice! Muy buena información  Es rápida de buena presentación  Bien Bien Wow Hola buenas tardes\\n Me.encanta Bien  Muy buena\\n Muy bien explicado, gracias Muy dinámico Me encanta bien :) Buena.\\n Es de confianza total Bien Me encanta\\n\\n\\n Bien Muy buena Biena Me gustó :) Excelente  MUY BUENA INICIATIVA DE COLOCAR LA CREACION DE CLAVE DE INTERNET YA QUE MUCHOS NO MANEJAN CORREO Exelente Buenísima Muy bien  Bien  Me encantó la atención Bien Excelente  Excelente \\n Gracias todo bien Gracias Excelente Muy buena  Me parece excelente me ahorra tiempo es espectacular  La app es muy buena, no tengo problemas cada vez que inicio.  Interesant y buena opcion Gracias por la buena atención y el fácil uso de las opciones.  Muy bien Excelente  Muy interesante este crédito, ojalá me consideren Muy simple, buena Es muy bien buen trabajo\\n Bien\\n Excelente Bien MUY BUENO  Muy buena .. excelente  Gracias  Muy buena Muy buen servicio  Muy bueno\\n Buena Atlas Bank, casi como BCP Esta buena felicidades y le recomendaría  este sistema es genial Gracias Muy buena Excelente Buenísima app, Enserio lo mejor que pude tener en mi negocio Es lo mejor Bien hasta el momento  excelente Me encanta\\n Muy bien porque es rápido y facil Excelente  Me encanta  Muy buenl Excelente  Excelente Muy buena Me encanta\\nOk Me encanta esto porque es  mas rapido verificar tus depositos Fascinante  Muy bueno Me encanta\\n excelente Excelente  Gracias Muy bien. Gracias  Graciaas Excelente Es muy importante  Muy agradecida por aclarar mis dudas  Muy buena  Muy buena aplicación me sirve mucho Excelente  Excelente servicio que brinda el Atlas Bank con este aplicativo plin! Recomendado 100% Muy bueno...!!! Interbank es un buen banco No hay como hablar con soporte BBVA es el mejor bancoooooooo muchoo mejr es bbva Muy alto interés Continental es mejor De muy buena onda banco azteca tiene mejores tasas Bien Bien Muy bien  Bien  this is good execelente Bien  Bien Bien Me parecio concreto e interactivo Todo bien por ahora me gusta es como si te atendieran personalmente Excelente. Fácil de usar. Esta muy bien asy\\n Bien Si me gusta Muy bueno Me gusta mucho Buena pagina Muy bueno.. Bieen me gusta ! Bn Bien Excelente oportunidad para adquirir   un \\n Muy bien Excelente servicio Espetacular Me gusta el fácil y rápido  Exelente\\n Me gusta mucho Bien\\n Bien Muy bien Excelente  Excelente  Bien  Muy interesante\\n Muy bueno Muy bien  Exelente las promociones son buenas Es buena esta experiencia que lo disfruto con ansias de cumplir mi sueño de la casa propia  Muy buena Bien bien Bien  Muy buena información  Muy bueno AAA Muy buena y rápida Muy bueno Excelente Bien  Bien  muy bien Bien buena  experiencia bien Un 10. bien Muy satisfecha. Bien Muy obtimo el servicio..\\nGraciad Bien  Bien Me hace la vida mas fácil. Buena.  Bien Buena explicación :) Se ha mejorado bastante Me gustaría tener un crédito directo y rápido  Excelente\\n Buena calificación Muy bueno opción  GRACISD Hasta el momento a sido buena la atencion Conozco lo básico y se desempeñarme muy bien Buenos días.\\nBien Si me gustó  Excelente  bien Excelente y agil Gracias  Una experiencia buena Me.gusta Buena información Bien muy buena Buena , gracias  Muy bueno Me gusta por su rapides . solo hay que afinar los enlaces que se cuelgan justo cuando uno esta realizando una transferencia ú otra operación. Gracias! Si me encanta el simulador crédito Atlas Bank además recién voy a intentar sacar un crédito Muy buena Me gusta facilidad de la comunicación para obtener la información deseada, muchas gracias  Excelente  Excelente  Muy bien Bien Bien\\n Me gusta mucho Exelente\\n Me gusta el fácil y rápido  Espetacular Excelente servicio Muy bien Excelente oportunidad para adquirir   un \\n Bien Bn me gusta ! Bieen Muy bueno.. Buena pagina Excelente Excelente Muy buena  Muy buena me gusta esta banca por intenet por q no tengo q ir al banco para ver mi sueldo  Excelente, muy accesible  Muy útil y se puede calcular varias opciones con paciencia para tomar una buena decisión. todo con satisfaccion Muy bueno hola buen dia\\n aw Muy buena  Muy bueno...!!! Excelente servicio que brinda el Atlas Bank con este aplicativo plin! Recomendado 100% Excelente  Muy buena aplicación me sirve mucho Muy buena  Muy agradecida por aclarar mis dudas  Es muy importante  Excelente Graciaas Muy bien. Gracias  Gracias Excelente  excelente Me encanta\\n Muy bueno Fascinante  Me encanta esto porque es  mas rapido verificar tus depositos Me encanta\\nOk Muy buena Excelente Excelente  Muy buenl Super bienp Excelente  Muy buena. Excelente  Exelente Bien Muy interesante el apoyo del Atlas Bank para que nuestros hijos salgan adelante y triunfen en la vida.\\n\\nGracias. Me encanta Muy buena  Muy buena  Muy buena Excelente\\n Excelente  Bien Me 3ncanta Me encanta Muy buena informacio Bien muy buena informacion  Me. Encanta excelente Excelente.  Muy bien  Gracias por la información me fue de gran ayuda ahora estoy masa. Convencido de sacarme mi carro Muy buena Muy buena informacion Exelente Es muy buena Muy buena opción  Me encanta Me encanta  Muy buena informacion Excelente BUENISIMOOOOOO Excellent So Nice! Muy buena información  Es rápida de buena presentación  Bien Bien Wow Hola buenas tardes\\n Me.encanta Bien  Muy buena\\n Muy bien explicado, gracias Muy dinámico Me encanta bien :) Buena.\\n Es de confianza total Bien Me encanta\\n\\n\\n Bien Muy buena Biena Me gustó :) Excelente  MUY BUENA INICIATIVA DE COLOCAR LA CREACION DE CLAVE DE INTERNET YA QUE MUCHOS NO MANEJAN CORREO Exelente Buenísima Muy bien  Bien  Me encantó la atención Bien Excelente  Excelente \\n Gracias todo bien Gracias Excelente Muy buena  Me parece excelente me ahorra tiempo es espectacular  La app es muy buena, no tengo problemas cada vez que inicio.  Interesant y buena opcion Gracias por la buena atención y el fácil uso de las opciones.  Muy bien Excelente  Muy interesante este crédito, ojalá me consideren Muy simple, buena Es muy bien buen trabajo\\n Bien\\n Excelente Bien MUY BUENO  Muy buena .. excelente  Gracias  Muy buena Muy buen servicio  Muy bueno\\n Buena Atlas Bank, casi como BCP Esta buena felicidades y le recomendaría  este sistema es genial Gracias Muy buena Excelente Buenísima app, Enserio lo mejor que pude tener en mi negocio Es lo mejor Bien hasta el momento  excelente Me encanta\\n Muy bien porque es rápido y facil Excelente  Me encanta  Muy buenl Excelente  Excelente Muy buena Me encanta\\nOk Me encanta esto porque es  mas rapido verificar tus depositos Fascinante  Muy bueno Me encanta\\n excelente Excelente  Gracias Muy bien. Gracias  Graciaas Excelente Es muy importante  Muy agradecida por aclarar mis dudas  Muy buena  Muy buena aplicación me sirve mucho Excelente  Excelente servicio que brinda el Atlas Bank con este aplicativo plin! Recomendado 100% Muy bueno...!!!'"
            ],
            "application/vnd.google.colaboratory.intrinsic+json": {
              "type": "string"
            }
          },
          "metadata": {},
          "execution_count": 20
        }
      ]
    },
    {
      "cell_type": "code",
      "source": [
        "stylecloud.gen_stylecloud(comentarios_positivos, icon_name='fas fa-book-open', custom_stopwords=palabras_irrelevantes, output_name='nube_comentarios_positivos.png')"
      ],
      "metadata": {
        "id": "Rj8jTxKXPXnc"
      },
      "execution_count": null,
      "outputs": []
    },
    {
      "cell_type": "code",
      "source": [
        "df_comentarios_neutros = df_sentimiento_limpio.loc[df_sentimiento_limpio['Análisis_Sentimiento'] == 'Neutro'].copy()\n",
        "comentarios_neutros = ' '.join([comentario for comentario in df_comentarios_neutros['Comentario']])\n",
        "comentarios_neutros"
      ],
      "metadata": {
        "colab": {
          "base_uri": "https://localhost:8080/",
          "height": 122
        },
        "id": "A8LitR-kRICs",
        "outputId": "c48deebf-77aa-4830-e1de-2b1c13172dd3"
      },
      "execution_count": null,
      "outputs": [
        {
          "output_type": "execute_result",
          "data": {
            "text/plain": [
              "'No se como registrarme para mi clave Sale otro idioma  No encuentro informacion como validar mi nueva tarjeta de debito a fin de poder registrarla para ingresar No encuentro un número al que pueda llamar desde los EEUU. El número que tienen publicado es raro. Ni siquiera es un número normal del Perú. Y para chatear tengo que inscribirme con algún ID. Qué ID? No tengo ID peruano. no sep uede realizar pagos\\nindica donde Aún no puedo entrar a préstamo vía wed  Y No pasa nada . como acceder por internet necesito numero de cuennta Quiero hacer consultas Es imposible  Mucho q llenar No respondes  Hola ViaAtlas Bank\\n M ayudaaaaaaaaa Feo Estoy buscando donde ver mis movimientos .Cuento con la clave de 4 dígitos No pasa nada cuando presiono enviar No acepta\\n qu{e objetivo tiene el captcha<? tengo problemas en la vista, por lo que me equivoco digitar la tarjeta y el captcha, podrian facilitar poniendo la opcion de lupa para no demorar e ingrese en una sola vez y no en varias, o de lo contrario captcha especial discapacitados, gracias\\n Horarios atención  NO EXISTE REFERENCIA DE APIS COMO LAS DE plin !\\n Deberían integrar al banco de la nación (Perú) Cuando ingreso a la banca por internet, me dice que mi contraseña de 4 dígitos es errado, cuando uso la misma en mi móvil y me permite su ingreso Deberían ser como BCP No hay detalle de cuanto es el porcentaje de ganancia No pasa nada Noooo9 Fase Solo.necesito saber mi estado de cuenta de setiembre por favor\\n Una porqwria la primera vez pude ingresar x Google y verificar mis saldos cerré sesión y ni mas puedo volver acceder o me dan opción para ingresar sin tener que q descargar el aplicativo  Quiero pagar mí telefono fijo de telefonía del Perú\\n  la versión anterior era mas rápida... hoy realicé los requiItis alas 9 d la mañana y hasta ahora esta pendiente el token digital Anote recordar numeros de tarjetas e ingresé dos y ahora ya no sale tengo que volver a digitar los numeros que son largos. no carga los pasos paa ontener la clave Nose puede retirar sin tarjeta  Han visto la página de ScotiaBank, esa si es bueanza r rcrcrfrr 4 rvjfe\\n Miren el formato de fechas al exportar a excel el detalle de las tarjeta de crédito. Ej me sale asi: 1571529400000. ¿qué fecha es esa?? Lo q\\nQuiero es poder poner mi nueva tarjeta de débito en mi teléfono por q\\nHoy me dieron una nueva y no se como entrar y ponerla https://www.facebook.com/ Jacqueline Jhanet Torres Ureta\\n•\\trescue me, save me, help me , etc  of jactourcide en:  Calle y jr. los tumbos mz 54 lote 02 urbanizacion Previ al frente de la calle los tumbos mz 34 lote 21 urbanizacion Previ o 488 cruce calle los rosales y las hiedras a espaldas de la institución educativo 5084 carlos Phillips /colegio carlos philips Previ- Bocanegra, Callao, Callao\\n•\\tTeléfono        recargar mi saldo tuenti   :  rpclaro 941701792,  +51978284420/+5114584502\\nyacky_artemisa@hotmail.com, jactour1994@hotmail.com and torresuretajacquelinejhanet@gmail.com,  jacquelinejhanettorresureta@gmail.com\\n EL Token digital no lo acepta a pesar de ingresarlo correctamente repetidas veces Adicional a la informacion, ya se sabe cuales paginas son las que uitlizan los estafadores deberían coordinar para que sean cerradas.\\n\\nhttps:// Atlas Bank.viapremium.com.iniciar-sesion Quiero hablar con una persona personal mente  Deseó  mi clave Internet  antes era mejor No toma el carnet de extranjeria activen la Banca por Internet !!!!!!\\n La página siempre está en mantenimiento Mi lenta no puedo ingresar a la pagina, al parecer olvide la clave y no hay un sistema de recuperación por Internet, ya que vivo en Chile, y no puedo llamar por teléfono, espero me den alguna solución gracias. creo que la idea de hacer los tramites por Internet, es facilitar no complicar. no abre Se demora genera tu clave de 4 digitos EL CÓDIGO CATCHA AL TERCER O CUARTO INTENTO RECIÉN LO ACEPTAN Cómo abro mi cuenta Necessito de ayuda!\\n tarjetas para todos mayores de 18 años Tienen que dejar creae la clave de 4 digitos x el celular  y no por banca x  internet, mayormente estanos fuera de oficina o domicilio y se tienes que hacer rapido las cosas. me pide una clave token y no se donde obtenerla, un cosa es por mi celular y por aqui tambien me piden porque ?!!! Nosé puede crear clave\\n de internet\\n muchos botones No existe la opcion de agencias bancarias por departamento Bajajjaj Joauru J Me indican q tengo un crédito aprobado sin embargo cuando lo solicito por la wedd me sale \"lo sentimos tuvimos un problema intentelo mas tarde \" y lo mismo pasa con la banca móvil :/ hola Me pide una clave de 4 dígitos  Me puedes inviar la clave de 4 \\n El código no se ve por celular mi correo es davidjh.pcs@gmail.com Hola me podrian asesorar si esto pertenese a ustedes y si me ofresieron este prestamo porque es por su cuenta bancaria segun es el director del bancoNombre del banco: Atlas Bank\\n\\nNombre del Titular: WINSTONG RUIZ RUIZ\\n\\nNúmero de cuenta: 550-95544322-0-49\\n\\nPaís: PERÚ La banca por internet no fuciona no veo la supuesta tasa... Opcion enviar no acepta no se por que me bloqueo mi DNI si respondí toda la verdad No figura Credito Hipotecario en la Pâg. Principal Yo no sabía que cobran 9 soles por cada depósito en agente de provincia, a mí me dijeron que no me cobraban de agente pero si de ventanillas. Quiero consultar cuanto de sald tengo si no tengo me tarjeta fisica no puedo ingresar a la web Lenta\\n Como obtener el Codigo Interbancario?\\nNo hay esa opcion.. malo\\n J como cambio la clave del plin? testetet No ingresa Por qué me acercado al bancoe dicen que apruebo que me va a llamar un asesor pero nadie me llama AYUDA\\n AGENCIAS\\n Cómo cambio el número celular asociada a una tarjeta?\\n S Sexe HHJHGJ necesito saber cuanto es la comision si hago una transferencia de Atlas Bank lima a Atlas Bank provincia .  Jkkk4 no ingresa  No es de fácil uso? PARA PERSONAS CIEGAS JAJAJAJAJAAJAJ h no me dijeron que necesitaba token para transferir por internet Es inútil  Debería ser más fácil directamente desde la aplicación de Atlas Bank \\nPara crear la clave digital https://www.viaAtlas Bank.com/canales/agentes-Atlas Bank\\nhttp://www.encuentraAtlas Bank.com/buscador/\\n504 Gateway Time-out\\nnginx/1.0.15\\n 504 Gateway Time-out\\nnginx/1.0.15 LINK DE REGISTRO DE CLAVE DE INTERNET INOPERATIVO Ola .orible Cómo pido una tarjeta no line  Cada q ingreso me pide registrar la tarjeta de debi No hay respuesta lento  Pongan el interés real, si ahora está a 4.92 Pongan los interedes hipotecarios reales, pues he leído en diario gestión que ahora están a 4.98. Frustración  No puedo ver enla Banca por INTERNET mis movimientos del mes de Octubre del 01 al 20 de Octubre esta lento  no se puee ingresar ya que aparece el teclao numerico \\n Deposite 100 soles, recogi 80 sole. Quiero una explicacion.\\n No hay ningún simulador de préstamos Hola\\n Quiero comunicarme con un acesor Atlas Bank Miren el formato de fechas al exportar a excel el detalle de las tarjeta de crédito. Ej me sale asi: 1571529400000. ¿qué fecha es esa?? r rcrcrfrr 4 rvjfe\\n Nose puede retirar sin tarjeta  no carga los pasos paa ontener la clave Anote recordar numeros de tarjetas e ingresé dos y ahora ya no sale tengo que volver a digitar los numeros que son largos. hoy realicé los requiItis alas 9 d la mañana y hasta ahora esta pendiente el token digital  la versión anterior era mas rápida... bcp tiene más agencias Quiero pagar mí telefono fijo de telefonía del Perú\\n Una porqwria la primera vez pude ingresar x Google y verificar mis saldos cerré sesión y ni mas puedo volver acceder o me dan opción para ingresar sin tener que q descargar el aplicativo  Solo.necesito saber mi estado de cuenta de setiembre por favor\\n Fase Noooo9 No pasa nada No hay detalle de cuanto es el porcentaje de ganancia Cuando ingreso a la banca por internet, me dice que mi contraseña de 4 dígitos es errado, cuando uso la misma en mi móvil y me permite su ingreso Deberían integrar al banco de la nación (Perú) NO EXISTE REFERENCIA DE APIS COMO LAS DE plin !\\n Horarios atención  tengo problemas en la vista, por lo que me equivoco digitar la tarjeta y el captcha, podrian facilitar poniendo la opcion de lupa para no demorar e ingrese en una sola vez y no en varias, o de lo contrario captcha especial discapacitados, gracias\\n qu{e objetivo tiene el captcha<? No acepta\\n No pasa nada cuando presiono enviar Estoy buscando donde ver mis movimientos .Cuento con la clave de 4 dígitos Feo Qqqqqqqqq ayudaaaaaaaaa M Bueno lo que quisiera saber es mi numero del Token digital. Ya que me lo piden para acceder desde la web quiero hacer una trransferencia a mi hija a otro banco scotiabank Q pasos debo seguir para crear mi cáncer x internet Z9 recomendaria que salga fecha cuando se hace una transferencia a una cuenta mediante la web  ya que solo le envia en el correo pero mediante el celular tiempre tomamos una captura y no sale la fecha  No Necesito comunicarme con uds estoy en el extranjero y la llamada por TLF no contesta ningún operador No se como enviar No indica monto máximos de deposito  deberían hacerla la página más simple Necesito respuesta inmediatas como el BBVA que simula el crédito. No atienden solo hay una maquina que un momento lo atenderemos debería tener mayor interacción Deberian tener un wasap\\n estoy buscando horarios de atención y no encuentro.. a partir de qué hora puedo llamar al 3119898???? Una simple consulta quise averiguar como me contacto  Estoy en europa ahora y mi tarjeta de credito no esta habilitada para hacer compras. Antes de salir de Peru llame y la.active y deberia de funcionar. Me podrian llamar by whasap? 959401833 Ola amigo Soy katty El simulador debería tener la opción de colocar centavos Quiero. Cambiar mi cuenta plin\\n que es la calve digital token??????????????? eso me piden para hacer un deposito  otra cuenta Atlas Bank d euna empresa que es? como lo consigo buenas tardes ya tengo mi clave de 4 dígitos quiero ver mi saldo como ingreso gracias me pueden ayudar\\n 44824111 No carga Se lajea Antes de llenar el formato simulador deberían detenerse en la página informativa para conocer bien el tema , trato de leer y salta al formulario edson pastor jean pear calle reyes 982481449 no carga los enlaces de banca por internet,por favor revisar su red Gyuk escribi todos mis datos igual no pase al otro paso N No avanza el simulador de préstamos hipotecarios  . Ma\\'s menos\\n quisiera contactarme con istedes via whatsapp o por correo.\\nno tengo saldo  Utipañrm otijajajakak Solo  quiero pagar con mi tarjeta\\n zzz Aún no me califican No recuerdo mi clave de internet  Cv Pasos para trasferir de mi cuenta a otra cuenta Atlas Bank  , No dicen los horarios para pagar las tarjetas en cualquier modo Deben tener un número de celular para poder hacer consultas al Atlas Bank Hola, quisiera saber por favor cómo puedo hacer para recuperar mi plin, no puedo entrar si no tengo mi número telefónico con el que me registré.  No buena es lo mismo que en celular Malo Quisiera que explique mejor como se puede visualizar elmpago de cts por banca por internet  X,  Hola quisiera saber si la empresa agro futura me abrió una cuenta sueldo Hola.\\nNo encuentro el enlace para afiliar a Verified by Visa que es la calve digital token??????????????? eso me piden para hacer un deposito  otra cuenta Atlas Bank d euna empresa que es? como lo consigo Quiero. Cambiar mi cuenta plin\\n El simulador debería tener la opción de colocar centavos Soy katty Ola amigo Estoy en europa ahora y mi tarjeta de credito no esta habilitada para hacer compras. Antes de salir de Peru llame y la.active y deberia de funcionar. Me podrian llamar by whasap? 959401833 Una simple consulta quise averiguar como me contacto  estoy buscando horarios de atención y no encuentro.. a partir de qué hora puedo llamar al 3119898???? Deberian tener un wasap\\n debería tener mayor interacción No atienden solo hay una maquina que un momento lo atenderemos Necesito respuesta inmediatas como el BBVA que simula el crédito. deberían hacerla la página más simple Amigo como puedo conseguir mi clave de internet Regular  Rtt\\n buenas tardes\\n porque por 3÷7=! ¿Cómo hago para obtener un credito vehicular ? Normal Assssdd Buenas tardes\\n Consulta\\n Falta información Ok Como puedo crear mi cuenta movil\\n Ojala tenga respuesta a mi pefudo gracias\\nOlvide mi clave plin  Neutral pero deberia estar la opcion de descargar solo el instalador por casos como el mio, si estuviera de esta forma calificaria con un me encanta, al ser extranjero y no tener configurado mi play store para peru no puedo descargarlo. Espero me ayuden y me soluciones ya envie un correo. Espero respuesta y soluciones a walkermontilla@gmail.com  Baco de ve se  cp Tu i Me pide el dato alias y nose donde lo encuentro ese dado\\n Buena Neutral  Nome Neutral Buen dia\\nQuisiera saber si ustedes llaman de numeros de celular como este que me llama haciendo mencion que es de su empresa 984 172 847 Aun me falta adiestramiento\\n\\n No muestra la tasa ni portes S Falta mayor difusión dela becas de Atlas Bank como día de postulación nosotras las madres solteras no tenemos el tiempo para estar pegadas del la página Web, y nuestros hijos son temerosos de volar solo por eso siempre acompañándolos en su crecimiento gracias  Quiciera saber como recuperar mi cuenta de plin Quiciera saber como recuperar mi cuenta de plin E J No dices si los datos ya entraron 9 no Hola, estaba leyendo el sitio. Hay una i de mas en la palabra soliicitar.\\n\\nBanca móvil te permite realizar mayor cantidad de operaciones como pagos de servicios, tarjetas de crédito, soliicitar productos y otras operaciones más Neutral\\n DEBERia e ver y nose  by scary Asi facilita  . a que correo puedo enviar una notifcacion de correos atlas bank spam ? Neutral Normal Sin respuesta , quisiera saber si se puede hacer una trtansferencia a milan italia Su chat es bajito de respuesyas Muy lento No permite calcular el bono mi vivienda verde La página es buena pero no encontré la información que buscaba. No se cómo activar alertas de mis operaciones con mis tarjetas no me especifican los montos máximos para realizar mis operaciones.  . Oupancomatrulaytmkg sutoncnglhilsgsiymldkf Iotmbtkiori H Necesito pronta respuesta Neutral Falta que aparezca la tasa de interés  Xx Todavía no podría opinar ,no recibo atención aún. Me gusta  Hola nesecito saber si puedo comprar un departamento desde otro país   Esperar  los resultados  Cómo calificavias tu experiencia en la web ? \\n No muy explícito en cuestion al uso entre quien lo descarga y quien no lo tiene descargado  Ff Como puedo obtener una beca Para mi hijo yo ya que soy de bajos recursos pero mi hijo tiene buenas calificaciones\\n Y a dónde lo reportamos? Ok Intento encontrar el Toquen y por ningún ícono encuentro para activar.  muy larga Cuotas a 34 meses No puedo acceder a, banca por internet, mi dni es 45871501\\nJhisson Calle Ggg Quiero saber si tiene algún app para ver mi estado de cuenta de mi tarjeta de crédito  Debería haber la opción de poder borrar las plinadas en los movimientos  Faltaría como corregir el número de teléfono en plin con el mismo correo electrónico  Detalles del depósito Quisiera saber si califico para un prestamo hipotecario Como podria crearme una cuenta  Nunca hay atención al cliente disponible pero para ventas te respondes en 10 segundos.  . Cómo cambio mi número neutral N Masomenos Masomenos Buena Deberían poner más opciones  \\nÇ\\nñ´,k no se como acceder  y si es solamente con tarjeta de crédito o también  con  ahorros Mi nombre es JUAN MIRANDA MAMANI con DNI 29384880, tengo mi cuenta en el Atlas Bank y quisiera saber si tengo asignado un asesor. quisiera que me apoye con un credito, mi cel es 982047992 defdsvd W Neutral Necesito comunicarme con alguien  Como puedo registrar clave para app Atlas Bank movil Neutral S No muestra la tasa ni portes Aun me falta adiestramiento\\n\\n Buen dia\\nQuisiera saber si ustedes llaman de numeros de celular como este que me llama haciendo mencion que es de su empresa 984 172 847 Neutral Nome Neutral  Buena Me pide el dato alias y nose donde lo encuentro ese dado\\n Tu i Baco de ve se  cp Neutral pero deberia estar la opcion de descargar solo el instalador por casos como el mio, si estuviera de esta forma calificaria con un me encanta, al ser extranjero y no tener configurado mi play store para peru no puedo descargarlo. Espero me ayuden y me soluciones ya envie un correo. Espero respuesta y soluciones a walkermontilla@gmail.com  Ojala tenga respuesta a mi pefudo gracias\\nOlvide mi clave plin  Como puedo crear mi cuenta movil\\n Ok Falta información me gusta Pk Es buena  J\\n Buena ok Como a tener mi clave Internet Atlas Bank Buena \\nEsta bien Clave de internet  lol\\n Super\\n M Hola soy an a garibay necesito saber como pagar una deuda que tengo con ustedes mi dni es 73451354 Buena Buena Esta muy claro Chevere Chevere\\n En cusco Consulta , quiero saber si aplica tbm para refacciones de un inmueble Buena Buena Me gusta buena loo Bueno  Me gusta Cuánto dinero se puede depositar en un cajero multifuncional ???\\n Good Buenas  plin\\n Ok Good perono sesabe cual es el mercadoobjetivo de este credito\\n Ĺ Te facilita en tus pagos  Buena  Es bueno\\n Me gusta Regular 9 Buenas una consulta quería saber si hoy está abierta  banco Atlas Bank de la carretera central Vitarte ? Por favor Buen Buena Qe sea una buena atencion x favor \\n Qe es una buena atencion qe me de buenas respuestas  Me gusta \\n Me gusta  Segundo rafael fatama Saboya Buena Hola  Tarjeta de cuenta cero\\n\\n Good\\n Bueno falta padding entre el icono y la letra \\ncon justify-contend: flex evenly\\ny el tamaño del boton\\nwidth 30vw resposible para ese tamaño Buena Buenas noches como podría postular una beca universitaria? Rapido Me gusta Ola Me gusta Buenas noches: Me han escrito a mi correo este e-mail, manifestando que mi cuenta Atlas Bank está suspendida...me parece que no es del banco.\\nPor favor, indaguen al respecto,  este es el correo:\\n\\nbanco Atlas Bank <Atlas Bankalertasyavisos@Atlas Bank.com.pe>\\n\\nSaludos Hay q actualizar los números telefonicos\\n Todo ok ewyegywqgeqy Bueno Bueno  GENIAL Jhonht Buena Este es mi número para que se contacten conmigo 995415413. Gracias Hola.. Me podrían dar un préstamo.. Ya cancele el primer préstamo que me isieron... Nesecito otro préstamo de 2000 soles.. Gracias saludos Hhh Atlas Bank Bueno  B B Bbb B B:  bbbbbbbbbbbbh: b Muy útil Buena app, pero no se como sacar el token... Cómo hacer si quiero cobrar la plata? joselin\\n\\n\\n\\n\\n\\n\\n\\n\\n\\n Buena Muy comprensible Es muy buena pero no puedo encontrar los requisitos que se necesita para sacar una cuenta de ahorros\\n Si eselente Bueno los consejos Si pudiéramos tener contacto con una persona quien nos de detalles seria interesante, para consultar varias cosas respecto de las becas, muy agradecido, Dios los bendiga.\\nCesar Meza \\ncesarmeza777@gmail.com\\n943939388 buenos dias Debería permitir más opciones Porque me soluciona alguna emergencia que tuviese\\nGracias Ok bastante buena Todo ok Buena Bie  Mu buena Chicago KqAwaasee buenas quisiera saber de que hora a que ora es atencion por banca por telefono\\n Buena Muy buna bien no e tenido problemas I Consulta de saldo  yes Quiero saber cómo me pueden ayudar me olvidé mi clave de internet y no puedo ingresar...? Interesante Nada mal nesecito comprar un terreno por favor deseo contactarme con ustedes  gracias\\n\\n Bueno Me gusta Esta bueno Regular! Heloooo Buena 4 Ok X\\n\\n Buenas tardes  Hola Linda Me gustaría que me explicaran que en caso que quiera cambiar los datos de mi plin no me informan y la cual no me permite ingresar a mi aplicativo  si me.ayudaran genial \\n me gusta Me interesa GENIAL Bueno Hola una consulta Ñ Si0ppppp\\n\\n es muy bueno, pero quiero saber, si puedo comprar casa con el 100% de financiamiento? Muy buen y en poco tiempo :v Buena positivo Tarjeta de cuenta cero\\n\\n Hola  Buena Segundo rafael fatama Saboya Me gusta  Me gusta \\n Qe es una buena atencion qe me de buenas respuestas  Qe sea una buena atencion x favor \\n Buena Buen Buenas una consulta quería saber si hoy está abierta  banco Atlas Bank de la carretera central Vitarte ? Por favor 9 Regular Me gusta Es bueno\\n Buena  Te facilita en tus pagos  Ĺ perono sesabe cual es el mercadoobjetivo de este credito\\n Good Ok plin\\n Buenas  Good Cuánto dinero se puede depositar en un cajero multifuncional ???\\n Me gusta Bueno  loo buena Me gusta Buena Buena Consulta , quiero saber si aplica tbm para refacciones de un inmueble En cusco Chevere\\n Bueno u rápido Si Cómo se usa plin\\n es divertida  Muy fácil. buena A Súper\\n <3 Es buena  Muy eficiente Muy útil  Vien  Buena Pkkiyfdzzz Melissa ii Feliz Wdu53$$4fghe gracias por su rápida respuesta O me facilito informacion\\n Buenos dias Parece más didáctica Good service Lo máximo Buena Espectacular  Si meancanta\\n genial Una experiencia  Facil y rapida Es muy facil usarlo P O bueno\\n Super bueno Fácil de navegar Bueno Buena  Bueno recién entro para ver y averiguar  Hola Genial HOLA BUENOS DIAS NO PUEDO INSCRIBIRME EN LA BECA\\n Muy eficiente . Buena ,  Saber más información Buena jj Muy activo . Todo bien Buenas  Muy importante Biem Good me gusta\\n Me gusta  Exlente Quero saber mi cuenta Como genero el correo Muy fresco\\n Si  Scotiabank <3 Es facil y rapido de entender Chevere\\n\\n FÁCIL ACCESIBILIDAD Y TODA LA INFORMACIÓN NECESARIA Me gusta  Biem 1 Buena  rápido  Buena Buena Bueno Super porque descuenta40 soles de q  se trata segplus\\n Bueno  0 Buena Ifl7l9f buena informacion pero me gustaria saber la tasa de interes mensuaL Y anual No se mucho Genial\\n K Deceo comprar mi casa pero necesito que ustesdes lo compren para que yo les pague a ustedes mensualmente  Ok Estoy nesecito un crédito hipotecario Eficientes Bueno  Ok  MU GUSTA Clave de Internet\\n Buena\\n Ok\\n\\n Genial  Hin Una experiencia  genial meancanta\\n Si Espectacular  Buena Lo máximo Good service Parece más didáctica Buenos dias me facilito informacion\\n O Calidad BBVA gracias por su rápida respuesta Wdu53$$4fghe Feliz Melissa ii Pkkiyfdzzz Buena Vien  Muy útil  Muy eficiente Es buena  <3 Súper\\n A buena No se como registrarme para mi clave Sale otro idioma  No encuentro informacion como validar mi nueva tarjeta de debito a fin de poder registrarla para ingresar No encuentro un número al que pueda llamar desde los EEUU. El número que tienen publicado es raro. Ni siquiera es un número normal del Perú. Y para chatear tengo que inscribirme con algún ID. Qué ID? No tengo ID peruano. no sep uede realizar pagos\\nindica donde Aún no puedo entrar a préstamo vía wed  Y No pasa nada . como acceder por internet necesito numero de cuennta Quiero hacer consultas Es imposible  Mucho q llenar No respondes  Hola ViaAtlas Bank\\n M ayudaaaaaaaaa Feo Estoy buscando donde ver mis movimientos .Cuento con la clave de 4 dígitos No pasa nada cuando presiono enviar No acepta\\n qu{e objetivo tiene el captcha<? tengo problemas en la vista, por lo que me equivoco digitar la tarjeta y el captcha, podrian facilitar poniendo la opcion de lupa para no demorar e ingrese en una sola vez y no en varias, o de lo contrario captcha especial discapacitados, gracias\\n Horarios atención  NO EXISTE REFERENCIA DE APIS COMO LAS DE plin !\\n Deberían integrar al banco de la nación (Perú) Cuando ingreso a la banca por internet, me dice que mi contraseña de 4 dígitos es errado, cuando uso la misma en mi móvil y me permite su ingreso Deberían ser como BCP No hay detalle de cuanto es el porcentaje de ganancia No pasa nada Noooo9 Fase Solo.necesito saber mi estado de cuenta de setiembre por favor\\n Una porqwria la primera vez pude ingresar x Google y verificar mis saldos cerré sesión y ni mas puedo volver acceder o me dan opción para ingresar sin tener que q descargar el aplicativo  Quiero pagar mí telefono fijo de telefonía del Perú\\n  la versión anterior era mas rápida... hoy realicé los requiItis alas 9 d la mañana y hasta ahora esta pendiente el token digital Anote recordar numeros de tarjetas e ingresé dos y ahora ya no sale tengo que volver a digitar los numeros que son largos. no carga los pasos paa ontener la clave Nose puede retirar sin tarjeta  Han visto la página de ScotiaBank, esa si es bueanza r rcrcrfrr 4 rvjfe\\n Miren el formato de fechas al exportar a excel el detalle de las tarjeta de crédito. Ej me sale asi: 1571529400000. ¿qué fecha es esa?? Lo q\\nQuiero es poder poner mi nueva tarjeta de débito en mi teléfono por q\\nHoy me dieron una nueva y no se como entrar y ponerla https://www.facebook.com/ Jacqueline Jhanet Torres Ureta\\n•\\trescue me, save me, help me , etc  of jactourcide en:  Calle y jr. los tumbos mz 54 lote 02 urbanizacion Previ al frente de la calle los tumbos mz 34 lote 21 urbanizacion Previ o 488 cruce calle los rosales y las hiedras a espaldas de la institución educativo 5084 carlos Phillips /colegio carlos philips Previ- Bocanegra, Callao, Callao\\n•\\tTeléfono        recargar mi saldo tuenti   :  rpclaro 941701792,  +51978284420/+5114584502\\nyacky_artemisa@hotmail.com, jactour1994@hotmail.com and torresuretajacquelinejhanet@gmail.com,  jacquelinejhanettorresureta@gmail.com\\n EL Token digital no lo acepta a pesar de ingresarlo correctamente repetidas veces Adicional a la informacion, ya se sabe cuales paginas son las que uitlizan los estafadores deberían coordinar para que sean cerradas.\\n\\nhttps:// Atlas Bank.viapremium.com.iniciar-sesion Quiero hablar con una persona personal mente  Deseó  mi clave Internet  antes era mejor No toma el carnet de extranjeria activen la Banca por Internet !!!!!!\\n La página siempre está en mantenimiento Mi lenta no puedo ingresar a la pagina, al parecer olvide la clave y no hay un sistema de recuperación por Internet, ya que vivo en Chile, y no puedo llamar por teléfono, espero me den alguna solución gracias. creo que la idea de hacer los tramites por Internet, es facilitar no complicar. no abre Se demora genera tu clave de 4 digitos EL CÓDIGO CATCHA AL TERCER O CUARTO INTENTO RECIÉN LO ACEPTAN Cómo abro mi cuenta Necessito de ayuda!\\n tarjetas para todos mayores de 18 años Tienen que dejar creae la clave de 4 digitos x el celular  y no por banca x  internet, mayormente estanos fuera de oficina o domicilio y se tienes que hacer rapido las cosas. me pide una clave token y no se donde obtenerla, un cosa es por mi celular y por aqui tambien me piden porque ?!!! Nosé puede crear clave\\n de internet\\n muchos botones No existe la opcion de agencias bancarias por departamento Bajajjaj Joauru J Me indican q tengo un crédito aprobado sin embargo cuando lo solicito por la wedd me sale \"lo sentimos tuvimos un problema intentelo mas tarde \" y lo mismo pasa con la banca móvil :/ hola Me pide una clave de 4 dígitos  Me puedes inviar la clave de 4 \\n El código no se ve por celular mi correo es davidjh.pcs@gmail.com Hola me podrian asesorar si esto pertenese a ustedes y si me ofresieron este prestamo porque es por su cuenta bancaria segun es el director del bancoNombre del banco: Atlas Bank\\n\\nNombre del Titular: WINSTONG RUIZ RUIZ\\n\\nNúmero de cuenta: 550-95544322-0-49\\n\\nPaís: PERÚ La banca por internet no fuciona no veo la supuesta tasa... Opcion enviar no acepta no se por que me bloqueo mi DNI si respondí toda la verdad No figura Credito Hipotecario en la Pâg. Principal Yo no sabía que cobran 9 soles por cada depósito en agente de provincia, a mí me dijeron que no me cobraban de agente pero si de ventanillas. Quiero consultar cuanto de sald tengo si no tengo me tarjeta fisica no puedo ingresar a la web Lenta\\n Como obtener el Codigo Interbancario?\\nNo hay esa opcion.. malo\\n J como cambio la clave del plin? testetet No ingresa Por qué me acercado al bancoe dicen que apruebo que me va a llamar un asesor pero nadie me llama AYUDA\\n AGENCIAS\\n Cómo cambio el número celular asociada a una tarjeta?\\n S Sexe HHJHGJ necesito saber cuanto es la comision si hago una transferencia de Atlas Bank lima a Atlas Bank provincia .  Jkkk4 no ingresa  No es de fácil uso? PARA PERSONAS CIEGAS JAJAJAJAJAAJAJ h no me dijeron que necesitaba token para transferir por internet Es inútil  Debería ser más fácil directamente desde la aplicación de Atlas Bank \\nPara crear la clave digital https://www.viaAtlas Bank.com/canales/agentes-Atlas Bank\\nhttp://www.encuentraAtlas Bank.com/buscador/\\n504 Gateway Time-out\\nnginx/1.0.15\\n 504 Gateway Time-out\\nnginx/1.0.15 LINK DE REGISTRO DE CLAVE DE INTERNET INOPERATIVO Ola .orible Cómo pido una tarjeta no line  Cada q ingreso me pide registrar la tarjeta de debi No hay respuesta lento  Pongan el interés real, si ahora está a 4.92 Pongan los interedes hipotecarios reales, pues he leído en diario gestión que ahora están a 4.98. Frustración  No puedo ver enla Banca por INTERNET mis movimientos del mes de Octubre del 01 al 20 de Octubre esta lento  no se puee ingresar ya que aparece el teclao numerico \\n Deposite 100 soles, recogi 80 sole. Quiero una explicacion.\\n No hay ningún simulador de préstamos Hola\\n Quiero comunicarme con un acesor Atlas Bank Miren el formato de fechas al exportar a excel el detalle de las tarjeta de crédito. Ej me sale asi: 1571529400000. ¿qué fecha es esa?? r rcrcrfrr 4 rvjfe\\n Nose puede retirar sin tarjeta  no carga los pasos paa ontener la clave Anote recordar numeros de tarjetas e ingresé dos y ahora ya no sale tengo que volver a digitar los numeros que son largos. hoy realicé los requiItis alas 9 d la mañana y hasta ahora esta pendiente el token digital  la versión anterior era mas rápida... bcp tiene más agencias Quiero pagar mí telefono fijo de telefonía del Perú\\n Una porqwria la primera vez pude ingresar x Google y verificar mis saldos cerré sesión y ni mas puedo volver acceder o me dan opción para ingresar sin tener que q descargar el aplicativo  Solo.necesito saber mi estado de cuenta de setiembre por favor\\n Fase Noooo9 No pasa nada No hay detalle de cuanto es el porcentaje de ganancia Cuando ingreso a la banca por internet, me dice que mi contraseña de 4 dígitos es errado, cuando uso la misma en mi móvil y me permite su ingreso Deberían integrar al banco de la nación (Perú) NO EXISTE REFERENCIA DE APIS COMO LAS DE plin !\\n Horarios atención  tengo problemas en la vista, por lo que me equivoco digitar la tarjeta y el captcha, podrian facilitar poniendo la opcion de lupa para no demorar e ingrese en una sola vez y no en varias, o de lo contrario captcha especial discapacitados, gracias\\n qu{e objetivo tiene el captcha<? No acepta\\n No pasa nada cuando presiono enviar Estoy buscando donde ver mis movimientos .Cuento con la clave de 4 dígitos Feo Qqqqqqqqq ayudaaaaaaaaa M Bueno lo que quisiera saber es mi numero del Token digital. Ya que me lo piden para acceder desde la web quiero hacer una trransferencia a mi hija a otro banco scotiabank Q pasos debo seguir para crear mi cáncer x internet Z9 recomendaria que salga fecha cuando se hace una transferencia a una cuenta mediante la web  ya que solo le envia en el correo pero mediante el celular tiempre tomamos una captura y no sale la fecha  No Necesito comunicarme con uds estoy en el extranjero y la llamada por TLF no contesta ningún operador No se como enviar No indica monto máximos de deposito  deberían hacerla la página más simple Necesito respuesta inmediatas como el BBVA que simula el crédito. No atienden solo hay una maquina que un momento lo atenderemos debería tener mayor interacción Deberian tener un wasap\\n estoy buscando horarios de atención y no encuentro.. a partir de qué hora puedo llamar al 3119898???? Una simple consulta quise averiguar como me contacto  Estoy en europa ahora y mi tarjeta de credito no esta habilitada para hacer compras. Antes de salir de Peru llame y la.active y deberia de funcionar. Me podrian llamar by whasap? 959401833 Ola amigo Soy katty El simulador debería tener la opción de colocar centavos Quiero. Cambiar mi cuenta plin\\n que es la calve digital token??????????????? eso me piden para hacer un deposito  otra cuenta Atlas Bank d euna empresa que es? como lo consigo buenas tardes ya tengo mi clave de 4 dígitos quiero ver mi saldo como ingreso gracias me pueden ayudar\\n 44824111 No carga Se lajea Antes de llenar el formato simulador deberían detenerse en la página informativa para conocer bien el tema , trato de leer y salta al formulario edson pastor jean pear calle reyes 982481449 no carga los enlaces de banca por internet,por favor revisar su red Gyuk escribi todos mis datos igual no pase al otro paso N No avanza el simulador de préstamos hipotecarios  . Ma\\'s menos\\n quisiera contactarme con istedes via whatsapp o por correo.\\nno tengo saldo  Utipañrm otijajajakak Solo  quiero pagar con mi tarjeta\\n zzz Aún no me califican No recuerdo mi clave de internet  Cv Pasos para trasferir de mi cuenta a otra cuenta Atlas Bank  , No dicen los horarios para pagar las tarjetas en cualquier modo Deben tener un número de celular para poder hacer consultas al Atlas Bank Hola, quisiera saber por favor cómo puedo hacer para recuperar mi plin, no puedo entrar si no tengo mi número telefónico con el que me registré.  No buena es lo mismo que en celular Malo Quisiera que explique mejor como se puede visualizar elmpago de cts por banca por internet  X,  Hola quisiera saber si la empresa agro futura me abrió una cuenta sueldo Hola.\\nNo encuentro el enlace para afiliar a Verified by Visa que es la calve digital token??????????????? eso me piden para hacer un deposito  otra cuenta Atlas Bank d euna empresa que es? como lo consigo Quiero. Cambiar mi cuenta plin\\n El simulador debería tener la opción de colocar centavos Soy katty Ola amigo Estoy en europa ahora y mi tarjeta de credito no esta habilitada para hacer compras. Antes de salir de Peru llame y la.active y deberia de funcionar. Me podrian llamar by whasap? 959401833 Una simple consulta quise averiguar como me contacto  estoy buscando horarios de atención y no encuentro.. a partir de qué hora puedo llamar al 3119898???? Deberian tener un wasap\\n debería tener mayor interacción No atienden solo hay una maquina que un momento lo atenderemos Necesito respuesta inmediatas como el BBVA que simula el crédito. deberían hacerla la página más simple Amigo como puedo conseguir mi clave de internet Regular  Rtt\\n buenas tardes\\n porque por 3÷7=! ¿Cómo hago para obtener un credito vehicular ? Normal Assssdd Buenas tardes\\n Consulta\\n Falta información Ok Como puedo crear mi cuenta movil\\n Ojala tenga respuesta a mi pefudo gracias\\nOlvide mi clave plin  Neutral pero deberia estar la opcion de descargar solo el instalador por casos como el mio, si estuviera de esta forma calificaria con un me encanta, al ser extranjero y no tener configurado mi play store para peru no puedo descargarlo. Espero me ayuden y me soluciones ya envie un correo. Espero respuesta y soluciones a walkermontilla@gmail.com  Baco de ve se  cp Tu i Me pide el dato alias y nose donde lo encuentro ese dado\\n Buena Neutral  Nome Neutral Buen dia\\nQuisiera saber si ustedes llaman de numeros de celular como este que me llama haciendo mencion que es de su empresa 984 172 847 Aun me falta adiestramiento\\n\\n No muestra la tasa ni portes S Falta mayor difusión dela becas de Atlas Bank como día de postulación nosotras las madres solteras no tenemos el tiempo para estar pegadas del la página Web, y nuestros hijos son temerosos de volar solo por eso siempre acompañándolos en su crecimiento gracias  Quiciera saber como recuperar mi cuenta de plin Quiciera saber como recuperar mi cuenta de plin E J No dices si los datos ya entraron 9 no Hola, estaba leyendo el sitio. Hay una i de mas en la palabra soliicitar.\\n\\nBanca móvil te permite realizar mayor cantidad de operaciones como pagos de servicios, tarjetas de crédito, soliicitar productos y otras operaciones más Neutral\\n DEBERia e ver y nose  by scary Asi facilita  . a que correo puedo enviar una notifcacion de correos atlas bank spam ? Neutral Normal Sin respuesta , quisiera saber si se puede hacer una trtansferencia a milan italia Su chat es bajito de respuesyas Muy lento No permite calcular el bono mi vivienda verde La página es buena pero no encontré la información que buscaba. No se cómo activar alertas de mis operaciones con mis tarjetas no me especifican los montos máximos para realizar mis operaciones.  . Oupancomatrulaytmkg sutoncnglhilsgsiymldkf Iotmbtkiori H Necesito pronta respuesta Neutral Falta que aparezca la tasa de interés  Xx Todavía no podría opinar ,no recibo atención aún. Me gusta  Hola nesecito saber si puedo comprar un departamento desde otro país   Esperar  los resultados  Cómo calificavias tu experiencia en la web ? \\n No muy explícito en cuestion al uso entre quien lo descarga y quien no lo tiene descargado  Ff Como puedo obtener una beca Para mi hijo yo ya que soy de bajos recursos pero mi hijo tiene buenas calificaciones\\n Y a dónde lo reportamos? Ok Intento encontrar el Toquen y por ningún ícono encuentro para activar.  muy larga Cuotas a 34 meses No puedo acceder a, banca por internet, mi dni es 45871501\\nJhisson Calle Ggg Quiero saber si tiene algún app para ver mi estado de cuenta de mi tarjeta de crédito  Debería haber la opción de poder borrar las plinadas en los movimientos  Faltaría como corregir el número de teléfono en plin con el mismo correo electrónico  Detalles del depósito Quisiera saber si califico para un prestamo hipotecario Como podria crearme una cuenta  Nunca hay atención al cliente disponible pero para ventas te respondes en 10 segundos.  . Cómo cambio mi número neutral N Masomenos Masomenos Buena Deberían poner más opciones  \\nÇ\\nñ´,k no se como acceder  y si es solamente con tarjeta de crédito o también  con  ahorros Mi nombre es JUAN MIRANDA MAMANI con DNI 29384880, tengo mi cuenta en el Atlas Bank y quisiera saber si tengo asignado un asesor. quisiera que me apoye con un credito, mi cel es 982047992 defdsvd W Neutral Necesito comunicarme con alguien  Como puedo registrar clave para app Atlas Bank movil Neutral S No muestra la tasa ni portes Aun me falta adiestramiento\\n\\n Buen dia\\nQuisiera saber si ustedes llaman de numeros de celular como este que me llama haciendo mencion que es de su empresa 984 172 847 Neutral Nome Neutral  Buena Me pide el dato alias y nose donde lo encuentro ese dado\\n Tu i Baco de ve se  cp Neutral pero deberia estar la opcion de descargar solo el instalador por casos como el mio, si estuviera de esta forma calificaria con un me encanta, al ser extranjero y no tener configurado mi play store para peru no puedo descargarlo. Espero me ayuden y me soluciones ya envie un correo. Espero respuesta y soluciones a walkermontilla@gmail.com  Ojala tenga respuesta a mi pefudo gracias\\nOlvide mi clave plin  Como puedo crear mi cuenta movil\\n Ok Falta información me gusta Pk Es buena  J\\n Buena ok Como a tener mi clave Internet Atlas Bank Buena \\nEsta bien Clave de internet  lol\\n Super\\n M Hola soy an a garibay necesito saber como pagar una deuda que tengo con ustedes mi dni es 73451354 Buena Buena Esta muy claro Chevere Chevere\\n En cusco Consulta , quiero saber si aplica tbm para refacciones de un inmueble Buena Buena Me gusta buena loo Bueno  Me gusta Cuánto dinero se puede depositar en un cajero multifuncional ???\\n Good Buenas  plin\\n Ok Good perono sesabe cual es el mercadoobjetivo de este credito\\n Ĺ Te facilita en tus pagos  Buena  Es bueno\\n Me gusta Regular 9 Buenas una consulta quería saber si hoy está abierta  banco Atlas Bank de la carretera central Vitarte ? Por favor Buen Buena Qe sea una buena atencion x favor \\n Qe es una buena atencion qe me de buenas respuestas  Me gusta \\n Me gusta  Segundo rafael fatama Saboya Buena Hola  Tarjeta de cuenta cero\\n\\n Good\\n Bueno falta padding entre el icono y la letra \\ncon justify-contend: flex evenly\\ny el tamaño del boton\\nwidth 30vw resposible para ese tamaño Buena Buenas noches como podría postular una beca universitaria? Rapido Me gusta Ola Me gusta Buenas noches: Me han escrito a mi correo este e-mail, manifestando que mi cuenta Atlas Bank está suspendida...me parece que no es del banco.\\nPor favor, indaguen al respecto,  este es el correo:\\n\\nbanco Atlas Bank <Atlas Bankalertasyavisos@Atlas Bank.com.pe>\\n\\nSaludos Hay q actualizar los números telefonicos\\n Todo ok ewyegywqgeqy Bueno Bueno  GENIAL Jhonht Buena Este es mi número para que se contacten conmigo 995415413. Gracias Hola.. Me podrían dar un préstamo.. Ya cancele el primer préstamo que me isieron... Nesecito otro préstamo de 2000 soles.. Gracias saludos Hhh Atlas Bank Bueno  B B Bbb B B:  bbbbbbbbbbbbh: b Muy útil Buena app, pero no se como sacar el token... Cómo hacer si quiero cobrar la plata? joselin\\n\\n\\n\\n\\n\\n\\n\\n\\n\\n Buena Muy comprensible Es muy buena pero no puedo encontrar los requisitos que se necesita para sacar una cuenta de ahorros\\n Si eselente Bueno los consejos Si pudiéramos tener contacto con una persona quien nos de detalles seria interesante, para consultar varias cosas respecto de las becas, muy agradecido, Dios los bendiga.\\nCesar Meza \\ncesarmeza777@gmail.com\\n943939388 buenos dias Debería permitir más opciones Porque me soluciona alguna emergencia que tuviese\\nGracias Ok bastante buena Todo ok Buena Bie  Mu buena Chicago KqAwaasee buenas quisiera saber de que hora a que ora es atencion por banca por telefono\\n Buena Muy buna bien no e tenido problemas I Consulta de saldo  yes Quiero saber cómo me pueden ayudar me olvidé mi clave de internet y no puedo ingresar...? Interesante Nada mal nesecito comprar un terreno por favor deseo contactarme con ustedes  gracias\\n\\n Bueno Me gusta Esta bueno Regular! Heloooo Buena 4 Ok X\\n\\n Buenas tardes  Hola Linda Me gustaría que me explicaran que en caso que quiera cambiar los datos de mi plin no me informan y la cual no me permite ingresar a mi aplicativo  si me.ayudaran genial \\n me gusta Me interesa GENIAL Bueno Hola una consulta Ñ Si0ppppp\\n\\n es muy bueno, pero quiero saber, si puedo comprar casa con el 100% de financiamiento? Muy buen y en poco tiempo :v Buena positivo Tarjeta de cuenta cero\\n\\n Hola  Buena Segundo rafael fatama Saboya Me gusta  Me gusta \\n Qe es una buena atencion qe me de buenas respuestas  Qe sea una buena atencion x favor \\n Buena Buen Buenas una consulta quería saber si hoy está abierta  banco Atlas Bank de la carretera central Vitarte ? Por favor 9 Regular Me gusta Es bueno\\n Buena  Te facilita en tus pagos  Ĺ perono sesabe cual es el mercadoobjetivo de este credito\\n Good Ok plin\\n Buenas  Good Cuánto dinero se puede depositar en un cajero multifuncional ???\\n Me gusta Bueno  loo buena Me gusta Buena Buena Consulta , quiero saber si aplica tbm para refacciones de un inmueble En cusco Chevere\\n Bueno u rápido Si Cómo se usa plin\\n es divertida  Muy fácil. buena A Súper\\n <3 Es buena  Muy eficiente Muy útil  Vien  Buena Pkkiyfdzzz Melissa ii Feliz Wdu53$$4fghe gracias por su rápida respuesta O me facilito informacion\\n Buenos dias Parece más didáctica Good service Lo máximo Buena Espectacular  Si meancanta\\n genial Una experiencia  Facil y rapida Es muy facil usarlo P O bueno\\n Super bueno Fácil de navegar Bueno Buena  Bueno recién entro para ver y averiguar  Hola Genial HOLA BUENOS DIAS NO PUEDO INSCRIBIRME EN LA BECA\\n Muy eficiente . Buena ,  Saber más información Buena jj Muy activo . Todo bien Buenas  Muy importante Biem Good me gusta\\n Me gusta  Exlente Quero saber mi cuenta Como genero el correo Muy fresco\\n Si  Scotiabank <3 Es facil y rapido de entender Chevere\\n\\n FÁCIL ACCESIBILIDAD Y TODA LA INFORMACIÓN NECESARIA Me gusta  Biem 1 Buena  rápido  Buena Buena Bueno Super porque descuenta40 soles de q  se trata segplus\\n Bueno  0 Buena Ifl7l9f buena informacion pero me gustaria saber la tasa de interes mensuaL Y anual No se mucho Genial\\n K Deceo comprar mi casa pero necesito que ustesdes lo compren para que yo les pague a ustedes mensualmente  Ok Estoy nesecito un crédito hipotecario Eficientes Bueno  Ok  MU GUSTA Clave de Internet\\n Buena\\n Ok\\n\\n Genial  Hin Una experiencia  genial meancanta\\n Si Espectacular  Buena Lo máximo Good service Parece más didáctica Buenos dias me facilito informacion\\n O Calidad BBVA gracias por su rápida respuesta Wdu53$$4fghe Feliz Melissa ii Pkkiyfdzzz Buena Vien  Muy útil  Muy eficiente Es buena  <3 Súper\\n A buena'"
            ],
            "application/vnd.google.colaboratory.intrinsic+json": {
              "type": "string"
            }
          },
          "metadata": {},
          "execution_count": 22
        }
      ]
    },
    {
      "cell_type": "code",
      "source": [
        "stylecloud.gen_stylecloud(comentarios_neutros, icon_name='fas fa-book-open', custom_stopwords=palabras_irrelevantes, output_name='nube_comentarios_neutros.png')"
      ],
      "metadata": {
        "id": "REHu7ntgRMp3"
      },
      "execution_count": null,
      "outputs": []
    },
    {
      "cell_type": "code",
      "source": [
        "df_comentarios_negativos = df_sentimiento_limpio.loc[df_sentimiento_limpio['Análisis_Sentimiento'] == 'Negativo'].copy()\n",
        "comentarios_negativos = ' '.join([comentario for comentario in df_comentarios_negativos['Comentario']])\n",
        "comentarios_negativos"
      ],
      "metadata": {
        "colab": {
          "base_uri": "https://localhost:8080/",
          "height": 122
        },
        "id": "wz4dY6mqRTFK",
        "outputId": "9d121d49-0642-4563-eb9c-cd23a38d6d1f"
      },
      "execution_count": null,
      "outputs": [
        {
          "output_type": "execute_result",
          "data": {
            "text/plain": [
              "'No consigo lo que deseo. No consigo agendar una llamada NO PUEDO BLOQUEAR MI TARJETA MEDIANTE WEB :l Ahora piden la clave token que no llega ni al correo, ni al celuar. Arreglen eso Quiero henerar clave y no puedo\\n No me atienden  no entiendo nada !\\n nps sunat nunca funciona\\n Pesima No puedo abrir el aPp No sale como crear mi clave x internet es una perdida de tiempo\\n No hay nada y no veo opcion para obtener mi clave por internet Malaasss Quiero optener mi clave por internet.. y no puedo No carga la web clave de internet recupere mi tarjeta en la agencia y la srta no me ayudó para configurar la app del Atlas Bank  es dificil entrar banca por intenet Malo muy malo Quiero mi clave y no puedo es una tontera, no se directo al grano No puedo obtener mi clsve No encuentro con crear mi clave de 4 dígitos  Una mrd no se entiende un carajo Me molesta q no hay sistema no puedo entrar a banca por internet\\n No se cómo crear mi clave de 4 dígitos  Primero en banca por internet me pidio la contraseña de cajero y eso es raro h luego que salio fallido me pidio la contraseña de internet me parecio raro No puedo accesar a las cuentas para hacer transferencias teniendo disponible en la cta. ... Mortifica mucho. Mala No contestaron mi llamada quiero cancelar la póliza de mi tarjeta débito La atención es ineficiente\\n No dice los días de atención de la banca por teléfono y fin de semana es imposible o no atienden. La verdad es que he perdido demasiado tiempo intentando ser atendida. Quiero generar mí clave y no puedo Xk no puedo crear m cuenta plin  Llamo para hablar con operador. Sólo me atienden en la oficina del Banco.\\n\\n No se pueden hacer depósitos en los agentes de las farmacias. A que se debe??\\nEn la web indica que si se hacen.  En este momento no esta funcionando En el chat nunca ingresa tu pedido de comunicación y por teléfono nunca contestan no sirve esta pagina del Atlas Bank Hasta ahora estoy buscando las direcciones y horarios de atención y no las encuentro. Malísima demora demasiado para abrir cada opcion He intentado llamar al 01 3119898 en reiteradas oportunidades y no habido quien responda.\\nA la primera siempre suena como fuera de línea y cuando he insistido ha timbrado por un minuto y luego se corta.\\n el numero que figura en la pagina no sirve, no me puedo comunicar con banca por telefono\\n Casi siempre que quiero paga algún servicio, la red no está habilitada y me hace perder mucho tiempo, Quiero comunicarme con ustedes y no me contestan por teléfono al número que ponen en las redes. por favor necesito hacerles consultas..mil gracias No puedo hacer transferencias x mi móvil ni con token digital Estoy tratando de comunicarme al área de reclamos y sale servidor no accesible. No da soluciones El que cambien condiciones en cuenta con costos mayores le hará perder clientes desde ya en el trabajo varios están consultando otros bancos entre ellos continental donde la cuenta sueldo no cobran mantenimiento yo tengo más 13 años con ustedes y lo estoy considerando retirar todo mía ahorros y cuenta sueldo No aparece por ningun lado el link para consultar movimientos de cuenta Pesimo servicio del chat me cortaron la comunicacion muy malcriados aparte que no me dieron respuestas o soluciones a mis dudas pesimo servicio no se puede\\nacceder\\n No puedo registrarme Xk me sale mi tarjeta esta blokeada \\n por que no mejoran  esta recomplicado  Lenta y no dan créditos nunca Estoy llamando a un asesor como 4 veces y no me comtesta bad No puedo generar mi clave, me pide que cambie mi clave de 4 dígitos, fui al cajero tampoco me cambió. Es complicado con este banco,. Gracias  Nunca carga la aplicacion\\n No puedo entrar a mi banca por internet porque me piden un token en físico  Muy mala No puedo ingresar a plin No puedo obtener mi clave  Deseo visualizar mis depósitos desde el día 12 /09 hacia atrás en banca por internet y no lo puedo ejecutar.  Mala no me dan solución de como cambiar el numero celular de mi plin basura\\n No dice nada no hay banca por internet No puedo generar mi clave Pésima estuve 14 minutos y nunca me respondieron. Antes me pasaron con una persona y me mandaron acá y es imposible entrar. Hablaré con mi empresa para ver si me paso a otro banco. Nunca me contestaron... Mala  no encuentro donde ver mis millan latam de manera facil !!!! no puedo ingresar a mi cuenta.\\ncuando quiero ir al Atlas Bank Chat en la opcion conversa con nosotros, me pide mi correo y contraseña, pero como no tengo pongo que soy nuevo, pero para crear me dice que mi dni ya esta registrado y cuando pongo me olvide mi contraseña me dice que mi correo no esta registrado. no puedo afiliarme  Pésimo. No me permite ingresar ni hacer transferencias como sí en BBVA. Inducen a una pregunta que no aplica No me sale el capcha \\n No puedo crear mi clave de Internet  muchos problemas con su web no se puede ingresar carga y carga y manda de nuevo a ingresar la clave Porque lo responden??\\nNunca su canal de llamadas!!! Es una PORQUERÍA no solo tienen tarjetas de crédito credimas Visa debito   Quiero generar mi clave de seis digitos y salen puras huevadas El código capcha no aparece en blanco y no me permite ingresar a la banca por internet No puedo entrar al colocar mi numero de tarjeta me sale que los datos ya están registrados  LO PEORR!!! NO  PASA NADA HASTA LA HUEVA \\n Mala información No puedo ingresar a la opción banca móvil, ni ver mi estado de cuenta. No puedo descargar la aplicacion de banca movil No he podido hacer operación en todo el día\\n\\n hay que ingresar una y otra vez los datos y los vuelve a pedir sin fin es una mierda No contestan la banca por teléfono Sarta de ladrones devuelvanme mi dinero Desde el día 20 llevo esperando que me devuelvan mi dinero. Se demoran todo el.tiempo que les da la gana para responder el teléfono. Para descontar dinero si lo hacen en un segundo. Rateros No me ayuda A recuperar mi cuenta de plin  Lamentablemente su banca por Internet funciona muy mal. casi todo el tiempo esta fuera de servicio. Hagan algo por favor. No me habremi cuenta Un desastre Malisima NO PUEDO INGREAR Se colgo.la pagina y necesito hacer una transferencia Horrible no se conecta, mejor es el Bbva No me llega nunca la clave internet  No resuelven lascobaulrd y la banca por teléfono es un asco no contestan. No soluciona el problema. De por sí es complicado comunicarse con ustedes.  No puedo ingresar, sale una cara y quiere que active el google crom, algo asi\\n La banca por internet es un asco  No me contestan  No puedo enlazar mi tarjeta de débito de Interbank  Estoy tratando de entrar en la pagina como siempre y no me deja me pide descargar el Crown y después hay que aprobar una serie de condiciones, por favor siempre entro de una forma rápida y amigable no me deja hacer mis operaciones que ya las tengo formateadas. no puedo entrar a mis cuentas no puedo acceder a la banca por internet .. el sistema esta malo  en banca por internet coloque las 3 veces el codigo paraver si no era un robot y me mando que uno de los datos no esta bien que lo intente mas tarde y deseo paga4r ni vboleto de avion se perdera mi reserv estoy llamando al numero delAtlas Bank esta timbrando mas de 30 minutos porque no contestan que malo el servicio Al exportar la información de cuentas a excel  sale en un formato donde no se entienden las fechas (Ej: 1570404400000, qué es eso???) y los montos salen como texto. No sirve. El formato anterior era mejor. El formato en el que se exporta la información de excel es pésimo, no sirve. Ese formato de exportar a excel no lo han debido cambiar a menos que sea para mejorar, pero ha empeorado. Yo llevo control de mis cuentas con esta info, pero ahora está horrible. No se entiende.\\n  No puedo realizar tranferencias ,pues en el paso 3 no da opciones de codigo de banco Su nueva pagina no es nada amigable \\ntengo cinco dis intentando efectuar transferencia al extranjero y en el paso 3 en la clave para el banco no da opciones ni deja alimentar la clave .\\nen la pagina vieja no tenia problema ´para la transferencia al extranjero \\nJorge Meza Viveros  No aparece las opciones para realizar transferencia tengo iPhone  no puedo entrar a banca de internet Atlas Bank Muy mala\\n\\n\\n no puede cambiar de numero en plin Veo en canales / agencias lo que se puede hacer, pero no dónde están!  Estoy en el extranjero, antes de mi viaje llamé Atlas Bank para comprar en España, y mi tarjeta está bloqueada,,  cree mi clave token  y aparece q no existe No puedo i versar tarjetas nuevas Mucho tramite para ingresar a la cuenta por internet.\\n\\nLa propaganda e información deberia estar diferenciado.\\n\\nAun no puedo hacer una operación, porque paran cambiando la ruta. No puedo tener una cuenta  Vg No sale ni una opción directa!!!  no puedo generar mi clave  Estoy tratando de llamar a las oficinas, llamé a la central hable con Arturito y ninguno de ellos es capaz de compartir el código swift del banco y si es que tengo que hacerlo a mi cuenta en soles o dólares...  No tengo respuestas no puedo acceder a mi cuenta Porque me rechasa si mi clave está bien puesta entro por el app y tampoco puedo transferir mi dinero una mierda\\n no se puede generar la clave Muy poco tiempo te da .. X mas terminas de completar todas. ..de nuevo te pide repetición .. Cómo cuatro veces ..y el tiempo q te dan no da.m q cólera\\n no me permite a entrar a nada \\n Mala  No me dan una solución a mi problema con el app Atlas Bank debido al Error-0029.  Terrible, no se puede trabajar por este medio. Una vez más intentando y nada El chat no sirve nadie contesta No puedo recibir mi codigo hay dificulñtad para pagar los servicios : movistar y luz del sur . se cuelga la web y píerdo tiempo . hay q entrar n veces , varios dias ....esta emperorando, en lugar de mejorar una poruqeria cuando quiero generar la clave por internet pide ingresar la contraseña de cajero y no deja por que no hay espacio done  Pesimo la calidad de su sitio wed no puedo generar mi clave de internet Una mierda La pagina está lenta\\n Ne sale una panralla azul delante de donde debo ingresar la informacion para acceder a mi cuenta y se acaba el tienpo y no puedo acceder a mi cuenta!!\\n No avanza  no funciona!!!!! pésimo, no funciona la banca por internet y nadie te ayuda a resolver el problema Enojado que no quieren hacer mi clave de banca por Internet\\n no encuentro donde generar mi clave de 4 digitos! hasta el momento nunca puedo ingresar por el Atlas Bank on line, me generaron 3 preguntas de seguridad y cuando quiero ingresar nunca mas aparecen estas preguntas, solo puedo manejar el app desde mi celular pero desde alli no puedo hacer giros por ejemplo. Estoy intentando comunicarme por correo con el Atlas Bank y no funciona ya que estoy en el extranjero y no puedo llamar Totalmente mala hdp Quiero cambiar la contraseña y no me deja No puedo ver mi cuenta No deja registrarme  No funciona No funciona Me rechaza mi numero de tarjeta apezar q esta bien escrito no se puede tener la clave de internet La pagina de \"Banca por internet\", cada vez que ingreso mis datos, aparece error indicando que los datos no fueron procesados, y asi esta desde hace 2 semanas o mas, aburre!!! hay cuentas que pagar... No se entiende por qué no se puede ASER más rápido el trámite \\n No funciona el simulador en la versión móvil No funciona como debería No encuentro.  Plataforma digital.para poder hacer mi pregunta hasta el culo no jodan mas no puedo ingresar a la  pagina Mal No puedo abrir mis cuentas, porque? Malisima Llevo escribiendo resto estoy em colombia y no puedo retirar mi dinero por que  no es amigable., donde esta para crear clave internet No puedo continuar, me quedo en el paso 1 no puedo entrar a  la Banca por Internet, necesito hacer un pago urgente.\\n Desde las 10:00pm llamando por que no cargan mi pago y ni responden No es rapido Nunca responden el chat, sale un mensaje esperando a un agente el cual nunca se ponen en línea no es rapida la atencion Creo mi cuenta digital ,intento crear mi clave Internet ,y me sale que mi número de cuenta no existe ,horrible . no funciona banca por internet para ver los movimientos de las cuentas personas Quiero ver lo que me ofrece en campañana y no estar mandando solicitudes No me da opción a entrar no abre el link de banca por internet No hay numero  Mala Mala porque a pesar de tener mi token fisico nunca he podido hacer operaciones en la banca por internet he enviado multioles mails durante un mes y no me dan solucion \\nmi mail nez2020@outlook.com y mi dni 09827185 Super complicada de utilizar  No carga banca por interner no hay atencion  !!!! no puedo ingresar a la PAGINA tengo que hacer operaciones via telecredito Para finalizar la creación de la clave digital y poder trabajar con mi cuenta, me piden que responda a 3 preguntas, pero las preguntas no aparecen. Quiero ingresar al chat, pero no tengo clave. Pongo mi mail, y aparezco registrado, pero nunca cree una clave para chat....no se puede hacer nada. Pésimo servicio No responde cuando pongo enviar arrr Problema solo ne sale que puedo plinar  100 s El chat no funciona correctamente, al momento de querer enviar un reclamo no funciona el boton continuar. Porque en soluciones de pago me hacen poner contraseña y no sale nada No me permite ingresar a la web porque están trabajando pero tampoco puedo pagar vía app unos pasajes de Lan ya que no aparece la empresa en servicios, sino se puede realizar dicho pago por su app.  Siempre esta en mantenimiento y no puedo realizar mis pagos.\\nUn dia mas de retraso están enviando mensajes de estafadores del numero 974845141, diciendo: Usted tiene una transferencia retenida, para activar sus operaciones de manera segura debe de actualizar sus datos aquí: https://enlineaAtlas Bank.xyz/alertas/   favor de denunciar la pagina y el número que de seguro hay gente que se esta perjudicando. No carga la banca por internet, para abrirse,se toma todos los segundos que uno tiene para que la máscara celeste con 4 bolitas blancas se vaya y deje escribir el numero de la tarjeta, hace días pasa lo mismo, No se puede usar normal. página de mierda no carga Llevo mas de 24 minutos para comunicarme con Banca Pyme y siguen sin responder, sólo timbra y timbra. Es imposible comunicarse con ustedes\\nLa web no ayuda nada. Una de sus links me manda a corregir mis datos en el origen y busco donde y no hay nada.\\nSolo dedican a vender sus productos!! me enoja porque hasta el momento no me atiendes ya vengo mas de mes solicitando mi desafiliacion d mi seguro y hasta la fecha nada gracias  no se puede hablar con un asesor o señor que ayuda a orientar  no me dice porque no puedo comprar en juegos con mi targeta\\n nose puede crear mi clave internet No puedo entrar a banca internet ni mucho menos al app No se puede realizar banca por internet el asesor en linea no da resultado \\nya que esta ausente. El servicio es pésimo al respecto\\n Muy mal el sabado 31 se vencio mi tarjeta de debito , lo cual nadie te informa previo al vencimiento y solo se puede pedir en plataforma en oficinas por lo tanto recien hoy la puedo pedir y para poder usar la app tengo q registrarla en la web la cual no funciona!!!! o sea van 3 dias que no puedo hacer ningun pago y siendo fin de mes entendera que es un problema\\n No puede ser que tenga que ir al banco para usar el token digital, ahora nadie tiene tiempooooo\\nDeberían dar otra poncho  Intento acceder a los enlaces para informarme mas y me sale error o q ya no existen  Dejan n espera y nunca contestan... No encuentro la ayuda necesaria  es uan mrd , no encuentro nada  , y hace rato quiero ver movimiento y de cuanto dispongo .   tmr  Quiero obtener mi clave de Internet y no puedo  No funciona bien la app No puedo no me yega el mensaje Mala atencion No puedo ver mi tarjeta de credito antes si podia ni en el app como hago  No funciona la banca por internet\\n Ingrese a banca por internet, pedí mi clave para poder hacer una transferencia y me demoro en darme la clave, expirando mi sesión  arreglen su banca Atlas Bank esta muy lenta hace varios dias. NO ES MIS DIDACTICA Muy mala que les pasa? Falla mujer banca por internet 3 minutos para hacer un pago en línea, además que era un pago frecuente y debería ser rápido. Y adicionalmente mas de un minuto para cerrar banca por internet, tanto que el mismo sistema me botó.\\nNo entiendo por qué buscan mas cuentas y clientes si no pueden dar buen servicio a los que tienen? no se puede ingresar a banca por internet!!!!!!! Arreglen su banca x internet se cae a cada rato la banca por internet al igual que las transferencias interbancarias. Horrible la pagina, no carga no se pueden hacer operaciones. No funciona app que se descarga para el móvil  El sistema es malo nose puede habrir la banca por internet no puedo obtener mi clave me dice intente mas tarde \\n su sistema es una reverenda mierda No funciona  ACABAN DE ROBARME DINERO DE LA CUENTA BANCARIA DE MI MADRE No puedo solicitar a pesar de llenar todo lo requerido no puedo registrar por internet mi tarjeta de credito visa no hay acceso a banca por internet, no carga la pagina Malo muy lento Quiero crear mi clave de Internet y no se puede no carga la página  No especifica bien  Deseo ingresar los 4 dígitos y no me lo permite  No se pone a disponibilidad la solicitud  siento que no hacen caso a mi problema Mala no puedo hacer pagos y uno debe elegir es un abuso de su parte Mala Esta feo la pagina\\n NO CARGA EL CHAT Y SU BANCA POR TELEFONO ES PEOR AUN mal servicio no logro ver la página de mis cuentas luego de haber  cumplir todo lo indicado. este problema persiste 3 meses he llamado a mi asesora y me mandan a canales digitales espero unos 15 minutos y no tengo respuesta, por ejemplo el dia de ayer martes en 2 oportunidades me enviaron a canales digitales, sin tener respuesta y dejándome con el telefono con un promedio de 15 minutos sin respuesta alguna. QUE LAMENTABLE LOS SERVICIOS QUE OFRECE EL banco, QUE TIRAN AL SUELO TODO SUS PROPAGANDAS    Por no solucionar mi solicitud por ningún modo no me dan adelanto de sueldo, no hacen préstamos y teniendo cuenta sueldo y Cts en el Atlas Bank La opción que dice trabaja con nosotros esta desactivada al menos borren esa opción  pésimo servicio no funciona el token digital estoy en el extranjero y necesito mi clave de 4 dijitos, antes de viejar estuve llamando y nadie repondia No me facilita más o menos porque no me da una respuesta clara Mal no ingresa a la app Muy molento no contestan el telefono Pesima porque no puedo ingresar a mi cuenta Se cayo su sistema? su libro de reclamaciones no es funciona Como siempre complicada Atlas Bank, el peor servicio de todos. No puedo pagar mi servicio de agua... Dice q código de usuario no existe a caso no tiene un convenio de q me sirve pagar los demás servicios si por el agua tengo q perder un día de trabajo  UNA PORQUERÍA LA ATENCIÓN SE DEMORAN MUCHO EN ATENDER UNA LLAMADA, LOS ASESORES NO ESTÁN CAPACITADOS TE DERIVAN DE UNA ÁREA A OTRA Y LLEVO MEDIA HORA ESPERANDO QUE RESPONDAN UNA LLAMADA. PÉSIMO Malicima No entra al servicio pesimo No puedo abrir mi cuenta que tengo\\nNo me indica No brindan la información suficiente y para consultas adicionales el chat es pésimo  No puedo dar la opcion aceptar, no acepta No puedo entrar a la app no me deja No se puede entrar a la Banca por intenet. Todo el día le he intentado y nada. Qué está pasando? no puedo realizar pagos de reniec No puedo entrar a mi cuenta y ver mi saldo pérdida de tiempo total\\n Una mierda No me solucionan el. Inconveniente que tengo hace una semana con mi aplicación de plin  No encuentro lo que quiero\\n no funciona Pesimo Llevo casi 38 minutos en espera, que maltrato por. Dios  Quiero acceder a la página y nose puede  Pesima No puedo hacer pago por la web y en el app no me llega el tokem digital  pesima El correo de verificación no llega al email registrado para la beca universitaria, y al solicitar reenvío del link de verificación, aparece el mensaje \"server error\". No puedo ingresar a letras y facturas en banca por internet. No funciona la banca por Internet, estoy intentando ingresar desde el 09.01 a las 12 (medianoche) y hasta ahora que son las 09:04 am no funciona, sale error.  No puedo entrar a banca por internet  No abre banca por internet No puedo abrir la aplicación correctamente\\n Hace un mes que estoy llamando casi todos los dias por un Tolken que solicite y me responde essere un momento. Me hacen esperar y me cortan. Necesito urgente mi token. No m están ayudando n nada Envie una transferencia online y no llego, y no puedo ver en la banca de internet qe paso, no hay detalles, sale , no disponible Nunca atienden las llamadas Señorita Katherine de chat web no da información completa sobre comisiones. Es la segunda vez que me cierran el chat dando información vaga nofunciona el app me piden token virtual para ingresar a la banca ._. no puedo ver mis movimientos aquí no puedo conectarme a banca por intenet Por que se demoran tanto en contestar el facebook messenger para hacer la eliminación por cambio de numero  Nadie me responde las llamadas, ni el Facebook  No hay ubicacion de agentes Atlas Bank\\n Atlas Bank enalta pagar un pasaje por problemas ahora mas caro.  la banca Exclusiva no sirve ya que nadie atiende y tampoco los teléfonos, el servicio es un desastre, pésimo no hay a quien quejarse porque no veo la forma de desafiliar un servicio\\n no se puede crear la cuenta No puedo crear mi clave de banca por Internet No hay forma de comunicarse por otro medio que no sea llamada y ni siquiera contestan  Necesito un numero de contacto, wl 3119898 NO FUNCIONA!!!!!! La información no es clara  no visualizo mi estado de  cuenta No carga el libro de reclamaciones y no conatestan el numero de telefonk Trato de comunicarme a banca por teléfono y no atienden, no cogen la llamada. Pésimo servicio. no puedo generar mi clave  No puedo lograr. No ingresa mi clave un desastre total No me dan solución   no funciona  2 HORAS PARA UNA CONUSLTA Y ME TRASNFIEREN TRANSFIEREN ETC se demora en cargar o se cuelga generalmente. No tengo la clave token y me pide que me acerqué a un lugar donde hay el puto huellero y si es una emergencia para hacer una transferencia tengo que acercarme y buscar un puto huellero de mierda hasta eso me muero. Aprendan de el banco \"continental\" Lacras No se como poder activar mi tarjeta para compras de internet No ay forma de activar el token digital estoy en agencia Atlas Bank y no funciona nada no lee la tarjeta no contestan el teléfono no responden por web pésimo muy pésimo el Atlas Bank No es rápido\\n No puedo ingresar a mi cuenta , en todo momento me pide mi clave de Internet  no funciona no puedo generar mi clave No puedo visualizar mi estado de cuenta  no hay para hacer giros y no tengo plin!!! No puedo registrarme en plin como puedo hacer si e seguido los pasos y nada Pesimo necesito comunicarme con algún teleperador o alguien que me ayude a resolver un problema y NO HAY NADIE!!!\\n Porque no puedo entrar a mirar mi estado de cuenta No puedo  no me deja terminar mi registro  No puedo generar mi clave de banca por internet Deseo consultar mi saldo en mi trajera de débito y no puedo  complican la revisión de mis movimientos bancarios, el sistema pide clave tocken y cuando la coloco sale error\\nquiten esa página de seguridad que mas es un fastidio\\ndiganme como reviso mis movimientos bancarios no puedo acceder, anteriormente no tenia complicaciones ES DEMASIADO DIFÍCIL RESOLVER TUS INCONVENIENTES Y PROBLEMAS  PARA INGRESAR A BANCA POR INTERNET. Buenas noches, me fui al cajero que se encuentra ubicado en el Grifo Primax ubicado en Auxiliar Panamericana Nte. 554, Trujillo 13008 y ise mi operacion para sacar efectivo, pero al terminar la operación nunca salió el efectivo pero  en mi estado de cuenta esta figurando como si hubiera recibido el efectivo, estuve llamando a un número del Atlas Bank pero no tuve respuesta alguna, espero una pronta solución. Att. Cacimiro Arcángel Pereda Briceño.  Debería ser más fácil y simple obtener el dato que agencias están abiertas con su dirección, porque su búsqueda web no carga el mapa no salen las opciones con ningún navegador. Busco en Google y los primeros enlaces y no me dan los datos que quiero. Más pierdo el tiempo. Simple y sencillo, una tabla con nombre de agencia dirección y horario de atención. Se complican tratando de modernizar una información que debería estar en formato simple sencillo y al día. No puedo entrar, es igual que cuando uno llama llevo 4 días llamando y jamás contestan no puedo entrar a banca por internet Intento crear mi clave web y me sale una y otra vez  Hubo un herror  Pesimoo no ingreso a mi ceunta\\n NO puedo llamar del celular No me ayudó en la información que estaba buscando, quiero saber las tas de comisión por retirar en agentes y cajeros, no me brindan información alguna al respecto y hallarla es una odisea web. Poco tiempo para escribir No dan oportunidad  no se puede acceder al servicio No me parece q cuando una está ahorrando estén sobre cobrando yo está dispuesta de pagar comisión sus 8 con el tiempo me subieron 12 cuando no tenía era 7.50 y 8 de mantenimiento  ahorra me cambio a otra q no me cobren nada  me hacen un depósito y automáticamente me cobran 9 soles mal No entra la aplicación del Atlas Bank varias oportuidades intentando acceder a banca por internet y no logra ingresar, sale el mensaje de intenetlo mas tarde  no se pudo realizar\\n no puedo ingresar a mi cuenta no hay como consultar por un reclamo de un agente Atlas Bank El teléfono no funciona Se corta la llamada cada vez que marco 01- 3119898 Hasta las wbas. Malísimo Busco horarios de agencias y se mandan una monserga de qué es una agencia, lo bonitas que son y qué hay muchas pero la información CERO.  No sé que pasa pero no puedo entrar en mi cuenta, después de poner mi información la pantalla demora mucho y recibo el aviso que el tiempo se terminó.  Qué puedo hacer?  Como soluciono mi problema? Este sistema es un desastre, no puedo hacer mis pagos, ya tenía grabada hasta mi tarjeta y ahora piden mil datos personales y no me permite hacer mis operaciones. No puedo ver mi salto de cuenta por internet\\n\\n No brinda buena información, acerca de bloqueo de tarjeta\\n Que pésima, atención por Internet no, de entiende nada encima siempre está diciendo intente otra ves  Mi pide pregunta y clave token, es muy incomodo. Bataria solo con la clave web como siempre Me molesta porque no tiene solución para un problema tan simple, registre mi tarjeta y cuenta del Atlas Bank a un número de celular antiguo.\\nAhora que tengo un nuevo número ya no me permite volver a utilizar la misma cuenta ni la misma tarjeta. \\n\\nCuando fui a pedir orientación me dijeron que debía borrar datos y cache y esperar cierto tiempo para volver a instalar y crear una cuenta nueva.\\n\\nResulta que espere las 72 horas y es lo mismo, no puedo usar aquella tarjeta ni aquella cuenta en la aplicación plin de mi nuevo celular porque sencillamente ya siendo usada en un número que probablemente ya no me pertenezca. \\n Nadie contesta mi llamada  MALA No puedo generar mi clave den internet para usar mi banca movil No me llegó el dinero completo No me deja generar mi clave de 4 digitos No puedo ingresar!!!!! No junciona No ayudan en nada\\n No contestan  Muy mala  No puedo registrar mi tarjeta Puse mis datos y no accedí a la calculadora  No carga banca por Internet y tampoco carga el app me obliga a descargar geogle crome y pierdo tiempo Toda la vida la  misma huevada con ustedes  estoy solicitando el formato de la solicitud de credito vehicular fui hoy 29/11/2019 al banco Atlas Bank agencia CAQUETA y la señorita me dijo que la solicitud la puedo encontrar en la pag del Atlas Bank y eso es mentira porque estoy buscando y no esta como pueden mentir a la gente :c no puedo ver mis inversiones, porque? su aplicativo movil es una porqueria y su banca por internet tambien... para abiri cuenta si funcion pero para hacre operaciones casi nunca funciona. No funciona la banca por internet  No muestra dónde están los cajeros  Señores del Atlas Bank porq ustedes no contestan las llmadas porq mierdad ponen una grabadora q dice q van atender y solo se escucha la grabadora por una hora y nunca me contesto un asesr por telefono digan en la grabadora q no atienden hasta mañn en la mñn  haci no me  hagan perder el tiempo esperand q me van a contestr es una desgracia este sistema del Atlas Bank deben mejorar No ayuda en nada Se demora mucho y xfa es muy tedioso No sale nada  Ni encuentro la opción para pagar mis tarjetas!!! No puedo ingresar No puedo ingresar a ver mis cuentas para hacer mis pagos. Espero que solucionen rapido dicen facil y segura sin necesidad de ir a agencia, sin embargo no pueden activar la clave toquen digital por banca exclusiva, sino que me indican que debo acercarme a oficina. Pesima atencion, pues al ir a oficina se demoran demasiado ya que su personal de plataforma se encuentra conversando en lugar de atender rapido. Pésimo  estoy tratando de ingresar a mi via Atlas Bank zona segura y no puedo por problemas en su interfaz, pésimo, la clave token digital no funciona La banca por internet al crear la clave no arroja un error, al dar clic a poner a contacto con un e mail el link se rompe. revisen su web. PESIMA EXPERIENCIA en esa parte. Hay personas que les jode la aplicación y la web sólo quiere que descargue la aplicación ... a parte que donde dice consultas debería estar el Link de lo que la gente quiere hacer, que queremos descargar un puto archivo PDF sarta de pendejos Es muy complicadaa Mala no puedo ingresar Me enoja No da la ingormacion de donde estan los agentes no puedo crear mi clave token No contestan llamadas siempre anda de mal en peor....cada rato se cae Ya deje mis datos y no me llaman... No existe ningún chat para comunicarnos  pesimo no puedo ingresar a mi BxI y cuando llamo nadie me da solucion  quiero realizar la operacion de transferencia a otra cuenta Atlas Bank y dse demora y me dice que no es correcto mi token digital No contestan en llamada mala\\n Hasta las huee Me eh olvidado mi clave, ya llamé a Atlas Bank y me han dicho q ya puedo generar mi nueva clave, ingreso a la banca móvil y aún no puedo generar mi clave ya q me piden la anterior :/  pesimooooooo!!!!!\\nEstoy tratando de entrar a mi cuenta desde Estados Unidos y no me permite ingresar.\\nMe pide que escoja 3 preguntas y no hay nada por ende no puedo poner ninguna respuesta. no encuentro un medio de reclamos o quejas, en vista que en la agencia de sicuani - cusco la atencion es pesima, en vista que se tiene una semana para la transferencia de depositos a CCI, presentando justificaciones absurdas de ineptitud e irresponsabilidad. se trata de una cuenta de NE, pallpata no encuentro como afiliar mi tarjeta visaoro a verify by visa no logro crear mi cuenta pesimo \\n Terrible la experiencia ara agendar una cita. Ni por la laptop ni en el cel. Simplemente no se puede. Arreglen su pagina web se cuelga al minuto, y no da informacion de lo que se pide. no habre mi cuenta de estado y ya lo intente muchas veces....que frustación me da esto! Mal No puedo entrar a mis cuentas Hace más de una hora estoy  llamando al banco y ni contestan .. me parece pésima su manera de hacernos perder el tiempo \\n No entiendo nada! no entra nada fuck page No funciona el app \\n No puedo en trar a ber mi cuenta Muy mala atencion  Pésima pa banca por internet ya que no puedo ingresar y menos a la app Nooooooooo Tengo serios problemas desde que han cambiado el diseño de la página. Al parecer, tiene una serie de bugs que deben ser eliminados La facilidad de que deberían avisar a los usuarios de acuerdo al móvil que tienen para no cometer el error tan grande de actualizar la aplicación y quedarce en el aire.\\nO los bancos ayudar al cliente dando una facilidad de obtener un nvo equipo, que decepción, creo que muchos clientes desistieran de guardar sus fondos en un banco tan convenido. Lamentable el proceder del Atlas Bank, pensé que era una gran entidad pero resultó que, tenemos que ahora adquirir un equipo nvo, cuando ya funcionaba de maravilla esta aplicación del plin, osea ya se porque el nombre de la aplicación, plin!, plin! No puedo entrar!, plin no puedo enviarte nada,plin no tengo,plin! plin! No sean vivos!, plin! No tengo estoy chiwuan! plin! No habré la aplicación... Osea hay que rogarle al banco plin!! plin!!\\n Que desafortunada aplicación... Espero que lean este reclamlooo plin!!!  Estoy muy decepcionado de la aplicación del plin del Atlas Bank, hoy actualice la aplicación y lo que salio fue una jugarreta, la aplicación al ser actualizada solo se puede abrir con un teléfono android 4.0 y el mio era 5.0, yo venia utizando constantemente esta aplicación cuando me llevo la desagradable sorpresa de que dicen que para volver usar plin tengo que comprar un celular mejor, que engaño!, que fiasco! Una pésima logística para los usuarios continuos de este servicio, pretenden que una vez que uno esta poniendo plata en su entidad bancaria ahora adquiramos un nuevo equipo móvil, porque no se pusieron a pensar en esta aplicación actulizada que muchos de los clientes del Atlas Bank utilizan no podrán hacer los pagos como estábamos haciendo, o tienen algún convenio con alguna empresa de celulares? Que mal estoy totalmente disgustado, deberían pensar que hay usuarios que tienen la aplicación, la utilizan y encima tienen dinero puesto en la entidad bancaria, si es así ubieran visto la facilidad estoy super molesta, no puedo ingresas a mi cuenta, para saber mis movimientos bancarios\\n Demasiado engorroso  Por favor he estado llamando por 3 días y nadie contesta me he tomado el tiempo por una hora y nada de contestar mi tarjeta se bloqueo  Buenas noches hoy hice un depósito en los cajeros multifuncional y se me quedó 40 soles estoy llamando al banco y no logro comunicarme q mal servicio No pueden ayudar para solucionar mi deuda IDIOTES DE BANCA POR TELEFONO NO OBTENGO NINGUNA RESPSUESTA. no puedo ingresar por banca por interner mi tarjeta de credito\\n No me funciona necesito entear a mi cuenta \\n QUIERO ABRIR MI plin HACE RATO Y ME DICE QUE YA HAN REGISTRADO MIS DATOS, Y NADA, HACE TREES DIAS ESTOY ASÍ. Tengo una urgencia y me imposibilita todo, gracias por favor atender\\n no puedo pagar mis servicios por la clave tokin, no se donde generarla  por que no puedo consultar mi sueldo. no puedo ingresar a la banca por internet pongo mi numero de tarjeta y nada Pésimo  No hay número para comunicarse con Atlas Bank Malisima No encuentro información pertinente para los casos en los que un cliente Atlas Bank no tenga acceso al plin o no pueda registrarse a la aplicación  No me contestan en la llamada voy 1 hora\\n no puedo crear mi contraseña para entrar en banca por internet hace horas no puedo entrar a anca por internet. Pésimo no aparece nada y encima se acaba el  tiempo sin haber empezao\\n \\n Pésimo servicio del aplicativo Banca Móvil en el celular y el pa PC, necesito hacer un pago y desde las 8.30am no puedo hacerlo! Es ya la 3 vez que ocurren estas fallas en su aplicativo Pesima Mucho se demoran no puedo ingresar a mi cuenta!! No puedo realizar mis operaciones  No puedo acceder  siempre presentan problemas Muy mala antees entraba asi de facil  por  aki  ahora me doy sorpresa que  me dice descargue  geoogle  croono esta horrible no instala ya voy horas y no puedo,por favor  dejenlo  como antes tengo  que  hacer paagos por aki no puedo ingresar a mis cuentas a pesar que me hicieron instalar Google chrome Tengo saldo en mi Targeta deseo realizar un pago de emergencia y no me permite, y lo malo es que me quiero comunicar con ustedes y no responden  Tengo saldo en la tarjeta pero no puedo plinar, me dice saldo insuficiente cuando si lo tengo , ya prove varias formas reenicie el teléfono , desinstalé la app. Me desfile volví a afiliarme y nada. No puedo crear cuenta El trato pesimo ¿Qué sentido tiene poner qué se puede hacer en un Agente Atlas Bank si no ofrecen ubicaciones para los mismos? No sirve en mí celular Una mierda no puedo generar mi clave de internet Pesimo la calidad de su sitio wed una poruqeria cuando quiero generar la clave por internet pide ingresar la contraseña de cajero y no deja por que no hay espacio done  hay dificulñtad para pagar los servicios : movistar y luz del sur . se cuelga la web y píerdo tiempo . hay q entrar n veces , varios dias ....esta emperorando, en lugar de mejorar No puedo recibir mi codigo El chat no sirve nadie contesta Terrible, no se puede trabajar por este medio. Una vez más intentando y nada No me dan una solución a mi problema con el app Atlas Bank debido al Error-0029.  Mala  no me permite a entrar a nada \\n Muy poco tiempo te da .. X mas terminas de completar todas. ..de nuevo te pide repetición .. Cómo cuatro veces ..y el tiempo q te dan no da.m q cólera\\n no se puede generar la clave Porque me rechasa si mi clave está bien puesta entro por el app y tampoco puedo transferir mi dinero una mierda\\n No tengo respuestas no puedo acceder a mi cuenta Estoy tratando de llamar a las oficinas, llamé a la central hable con Arturito y ninguno de ellos es capaz de compartir el código swift del banco y si es que tengo que hacerlo a mi cuenta en soles o dólares...  no puedo generar mi clave  No sale ni una opción directa!!!  Vg No puedo tener una cuenta  Mucho tramite para ingresar a la cuenta por internet.\\n\\nLa propaganda e información deberia estar diferenciado.\\n\\nAun no puedo hacer una operación, porque paran cambiando la ruta. No puedo i versar tarjetas nuevas cree mi clave token  y aparece q no existe Estoy en el extranjero, antes de mi viaje llamé Atlas Bank para comprar en España, y mi tarjeta está bloqueada,,  Veo en canales / agencias lo que se puede hacer, pero no dónde están!  no puede cambiar de numero en plin Muy mala\\n\\n\\n no puedo entrar a banca de internet Atlas Bank No aparece las opciones para realizar transferencia tengo iPhone  Su nueva pagina no es nada amigable \\ntengo cinco dis intentando efectuar transferencia al extranjero y en el paso 3 en la clave para el banco no da opciones ni deja alimentar la clave .\\nen la pagina vieja no tenia problema ´para la transferencia al extranjero \\nJorge Meza Viveros  No puedo realizar tranferencias ,pues en el paso 3 no da opciones de codigo de banco El formato en el que se exporta la información de excel es pésimo, no sirve. Ese formato de exportar a excel no lo han debido cambiar a menos que sea para mejorar, pero ha empeorado. Yo llevo control de mis cuentas con esta info, pero ahora está horrible. No se entiende.\\n  Al exportar la información de cuentas a excel  sale en un formato donde no se entienden las fechas (Ej: 1570404400000, qué es eso???) y los montos salen como texto. No sirve. El formato anterior era mejor. estoy llamando al numero delAtlas Bank esta timbrando mas de 30 minutos porque no contestan que malo el servicio en banca por internet coloque las 3 veces el codigo paraver si no era un robot y me mando que uno de los datos no esta bien que lo intente mas tarde y deseo paga4r ni vboleto de avion se perdera mi reserv no puedo acceder a la banca por internet .. el sistema esta malo  no puedo entrar a mis cuentas Estoy tratando de entrar en la pagina como siempre y no me deja me pide descargar el Crown y después hay que aprobar una serie de condiciones, por favor siempre entro de una forma rápida y amigable no me deja hacer mis operaciones que ya las tengo formateadas. No puedo enlazar mi tarjeta de débito de Interbank  No me contestan  La banca por internet es un asco  No puedo ingresar, sale una cara y quiere que active el google crom, algo asi\\n No soluciona el problema. De por sí es complicado comunicarse con ustedes.  No resuelven lascobaulrd y la banca por teléfono es un asco no contestan. No me llega nunca la clave internet  Horrible no se conecta, mejor es el Bbva Se colgo.la pagina y necesito hacer una transferencia NO PUEDO INGREAR Malisima Un desastre No me habremi cuenta Lamentablemente su banca por Internet funciona muy mal. casi todo el tiempo esta fuera de servicio. Hagan algo por favor. No me ayuda A recuperar mi cuenta de plin  Desde el día 20 llevo esperando que me devuelvan mi dinero. Se demoran todo el.tiempo que les da la gana para responder el teléfono. Para descontar dinero si lo hacen en un segundo. Rateros Sarta de ladrones devuelvanme mi dinero No contestan la banca por teléfono hay que ingresar una y otra vez los datos y los vuelve a pedir sin fin es una mierda No he podido hacer operación en todo el día\\n\\n No puedo descargar la aplicacion de banca movil No puedo ingresar a la opción banca móvil, ni ver mi estado de cuenta. Mala información NO  PASA NADA HASTA LA HUEVA \\n LO PEORR!!! No puedo entrar al colocar mi numero de tarjeta me sale que los datos ya están registrados  El código capcha no aparece en blanco y no me permite ingresar a la banca por internet Quiero generar mi clave de seis digitos y salen puras huevadas Es una PORQUERÍA no solo tienen tarjetas de crédito credimas Visa debito   Porque lo responden??\\nNunca su canal de llamadas!!! no se puede ingresar carga y carga y manda de nuevo a ingresar la clave muchos problemas con su web No puedo crear mi clave de Internet  No me sale el capcha \\n Pésimo. No me permite ingresar ni hacer transferencias como sí en BBVA. Inducen a una pregunta que no aplica no puedo afiliarme  no puedo ingresar a mi cuenta.\\ncuando quiero ir al Atlas Bank Chat en la opcion conversa con nosotros, me pide mi correo y contraseña, pero como no tengo pongo que soy nuevo, pero para crear me dice que mi dni ya esta registrado y cuando pongo me olvide mi contraseña me dice que mi correo no esta registrado. no encuentro donde ver mis millan latam de manera facil !!!! Mala  Nunca me contestaron... Pésima estuve 14 minutos y nunca me respondieron. Antes me pasaron con una persona y me mandaron acá y es imposible entrar. Hablaré con mi empresa para ver si me paso a otro banco. No puedo generar mi clave no hay banca por internet No dice nada basura\\n no me dan solución de como cambiar el numero celular de mi plin Mala Deseo visualizar mis depósitos desde el día 12 /09 hacia atrás en banca por internet y no lo puedo ejecutar.  No puedo obtener mi clave  No puedo ingresar a plin Muy mala No puedo entrar a mi banca por internet porque me piden un token en físico  Nunca carga la aplicacion\\n No puedo generar mi clave, me pide que cambie mi clave de 4 dígitos, fui al cajero tampoco me cambió. Es complicado con este banco,. Gracias  bad Estoy llamando a un asesor como 4 veces y no me comtesta Lenta y no dan créditos nunca por que no mejoran  esta recomplicado  No puedo registrarme Xk me sale mi tarjeta esta blokeada \\n no se puede\\nacceder\\n Pesimo servicio del chat me cortaron la comunicacion muy malcriados aparte que no me dieron respuestas o soluciones a mis dudas pesimo servicio No aparece por ningun lado el link para consultar movimientos de cuenta El que cambien condiciones en cuenta con costos mayores le hará perder clientes desde ya en el trabajo varios están consultando otros bancos entre ellos continental donde la cuenta sueldo no cobran mantenimiento yo tengo más 13 años con ustedes y lo estoy considerando retirar todo mía ahorros y cuenta sueldo No da soluciones Estoy tratando de comunicarme al área de reclamos y sale servidor no accesible. No puedo hacer transferencias x mi móvil ni con token digital Casi siempre que quiero paga algún servicio, la red no está habilitada y me hace perder mucho tiempo, Quiero comunicarme con ustedes y no me contestan por teléfono al número que ponen en las redes. por favor necesito hacerles consultas..mil gracias el numero que figura en la pagina no sirve, no me puedo comunicar con banca por telefono\\n He intentado llamar al 01 3119898 en reiteradas oportunidades y no habido quien responda.\\nA la primera siempre suena como fuera de línea y cuando he insistido ha timbrado por un minuto y luego se corta.\\n Malísima demora demasiado para abrir cada opcion Hasta ahora estoy buscando las direcciones y horarios de atención y no las encuentro. No puedo encontrar como generar mi clave de 4 dígitos. muchas ventanas de advertencia que hacen dudar realizar la operacion No da Mucha facilidad no especifica las cosas  no puedo ingresar a realizar mi clave por Internet no carga la pagina  No especifican bien No ahí mucha ayuda ni sirve para cambiar nuestras claves No interactúan con whatsapp  No encuentro lo que busco no es eficiente No puedo ver mis movimientos me piden muchas cosas y no me especifican bien No me gusta la forma como trabajan Es muy dificil Quiero ver mi saldo y no se puede  Muchísimas veces  no funciona No se puede No me contestan la llamada Se me hace dificil No puedo hacer operaciones desde la aplicación\\n\\n\\n\\n hola \\nstoy mejor dicho quiero registrarme pot banca internet Atlas Bank como hago\\n Nome gusta para nada no me atienden\\n no hay servicio Mala No tengo resultados de mis ultimos movimientos por internet No puedo obtener mi clave para ver saldos y movimietos  No puedo dentrar a banco por internet No pude enviar Pésimo  No pude pagar mi cuota de un prestamo en efectivo desde mi movil justo dia Domingo se vence\\n No puedo entrar por banca móvil\\n No carga el aplicativo ni la página de banca móvil deben arreglar urgente este problema porque no facilita al cliente saber sus movimientos y/o transferencias  no hay banca por internet\\n Ya he creado mi cuenta plin pero con otro número telefónico ahora quiero cambiar de número y no me permite ingresar  Es muy complicado hacer cualquier cosa, solo quiero ver el saldo de mi cuenta y no me da la opción! cambios constantes y faltra tutoriales del banco WEB LENTA Y NO DEJA MANDAR QUEJAS O RECLAMOS no se puede simular Asta las huevas tantas huevas que sacan por las puras es mas facil con el dni Mi tarjeta BBVA no entra No ingresa a mí cuenta de estado quiero ver ynoo se puede\\n No encuentro lo que necesito no atienden banca por telefono No funciona No puedo registrarme de nuevo, me dice que los datos ya fueron registrados  No hay sistema No hay la opción de registrar token digital, solo se hace en oficinas y es una perdida de tiempo otros bancos si lo hacen por la app o su web, deben mejorar en ello cambie de teléfono y debo ir al banco de nuevo eso es perder tiempo y llame me dijeron que me enviarian a otra área y me cortaron la llamada eso es incómodo y tampoco me devolvió la llamada..  Poca información en el simulador de sueldos  La nueva banca por internet presenta muchos bugs en su nueva interfaz.  no me permite crear mi clave de internet  no sale el estado de cuenta y mi clave del cajero dice que no es correcta  F No tienen mapa de donde se encuentran sus agentes Atlas Bank y cuando busco en internet..no salen. la banca por telefono nunca contesta Debería implementar crediro educativo con una tasa baja de la mano con el estado ya que no todos son extrema pobreza, tiene  un trabajo pero con sueldo básico y son independientes. Pero necesitan seguir estudiando y el tiempo más el dinero no le favorece  No es claro la información\\n MUY POBRE Mucho tiempo demoran en contestar Deberia  haber un chat online sin esos bots que no saben comunicarse con un  humano, y como el bbva ser libre sin tantos datos para pedir infomracion para crear una cuenta. Como creo una cuenta online no se puede, te pide numero de tarjeta, si aun no la tengo ineptos Nunca me llego el sms por que no abre la pagina , sale que cierre otra sesion, y por ultimo dice comuniquese con soporte...y no hay como comunicarse,mal no es facil identificar como programar el debito automatico no resolvio el pronlema, no pudo enviar la constancia al e mail\\n  No me dan solución inmediata Se queda congelada la página  mucha demora en la información por consulta no encuentro donde afiliar mi tarjeta a que me envíen mails cuando hago consumos No carga las páginas  Se demora mucho\\n\\n\\n\\n Mala hasta ahorita estoy es´perando mi tarjeta y nd mas semanas tras semanas y nd y ya llega el recibo\\n No dan información de ciertas cosas que uno busca en una banca movil No puedo ingresar a mi cuenta, la pagina no responde.\\nTengo temas importantes que resolver\\n Se colgo el sistema. No responde Como ago para cambiar mi correo electrinico si en caso si es que ejecuto mal mi correo ? malo\\npésimo deseo hacer desafiliacion automatica pero la entrada para esta opcion, sale ERROR en la web. no funciona.\\n No funciona Banca por Internet. Por favor, como dicen que no vayas al banco cuando no funciona el link. Asimismo, desde hace meses no puedo realizar transferencias a otros bancos. Su sistema para acceder a fondos mutuos no es nada amigable al igual que su personal de banac telefónica  no pude hacer la clave de4 No obtuve respuesta a mi solicitud\\n\\n Siento que no dan más facilidades No puedo visualizar la transferencia que me realizaron.  su chat esta terrible No me agrada no te da otras opciones y ademas es el unico banco que te pone obstaculos para realizar algunas operaciones. No puedo ingresar a mi plin  no encuentro en donde poder crear mi contraseña para la banca por internet\\n Pésimo No carga la pagina No se entiende muy bien\\n Malísima Ni funcionan correctamente las opciones No m g No puedo crear mis 4 códigos de internet  Mala No puedo ver mis movimientos ni hacer una transferencia xf. Ayuda Muy mala  No hay canales que te hagan más fácil la atención, la banca por teléfono nunca te contestan, messenger y mensajes tampoco, otras empresas tienen watsaap y al instante te solucionan tus dudas. Lastima que aún no tengan ese tipo de servicios Me da esta pagina WEb cuando entro a Banca por Internet\\nhttps://Atlas Bankzonasegurabeta.viaAtlas Bank.com/#/iniciar-sesion No sé que es mi clave token y por eso no puedo cambiar mi clave de Internet No puedo hacer una consulta por telefono Por favor cada vez que deseo hacer operaciones por internet debo ingresar todos los datos de mi tarjeta es incomodo. porqué ahora ya no se graba la información?\\n Esta fallando, no logró entrar a pagar Munisanisidro desde mis cuentas.Hace días trato de pagar varios pendiente y sale error , intenta dentro de 5 minutos.\\nSi uno llama también pierde un tiempo precioso!\\nSeguro han entrado nuevos  que quieren \"inventar la pólvora\".\\nAhora ya no puedo ver a que cuenta fueron los pagos, solo el número de operación.Antes podía ver el destinatario de la transferencia o pago.Eso es problemático porque a veces cantidades iguales van a pagar a diferentes instituciones o personas.\\nCambios para peor q asco tengo gran urgencia y uds se les ocurre dar mantrnimiento a la app de banca por internet son una verdadera edtafaa q asco de vdd necesito ayuda para desvincular mi app de mi celular ,  y nadie me ayuda\\n No mencionan cuáles son los montos máximos que se pueden depositar por cajero multifunción.\\nY los montos máximos de retiro no indican si son diaros, al mes. \\nInformación muy genérica e incompleta. No puedo ingresara mi banca por internet\\n no puedo descargar a mi computadora Me recomiendan usar Google chrome. Pero resulta que es obligatorio!!! Si no uso Google chrome, no puedo ingresar a la banca por Internet??? en conctactanos no responden, no me aparece las ofertas que me envian por correo. no puedo ingresar a pestamos online no me da opcion de elegir preguntas Perdí mi teléfono y quiero volver a utilizar Atlas Bank aki y m pide mi clave d 4 dígitos no recuerdo  Mucho palabreo y poco atractivo el diseño. No puedo crear mi app  NO funciona el chat Atlas Bank Mucha publicidad innecesaria que fastidia Antes aparecia el tipo de cambio en la pantalla y uno sabia si era conveniene o no. Ahora no aparece. Es poco transparente por parte del banco Quiero actualizar mis datos y cambiar la dirección electrónica para el recibo de la confirmación de la operación realizada y sale que esa página no está disponible.  Deberia ser mas detallada en los movimientos como otros bancos, que indica la procedencia (nombre) de quien deposita o a donde se deposita.\\n\\nOtra sugenrecia, deberia poder visualizarce en pantalla minimo los movimientos de un mes atraz... actualmente solo se visualian los ultimos 20 movimientos y es muy poco, no ayuda No se visualiza el capcha y no puedo avanzar muy caro siñorsh no me contestan\\n mala No he podido crear mi clave de 4 digitos no detalla nada\\n MAL no puedo acceder a la banca por Internet hay problemas en el servidor No puedo acceder  quiero bloquear mi tarjeta de debito por la app y no encuentro la operacion bloqueo de tarjeta Muy lenta pagina No tienen mapa de donde se encuentran sus agentes Atlas Bank y cuando busco en internet..no salen. F no sale el estado de cuenta y mi clave del cajero dice que no es correcta  no me permite crear mi clave de internet  La nueva banca por internet presenta muchos bugs en su nueva interfaz.  Poca información en el simulador de sueldos  No hay la opción de registrar token digital, solo se hace en oficinas y es una perdida de tiempo otros bancos si lo hacen por la app o su web, deben mejorar en ello cambie de teléfono y debo ir al banco de nuevo eso es perder tiempo y llame me dijeron que me enviarian a otra área y me cortaron la llamada eso es incómodo y tampoco me devolvió la llamada..  No hay sistema No puedo registrarme de nuevo, me dice que los datos ya fueron registrados  No funciona no atienden banca por telefono No encuentro lo que necesito No ingresa a mí cuenta de estado quiero ver ynoo se puede\\n Mi tarjeta BBVA no entra Asta las huevas tantas huevas que sacan por las puras es mas facil con el dni no se puede simular WEB LENTA Y NO DEJA MANDAR QUEJAS O RECLAMOS cambios constantes y faltra tutoriales del banco Es muy complicado hacer cualquier cosa, solo quiero ver el saldo de mi cuenta y no me da la opción! Ya he creado mi cuenta plin pero con otro número telefónico ahora quiero cambiar de número y no me permite ingresar  no hay banca por internet\\n No carga el aplicativo ni la página de banca móvil deben arreglar urgente este problema porque no facilita al cliente saber sus movimientos y/o transferencias  No puedo entrar por banca móvil\\n No pude pagar mi cuota de un prestamo en efectivo desde mi movil justo dia Domingo se vence\\n Pésimo  No pude enviar No puedo dentrar a banco por internet No puedo obtener mi clave para ver saldos y movimietos  No tengo resultados de mis ultimos movimientos por internet Mala no hay servicio Nome gusta para nada no me atienden\\n hola \\nstoy mejor dicho quiero registrarme pot banca internet Atlas Bank como hago\\n No puedo hacer operaciones desde la aplicación\\n\\n\\n\\n Se me hace dificil No encuentro respuesta a minconsulta La app no está funcionando en este momento  No informan bien el horario de atención de la banca por telefono, para colmo cuando llamo me dice una grabadora en breve atenderemos y pasan más de 15 minutos y nadie contesta. Deberian aprender de Ripley, cuando llamo en un horario que no laboran me lo indican agregando su horario con el objetivo de no hacer perder el tiempo a sus clientes. Quiero ver las transferencias desde hace 4. Meses y solo me sale del mes de julio para adelante alguien que me ayude no la comprendo bien no me sale la banca por internet\\n No envía el mensaje  Para inscribir mi tarjeta me falta el dato de la clave token y nunca me la han dado. Necesito ayuda y no me ayudan :( Buenas noche me registré  nuevamente  la aplicación  plin con mi nuevo  número  y no sale como podría  hacer gracias  En preguntas frecuentes no encontré respuesta a mi problema . he enviado la consulta a esperar la respuesta No encuentro una manera sencilla de recargar mi tarjeta para tener saldo en mi \"plin\", una manera mas fluida para recargar en cualquier agente o un sitio de recarga de celular.Tener q buscar un cajero cerca, no es la forma mas \"sencilla\" q digamos Tengo problemas con mi plin Pongo todos mis datos para el préstamo personal pero no se puedo seguir años siguientes pasos por que No puedo retirar dinero con mi tarjeta Atlas Bank de cuenta sueldo  Quiero comunicarme con un asesor y no contestan... Tengo un adelanto de sueldo y el banco no se cobro en quincena, ya me abonaron a fin de mes y tampoco se cobra... Quiero que me digan xq el banco no se quiere cobrar si en mis dos cuentas Atlas Bank hay dinero yo no pienso pagar ningun interés No puedo cambiar el numero de tarjeta por defecto en banca por internet, la que figura actualmente ya es una tarjeta vencida. HtmomasicmourAtlas Bank.NOautii No puedo generar mi clave de banca móvil\\n No carga! No se entiende   Es u poco complicado  Quisiera saber porque no puedo crear mi cuenta plin.  Necesito q el banco me llame ise una transferencia errónea 991834534 No me deja crear mi contraseña de internet ffdfdf Mi numero no entra  me llego un correo con esta web https://nj7.fun/beta/ creo q es para robar cuentas Xq no son rapidos No carga la paginaa No encuentro ningún acceso para hacer reclamos sobre los Beneficios Atlas Bank No encuentro la direccion de las agencias Buenas tardes, espero respuesta de mi reclamo sobre una compra online ya nose como hacer para que me soluciones el problema, dice que toma tiempo ok, pero yo no tengo porque pagar los platos rotos y a mi me perjudica , espero la respuesta del caso mi nombre es Ingrid Sanchez Huanachi. No puedo entran en el. Aplicativo de. Mi celular No encuentro cuenta de ahorras online No funciona mi banca móvil.. Trata de cargar y al final nada No se puede crear la clave de internet Les hablo al Messenger para una consulta y no me responden Falta de informacion Solo es con el Atlas Bank y es el banco más ratero deberían trabajar con el resto de bancos  No entiendo mucho No se entiende bien  No puedo ver mi saldo muy poco tiempo para personas mayores Tengo problemas con mi plin No encuentro una manera sencilla de recargar mi tarjeta para tener saldo en mi \"plin\", una manera mas fluida para recargar en cualquier agente o un sitio de recarga de celular.Tener q buscar un cajero cerca, no es la forma mas \"sencilla\" q digamos En preguntas frecuentes no encontré respuesta a mi problema . he enviado la consulta a esperar la respuesta Buenas noche me registré  nuevamente  la aplicación  plin con mi nuevo  número  y no sale como podría  hacer gracias  Necesito ayuda y no me ayudan :( Para inscribir mi tarjeta me falta el dato de la clave token y nunca me la han dado. No envía el mensaje  no me sale la banca por internet\\n no la comprendo bien habiliten el google maps Aun no hallo. Como manejarlo, antes era muy sencillo  No es tan complicado  Ojala me atiendan ....desde julio tengo cuenta sueldo y ni una tarjeta me han ofrecido Hola xq no puedo generar mi clave para utilizar mi clave por banca movil Como logeo mi clave de internet... quiero crear mi clave y me sale q loge\\n Me enviaron este mensaje, creo que es fraude.\\nbanco >>Atlas Bank>> \\nEstimado Cliente, tiene una transaccion retenida, para activarla de manera segura debe actualizar sus datos aqui\\nhttp://bit.do/Via-Atlas Bank No me permite ver el detalle de cada movimiento. Aun no entiendo como obtener la clave OTP, aquí no informan sobre esto. :( Aun no hallo. Como manejarlo, antes era muy sencillo  Excelente el servicio... Pero el banco no me deja solicitar un adelanto d sueldo que debo hacer  estoy satesfecho estoy tratando de ingresar a la web de soluciona pero nada aun y ya actualice mis datos  Muy contesta con este servicio  Mxlninxomxkix.Udbknm\\nSumi.  Mili.   estoy satesfecho No consigo lo que deseo. No consigo agendar una llamada NO PUEDO BLOQUEAR MI TARJETA MEDIANTE WEB :l Ahora piden la clave token que no llega ni al correo, ni al celuar. Arreglen eso Quiero henerar clave y no puedo\\n No me atienden  no entiendo nada !\\n nps sunat nunca funciona\\n Pesima No puedo abrir el aPp No sale como crear mi clave x internet es una perdida de tiempo\\n No hay nada y no veo opcion para obtener mi clave por internet Malaasss Quiero optener mi clave por internet.. y no puedo No carga la web clave de internet recupere mi tarjeta en la agencia y la srta no me ayudó para configurar la app del Atlas Bank  es dificil entrar banca por intenet Malo muy malo Quiero mi clave y no puedo es una tontera, no se directo al grano No puedo obtener mi clsve No encuentro con crear mi clave de 4 dígitos  Una mrd no se entiende un carajo Me molesta q no hay sistema no puedo entrar a banca por internet\\n No se cómo crear mi clave de 4 dígitos  Primero en banca por internet me pidio la contraseña de cajero y eso es raro h luego que salio fallido me pidio la contraseña de internet me parecio raro No puedo accesar a las cuentas para hacer transferencias teniendo disponible en la cta. ... Mortifica mucho. Mala No contestaron mi llamada quiero cancelar la póliza de mi tarjeta débito La atención es ineficiente\\n No dice los días de atención de la banca por teléfono y fin de semana es imposible o no atienden. La verdad es que he perdido demasiado tiempo intentando ser atendida. Quiero generar mí clave y no puedo Xk no puedo crear m cuenta plin  Llamo para hablar con operador. Sólo me atienden en la oficina del Banco.\\n\\n No se pueden hacer depósitos en los agentes de las farmacias. A que se debe??\\nEn la web indica que si se hacen.  En este momento no esta funcionando En el chat nunca ingresa tu pedido de comunicación y por teléfono nunca contestan no sirve esta pagina del Atlas Bank Hasta ahora estoy buscando las direcciones y horarios de atención y no las encuentro. Malísima demora demasiado para abrir cada opcion He intentado llamar al 01 3119898 en reiteradas oportunidades y no habido quien responda.\\nA la primera siempre suena como fuera de línea y cuando he insistido ha timbrado por un minuto y luego se corta.\\n el numero que figura en la pagina no sirve, no me puedo comunicar con banca por telefono\\n Casi siempre que quiero paga algún servicio, la red no está habilitada y me hace perder mucho tiempo, Quiero comunicarme con ustedes y no me contestan por teléfono al número que ponen en las redes. por favor necesito hacerles consultas..mil gracias No puedo hacer transferencias x mi móvil ni con token digital Estoy tratando de comunicarme al área de reclamos y sale servidor no accesible. No da soluciones El que cambien condiciones en cuenta con costos mayores le hará perder clientes desde ya en el trabajo varios están consultando otros bancos entre ellos continental donde la cuenta sueldo no cobran mantenimiento yo tengo más 13 años con ustedes y lo estoy considerando retirar todo mía ahorros y cuenta sueldo No aparece por ningun lado el link para consultar movimientos de cuenta Pesimo servicio del chat me cortaron la comunicacion muy malcriados aparte que no me dieron respuestas o soluciones a mis dudas pesimo servicio no se puede\\nacceder\\n No puedo registrarme Xk me sale mi tarjeta esta blokeada \\n por que no mejoran  esta recomplicado  Lenta y no dan créditos nunca Estoy llamando a un asesor como 4 veces y no me comtesta bad No puedo generar mi clave, me pide que cambie mi clave de 4 dígitos, fui al cajero tampoco me cambió. Es complicado con este banco,. Gracias  Nunca carga la aplicacion\\n No puedo entrar a mi banca por internet porque me piden un token en físico  Muy mala No puedo ingresar a plin No puedo obtener mi clave  Deseo visualizar mis depósitos desde el día 12 /09 hacia atrás en banca por internet y no lo puedo ejecutar.  Mala no me dan solución de como cambiar el numero celular de mi plin basura\\n No dice nada no hay banca por internet No puedo generar mi clave Pésima estuve 14 minutos y nunca me respondieron. Antes me pasaron con una persona y me mandaron acá y es imposible entrar. Hablaré con mi empresa para ver si me paso a otro banco. Nunca me contestaron... Mala  no encuentro donde ver mis millan latam de manera facil !!!! no puedo ingresar a mi cuenta.\\ncuando quiero ir al Atlas Bank Chat en la opcion conversa con nosotros, me pide mi correo y contraseña, pero como no tengo pongo que soy nuevo, pero para crear me dice que mi dni ya esta registrado y cuando pongo me olvide mi contraseña me dice que mi correo no esta registrado. no puedo afiliarme  Pésimo. No me permite ingresar ni hacer transferencias como sí en BBVA. Inducen a una pregunta que no aplica No me sale el capcha \\n No puedo crear mi clave de Internet  muchos problemas con su web no se puede ingresar carga y carga y manda de nuevo a ingresar la clave Porque lo responden??\\nNunca su canal de llamadas!!! Es una PORQUERÍA no solo tienen tarjetas de crédito credimas Visa debito   Quiero generar mi clave de seis digitos y salen puras huevadas El código capcha no aparece en blanco y no me permite ingresar a la banca por internet No puedo entrar al colocar mi numero de tarjeta me sale que los datos ya están registrados  LO PEORR!!! NO  PASA NADA HASTA LA HUEVA \\n Mala información No puedo ingresar a la opción banca móvil, ni ver mi estado de cuenta. No puedo descargar la aplicacion de banca movil No he podido hacer operación en todo el día\\n\\n hay que ingresar una y otra vez los datos y los vuelve a pedir sin fin es una mierda No contestan la banca por teléfono Sarta de ladrones devuelvanme mi dinero Desde el día 20 llevo esperando que me devuelvan mi dinero. Se demoran todo el.tiempo que les da la gana para responder el teléfono. Para descontar dinero si lo hacen en un segundo. Rateros No me ayuda A recuperar mi cuenta de plin  Lamentablemente su banca por Internet funciona muy mal. casi todo el tiempo esta fuera de servicio. Hagan algo por favor. No me habremi cuenta Un desastre Malisima NO PUEDO INGREAR Se colgo.la pagina y necesito hacer una transferencia Horrible no se conecta, mejor es el Bbva No me llega nunca la clave internet  No resuelven lascobaulrd y la banca por teléfono es un asco no contestan. No soluciona el problema. De por sí es complicado comunicarse con ustedes.  No puedo ingresar, sale una cara y quiere que active el google crom, algo asi\\n La banca por internet es un asco  No me contestan  No puedo enlazar mi tarjeta de débito de Interbank  Estoy tratando de entrar en la pagina como siempre y no me deja me pide descargar el Crown y después hay que aprobar una serie de condiciones, por favor siempre entro de una forma rápida y amigable no me deja hacer mis operaciones que ya las tengo formateadas. no puedo entrar a mis cuentas no puedo acceder a la banca por internet .. el sistema esta malo  en banca por internet coloque las 3 veces el codigo paraver si no era un robot y me mando que uno de los datos no esta bien que lo intente mas tarde y deseo paga4r ni vboleto de avion se perdera mi reserv estoy llamando al numero delAtlas Bank esta timbrando mas de 30 minutos porque no contestan que malo el servicio Al exportar la información de cuentas a excel  sale en un formato donde no se entienden las fechas (Ej: 1570404400000, qué es eso???) y los montos salen como texto. No sirve. El formato anterior era mejor. El formato en el que se exporta la información de excel es pésimo, no sirve. Ese formato de exportar a excel no lo han debido cambiar a menos que sea para mejorar, pero ha empeorado. Yo llevo control de mis cuentas con esta info, pero ahora está horrible. No se entiende.\\n  No puedo realizar tranferencias ,pues en el paso 3 no da opciones de codigo de banco Su nueva pagina no es nada amigable \\ntengo cinco dis intentando efectuar transferencia al extranjero y en el paso 3 en la clave para el banco no da opciones ni deja alimentar la clave .\\nen la pagina vieja no tenia problema ´para la transferencia al extranjero \\nJorge Meza Viveros  No aparece las opciones para realizar transferencia tengo iPhone  no puedo entrar a banca de internet Atlas Bank Muy mala\\n\\n\\n no puede cambiar de numero en plin Veo en canales / agencias lo que se puede hacer, pero no dónde están!  Estoy en el extranjero, antes de mi viaje llamé Atlas Bank para comprar en España, y mi tarjeta está bloqueada,,  cree mi clave token  y aparece q no existe No puedo i versar tarjetas nuevas Mucho tramite para ingresar a la cuenta por internet.\\n\\nLa propaganda e información deberia estar diferenciado.\\n\\nAun no puedo hacer una operación, porque paran cambiando la ruta. No puedo tener una cuenta  Vg No sale ni una opción directa!!!  no puedo generar mi clave  Estoy tratando de llamar a las oficinas, llamé a la central hable con Arturito y ninguno de ellos es capaz de compartir el código swift del banco y si es que tengo que hacerlo a mi cuenta en soles o dólares...  No tengo respuestas no puedo acceder a mi cuenta Porque me rechasa si mi clave está bien puesta entro por el app y tampoco puedo transferir mi dinero una mierda\\n no se puede generar la clave Muy poco tiempo te da .. X mas terminas de completar todas. ..de nuevo te pide repetición .. Cómo cuatro veces ..y el tiempo q te dan no da.m q cólera\\n no me permite a entrar a nada \\n Mala  No me dan una solución a mi problema con el app Atlas Bank debido al Error-0029.  Terrible, no se puede trabajar por este medio. Una vez más intentando y nada El chat no sirve nadie contesta No puedo recibir mi codigo hay dificulñtad para pagar los servicios : movistar y luz del sur . se cuelga la web y píerdo tiempo . hay q entrar n veces , varios dias ....esta emperorando, en lugar de mejorar una poruqeria cuando quiero generar la clave por internet pide ingresar la contraseña de cajero y no deja por que no hay espacio done  Pesimo la calidad de su sitio wed no puedo generar mi clave de internet Una mierda La pagina está lenta\\n Ne sale una panralla azul delante de donde debo ingresar la informacion para acceder a mi cuenta y se acaba el tienpo y no puedo acceder a mi cuenta!!\\n No avanza  no funciona!!!!! pésimo, no funciona la banca por internet y nadie te ayuda a resolver el problema Enojado que no quieren hacer mi clave de banca por Internet\\n no encuentro donde generar mi clave de 4 digitos! hasta el momento nunca puedo ingresar por el Atlas Bank on line, me generaron 3 preguntas de seguridad y cuando quiero ingresar nunca mas aparecen estas preguntas, solo puedo manejar el app desde mi celular pero desde alli no puedo hacer giros por ejemplo. Estoy intentando comunicarme por correo con el Atlas Bank y no funciona ya que estoy en el extranjero y no puedo llamar Totalmente mala hdp Quiero cambiar la contraseña y no me deja No puedo ver mi cuenta No deja registrarme  No funciona No funciona Me rechaza mi numero de tarjeta apezar q esta bien escrito no se puede tener la clave de internet La pagina de \"Banca por internet\", cada vez que ingreso mis datos, aparece error indicando que los datos no fueron procesados, y asi esta desde hace 2 semanas o mas, aburre!!! hay cuentas que pagar... No se entiende por qué no se puede ASER más rápido el trámite \\n No funciona el simulador en la versión móvil No funciona como debería No encuentro.  Plataforma digital.para poder hacer mi pregunta hasta el culo no jodan mas no puedo ingresar a la  pagina Mal No puedo abrir mis cuentas, porque? Malisima Llevo escribiendo resto estoy em colombia y no puedo retirar mi dinero por que  no es amigable., donde esta para crear clave internet No puedo continuar, me quedo en el paso 1 no puedo entrar a  la Banca por Internet, necesito hacer un pago urgente.\\n Desde las 10:00pm llamando por que no cargan mi pago y ni responden No es rapido Nunca responden el chat, sale un mensaje esperando a un agente el cual nunca se ponen en línea no es rapida la atencion Creo mi cuenta digital ,intento crear mi clave Internet ,y me sale que mi número de cuenta no existe ,horrible . no funciona banca por internet para ver los movimientos de las cuentas personas Quiero ver lo que me ofrece en campañana y no estar mandando solicitudes No me da opción a entrar no abre el link de banca por internet No hay numero  Mala Mala porque a pesar de tener mi token fisico nunca he podido hacer operaciones en la banca por internet he enviado multioles mails durante un mes y no me dan solucion \\nmi mail nez2020@outlook.com y mi dni 09827185 Super complicada de utilizar  No carga banca por interner no hay atencion  !!!! no puedo ingresar a la PAGINA tengo que hacer operaciones via telecredito Para finalizar la creación de la clave digital y poder trabajar con mi cuenta, me piden que responda a 3 preguntas, pero las preguntas no aparecen. Quiero ingresar al chat, pero no tengo clave. Pongo mi mail, y aparezco registrado, pero nunca cree una clave para chat....no se puede hacer nada. Pésimo servicio No responde cuando pongo enviar arrr Problema solo ne sale que puedo plinar  100 s El chat no funciona correctamente, al momento de querer enviar un reclamo no funciona el boton continuar. Porque en soluciones de pago me hacen poner contraseña y no sale nada No me permite ingresar a la web porque están trabajando pero tampoco puedo pagar vía app unos pasajes de Lan ya que no aparece la empresa en servicios, sino se puede realizar dicho pago por su app.  Siempre esta en mantenimiento y no puedo realizar mis pagos.\\nUn dia mas de retraso están enviando mensajes de estafadores del numero 974845141, diciendo: Usted tiene una transferencia retenida, para activar sus operaciones de manera segura debe de actualizar sus datos aquí: https://enlineaAtlas Bank.xyz/alertas/   favor de denunciar la pagina y el número que de seguro hay gente que se esta perjudicando. No carga la banca por internet, para abrirse,se toma todos los segundos que uno tiene para que la máscara celeste con 4 bolitas blancas se vaya y deje escribir el numero de la tarjeta, hace días pasa lo mismo, No se puede usar normal. página de mierda no carga Llevo mas de 24 minutos para comunicarme con Banca Pyme y siguen sin responder, sólo timbra y timbra. Es imposible comunicarse con ustedes\\nLa web no ayuda nada. Una de sus links me manda a corregir mis datos en el origen y busco donde y no hay nada.\\nSolo dedican a vender sus productos!! me enoja porque hasta el momento no me atiendes ya vengo mas de mes solicitando mi desafiliacion d mi seguro y hasta la fecha nada gracias  no se puede hablar con un asesor o señor que ayuda a orientar  no me dice porque no puedo comprar en juegos con mi targeta\\n nose puede crear mi clave internet No puedo entrar a banca internet ni mucho menos al app No se puede realizar banca por internet el asesor en linea no da resultado \\nya que esta ausente. El servicio es pésimo al respecto\\n Muy mal el sabado 31 se vencio mi tarjeta de debito , lo cual nadie te informa previo al vencimiento y solo se puede pedir en plataforma en oficinas por lo tanto recien hoy la puedo pedir y para poder usar la app tengo q registrarla en la web la cual no funciona!!!! o sea van 3 dias que no puedo hacer ningun pago y siendo fin de mes entendera que es un problema\\n No puede ser que tenga que ir al banco para usar el token digital, ahora nadie tiene tiempooooo\\nDeberían dar otra poncho  Intento acceder a los enlaces para informarme mas y me sale error o q ya no existen  Dejan n espera y nunca contestan... No encuentro la ayuda necesaria  es uan mrd , no encuentro nada  , y hace rato quiero ver movimiento y de cuanto dispongo .   tmr  Quiero obtener mi clave de Internet y no puedo  No funciona bien la app No puedo no me yega el mensaje Mala atencion No puedo ver mi tarjeta de credito antes si podia ni en el app como hago  No funciona la banca por internet\\n Ingrese a banca por internet, pedí mi clave para poder hacer una transferencia y me demoro en darme la clave, expirando mi sesión  arreglen su banca Atlas Bank esta muy lenta hace varios dias. NO ES MIS DIDACTICA Muy mala que les pasa? Falla mujer banca por internet 3 minutos para hacer un pago en línea, además que era un pago frecuente y debería ser rápido. Y adicionalmente mas de un minuto para cerrar banca por internet, tanto que el mismo sistema me botó.\\nNo entiendo por qué buscan mas cuentas y clientes si no pueden dar buen servicio a los que tienen? no se puede ingresar a banca por internet!!!!!!! Arreglen su banca x internet se cae a cada rato la banca por internet al igual que las transferencias interbancarias. Horrible la pagina, no carga no se pueden hacer operaciones. No funciona app que se descarga para el móvil  El sistema es malo nose puede habrir la banca por internet no puedo obtener mi clave me dice intente mas tarde \\n su sistema es una reverenda mierda No funciona  ACABAN DE ROBARME DINERO DE LA CUENTA BANCARIA DE MI MADRE No puedo solicitar a pesar de llenar todo lo requerido no puedo registrar por internet mi tarjeta de credito visa no hay acceso a banca por internet, no carga la pagina Malo muy lento Quiero crear mi clave de Internet y no se puede no carga la página  No especifica bien  Deseo ingresar los 4 dígitos y no me lo permite  No se pone a disponibilidad la solicitud  siento que no hacen caso a mi problema Mala no puedo hacer pagos y uno debe elegir es un abuso de su parte Mala Esta feo la pagina\\n NO CARGA EL CHAT Y SU BANCA POR TELEFONO ES PEOR AUN mal servicio no logro ver la página de mis cuentas luego de haber  cumplir todo lo indicado. este problema persiste 3 meses he llamado a mi asesora y me mandan a canales digitales espero unos 15 minutos y no tengo respuesta, por ejemplo el dia de ayer martes en 2 oportunidades me enviaron a canales digitales, sin tener respuesta y dejándome con el telefono con un promedio de 15 minutos sin respuesta alguna. QUE LAMENTABLE LOS SERVICIOS QUE OFRECE EL banco, QUE TIRAN AL SUELO TODO SUS PROPAGANDAS    Por no solucionar mi solicitud por ningún modo no me dan adelanto de sueldo, no hacen préstamos y teniendo cuenta sueldo y Cts en el Atlas Bank La opción que dice trabaja con nosotros esta desactivada al menos borren esa opción  pésimo servicio no funciona el token digital estoy en el extranjero y necesito mi clave de 4 dijitos, antes de viejar estuve llamando y nadie repondia No me facilita más o menos porque no me da una respuesta clara Mal no ingresa a la app Muy molento no contestan el telefono Pesima porque no puedo ingresar a mi cuenta Se cayo su sistema? su libro de reclamaciones no es funciona Como siempre complicada Atlas Bank, el peor servicio de todos. No puedo pagar mi servicio de agua... Dice q código de usuario no existe a caso no tiene un convenio de q me sirve pagar los demás servicios si por el agua tengo q perder un día de trabajo  UNA PORQUERÍA LA ATENCIÓN SE DEMORAN MUCHO EN ATENDER UNA LLAMADA, LOS ASESORES NO ESTÁN CAPACITADOS TE DERIVAN DE UNA ÁREA A OTRA Y LLEVO MEDIA HORA ESPERANDO QUE RESPONDAN UNA LLAMADA. PÉSIMO Malicima No entra al servicio pesimo No puedo abrir mi cuenta que tengo\\nNo me indica No brindan la información suficiente y para consultas adicionales el chat es pésimo  No puedo dar la opcion aceptar, no acepta No puedo entrar a la app no me deja No se puede entrar a la Banca por intenet. Todo el día le he intentado y nada. Qué está pasando? no puedo realizar pagos de reniec No puedo entrar a mi cuenta y ver mi saldo pérdida de tiempo total\\n Una mierda No me solucionan el. Inconveniente que tengo hace una semana con mi aplicación de plin  No encuentro lo que quiero\\n no funciona Pesimo Llevo casi 38 minutos en espera, que maltrato por. Dios  Quiero acceder a la página y nose puede  Pesima No puedo hacer pago por la web y en el app no me llega el tokem digital  pesima El correo de verificación no llega al email registrado para la beca universitaria, y al solicitar reenvío del link de verificación, aparece el mensaje \"server error\". No puedo ingresar a letras y facturas en banca por internet. No funciona la banca por Internet, estoy intentando ingresar desde el 09.01 a las 12 (medianoche) y hasta ahora que son las 09:04 am no funciona, sale error.  No puedo entrar a banca por internet  No abre banca por internet No puedo abrir la aplicación correctamente\\n Hace un mes que estoy llamando casi todos los dias por un Tolken que solicite y me responde essere un momento. Me hacen esperar y me cortan. Necesito urgente mi token. No m están ayudando n nada Envie una transferencia online y no llego, y no puedo ver en la banca de internet qe paso, no hay detalles, sale , no disponible Nunca atienden las llamadas Señorita Katherine de chat web no da información completa sobre comisiones. Es la segunda vez que me cierran el chat dando información vaga nofunciona el app me piden token virtual para ingresar a la banca ._. no puedo ver mis movimientos aquí no puedo conectarme a banca por intenet Por que se demoran tanto en contestar el facebook messenger para hacer la eliminación por cambio de numero  Nadie me responde las llamadas, ni el Facebook  No hay ubicacion de agentes Atlas Bank\\n Atlas Bank enalta pagar un pasaje por problemas ahora mas caro.  la banca Exclusiva no sirve ya que nadie atiende y tampoco los teléfonos, el servicio es un desastre, pésimo no hay a quien quejarse porque no veo la forma de desafiliar un servicio\\n no se puede crear la cuenta No puedo crear mi clave de banca por Internet No hay forma de comunicarse por otro medio que no sea llamada y ni siquiera contestan  Necesito un numero de contacto, wl 3119898 NO FUNCIONA!!!!!! La información no es clara  no visualizo mi estado de  cuenta No carga el libro de reclamaciones y no conatestan el numero de telefonk Trato de comunicarme a banca por teléfono y no atienden, no cogen la llamada. Pésimo servicio. no puedo generar mi clave  No puedo lograr. No ingresa mi clave un desastre total No me dan solución   no funciona  2 HORAS PARA UNA CONUSLTA Y ME TRASNFIEREN TRANSFIEREN ETC se demora en cargar o se cuelga generalmente. No tengo la clave token y me pide que me acerqué a un lugar donde hay el puto huellero y si es una emergencia para hacer una transferencia tengo que acercarme y buscar un puto huellero de mierda hasta eso me muero. Aprendan de el banco \"continental\" Lacras No se como poder activar mi tarjeta para compras de internet No ay forma de activar el token digital estoy en agencia Atlas Bank y no funciona nada no lee la tarjeta no contestan el teléfono no responden por web pésimo muy pésimo el Atlas Bank No es rápido\\n No puedo ingresar a mi cuenta , en todo momento me pide mi clave de Internet  no funciona no puedo generar mi clave No puedo visualizar mi estado de cuenta  no hay para hacer giros y no tengo plin!!! No puedo registrarme en plin como puedo hacer si e seguido los pasos y nada Pesimo necesito comunicarme con algún teleperador o alguien que me ayude a resolver un problema y NO HAY NADIE!!!\\n Porque no puedo entrar a mirar mi estado de cuenta No puedo  no me deja terminar mi registro  No puedo generar mi clave de banca por internet Deseo consultar mi saldo en mi trajera de débito y no puedo  complican la revisión de mis movimientos bancarios, el sistema pide clave tocken y cuando la coloco sale error\\nquiten esa página de seguridad que mas es un fastidio\\ndiganme como reviso mis movimientos bancarios no puedo acceder, anteriormente no tenia complicaciones ES DEMASIADO DIFÍCIL RESOLVER TUS INCONVENIENTES Y PROBLEMAS  PARA INGRESAR A BANCA POR INTERNET. Buenas noches, me fui al cajero que se encuentra ubicado en el Grifo Primax ubicado en Auxiliar Panamericana Nte. 554, Trujillo 13008 y ise mi operacion para sacar efectivo, pero al terminar la operación nunca salió el efectivo pero  en mi estado de cuenta esta figurando como si hubiera recibido el efectivo, estuve llamando a un número del Atlas Bank pero no tuve respuesta alguna, espero una pronta solución. Att. Cacimiro Arcángel Pereda Briceño.  Debería ser más fácil y simple obtener el dato que agencias están abiertas con su dirección, porque su búsqueda web no carga el mapa no salen las opciones con ningún navegador. Busco en Google y los primeros enlaces y no me dan los datos que quiero. Más pierdo el tiempo. Simple y sencillo, una tabla con nombre de agencia dirección y horario de atención. Se complican tratando de modernizar una información que debería estar en formato simple sencillo y al día. No puedo entrar, es igual que cuando uno llama llevo 4 días llamando y jamás contestan no puedo entrar a banca por internet Intento crear mi clave web y me sale una y otra vez  Hubo un herror  Pesimoo no ingreso a mi ceunta\\n NO puedo llamar del celular No me ayudó en la información que estaba buscando, quiero saber las tas de comisión por retirar en agentes y cajeros, no me brindan información alguna al respecto y hallarla es una odisea web. Poco tiempo para escribir No dan oportunidad  no se puede acceder al servicio No me parece q cuando una está ahorrando estén sobre cobrando yo está dispuesta de pagar comisión sus 8 con el tiempo me subieron 12 cuando no tenía era 7.50 y 8 de mantenimiento  ahorra me cambio a otra q no me cobren nada  me hacen un depósito y automáticamente me cobran 9 soles mal No entra la aplicación del Atlas Bank varias oportuidades intentando acceder a banca por internet y no logra ingresar, sale el mensaje de intenetlo mas tarde  no se pudo realizar\\n no puedo ingresar a mi cuenta no hay como consultar por un reclamo de un agente Atlas Bank El teléfono no funciona Se corta la llamada cada vez que marco 01- 3119898 Hasta las wbas. Malísimo Busco horarios de agencias y se mandan una monserga de qué es una agencia, lo bonitas que son y qué hay muchas pero la información CERO.  No sé que pasa pero no puedo entrar en mi cuenta, después de poner mi información la pantalla demora mucho y recibo el aviso que el tiempo se terminó.  Qué puedo hacer?  Como soluciono mi problema? Este sistema es un desastre, no puedo hacer mis pagos, ya tenía grabada hasta mi tarjeta y ahora piden mil datos personales y no me permite hacer mis operaciones. No puedo ver mi salto de cuenta por internet\\n\\n No brinda buena información, acerca de bloqueo de tarjeta\\n Que pésima, atención por Internet no, de entiende nada encima siempre está diciendo intente otra ves  Mi pide pregunta y clave token, es muy incomodo. Bataria solo con la clave web como siempre Me molesta porque no tiene solución para un problema tan simple, registre mi tarjeta y cuenta del Atlas Bank a un número de celular antiguo.\\nAhora que tengo un nuevo número ya no me permite volver a utilizar la misma cuenta ni la misma tarjeta. \\n\\nCuando fui a pedir orientación me dijeron que debía borrar datos y cache y esperar cierto tiempo para volver a instalar y crear una cuenta nueva.\\n\\nResulta que espere las 72 horas y es lo mismo, no puedo usar aquella tarjeta ni aquella cuenta en la aplicación plin de mi nuevo celular porque sencillamente ya siendo usada en un número que probablemente ya no me pertenezca. \\n Nadie contesta mi llamada  MALA No puedo generar mi clave den internet para usar mi banca movil No me llegó el dinero completo No me deja generar mi clave de 4 digitos No puedo ingresar!!!!! No junciona No ayudan en nada\\n No contestan  Muy mala  No puedo registrar mi tarjeta Puse mis datos y no accedí a la calculadora  No carga banca por Internet y tampoco carga el app me obliga a descargar geogle crome y pierdo tiempo Toda la vida la  misma huevada con ustedes  estoy solicitando el formato de la solicitud de credito vehicular fui hoy 29/11/2019 al banco Atlas Bank agencia CAQUETA y la señorita me dijo que la solicitud la puedo encontrar en la pag del Atlas Bank y eso es mentira porque estoy buscando y no esta como pueden mentir a la gente :c no puedo ver mis inversiones, porque? su aplicativo movil es una porqueria y su banca por internet tambien... para abiri cuenta si funcion pero para hacre operaciones casi nunca funciona. No funciona la banca por internet  No muestra dónde están los cajeros  Señores del Atlas Bank porq ustedes no contestan las llmadas porq mierdad ponen una grabadora q dice q van atender y solo se escucha la grabadora por una hora y nunca me contesto un asesr por telefono digan en la grabadora q no atienden hasta mañn en la mñn  haci no me  hagan perder el tiempo esperand q me van a contestr es una desgracia este sistema del Atlas Bank deben mejorar No ayuda en nada Se demora mucho y xfa es muy tedioso No sale nada  Ni encuentro la opción para pagar mis tarjetas!!! No puedo ingresar No puedo ingresar a ver mis cuentas para hacer mis pagos. Espero que solucionen rapido dicen facil y segura sin necesidad de ir a agencia, sin embargo no pueden activar la clave toquen digital por banca exclusiva, sino que me indican que debo acercarme a oficina. Pesima atencion, pues al ir a oficina se demoran demasiado ya que su personal de plataforma se encuentra conversando en lugar de atender rapido. Pésimo  estoy tratando de ingresar a mi via Atlas Bank zona segura y no puedo por problemas en su interfaz, pésimo, la clave token digital no funciona La banca por internet al crear la clave no arroja un error, al dar clic a poner a contacto con un e mail el link se rompe. revisen su web. PESIMA EXPERIENCIA en esa parte. Hay personas que les jode la aplicación y la web sólo quiere que descargue la aplicación ... a parte que donde dice consultas debería estar el Link de lo que la gente quiere hacer, que queremos descargar un puto archivo PDF sarta de pendejos Es muy complicadaa Mala no puedo ingresar Me enoja No da la ingormacion de donde estan los agentes no puedo crear mi clave token No contestan llamadas siempre anda de mal en peor....cada rato se cae Ya deje mis datos y no me llaman... No existe ningún chat para comunicarnos  pesimo no puedo ingresar a mi BxI y cuando llamo nadie me da solucion  quiero realizar la operacion de transferencia a otra cuenta Atlas Bank y dse demora y me dice que no es correcto mi token digital No contestan en llamada mala\\n Hasta las huee Me eh olvidado mi clave, ya llamé a Atlas Bank y me han dicho q ya puedo generar mi nueva clave, ingreso a la banca móvil y aún no puedo generar mi clave ya q me piden la anterior :/  pesimooooooo!!!!!\\nEstoy tratando de entrar a mi cuenta desde Estados Unidos y no me permite ingresar.\\nMe pide que escoja 3 preguntas y no hay nada por ende no puedo poner ninguna respuesta. no encuentro un medio de reclamos o quejas, en vista que en la agencia de sicuani - cusco la atencion es pesima, en vista que se tiene una semana para la transferencia de depositos a CCI, presentando justificaciones absurdas de ineptitud e irresponsabilidad. se trata de una cuenta de NE, pallpata no encuentro como afiliar mi tarjeta visaoro a verify by visa no logro crear mi cuenta pesimo \\n Terrible la experiencia ara agendar una cita. Ni por la laptop ni en el cel. Simplemente no se puede. Arreglen su pagina web se cuelga al minuto, y no da informacion de lo que se pide. no habre mi cuenta de estado y ya lo intente muchas veces....que frustación me da esto! Mal No puedo entrar a mis cuentas Hace más de una hora estoy  llamando al banco y ni contestan .. me parece pésima su manera de hacernos perder el tiempo \\n No entiendo nada! no entra nada fuck page No funciona el app \\n No puedo en trar a ber mi cuenta Muy mala atencion  Pésima pa banca por internet ya que no puedo ingresar y menos a la app Nooooooooo Tengo serios problemas desde que han cambiado el diseño de la página. Al parecer, tiene una serie de bugs que deben ser eliminados La facilidad de que deberían avisar a los usuarios de acuerdo al móvil que tienen para no cometer el error tan grande de actualizar la aplicación y quedarce en el aire.\\nO los bancos ayudar al cliente dando una facilidad de obtener un nvo equipo, que decepción, creo que muchos clientes desistieran de guardar sus fondos en un banco tan convenido. Lamentable el proceder del Atlas Bank, pensé que era una gran entidad pero resultó que, tenemos que ahora adquirir un equipo nvo, cuando ya funcionaba de maravilla esta aplicación del plin, osea ya se porque el nombre de la aplicación, plin!, plin! No puedo entrar!, plin no puedo enviarte nada,plin no tengo,plin! plin! No sean vivos!, plin! No tengo estoy chiwuan! plin! No habré la aplicación... Osea hay que rogarle al banco plin!! plin!!\\n Que desafortunada aplicación... Espero que lean este reclamlooo plin!!!  Estoy muy decepcionado de la aplicación del plin del Atlas Bank, hoy actualice la aplicación y lo que salio fue una jugarreta, la aplicación al ser actualizada solo se puede abrir con un teléfono android 4.0 y el mio era 5.0, yo venia utizando constantemente esta aplicación cuando me llevo la desagradable sorpresa de que dicen que para volver usar plin tengo que comprar un celular mejor, que engaño!, que fiasco! Una pésima logística para los usuarios continuos de este servicio, pretenden que una vez que uno esta poniendo plata en su entidad bancaria ahora adquiramos un nuevo equipo móvil, porque no se pusieron a pensar en esta aplicación actulizada que muchos de los clientes del Atlas Bank utilizan no podrán hacer los pagos como estábamos haciendo, o tienen algún convenio con alguna empresa de celulares? Que mal estoy totalmente disgustado, deberían pensar que hay usuarios que tienen la aplicación, la utilizan y encima tienen dinero puesto en la entidad bancaria, si es así ubieran visto la facilidad estoy super molesta, no puedo ingresas a mi cuenta, para saber mis movimientos bancarios\\n Demasiado engorroso  Por favor he estado llamando por 3 días y nadie contesta me he tomado el tiempo por una hora y nada de contestar mi tarjeta se bloqueo  Buenas noches hoy hice un depósito en los cajeros multifuncional y se me quedó 40 soles estoy llamando al banco y no logro comunicarme q mal servicio No pueden ayudar para solucionar mi deuda IDIOTES DE BANCA POR TELEFONO NO OBTENGO NINGUNA RESPSUESTA. no puedo ingresar por banca por interner mi tarjeta de credito\\n No me funciona necesito entear a mi cuenta \\n QUIERO ABRIR MI plin HACE RATO Y ME DICE QUE YA HAN REGISTRADO MIS DATOS, Y NADA, HACE TREES DIAS ESTOY ASÍ. Tengo una urgencia y me imposibilita todo, gracias por favor atender\\n no puedo pagar mis servicios por la clave tokin, no se donde generarla  por que no puedo consultar mi sueldo. no puedo ingresar a la banca por internet pongo mi numero de tarjeta y nada Pésimo  No hay número para comunicarse con Atlas Bank Malisima No encuentro información pertinente para los casos en los que un cliente Atlas Bank no tenga acceso al plin o no pueda registrarse a la aplicación  No me contestan en la llamada voy 1 hora\\n no puedo crear mi contraseña para entrar en banca por internet hace horas no puedo entrar a anca por internet. Pésimo no aparece nada y encima se acaba el  tiempo sin haber empezao\\n \\n Pésimo servicio del aplicativo Banca Móvil en el celular y el pa PC, necesito hacer un pago y desde las 8.30am no puedo hacerlo! Es ya la 3 vez que ocurren estas fallas en su aplicativo Pesima Mucho se demoran no puedo ingresar a mi cuenta!! No puedo realizar mis operaciones  No puedo acceder  siempre presentan problemas Muy mala antees entraba asi de facil  por  aki  ahora me doy sorpresa que  me dice descargue  geoogle  croono esta horrible no instala ya voy horas y no puedo,por favor  dejenlo  como antes tengo  que  hacer paagos por aki no puedo ingresar a mis cuentas a pesar que me hicieron instalar Google chrome Tengo saldo en mi Targeta deseo realizar un pago de emergencia y no me permite, y lo malo es que me quiero comunicar con ustedes y no responden  Tengo saldo en la tarjeta pero no puedo plinar, me dice saldo insuficiente cuando si lo tengo , ya prove varias formas reenicie el teléfono , desinstalé la app. Me desfile volví a afiliarme y nada. No puedo crear cuenta El trato pesimo ¿Qué sentido tiene poner qué se puede hacer en un Agente Atlas Bank si no ofrecen ubicaciones para los mismos? No sirve en mí celular Una mierda no puedo generar mi clave de internet Pesimo la calidad de su sitio wed una poruqeria cuando quiero generar la clave por internet pide ingresar la contraseña de cajero y no deja por que no hay espacio done  hay dificulñtad para pagar los servicios : movistar y luz del sur . se cuelga la web y píerdo tiempo . hay q entrar n veces , varios dias ....esta emperorando, en lugar de mejorar No puedo recibir mi codigo El chat no sirve nadie contesta Terrible, no se puede trabajar por este medio. Una vez más intentando y nada No me dan una solución a mi problema con el app Atlas Bank debido al Error-0029.  Mala  no me permite a entrar a nada \\n Muy poco tiempo te da .. X mas terminas de completar todas. ..de nuevo te pide repetición .. Cómo cuatro veces ..y el tiempo q te dan no da.m q cólera\\n no se puede generar la clave Porque me rechasa si mi clave está bien puesta entro por el app y tampoco puedo transferir mi dinero una mierda\\n No tengo respuestas no puedo acceder a mi cuenta Estoy tratando de llamar a las oficinas, llamé a la central hable con Arturito y ninguno de ellos es capaz de compartir el código swift del banco y si es que tengo que hacerlo a mi cuenta en soles o dólares...  no puedo generar mi clave  No sale ni una opción directa!!!  Vg No puedo tener una cuenta  Mucho tramite para ingresar a la cuenta por internet.\\n\\nLa propaganda e información deberia estar diferenciado.\\n\\nAun no puedo hacer una operación, porque paran cambiando la ruta. No puedo i versar tarjetas nuevas cree mi clave token  y aparece q no existe Estoy en el extranjero, antes de mi viaje llamé Atlas Bank para comprar en España, y mi tarjeta está bloqueada,,  Veo en canales / agencias lo que se puede hacer, pero no dónde están!  no puede cambiar de numero en plin Muy mala\\n\\n\\n no puedo entrar a banca de internet Atlas Bank No aparece las opciones para realizar transferencia tengo iPhone  Su nueva pagina no es nada amigable \\ntengo cinco dis intentando efectuar transferencia al extranjero y en el paso 3 en la clave para el banco no da opciones ni deja alimentar la clave .\\nen la pagina vieja no tenia problema ´para la transferencia al extranjero \\nJorge Meza Viveros  No puedo realizar tranferencias ,pues en el paso 3 no da opciones de codigo de banco El formato en el que se exporta la información de excel es pésimo, no sirve. Ese formato de exportar a excel no lo han debido cambiar a menos que sea para mejorar, pero ha empeorado. Yo llevo control de mis cuentas con esta info, pero ahora está horrible. No se entiende.\\n  Al exportar la información de cuentas a excel  sale en un formato donde no se entienden las fechas (Ej: 1570404400000, qué es eso???) y los montos salen como texto. No sirve. El formato anterior era mejor. estoy llamando al numero delAtlas Bank esta timbrando mas de 30 minutos porque no contestan que malo el servicio en banca por internet coloque las 3 veces el codigo paraver si no era un robot y me mando que uno de los datos no esta bien que lo intente mas tarde y deseo paga4r ni vboleto de avion se perdera mi reserv no puedo acceder a la banca por internet .. el sistema esta malo  no puedo entrar a mis cuentas Estoy tratando de entrar en la pagina como siempre y no me deja me pide descargar el Crown y después hay que aprobar una serie de condiciones, por favor siempre entro de una forma rápida y amigable no me deja hacer mis operaciones que ya las tengo formateadas. No puedo enlazar mi tarjeta de débito de Interbank  No me contestan  La banca por internet es un asco  No puedo ingresar, sale una cara y quiere que active el google crom, algo asi\\n No soluciona el problema. De por sí es complicado comunicarse con ustedes.  No resuelven lascobaulrd y la banca por teléfono es un asco no contestan. No me llega nunca la clave internet  Horrible no se conecta, mejor es el Bbva Se colgo.la pagina y necesito hacer una transferencia NO PUEDO INGREAR Malisima Un desastre No me habremi cuenta Lamentablemente su banca por Internet funciona muy mal. casi todo el tiempo esta fuera de servicio. Hagan algo por favor. No me ayuda A recuperar mi cuenta de plin  Desde el día 20 llevo esperando que me devuelvan mi dinero. Se demoran todo el.tiempo que les da la gana para responder el teléfono. Para descontar dinero si lo hacen en un segundo. Rateros Sarta de ladrones devuelvanme mi dinero No contestan la banca por teléfono hay que ingresar una y otra vez los datos y los vuelve a pedir sin fin es una mierda No he podido hacer operación en todo el día\\n\\n No puedo descargar la aplicacion de banca movil No puedo ingresar a la opción banca móvil, ni ver mi estado de cuenta. Mala información NO  PASA NADA HASTA LA HUEVA \\n LO PEORR!!! No puedo entrar al colocar mi numero de tarjeta me sale que los datos ya están registrados  El código capcha no aparece en blanco y no me permite ingresar a la banca por internet Quiero generar mi clave de seis digitos y salen puras huevadas Es una PORQUERÍA no solo tienen tarjetas de crédito credimas Visa debito   Porque lo responden??\\nNunca su canal de llamadas!!! no se puede ingresar carga y carga y manda de nuevo a ingresar la clave muchos problemas con su web No puedo crear mi clave de Internet  No me sale el capcha \\n Pésimo. No me permite ingresar ni hacer transferencias como sí en BBVA. Inducen a una pregunta que no aplica no puedo afiliarme  no puedo ingresar a mi cuenta.\\ncuando quiero ir al Atlas Bank Chat en la opcion conversa con nosotros, me pide mi correo y contraseña, pero como no tengo pongo que soy nuevo, pero para crear me dice que mi dni ya esta registrado y cuando pongo me olvide mi contraseña me dice que mi correo no esta registrado. no encuentro donde ver mis millan latam de manera facil !!!! Mala  Nunca me contestaron... Pésima estuve 14 minutos y nunca me respondieron. Antes me pasaron con una persona y me mandaron acá y es imposible entrar. Hablaré con mi empresa para ver si me paso a otro banco. No puedo generar mi clave no hay banca por internet No dice nada basura\\n no me dan solución de como cambiar el numero celular de mi plin Mala Deseo visualizar mis depósitos desde el día 12 /09 hacia atrás en banca por internet y no lo puedo ejecutar.  No puedo obtener mi clave  No puedo ingresar a plin Muy mala No puedo entrar a mi banca por internet porque me piden un token en físico  Nunca carga la aplicacion\\n No puedo generar mi clave, me pide que cambie mi clave de 4 dígitos, fui al cajero tampoco me cambió. Es complicado con este banco,. Gracias  bad Estoy llamando a un asesor como 4 veces y no me comtesta Lenta y no dan créditos nunca por que no mejoran  esta recomplicado  No puedo registrarme Xk me sale mi tarjeta esta blokeada \\n no se puede\\nacceder\\n Pesimo servicio del chat me cortaron la comunicacion muy malcriados aparte que no me dieron respuestas o soluciones a mis dudas pesimo servicio No aparece por ningun lado el link para consultar movimientos de cuenta El que cambien condiciones en cuenta con costos mayores le hará perder clientes desde ya en el trabajo varios están consultando otros bancos entre ellos continental donde la cuenta sueldo no cobran mantenimiento yo tengo más 13 años con ustedes y lo estoy considerando retirar todo mía ahorros y cuenta sueldo No da soluciones Estoy tratando de comunicarme al área de reclamos y sale servidor no accesible. No puedo hacer transferencias x mi móvil ni con token digital Casi siempre que quiero paga algún servicio, la red no está habilitada y me hace perder mucho tiempo, Quiero comunicarme con ustedes y no me contestan por teléfono al número que ponen en las redes. por favor necesito hacerles consultas..mil gracias el numero que figura en la pagina no sirve, no me puedo comunicar con banca por telefono\\n He intentado llamar al 01 3119898 en reiteradas oportunidades y no habido quien responda.\\nA la primera siempre suena como fuera de línea y cuando he insistido ha timbrado por un minuto y luego se corta.\\n Malísima demora demasiado para abrir cada opcion Hasta ahora estoy buscando las direcciones y horarios de atención y no las encuentro. No puedo encontrar como generar mi clave de 4 dígitos. muchas ventanas de advertencia que hacen dudar realizar la operacion No da Mucha facilidad no especifica las cosas  no puedo ingresar a realizar mi clave por Internet no carga la pagina  No especifican bien No ahí mucha ayuda ni sirve para cambiar nuestras claves No interactúan con whatsapp  No encuentro lo que busco no es eficiente No puedo ver mis movimientos me piden muchas cosas y no me especifican bien No me gusta la forma como trabajan Es muy dificil Quiero ver mi saldo y no se puede  Muchísimas veces  no funciona No se puede No me contestan la llamada Se me hace dificil No puedo hacer operaciones desde la aplicación\\n\\n\\n\\n hola \\nstoy mejor dicho quiero registrarme pot banca internet Atlas Bank como hago\\n Nome gusta para nada no me atienden\\n no hay servicio Mala No tengo resultados de mis ultimos movimientos por internet No puedo obtener mi clave para ver saldos y movimietos  No puedo dentrar a banco por internet No pude enviar Pésimo  No pude pagar mi cuota de un prestamo en efectivo desde mi movil justo dia Domingo se vence\\n No puedo entrar por banca móvil\\n No carga el aplicativo ni la página de banca móvil deben arreglar urgente este problema porque no facilita al cliente saber sus movimientos y/o transferencias  no hay banca por internet\\n Ya he creado mi cuenta plin pero con otro número telefónico ahora quiero cambiar de número y no me permite ingresar  Es muy complicado hacer cualquier cosa, solo quiero ver el saldo de mi cuenta y no me da la opción! cambios constantes y faltra tutoriales del banco WEB LENTA Y NO DEJA MANDAR QUEJAS O RECLAMOS no se puede simular Asta las huevas tantas huevas que sacan por las puras es mas facil con el dni Mi tarjeta BBVA no entra No ingresa a mí cuenta de estado quiero ver ynoo se puede\\n No encuentro lo que necesito no atienden banca por telefono No funciona No puedo registrarme de nuevo, me dice que los datos ya fueron registrados  No hay sistema No hay la opción de registrar token digital, solo se hace en oficinas y es una perdida de tiempo otros bancos si lo hacen por la app o su web, deben mejorar en ello cambie de teléfono y debo ir al banco de nuevo eso es perder tiempo y llame me dijeron que me enviarian a otra área y me cortaron la llamada eso es incómodo y tampoco me devolvió la llamada..  Poca información en el simulador de sueldos  La nueva banca por internet presenta muchos bugs en su nueva interfaz.  no me permite crear mi clave de internet  no sale el estado de cuenta y mi clave del cajero dice que no es correcta  F No tienen mapa de donde se encuentran sus agentes Atlas Bank y cuando busco en internet..no salen. la banca por telefono nunca contesta Debería implementar crediro educativo con una tasa baja de la mano con el estado ya que no todos son extrema pobreza, tiene  un trabajo pero con sueldo básico y son independientes. Pero necesitan seguir estudiando y el tiempo más el dinero no le favorece  No es claro la información\\n MUY POBRE Mucho tiempo demoran en contestar Deberia  haber un chat online sin esos bots que no saben comunicarse con un  humano, y como el bbva ser libre sin tantos datos para pedir infomracion para crear una cuenta. Como creo una cuenta online no se puede, te pide numero de tarjeta, si aun no la tengo ineptos Nunca me llego el sms por que no abre la pagina , sale que cierre otra sesion, y por ultimo dice comuniquese con soporte...y no hay como comunicarse,mal no es facil identificar como programar el debito automatico no resolvio el pronlema, no pudo enviar la constancia al e mail\\n  No me dan solución inmediata Se queda congelada la página  mucha demora en la información por consulta no encuentro donde afiliar mi tarjeta a que me envíen mails cuando hago consumos No carga las páginas  Se demora mucho\\n\\n\\n\\n Mala hasta ahorita estoy es´perando mi tarjeta y nd mas semanas tras semanas y nd y ya llega el recibo\\n No dan información de ciertas cosas que uno busca en una banca movil No puedo ingresar a mi cuenta, la pagina no responde.\\nTengo temas importantes que resolver\\n Se colgo el sistema. No responde Como ago para cambiar mi correo electrinico si en caso si es que ejecuto mal mi correo ? malo\\npésimo deseo hacer desafiliacion automatica pero la entrada para esta opcion, sale ERROR en la web. no funciona.\\n No funciona Banca por Internet. Por favor, como dicen que no vayas al banco cuando no funciona el link. Asimismo, desde hace meses no puedo realizar transferencias a otros bancos. Su sistema para acceder a fondos mutuos no es nada amigable al igual que su personal de banac telefónica  no pude hacer la clave de4 No obtuve respuesta a mi solicitud\\n\\n Siento que no dan más facilidades No puedo visualizar la transferencia que me realizaron.  su chat esta terrible No me agrada no te da otras opciones y ademas es el unico banco que te pone obstaculos para realizar algunas operaciones. No puedo ingresar a mi plin  no encuentro en donde poder crear mi contraseña para la banca por internet\\n Pésimo No carga la pagina No se entiende muy bien\\n Malísima Ni funcionan correctamente las opciones No m g No puedo crear mis 4 códigos de internet  Mala No puedo ver mis movimientos ni hacer una transferencia xf. Ayuda Muy mala  No hay canales que te hagan más fácil la atención, la banca por teléfono nunca te contestan, messenger y mensajes tampoco, otras empresas tienen watsaap y al instante te solucionan tus dudas. Lastima que aún no tengan ese tipo de servicios Me da esta pagina WEb cuando entro a Banca por Internet\\nhttps://Atlas Bankzonasegurabeta.viaAtlas Bank.com/#/iniciar-sesion No sé que es mi clave token y por eso no puedo cambiar mi clave de Internet No puedo hacer una consulta por telefono Por favor cada vez que deseo hacer operaciones por internet debo ingresar todos los datos de mi tarjeta es incomodo. porqué ahora ya no se graba la información?\\n Esta fallando, no logró entrar a pagar Munisanisidro desde mis cuentas.Hace días trato de pagar varios pendiente y sale error , intenta dentro de 5 minutos.\\nSi uno llama también pierde un tiempo precioso!\\nSeguro han entrado nuevos  que quieren \"inventar la pólvora\".\\nAhora ya no puedo ver a que cuenta fueron los pagos, solo el número de operación.Antes podía ver el destinatario de la transferencia o pago.Eso es problemático porque a veces cantidades iguales van a pagar a diferentes instituciones o personas.\\nCambios para peor q asco tengo gran urgencia y uds se les ocurre dar mantrnimiento a la app de banca por internet son una verdadera edtafaa q asco de vdd necesito ayuda para desvincular mi app de mi celular ,  y nadie me ayuda\\n No mencionan cuáles son los montos máximos que se pueden depositar por cajero multifunción.\\nY los montos máximos de retiro no indican si son diaros, al mes. \\nInformación muy genérica e incompleta. No puedo ingresara mi banca por internet\\n no puedo descargar a mi computadora Me recomiendan usar Google chrome. Pero resulta que es obligatorio!!! Si no uso Google chrome, no puedo ingresar a la banca por Internet??? en conctactanos no responden, no me aparece las ofertas que me envian por correo. no puedo ingresar a pestamos online no me da opcion de elegir preguntas Perdí mi teléfono y quiero volver a utilizar Atlas Bank aki y m pide mi clave d 4 dígitos no recuerdo  Mucho palabreo y poco atractivo el diseño. No puedo crear mi app  NO funciona el chat Atlas Bank Mucha publicidad innecesaria que fastidia Antes aparecia el tipo de cambio en la pantalla y uno sabia si era conveniene o no. Ahora no aparece. Es poco transparente por parte del banco Quiero actualizar mis datos y cambiar la dirección electrónica para el recibo de la confirmación de la operación realizada y sale que esa página no está disponible.  Deberia ser mas detallada en los movimientos como otros bancos, que indica la procedencia (nombre) de quien deposita o a donde se deposita.\\n\\nOtra sugenrecia, deberia poder visualizarce en pantalla minimo los movimientos de un mes atraz... actualmente solo se visualian los ultimos 20 movimientos y es muy poco, no ayuda No se visualiza el capcha y no puedo avanzar muy caro siñorsh no me contestan\\n mala No he podido crear mi clave de 4 digitos no detalla nada\\n MAL no puedo acceder a la banca por Internet hay problemas en el servidor No puedo acceder  quiero bloquear mi tarjeta de debito por la app y no encuentro la operacion bloqueo de tarjeta Muy lenta pagina No tienen mapa de donde se encuentran sus agentes Atlas Bank y cuando busco en internet..no salen. F no sale el estado de cuenta y mi clave del cajero dice que no es correcta  no me permite crear mi clave de internet  La nueva banca por internet presenta muchos bugs en su nueva interfaz.  Poca información en el simulador de sueldos  No hay la opción de registrar token digital, solo se hace en oficinas y es una perdida de tiempo otros bancos si lo hacen por la app o su web, deben mejorar en ello cambie de teléfono y debo ir al banco de nuevo eso es perder tiempo y llame me dijeron que me enviarian a otra área y me cortaron la llamada eso es incómodo y tampoco me devolvió la llamada..  No hay sistema No puedo registrarme de nuevo, me dice que los datos ya fueron registrados  No funciona no atienden banca por telefono No encuentro lo que necesito No ingresa a mí cuenta de estado quiero ver ynoo se puede\\n Mi tarjeta BBVA no entra Asta las huevas tantas huevas que sacan por las puras es mas facil con el dni no se puede simular WEB LENTA Y NO DEJA MANDAR QUEJAS O RECLAMOS cambios constantes y faltra tutoriales del banco Es muy complicado hacer cualquier cosa, solo quiero ver el saldo de mi cuenta y no me da la opción! Ya he creado mi cuenta plin pero con otro número telefónico ahora quiero cambiar de número y no me permite ingresar  no hay banca por internet\\n No carga el aplicativo ni la página de banca móvil deben arreglar urgente este problema porque no facilita al cliente saber sus movimientos y/o transferencias  No puedo entrar por banca móvil\\n No pude pagar mi cuota de un prestamo en efectivo desde mi movil justo dia Domingo se vence\\n Pésimo  No pude enviar No puedo dentrar a banco por internet No puedo obtener mi clave para ver saldos y movimietos  No tengo resultados de mis ultimos movimientos por internet Mala no hay servicio Nome gusta para nada no me atienden\\n hola \\nstoy mejor dicho quiero registrarme pot banca internet Atlas Bank como hago\\n No puedo hacer operaciones desde la aplicación\\n\\n\\n\\n Se me hace dificil No encuentro respuesta a minconsulta La app no está funcionando en este momento  No informan bien el horario de atención de la banca por telefono, para colmo cuando llamo me dice una grabadora en breve atenderemos y pasan más de 15 minutos y nadie contesta. Deberian aprender de Ripley, cuando llamo en un horario que no laboran me lo indican agregando su horario con el objetivo de no hacer perder el tiempo a sus clientes. Quiero ver las transferencias desde hace 4. Meses y solo me sale del mes de julio para adelante alguien que me ayude no la comprendo bien no me sale la banca por internet\\n No envía el mensaje  Para inscribir mi tarjeta me falta el dato de la clave token y nunca me la han dado. Necesito ayuda y no me ayudan :( Buenas noche me registré  nuevamente  la aplicación  plin con mi nuevo  número  y no sale como podría  hacer gracias  En preguntas frecuentes no encontré respuesta a mi problema . he enviado la consulta a esperar la respuesta No encuentro una manera sencilla de recargar mi tarjeta para tener saldo en mi \"plin\", una manera mas fluida para recargar en cualquier agente o un sitio de recarga de celular.Tener q buscar un cajero cerca, no es la forma mas \"sencilla\" q digamos Tengo problemas con mi plin Pongo todos mis datos para el préstamo personal pero no se puedo seguir años siguientes pasos por que No puedo retirar dinero con mi tarjeta Atlas Bank de cuenta sueldo  Quiero comunicarme con un asesor y no contestan... Tengo un adelanto de sueldo y el banco no se cobro en quincena, ya me abonaron a fin de mes y tampoco se cobra... Quiero que me digan xq el banco no se quiere cobrar si en mis dos cuentas Atlas Bank hay dinero yo no pienso pagar ningun interés No puedo cambiar el numero de tarjeta por defecto en banca por internet, la que figura actualmente ya es una tarjeta vencida. HtmomasicmourAtlas Bank.NOautii No puedo generar mi clave de banca móvil\\n No carga! No se entiende   Es u poco complicado  Quisiera saber porque no puedo crear mi cuenta plin.  Necesito q el banco me llame ise una transferencia errónea 991834534 No me deja crear mi contraseña de internet ffdfdf Mi numero no entra  me llego un correo con esta web https://nj7.fun/beta/ creo q es para robar cuentas Xq no son rapidos No carga la paginaa No encuentro ningún acceso para hacer reclamos sobre los Beneficios Atlas Bank No encuentro la direccion de las agencias Buenas tardes, espero respuesta de mi reclamo sobre una compra online ya nose como hacer para que me soluciones el problema, dice que toma tiempo ok, pero yo no tengo porque pagar los platos rotos y a mi me perjudica , espero la respuesta del caso mi nombre es Ingrid Sanchez Huanachi. No puedo entran en el. Aplicativo de. Mi celular No encuentro cuenta de ahorras online No funciona mi banca móvil.. Trata de cargar y al final nada No se puede crear la clave de internet Les hablo al Messenger para una consulta y no me responden Falta de informacion Solo es con el Atlas Bank y es el banco más ratero deberían trabajar con el resto de bancos  No entiendo mucho No se entiende bien  No puedo ver mi saldo muy poco tiempo para personas mayores Tengo problemas con mi plin No encuentro una manera sencilla de recargar mi tarjeta para tener saldo en mi \"plin\", una manera mas fluida para recargar en cualquier agente o un sitio de recarga de celular.Tener q buscar un cajero cerca, no es la forma mas \"sencilla\" q digamos En preguntas frecuentes no encontré respuesta a mi problema . he enviado la consulta a esperar la respuesta Buenas noche me registré  nuevamente  la aplicación  plin con mi nuevo  número  y no sale como podría  hacer gracias  Necesito ayuda y no me ayudan :( Para inscribir mi tarjeta me falta el dato de la clave token y nunca me la han dado. No envía el mensaje  no me sale la banca por internet\\n no la comprendo bien habiliten el google maps Aun no hallo. Como manejarlo, antes era muy sencillo  No es tan complicado  Ojala me atiendan ....desde julio tengo cuenta sueldo y ni una tarjeta me han ofrecido Hola xq no puedo generar mi clave para utilizar mi clave por banca movil Como logeo mi clave de internet... quiero crear mi clave y me sale q loge\\n Me enviaron este mensaje, creo que es fraude.\\nbanco >>Atlas Bank>> \\nEstimado Cliente, tiene una transaccion retenida, para activarla de manera segura debe actualizar sus datos aqui\\nhttp://bit.do/Via-Atlas Bank No me permite ver el detalle de cada movimiento. Aun no entiendo como obtener la clave OTP, aquí no informan sobre esto. :( Aun no hallo. Como manejarlo, antes era muy sencillo  Excelente el servicio... Pero el banco no me deja solicitar un adelanto d sueldo que debo hacer  estoy satesfecho estoy tratando de ingresar a la web de soluciona pero nada aun y ya actualice mis datos  Muy contesta con este servicio  Mxlninxomxkix.Udbknm\\nSumi.  Mili.   estoy satesfecho'"
            ],
            "application/vnd.google.colaboratory.intrinsic+json": {
              "type": "string"
            }
          },
          "metadata": {},
          "execution_count": 24
        }
      ]
    },
    {
      "cell_type": "code",
      "source": [
        "stylecloud.gen_stylecloud(comentarios_negativos, icon_name='fas fa-book-open', custom_stopwords=palabras_irrelevantes, output_name='nube_comentarios_negativos.png')"
      ],
      "metadata": {
        "id": "JKptHjAjRWVw"
      },
      "execution_count": null,
      "outputs": []
    },
    {
      "cell_type": "code",
      "source": [
        "from collections import Counter"
      ],
      "metadata": {
        "id": "5Eluw98qGwmz"
      },
      "execution_count": null,
      "outputs": []
    },
    {
      "cell_type": "code",
      "source": [
        "# Remove substring list from String\n",
        "# Using loop + replace()\n",
        "palabras_irrelevantes.extend(['No', 'puedo', 'banca'])\n",
        "for sub in palabras_irrelevantes:\n",
        "    comentarios_negativos = comentarios_negativos.replace(' ' + sub + ' ', ' ')"
      ],
      "metadata": {
        "id": "ha48m4wOHmyl"
      },
      "execution_count": null,
      "outputs": []
    },
    {
      "cell_type": "code",
      "source": [
        "comentarios_negativos"
      ],
      "metadata": {
        "colab": {
          "base_uri": "https://localhost:8080/",
          "height": 122
        },
        "id": "blnh_iVrIDGy",
        "outputId": "a36ee455-5d19-4578-c763-f6a2dbf4bf22"
      },
      "execution_count": null,
      "outputs": [
        {
          "output_type": "execute_result",
          "data": {
            "text/plain": [
              "'No consigo deseo. consigo agendar llamada NO PUEDO BLOQUEAR MI TARJETA MEDIANTE WEB :l Ahora piden clave token llega correo, celuar. Arreglen Quiero henerar clave puedo\\n atienden  entiendo !\\n nps sunat nunca funciona\\n Pesima abrir aPp sale crear clave x internet perdida tiempo\\n veo opcion obtener clave internet Malaasss Quiero optener clave internet.. carga web clave internet recupere tarjeta agencia srta ayudó configurar app Atlas Bank  dificil entrar intenet Malo malo Quiero clave tontera, directo grano obtener clsve encuentro crear clave 4 dígitos  Una mrd entiende carajo Me molesta q sistema entrar internet\\n cómo crear clave 4 dígitos  Primero internet pidio contraseña cajero raro h luego salio fallido pidio contraseña internet parecio raro accesar cuentas hacer transferencias disponible cta. ... Mortifica mucho. Mala contestaron llamada quiero cancelar póliza tarjeta débito La atención ineficiente\\n dice días atención teléfono fin semana imposible atienden. La verdad perdido demasiado tiempo intentando ser atendida. Quiero generar clave Xk crear m cuenta plin  Llamo hablar operador. Sólo atienden oficina Banco.\\n\\n pueden hacer depósitos agentes farmacias. A debe??\\nEn web indica si hacen.  En momento funcionando En chat nunca ingresa pedido comunicación teléfono nunca contestan sirve pagina Atlas Bank Hasta ahora buscando direcciones horarios atención encuentro. Malísima demora demasiado abrir cada opcion He intentado llamar 01 3119898 reiteradas oportunidades responda.\\nA primera siempre suena línea insistido timbrado minuto luego corta.\\n numero figura pagina sirve, comunicar telefono\\n Casi siempre quiero paga algún servicio, red habilitada hace perder tiempo, Quiero comunicarme ustedes contestan teléfono número ponen redes. favor necesito hacerles consultas..mil gracias hacer transferencias x móvil token digital Estoy tratando comunicarme área reclamos sale servidor accesible. da soluciones El cambien condiciones cuenta costos mayores hará perder clientes trabajo varios consultando bancos continental cuenta sueldo cobran mantenimiento 13 años ustedes considerando retirar ahorros cuenta sueldo aparece ningun lado link consultar movimientos cuenta Pesimo servicio chat cortaron comunicacion malcriados aparte dieron respuestas soluciones dudas pesimo servicio puede\\nacceder\\n registrarme Xk sale tarjeta blokeada \\n mejoran  recomplicado  Lenta dan créditos nunca Estoy llamando asesor 4 veces comtesta bad generar clave, pide cambie clave 4 dígitos, cajero tampoco cambió. Es complicado banco,. Gracias  Nunca carga aplicacion\\n entrar internet piden token físico  Muy mala ingresar plin obtener clave  Deseo visualizar depósitos día 12 /09 hacia atrás internet ejecutar.  Mala dan solución cambiar numero celular plin basura\\n dice internet generar clave Pésima 14 minutos nunca respondieron. Antes pasaron persona mandaron acá imposible entrar. Hablaré empresa ver si paso banco. Nunca contestaron... Mala  encuentro ver millan latam manera facil !!!! ingresar cuenta.\\ncuando quiero ir Atlas Bank Chat opcion conversa nosotros, pide correo contraseña, pongo nuevo, crear dice dni registrado pongo olvide contraseña dice correo registrado. afiliarme  Pésimo. permite ingresar hacer transferencias BBVA. Inducen pregunta aplica sale capcha \\n crear clave Internet  problemas web puede ingresar carga carga manda nuevo ingresar clave Porque responden??\\nNunca canal llamadas!!! Es PORQUERÍA solo tarjetas crédito credimas Visa debito   Quiero generar clave seis digitos salen puras huevadas El código capcha aparece blanco permite ingresar internet entrar colocar numero tarjeta sale datos registrados  LO PEORR!!! NO  PASA NADA HASTA LA HUEVA \\n Mala información ingresar opción móvil, ver cuenta. descargar aplicacion movil podido hacer operación día\\n\\n ingresar vez datos vuelve pedir fin mierda contestan teléfono Sarta ladrones devuelvanme dinero Desde día 20 llevo esperando devuelvan dinero. Se demoran el.tiempo da gana responder teléfono. Para descontar dinero si hacen segundo. Rateros ayuda A recuperar cuenta plin  Lamentablemente Internet funciona mal. casi tiempo servicio. Hagan favor. habremi cuenta Un desastre Malisima NO PUEDO INGREAR Se colgo.la pagina necesito hacer transferencia Horrible conecta, mejor Bbva llega nunca clave internet  resuelven lascobaulrd teléfono asco contestan. soluciona problema. De complicado comunicarse ustedes.  ingresar, sale cara quiere active google crom, asi\\n La internet asco  contestan  enlazar tarjeta débito Interbank  Estoy tratando entrar pagina siempre deja pide descargar Crown después aprobar serie condiciones, favor siempre entro forma rápida amigable deja hacer operaciones formateadas. entrar cuentas acceder internet .. sistema malo  internet coloque 3 veces codigo paraver si robot mando datos bien intente mas tarde deseo paga4r vboleto avion perdera reserv llamando numero delAtlas Bank timbrando mas 30 minutos contestan malo servicio Al exportar información cuentas excel  sale formato entienden fechas (Ej: 1570404400000, eso???) montos salen texto. sirve. El formato anterior mejor. El formato exporta información excel pésimo, sirve. Ese formato exportar excel debido cambiar menos mejorar, empeorado. Yo llevo control cuentas info, ahora horrible. entiende.\\n  realizar tranferencias ,pues paso 3 da opciones codigo banco Su nueva pagina amigable \\ntengo cinco dis intentando efectuar transferencia extranjero paso 3 clave banco da opciones deja alimentar clave .\\nen pagina vieja tenia problema ´para transferencia extranjero \\nJorge Meza Viveros  aparece opciones realizar transferencia iPhone  entrar internet Atlas Bank Muy mala\\n\\n\\n puede cambiar numero plin Veo canales / agencias puede hacer, dónde están!  Estoy extranjero, viaje llamé Atlas Bank comprar España, tarjeta bloqueada,,  cree clave token  aparece q existe i versar tarjetas nuevas Mucho tramite ingresar cuenta internet.\\n\\nLa propaganda información deberia diferenciado.\\n\\nAun hacer operación, paran cambiando ruta. tener cuenta  Vg sale opción directa!!!  generar clave  Estoy tratando llamar oficinas, llamé central hable Arturito ninguno capaz compartir código swift banco si hacerlo cuenta soles dólares...  respuestas acceder cuenta Porque rechasa si clave bien puesta entro app tampoco transferir dinero mierda\\n puede generar clave Muy tiempo da .. X mas terminas completar todas. ..de nuevo pide repetición .. Cómo cuatro veces ..y tiempo q dan da.m q cólera\\n permite entrar \\n Mala  dan solución problema app Atlas Bank debido Error-0029.  Terrible, puede trabajar medio. Una vez intentando El chat sirve nadie contesta recibir codigo dificulñtad pagar servicios : movistar luz sur . cuelga web píerdo tiempo . q entrar n veces , varios dias ....esta emperorando, lugar mejorar poruqeria quiero generar clave internet pide ingresar contraseña cajero deja espacio done  Pesimo calidad sitio wed generar clave internet Una mierda La pagina lenta\\n Ne sale panralla azul delante debo ingresar informacion acceder cuenta acaba tienpo acceder cuenta!!\\n avanza  funciona!!!!! pésimo, funciona internet nadie ayuda resolver problema Enojado quieren hacer clave Internet\\n encuentro generar clave 4 digitos! momento nunca ingresar Atlas Bank on line, generaron 3 preguntas seguridad quiero ingresar nunca mas aparecen preguntas, solo manejar app celular alli hacer giros ejemplo. Estoy intentando comunicarme correo Atlas Bank funciona extranjero llamar Totalmente mala hdp Quiero cambiar contraseña deja ver cuenta deja registrarme  funciona funciona Me rechaza numero tarjeta apezar q bien escrito puede tener clave internet La pagina \"Banca internet\", cada vez ingreso datos, aparece error indicando datos procesados, asi hace 2 semanas mas, aburre!!! cuentas pagar... entiende puede ASER rápido trámite \\n funciona simulador versión móvil funciona debería encuentro.  Plataforma digital.para poder hacer pregunta culo jodan mas ingresar  pagina Mal abrir cuentas, porque? Malisima Llevo escribiendo resto em colombia retirar dinero  amigable., crear clave internet continuar, quedo paso 1 entrar  Banca Internet, necesito hacer pago urgente.\\n Desde 10:00pm llamando cargan pago responden rapido Nunca responden chat, sale mensaje esperando agente nunca ponen línea rapida atencion Creo cuenta digital ,intento crear clave Internet ,y sale número cuenta existe ,horrible . funciona internet ver movimientos cuentas personas Quiero ver ofrece campañana mandando solicitudes da opción entrar abre link internet numero  Mala Mala pesar tener token fisico nunca podido hacer operaciones internet enviado multioles mails mes dan solucion \\nmi mail nez2020@outlook.com dni 09827185 Super complicada utilizar  carga interner atencion  !!!! ingresar PAGINA hacer operaciones via telecredito Para finalizar creación clave digital poder trabajar cuenta, piden responda 3 preguntas, preguntas aparecen. Quiero ingresar chat, clave. Pongo mail, aparezco registrado, nunca cree clave chat....no puede hacer nada. Pésimo servicio responde pongo enviar arrr Problema solo ne sale plinar  100 s El chat funciona correctamente, momento querer enviar reclamo funciona boton continuar. Porque soluciones pago hacen poner contraseña sale permite ingresar web trabajando tampoco pagar vía app pasajes Lan aparece empresa servicios, sino puede realizar dicho pago app.  Siempre mantenimiento realizar pagos.\\nUn dia mas retraso enviando mensajes estafadores numero 974845141, diciendo: Usted transferencia retenida, activar operaciones manera segura debe actualizar datos aquí: https://enlineaAtlas Bank.xyz/alertas/   favor denunciar pagina número seguro gente perjudicando. carga internet, abrirse,se toma segundos máscara celeste 4 bolitas blancas vaya deje escribir numero tarjeta, hace días pasa mismo, puede usar normal. página mierda carga Llevo mas 24 minutos comunicarme Banca Pyme siguen responder, sólo timbra timbra. Es imposible comunicarse ustedes\\nLa web ayuda nada. Una links manda corregir datos origen busco nada.\\nSolo dedican vender productos!! enoja momento atiendes vengo mas mes solicitando desafiliacion d seguro fecha gracias  puede hablar asesor señor ayuda orientar  dice comprar juegos targeta\\n nose puede crear clave internet entrar internet menos app puede realizar internet asesor linea da resultado \\nya ausente. El servicio pésimo respecto\\n Muy mal sabado 31 vencio tarjeta debito , nadie informa previo vencimiento solo puede pedir plataforma oficinas recien hoy pedir poder usar app q registrarla web funciona!!!! van 3 dias hacer ningun pago fin mes entendera problema\\n puede ser ir banco usar token digital, ahora nadie tiempooooo\\nDeberían dar poncho  Intento acceder enlaces informarme mas sale error q existen  Dejan n espera nunca contestan... encuentro ayuda necesaria  uan mrd , encuentro  , hace rato quiero ver movimiento cuanto dispongo .   tmr  Quiero obtener clave Internet  funciona bien app yega mensaje Mala atencion ver tarjeta credito si podia app hago  funciona internet\\n Ingrese internet, pedí clave poder hacer transferencia demoro darme clave, expirando sesión  arreglen Atlas Bank lenta hace varios dias. NO ES MIS DIDACTICA Muy mala pasa? Falla mujer internet 3 minutos hacer pago línea, además pago frecuente debería ser rápido. Y adicionalmente mas minuto cerrar internet, mismo sistema botó.\\nNo entiendo buscan mas cuentas clientes si pueden dar buen servicio tienen? puede ingresar internet!!!!!!! Arreglen x internet cae cada rato internet igual transferencias interbancarias. Horrible pagina, carga pueden hacer operaciones. funciona app descarga móvil  El sistema malo nose puede habrir internet obtener clave dice intente mas tarde \\n sistema reverenda mierda funciona  ACABAN DE ROBARME DINERO DE LA CUENTA BANCARIA DE MI MADRE solicitar pesar llenar requerido registrar internet tarjeta credito visa acceso internet, carga pagina Malo lento Quiero crear clave Internet puede carga página  especifica bien  Deseo ingresar 4 dígitos permite  pone disponibilidad solicitud  siento hacen caso problema Mala hacer pagos debe elegir abuso parte Mala Esta feo pagina\\n NO CARGA EL CHAT Y SU BANCA POR TELEFONO ES PEOR AUN mal servicio logro ver página cuentas luego haber  cumplir indicado. problema persiste 3 meses llamado asesora mandan canales digitales espero 15 minutos respuesta, ejemplo dia ayer martes 2 oportunidades enviaron canales digitales, tener respuesta dejándome telefono promedio 15 minutos respuesta alguna. QUE LAMENTABLE LOS SERVICIOS QUE OFRECE EL banco, QUE TIRAN AL SUELO TODO SUS PROPAGANDAS    Por solucionar solicitud ningún modo dan adelanto sueldo, hacen préstamos cuenta sueldo Cts Atlas Bank La opción dice trabaja desactivada menos borren opción  pésimo servicio funciona token digital extranjero necesito clave 4 dijitos, viejar llamando nadie repondia facilita menos da respuesta clara Mal ingresa app Muy molento contestan telefono Pesima ingresar cuenta Se cayo sistema? libro reclamaciones funciona Como siempre complicada Atlas Bank, peor servicio todos. pagar servicio agua... Dice q código usuario existe caso convenio q sirve pagar demás servicios si agua q perder día trabajo  UNA PORQUERÍA LA ATENCIÓN SE DEMORAN MUCHO EN ATENDER UNA LLAMADA, LOS ASESORES NO ESTÁN CAPACITADOS TE DERIVAN DE UNA ÁREA A OTRA Y LLEVO MEDIA HORA ESPERANDO QUE RESPONDAN UNA LLAMADA. PÉSIMO Malicima entra servicio pesimo abrir cuenta tengo\\nNo indica brindan información suficiente consultas adicionales chat pésimo  dar opcion aceptar, acepta entrar app deja puede entrar Banca intenet. Todo día intentado nada. Qué pasando? realizar pagos reniec entrar cuenta ver saldo pérdida tiempo total\\n Una mierda solucionan el. Inconveniente hace semana aplicación plin  encuentro quiero\\n funciona Pesimo Llevo casi 38 minutos espera, maltrato por. Dios  Quiero acceder página nose puede  Pesima hacer pago web app llega tokem digital  pesima El correo verificación llega email registrado beca universitaria, solicitar reenvío link verificación, aparece mensaje \"server error\". ingresar letras facturas internet. funciona Internet, intentando ingresar 09.01 12 (medianoche) ahora 09:04 am funciona, sale error.  entrar internet  abre internet abrir aplicación correctamente\\n Hace mes llamando casi dias Tolken solicite responde essere momento. Me hacen esperar cortan. Necesito urgente token. m ayudando n Envie transferencia online llego, ver internet qe paso, detalles, sale , disponible Nunca atienden llamadas Señorita Katherine chat web da información completa comisiones. Es segunda vez cierran chat dando información vaga nofunciona app piden token virtual ingresar ._. ver movimientos aquí conectarme intenet Por demoran contestar facebook messenger hacer eliminación cambio numero  Nadie responde llamadas, Facebook  ubicacion agentes Atlas Bank\\n Atlas Bank enalta pagar pasaje problemas ahora mas caro.  Exclusiva sirve nadie atiende tampoco teléfonos, servicio desastre, pésimo quejarse veo forma desafiliar servicio\\n puede crear cuenta crear clave Internet forma comunicarse medio llamada siquiera contestan  Necesito numero contacto, wl 3119898 NO FUNCIONA!!!!!! La información clara  visualizo  cuenta carga libro reclamaciones conatestan numero telefonk Trato comunicarme teléfono atienden, cogen llamada. Pésimo servicio. generar clave  lograr. ingresa clave desastre total dan solución   funciona  2 HORAS PARA UNA CONUSLTA Y ME TRASNFIEREN TRANSFIEREN ETC demora cargar cuelga generalmente. clave token pide acerqué lugar puto huellero si emergencia hacer transferencia acercarme buscar puto huellero mierda muero. Aprendan banco \"continental\" Lacras poder activar tarjeta compras internet ay forma activar token digital agencia Atlas Bank funciona lee tarjeta contestan teléfono responden web pésimo pésimo Atlas Bank rápido\\n ingresar cuenta , momento pide clave Internet  funciona generar clave visualizar cuenta  hacer giros plin!!! registrarme plin hacer si seguido pasos Pesimo necesito comunicarme algún teleperador alguien ayude resolver problema NO HAY NADIE!!!\\n Porque entrar mirar cuenta  deja terminar registro  generar clave internet Deseo consultar saldo trajera débito  complican revisión movimientos bancarios, sistema pide clave tocken coloco sale error\\nquiten página seguridad mas fastidio\\ndiganme reviso movimientos bancarios acceder, anteriormente tenia complicaciones ES DEMASIADO DIFÍCIL RESOLVER TUS INCONVENIENTES Y PROBLEMAS  PARA INGRESAR A BANCA POR INTERNET. Buenas noches, cajero encuentra ubicado Grifo Primax ubicado Auxiliar Panamericana Nte. 554, Trujillo 13008 ise operacion sacar efectivo, terminar operación nunca salió efectivo  cuenta figurando si recibido efectivo, llamando número Atlas Bank respuesta alguna, espero pronta solución. Att. Cacimiro Arcángel Pereda Briceño.  Debería ser fácil simple obtener dato agencias abiertas dirección, búsqueda web carga mapa salen opciones ningún navegador. Busco Google primeros enlaces dan datos quiero. Más pierdo tiempo. Simple sencillo, tabla nombre agencia dirección horario atención. Se complican tratando modernizar información debería formato simple sencillo día. entrar, igual llama llevo 4 días llamando jamás contestan entrar internet Intento crear clave web sale vez  Hubo herror  Pesimoo ingreso ceunta\\n NO llamar celular ayudó información buscando, quiero saber tas comisión retirar agentes cajeros, brindan información alguna respecto hallarla odisea web. Poco tiempo escribir dan oportunidad  puede acceder servicio parece q ahorrando cobrando dispuesta pagar comisión 8 tiempo subieron 12 7.50 8 mantenimiento  ahorra cambio q cobren  hacen depósito automáticamente cobran 9 soles mal entra aplicación Atlas Bank varias oportuidades intentando acceder internet logra ingresar, sale mensaje intenetlo mas tarde  pudo realizar\\n ingresar cuenta consultar reclamo agente Atlas Bank El teléfono funciona Se corta llamada cada vez marco 01- 3119898 Hasta wbas. Malísimo Busco horarios agencias mandan monserga agencia, bonitas muchas información CERO.  sé pasa entrar cuenta, después poner información pantalla demora recibo aviso tiempo terminó.  Qué hacer?  Como soluciono problema? Este sistema desastre, hacer pagos, grabada tarjeta ahora piden mil datos personales permite hacer operaciones. ver salto cuenta internet\\n\\n brinda buena información, acerca bloqueo tarjeta\\n Que pésima, atención Internet no, entiende encima siempre diciendo intente ves  Mi pide pregunta clave token, incomodo. Bataria solo clave web siempre Me molesta solución problema tan simple, registre tarjeta cuenta Atlas Bank número celular antiguo.\\nAhora nuevo número permite volver utilizar misma cuenta misma tarjeta. \\n\\nCuando pedir orientación dijeron debía borrar datos cache esperar cierto tiempo volver instalar crear cuenta nueva.\\n\\nResulta espere 72 horas mismo, usar aquella tarjeta aquella cuenta aplicación plin nuevo celular sencillamente usada número probablemente pertenezca. \\n Nadie contesta llamada  MALA generar clave den internet usar movil llegó dinero completo deja generar clave 4 digitos ingresar!!!!! junciona ayudan nada\\n contestan  Muy mala  registrar tarjeta Puse datos accedí calculadora  carga Internet tampoco carga app obliga descargar geogle crome pierdo tiempo Toda vida  misma huevada ustedes  solicitando formato solicitud credito vehicular hoy 29/11/2019 banco Atlas Bank agencia CAQUETA señorita dijo solicitud encontrar pag Atlas Bank mentira buscando pueden mentir gente :c ver inversiones, porque? aplicativo movil porqueria internet tambien... abiri cuenta si funcion hacre operaciones casi nunca funciona. funciona internet  muestra dónde cajeros  Señores Atlas Bank porq ustedes contestan llmadas porq mierdad ponen grabadora q dice q van atender solo escucha grabadora hora nunca contesto asesr telefono digan grabadora q atienden mañn mñn  haci  hagan perder tiempo esperand q van contestr desgracia sistema Atlas Bank deben mejorar ayuda Se demora xfa tedioso sale  Ni encuentro opción pagar tarjetas!!! ingresar ingresar ver cuentas hacer pagos. Espero solucionen rapido dicen facil segura necesidad ir agencia, embargo pueden activar clave toquen digital exclusiva, sino indican debo acercarme oficina. Pesima atencion, pues ir oficina demoran demasiado personal plataforma encuentra conversando lugar atender rapido. Pésimo  tratando ingresar via Atlas Bank zona segura problemas interfaz, pésimo, clave token digital funciona La internet crear clave arroja error, dar clic poner contacto mail link rompe. revisen web. PESIMA EXPERIENCIA parte. Hay personas jode aplicación web sólo quiere descargue aplicación ... parte dice consultas debería Link gente quiere hacer, queremos descargar puto archivo PDF sarta pendejos Es complicadaa Mala ingresar Me enoja da ingormacion estan agentes crear clave token contestan llamadas siempre anda mal peor....cada rato cae Ya deje datos llaman... existe ningún chat comunicarnos  pesimo ingresar BxI llamo nadie da solucion  quiero realizar operacion transferencia cuenta Atlas Bank dse demora dice correcto token digital contestan llamada mala\\n Hasta huee Me eh olvidado clave, llamé Atlas Bank dicho q generar nueva clave, ingreso móvil aún generar clave q piden anterior :/  pesimooooooo!!!!!\\nEstoy tratando entrar cuenta Estados Unidos permite ingresar.\\nMe pide escoja 3 preguntas ende poner ninguna respuesta. encuentro medio reclamos quejas, vista agencia sicuani - cusco atencion pesima, vista semana transferencia depositos CCI, presentando justificaciones absurdas ineptitud irresponsabilidad. trata cuenta NE, pallpata encuentro afiliar tarjeta visaoro verify by visa logro crear cuenta pesimo \\n Terrible experiencia ara agendar cita. Ni laptop cel. Simplemente puede. Arreglen pagina web cuelga minuto, da informacion pide. habre cuenta intente muchas veces....que frustación da esto! Mal entrar cuentas Hace hora  llamando banco contestan .. parece pésima manera hacernos perder tiempo \\n entiendo nada! entra fuck page funciona app \\n trar ber cuenta Muy mala atencion  Pésima pa internet ingresar menos app Nooooooooo Tengo serios problemas cambiado diseño página. Al parecer, serie bugs deben ser eliminados La facilidad deberían avisar usuarios acuerdo móvil cometer error tan grande actualizar aplicación quedarce aire.\\nO bancos ayudar cliente dando facilidad obtener nvo equipo, decepción, creo clientes desistieran guardar fondos banco tan convenido. Lamentable proceder Atlas Bank, pensé gran entidad resultó que, ahora adquirir equipo nvo, funcionaba maravilla aplicación plin, osea nombre aplicación, plin!, plin! entrar!, plin enviarte nada,plin tengo,plin! plin! vivos!, plin! chiwuan! plin! aplicación... Osea rogarle banco plin!! plin!!\\n Que desafortunada aplicación... Espero lean reclamlooo plin!!!  Estoy decepcionado aplicación plin Atlas Bank, hoy actualice aplicación salio jugarreta, aplicación ser actualizada solo puede abrir teléfono android 4.0 mio 5.0, venia utizando constantemente aplicación llevo desagradable sorpresa dicen volver usar plin comprar celular mejor, engaño!, fiasco! Una pésima logística usuarios continuos servicio, pretenden vez poniendo plata entidad bancaria ahora adquiramos nuevo equipo móvil, pusieron pensar aplicación actulizada clientes Atlas Bank utilizan podrán hacer pagos haciendo, algún convenio alguna empresa celulares? Que mal totalmente disgustado, deberían pensar usuarios aplicación, utilizan encima dinero puesto entidad bancaria, si así ubieran visto facilidad super molesta, ingresas cuenta, saber movimientos bancarios\\n Demasiado engorroso  Por favor llamando 3 días nadie contesta tomado tiempo hora contestar tarjeta bloqueo  Buenas noches hoy hice depósito cajeros multifuncional quedó 40 soles llamando banco logro comunicarme q mal servicio pueden ayudar solucionar deuda IDIOTES DE BANCA POR TELEFONO NO OBTENGO NINGUNA RESPSUESTA. ingresar interner tarjeta credito\\n funciona necesito entear cuenta \\n QUIERO ABRIR MI plin HACE RATO Y ME DICE QUE YA HAN REGISTRADO MIS DATOS, Y NADA, HACE TREES DIAS ESTOY ASÍ. Tengo urgencia imposibilita todo, gracias favor atender\\n pagar servicios clave tokin, generarla  consultar sueldo. ingresar internet pongo numero tarjeta Pésimo  número comunicarse Atlas Bank Malisima encuentro información pertinente casos cliente Atlas Bank acceso plin pueda registrarse aplicación  contestan llamada voy 1 hora\\n crear contraseña entrar internet hace horas entrar anca internet. Pésimo aparece encima acaba  tiempo haber empezao\\n \\n Pésimo servicio aplicativo Banca Móvil celular pa PC, necesito hacer pago 8.30am hacerlo! Es 3 vez ocurren fallas aplicativo Pesima Mucho demoran ingresar cuenta!! realizar operaciones  acceder  siempre presentan problemas Muy mala antees entraba asi facil   aki  ahora doy sorpresa  dice descargue  geoogle  croono horrible instala voy horas puedo,por favor  dejenlo    hacer paagos aki ingresar cuentas pesar hicieron instalar Google chrome Tengo saldo Targeta deseo realizar pago emergencia permite, malo quiero comunicar ustedes responden  Tengo saldo tarjeta plinar, dice saldo insuficiente si , prove varias formas reenicie teléfono , desinstalé app. Me desfile volví afiliarme nada. crear cuenta El trato pesimo ¿Qué sentido poner puede hacer Agente Atlas Bank si ofrecen ubicaciones mismos? sirve celular Una mierda generar clave internet Pesimo calidad sitio wed poruqeria quiero generar clave internet pide ingresar contraseña cajero deja espacio done  dificulñtad pagar servicios : movistar luz sur . cuelga web píerdo tiempo . q entrar n veces , varios dias ....esta emperorando, lugar mejorar recibir codigo El chat sirve nadie contesta Terrible, puede trabajar medio. Una vez intentando dan solución problema app Atlas Bank debido Error-0029.  Mala  permite entrar \\n Muy tiempo da .. X mas terminas completar todas. ..de nuevo pide repetición .. Cómo cuatro veces ..y tiempo q dan da.m q cólera\\n puede generar clave Porque rechasa si clave bien puesta entro app tampoco transferir dinero mierda\\n respuestas acceder cuenta Estoy tratando llamar oficinas, llamé central hable Arturito ninguno capaz compartir código swift banco si hacerlo cuenta soles dólares...  generar clave  sale opción directa!!!  Vg tener cuenta  Mucho tramite ingresar cuenta internet.\\n\\nLa propaganda información deberia diferenciado.\\n\\nAun hacer operación, paran cambiando ruta. i versar tarjetas nuevas cree clave token  aparece q existe Estoy extranjero, viaje llamé Atlas Bank comprar España, tarjeta bloqueada,,  Veo canales / agencias puede hacer, dónde están!  puede cambiar numero plin Muy mala\\n\\n\\n entrar internet Atlas Bank aparece opciones realizar transferencia iPhone  Su nueva pagina amigable \\ntengo cinco dis intentando efectuar transferencia extranjero paso 3 clave banco da opciones deja alimentar clave .\\nen pagina vieja tenia problema ´para transferencia extranjero \\nJorge Meza Viveros  realizar tranferencias ,pues paso 3 da opciones codigo banco El formato exporta información excel pésimo, sirve. Ese formato exportar excel debido cambiar menos mejorar, empeorado. Yo llevo control cuentas info, ahora horrible. entiende.\\n  Al exportar información cuentas excel  sale formato entienden fechas (Ej: 1570404400000, eso???) montos salen texto. sirve. El formato anterior mejor. llamando numero delAtlas Bank timbrando mas 30 minutos contestan malo servicio internet coloque 3 veces codigo paraver si robot mando datos bien intente mas tarde deseo paga4r vboleto avion perdera reserv acceder internet .. sistema malo  entrar cuentas Estoy tratando entrar pagina siempre deja pide descargar Crown después aprobar serie condiciones, favor siempre entro forma rápida amigable deja hacer operaciones formateadas. enlazar tarjeta débito Interbank  contestan  La internet asco  ingresar, sale cara quiere active google crom, asi\\n soluciona problema. De complicado comunicarse ustedes.  resuelven lascobaulrd teléfono asco contestan. llega nunca clave internet  Horrible conecta, mejor Bbva Se colgo.la pagina necesito hacer transferencia NO PUEDO INGREAR Malisima Un desastre habremi cuenta Lamentablemente Internet funciona mal. casi tiempo servicio. Hagan favor. ayuda A recuperar cuenta plin  Desde día 20 llevo esperando devuelvan dinero. Se demoran el.tiempo da gana responder teléfono. Para descontar dinero si hacen segundo. Rateros Sarta ladrones devuelvanme dinero contestan teléfono ingresar vez datos vuelve pedir fin mierda podido hacer operación día\\n\\n descargar aplicacion movil ingresar opción móvil, ver cuenta. Mala información NO  PASA NADA HASTA LA HUEVA \\n LO PEORR!!! entrar colocar numero tarjeta sale datos registrados  El código capcha aparece blanco permite ingresar internet Quiero generar clave seis digitos salen puras huevadas Es PORQUERÍA solo tarjetas crédito credimas Visa debito   Porque responden??\\nNunca canal llamadas!!! puede ingresar carga carga manda nuevo ingresar clave problemas web crear clave Internet  sale capcha \\n Pésimo. permite ingresar hacer transferencias BBVA. Inducen pregunta aplica afiliarme  ingresar cuenta.\\ncuando quiero ir Atlas Bank Chat opcion conversa nosotros, pide correo contraseña, pongo nuevo, crear dice dni registrado pongo olvide contraseña dice correo registrado. encuentro ver millan latam manera facil !!!! Mala  Nunca contestaron... Pésima 14 minutos nunca respondieron. Antes pasaron persona mandaron acá imposible entrar. Hablaré empresa ver si paso banco. generar clave internet dice basura\\n dan solución cambiar numero celular plin Mala Deseo visualizar depósitos día 12 /09 hacia atrás internet ejecutar.  obtener clave  ingresar plin Muy mala entrar internet piden token físico  Nunca carga aplicacion\\n generar clave, pide cambie clave 4 dígitos, cajero tampoco cambió. Es complicado banco,. Gracias  bad Estoy llamando asesor 4 veces comtesta Lenta dan créditos nunca mejoran  recomplicado  registrarme Xk sale tarjeta blokeada \\n puede\\nacceder\\n Pesimo servicio chat cortaron comunicacion malcriados aparte dieron respuestas soluciones dudas pesimo servicio aparece ningun lado link consultar movimientos cuenta El cambien condiciones cuenta costos mayores hará perder clientes trabajo varios consultando bancos continental cuenta sueldo cobran mantenimiento 13 años ustedes considerando retirar ahorros cuenta sueldo da soluciones Estoy tratando comunicarme área reclamos sale servidor accesible. hacer transferencias x móvil token digital Casi siempre quiero paga algún servicio, red habilitada hace perder tiempo, Quiero comunicarme ustedes contestan teléfono número ponen redes. favor necesito hacerles consultas..mil gracias numero figura pagina sirve, comunicar telefono\\n He intentado llamar 01 3119898 reiteradas oportunidades responda.\\nA primera siempre suena línea insistido timbrado minuto luego corta.\\n Malísima demora demasiado abrir cada opcion Hasta ahora buscando direcciones horarios atención encuentro. encontrar generar clave 4 dígitos. muchas ventanas advertencia hacen dudar realizar operacion da Mucha facilidad especifica cosas  ingresar realizar clave Internet carga pagina  especifican bien ahí mucha ayuda sirve cambiar claves interactúan whatsapp  encuentro busco eficiente ver movimientos piden muchas cosas especifican bien gusta forma trabajan Es dificil Quiero ver saldo puede  Muchísimas veces  funciona puede contestan llamada Se hace dificil hacer operaciones aplicación\\n\\n\\n\\n hola \\nstoy mejor dicho quiero registrarme pot internet Atlas Bank hago\\n Nome gusta atienden\\n servicio Mala resultados ultimos movimientos internet obtener clave ver saldos movimietos  dentrar banco internet pude enviar Pésimo  pude pagar cuota prestamo efectivo movil justo dia Domingo vence\\n entrar móvil\\n carga aplicativo página móvil deben arreglar urgente problema facilita cliente saber movimientos y/o transferencias  internet\\n Ya creado cuenta plin número telefónico ahora quiero cambiar número permite ingresar  Es complicado hacer cualquier cosa, solo quiero ver saldo cuenta da opción! cambios constantes faltra tutoriales banco WEB LENTA Y NO DEJA MANDAR QUEJAS O RECLAMOS puede simular Asta huevas tantas huevas sacan puras mas facil dni Mi tarjeta BBVA entra ingresa cuenta quiero ver ynoo puede\\n encuentro necesito atienden telefono funciona registrarme nuevo, dice datos registrados  sistema opción registrar token digital, solo hace oficinas perdida tiempo bancos si hacen app web, deben mejorar ello cambie teléfono debo ir banco nuevo perder tiempo llame dijeron enviarian área cortaron llamada incómodo tampoco devolvió llamada..  Poca información simulador sueldos  La nueva internet presenta bugs nueva interfaz.  permite crear clave internet  sale cuenta clave cajero dice correcta  F mapa encuentran agentes Atlas Bank busco internet..no salen. telefono nunca contesta Debería implementar crediro educativo tasa baja mano extrema pobreza,  trabajo sueldo básico independientes. Pero necesitan seguir estudiando tiempo dinero favorece  claro información\\n MUY POBRE Mucho tiempo demoran contestar Deberia  haber chat online bots saben comunicarse  humano, bbva ser libre tantos datos pedir infomracion crear cuenta. Como creo cuenta online puede, pide numero tarjeta, si aun ineptos Nunca llego sms abre pagina , sale cierre sesion, ultimo dice comuniquese soporte...y comunicarse,mal facil identificar programar debito automatico resolvio pronlema, pudo enviar constancia mail\\n  dan solución inmediata Se queda congelada página  mucha demora información consulta encuentro afiliar tarjeta envíen mails hago consumos carga páginas  Se demora mucho\\n\\n\\n\\n Mala ahorita es´perando tarjeta nd mas semanas tras semanas nd llega recibo\\n dan información ciertas cosas busca movil ingresar cuenta, pagina responde.\\nTengo temas importantes resolver\\n Se colgo sistema. responde Como ago cambiar correo electrinico si caso si ejecuto mal correo ? malo\\npésimo deseo hacer desafiliacion automatica entrada opcion, sale ERROR web. funciona.\\n funciona Banca Internet. Por favor, dicen vayas banco funciona link. Asimismo, hace meses realizar transferencias bancos. Su sistema acceder fondos mutuos amigable igual personal banac telefónica  pude hacer clave de4 obtuve respuesta solicitud\\n\\n Siento dan facilidades visualizar transferencia realizaron.  chat terrible agrada da opciones ademas unico banco pone obstaculos realizar operaciones. ingresar plin  encuentro poder crear contraseña internet\\n Pésimo carga pagina entiende bien\\n Malísima Ni funcionan correctamente opciones m g crear 4 códigos internet  Mala ver movimientos hacer transferencia xf. Ayuda Muy mala  canales hagan fácil atención, teléfono nunca contestan, messenger mensajes tampoco, empresas watsaap instante solucionan dudas. Lastima aún tipo servicios Me da pagina WEb entro Banca Internet\\nhttps://Atlas Bankzonasegurabeta.viaAtlas Bank.com/#/iniciar-sesion sé clave token cambiar clave Internet hacer consulta telefono Por favor cada vez deseo hacer operaciones internet debo ingresar datos tarjeta incomodo. porqué ahora graba información?\\n Esta fallando, logró entrar pagar Munisanisidro cuentas.Hace días trato pagar varios pendiente sale error , intenta dentro 5 minutos.\\nSi llama pierde tiempo precioso!\\nSeguro entrado nuevos  quieren \"inventar pólvora\".\\nAhora ver cuenta pagos, solo número operación.Antes podía ver destinatario transferencia pago.Eso problemático veces cantidades iguales van pagar diferentes instituciones personas.\\nCambios peor q asco gran urgencia uds ocurre dar mantrnimiento app internet verdadera edtafaa q asco vdd necesito ayuda desvincular app celular ,  nadie ayuda\\n mencionan cuáles montos máximos pueden depositar cajero multifunción.\\nY montos máximos retiro indican si diaros, mes. \\nInformación genérica incompleta. ingresara internet\\n descargar computadora Me recomiendan usar Google chrome. Pero resulta obligatorio!!! Si uso Google chrome, ingresar Internet??? conctactanos responden, aparece ofertas envian correo. ingresar pestamos online da opcion elegir preguntas Perdí teléfono quiero volver utilizar Atlas Bank aki m pide clave d 4 dígitos recuerdo  Mucho palabreo atractivo diseño. crear app  NO funciona chat Atlas Bank Mucha publicidad innecesaria fastidia Antes aparecia tipo cambio pantalla sabia si conveniene no. Ahora aparece. Es transparente parte banco Quiero actualizar datos cambiar dirección electrónica recibo confirmación operación realizada sale página disponible.  Deberia ser mas detallada movimientos bancos, indica procedencia (nombre) deposita deposita.\\n\\nOtra sugenrecia, deberia poder visualizarce pantalla minimo movimientos mes atraz... actualmente solo visualian ultimos 20 movimientos poco, ayuda visualiza capcha avanzar caro siñorsh contestan\\n mala podido crear clave 4 digitos detalla nada\\n MAL acceder Internet problemas servidor acceder  quiero bloquear tarjeta debito app encuentro operacion bloqueo tarjeta Muy lenta pagina mapa encuentran agentes Atlas Bank busco internet..no salen. F sale cuenta clave cajero dice correcta  permite crear clave internet  La nueva internet presenta bugs nueva interfaz.  Poca información simulador sueldos  opción registrar token digital, solo hace oficinas perdida tiempo bancos si hacen app web, deben mejorar ello cambie teléfono debo ir banco nuevo perder tiempo llame dijeron enviarian área cortaron llamada incómodo tampoco devolvió llamada..  sistema registrarme nuevo, dice datos registrados  funciona atienden telefono encuentro necesito ingresa cuenta quiero ver ynoo puede\\n Mi tarjeta BBVA entra Asta huevas tantas huevas sacan puras mas facil dni puede simular WEB LENTA Y NO DEJA MANDAR QUEJAS O RECLAMOS cambios constantes faltra tutoriales banco Es complicado hacer cualquier cosa, solo quiero ver saldo cuenta da opción! Ya creado cuenta plin número telefónico ahora quiero cambiar número permite ingresar  internet\\n carga aplicativo página móvil deben arreglar urgente problema facilita cliente saber movimientos y/o transferencias  entrar móvil\\n pude pagar cuota prestamo efectivo movil justo dia Domingo vence\\n Pésimo  pude enviar dentrar banco internet obtener clave ver saldos movimietos  resultados ultimos movimientos internet Mala servicio Nome gusta atienden\\n hola \\nstoy mejor dicho quiero registrarme pot internet Atlas Bank hago\\n hacer operaciones aplicación\\n\\n\\n\\n Se hace dificil encuentro respuesta minconsulta La app funcionando momento  informan bien horario atención telefono, colmo llamo dice grabadora breve atenderemos pasan 15 minutos nadie contesta. Deberian aprender Ripley, llamo horario laboran indican agregando horario objetivo hacer perder tiempo clientes. Quiero ver transferencias hace 4. Meses solo sale mes julio adelante alguien ayude comprendo bien sale internet\\n envía mensaje  Para inscribir tarjeta falta dato clave token nunca dado. Necesito ayuda ayudan :( Buenas noche registré  nuevamente  aplicación  plin nuevo  número  sale podría  hacer gracias  En preguntas frecuentes encontré respuesta problema . enviado consulta esperar respuesta encuentro manera sencilla recargar tarjeta tener saldo \"plin\", manera mas fluida recargar cualquier agente sitio recarga celular.Tener q buscar cajero cerca, forma mas \"sencilla\" q digamos Tengo problemas plin Pongo datos préstamo personal seguir años siguientes pasos retirar dinero tarjeta Atlas Bank cuenta sueldo  Quiero comunicarme asesor contestan... Tengo adelanto sueldo banco cobro quincena, abonaron fin mes tampoco cobra... Quiero digan xq banco quiere cobrar si dos cuentas Atlas Bank dinero pienso pagar ningun interés cambiar numero tarjeta defecto internet, figura actualmente tarjeta vencida. HtmomasicmourAtlas Bank.NOautii generar clave móvil\\n carga! entiende   Es u complicado  Quisiera saber crear cuenta plin.  Necesito q banco llame ise transferencia errónea 991834534 deja crear contraseña internet ffdfdf Mi numero entra  llego correo web https://nj7.fun/beta/ creo q robar cuentas Xq rapidos carga paginaa encuentro ningún acceso hacer reclamos Beneficios Atlas Bank encuentro direccion agencias Buenas tardes, espero respuesta reclamo compra online nose hacer soluciones problema, dice toma tiempo ok, pagar platos rotos perjudica , espero respuesta caso nombre Ingrid Sanchez Huanachi. entran el. Aplicativo de. Mi celular encuentro cuenta ahorras online funciona móvil.. Trata cargar final puede crear clave internet Les hablo Messenger consulta responden Falta informacion Solo Atlas Bank banco ratero deberían trabajar resto bancos  entiendo entiende bien  ver saldo tiempo personas mayores Tengo problemas plin encuentro manera sencilla recargar tarjeta tener saldo \"plin\", manera mas fluida recargar cualquier agente sitio recarga celular.Tener q buscar cajero cerca, forma mas \"sencilla\" q digamos En preguntas frecuentes encontré respuesta problema . enviado consulta esperar respuesta Buenas noche registré  nuevamente  aplicación  plin nuevo  número  sale podría  hacer gracias  Necesito ayuda ayudan :( Para inscribir tarjeta falta dato clave token nunca dado. envía mensaje  sale internet\\n comprendo bien habiliten google maps Aun hallo. Como manejarlo, sencillo  tan complicado  Ojala atiendan ....desde julio cuenta sueldo tarjeta ofrecido Hola xq generar clave utilizar clave movil Como logeo clave internet... quiero crear clave sale q loge\\n Me enviaron mensaje, creo fraude.\\nbanco >>Atlas Bank>> \\nEstimado Cliente, transaccion retenida, activarla manera segura debe actualizar datos aqui\\nhttp://bit.do/Via-Atlas Bank permite ver detalle cada movimiento. Aun entiendo obtener clave OTP, aquí informan esto. :( Aun hallo. Como manejarlo, sencillo  Excelente servicio... Pero banco deja solicitar adelanto d sueldo debo hacer  satesfecho tratando ingresar web soluciona aun actualice datos  Muy contesta servicio  Mxlninxomxkix.Udbknm\\nSumi.  Mili.   satesfecho consigo deseo. consigo agendar llamada NO PUEDO BLOQUEAR MI TARJETA MEDIANTE WEB :l Ahora piden clave token llega correo, celuar. Arreglen Quiero henerar clave puedo\\n atienden  entiendo !\\n nps sunat nunca funciona\\n Pesima abrir aPp sale crear clave x internet perdida tiempo\\n veo opcion obtener clave internet Malaasss Quiero optener clave internet.. carga web clave internet recupere tarjeta agencia srta ayudó configurar app Atlas Bank  dificil entrar intenet Malo malo Quiero clave tontera, directo grano obtener clsve encuentro crear clave 4 dígitos  Una mrd entiende carajo Me molesta q sistema entrar internet\\n cómo crear clave 4 dígitos  Primero internet pidio contraseña cajero raro h luego salio fallido pidio contraseña internet parecio raro accesar cuentas hacer transferencias disponible cta. ... Mortifica mucho. Mala contestaron llamada quiero cancelar póliza tarjeta débito La atención ineficiente\\n dice días atención teléfono fin semana imposible atienden. La verdad perdido demasiado tiempo intentando ser atendida. Quiero generar clave Xk crear m cuenta plin  Llamo hablar operador. Sólo atienden oficina Banco.\\n\\n pueden hacer depósitos agentes farmacias. A debe??\\nEn web indica si hacen.  En momento funcionando En chat nunca ingresa pedido comunicación teléfono nunca contestan sirve pagina Atlas Bank Hasta ahora buscando direcciones horarios atención encuentro. Malísima demora demasiado abrir cada opcion He intentado llamar 01 3119898 reiteradas oportunidades responda.\\nA primera siempre suena línea insistido timbrado minuto luego corta.\\n numero figura pagina sirve, comunicar telefono\\n Casi siempre quiero paga algún servicio, red habilitada hace perder tiempo, Quiero comunicarme ustedes contestan teléfono número ponen redes. favor necesito hacerles consultas..mil gracias hacer transferencias x móvil token digital Estoy tratando comunicarme área reclamos sale servidor accesible. da soluciones El cambien condiciones cuenta costos mayores hará perder clientes trabajo varios consultando bancos continental cuenta sueldo cobran mantenimiento 13 años ustedes considerando retirar ahorros cuenta sueldo aparece ningun lado link consultar movimientos cuenta Pesimo servicio chat cortaron comunicacion malcriados aparte dieron respuestas soluciones dudas pesimo servicio puede\\nacceder\\n registrarme Xk sale tarjeta blokeada \\n mejoran  recomplicado  Lenta dan créditos nunca Estoy llamando asesor 4 veces comtesta bad generar clave, pide cambie clave 4 dígitos, cajero tampoco cambió. Es complicado banco,. Gracias  Nunca carga aplicacion\\n entrar internet piden token físico  Muy mala ingresar plin obtener clave  Deseo visualizar depósitos día 12 /09 hacia atrás internet ejecutar.  Mala dan solución cambiar numero celular plin basura\\n dice internet generar clave Pésima 14 minutos nunca respondieron. Antes pasaron persona mandaron acá imposible entrar. Hablaré empresa ver si paso banco. Nunca contestaron... Mala  encuentro ver millan latam manera facil !!!! ingresar cuenta.\\ncuando quiero ir Atlas Bank Chat opcion conversa nosotros, pide correo contraseña, pongo nuevo, crear dice dni registrado pongo olvide contraseña dice correo registrado. afiliarme  Pésimo. permite ingresar hacer transferencias BBVA. Inducen pregunta aplica sale capcha \\n crear clave Internet  problemas web puede ingresar carga carga manda nuevo ingresar clave Porque responden??\\nNunca canal llamadas!!! Es PORQUERÍA solo tarjetas crédito credimas Visa debito   Quiero generar clave seis digitos salen puras huevadas El código capcha aparece blanco permite ingresar internet entrar colocar numero tarjeta sale datos registrados  LO PEORR!!! NO  PASA NADA HASTA LA HUEVA \\n Mala información ingresar opción móvil, ver cuenta. descargar aplicacion movil podido hacer operación día\\n\\n ingresar vez datos vuelve pedir fin mierda contestan teléfono Sarta ladrones devuelvanme dinero Desde día 20 llevo esperando devuelvan dinero. Se demoran el.tiempo da gana responder teléfono. Para descontar dinero si hacen segundo. Rateros ayuda A recuperar cuenta plin  Lamentablemente Internet funciona mal. casi tiempo servicio. Hagan favor. habremi cuenta Un desastre Malisima NO PUEDO INGREAR Se colgo.la pagina necesito hacer transferencia Horrible conecta, mejor Bbva llega nunca clave internet  resuelven lascobaulrd teléfono asco contestan. soluciona problema. De complicado comunicarse ustedes.  ingresar, sale cara quiere active google crom, asi\\n La internet asco  contestan  enlazar tarjeta débito Interbank  Estoy tratando entrar pagina siempre deja pide descargar Crown después aprobar serie condiciones, favor siempre entro forma rápida amigable deja hacer operaciones formateadas. entrar cuentas acceder internet .. sistema malo  internet coloque 3 veces codigo paraver si robot mando datos bien intente mas tarde deseo paga4r vboleto avion perdera reserv llamando numero delAtlas Bank timbrando mas 30 minutos contestan malo servicio Al exportar información cuentas excel  sale formato entienden fechas (Ej: 1570404400000, eso???) montos salen texto. sirve. El formato anterior mejor. El formato exporta información excel pésimo, sirve. Ese formato exportar excel debido cambiar menos mejorar, empeorado. Yo llevo control cuentas info, ahora horrible. entiende.\\n  realizar tranferencias ,pues paso 3 da opciones codigo banco Su nueva pagina amigable \\ntengo cinco dis intentando efectuar transferencia extranjero paso 3 clave banco da opciones deja alimentar clave .\\nen pagina vieja tenia problema ´para transferencia extranjero \\nJorge Meza Viveros  aparece opciones realizar transferencia iPhone  entrar internet Atlas Bank Muy mala\\n\\n\\n puede cambiar numero plin Veo canales / agencias puede hacer, dónde están!  Estoy extranjero, viaje llamé Atlas Bank comprar España, tarjeta bloqueada,,  cree clave token  aparece q existe i versar tarjetas nuevas Mucho tramite ingresar cuenta internet.\\n\\nLa propaganda información deberia diferenciado.\\n\\nAun hacer operación, paran cambiando ruta. tener cuenta  Vg sale opción directa!!!  generar clave  Estoy tratando llamar oficinas, llamé central hable Arturito ninguno capaz compartir código swift banco si hacerlo cuenta soles dólares...  respuestas acceder cuenta Porque rechasa si clave bien puesta entro app tampoco transferir dinero mierda\\n puede generar clave Muy tiempo da .. X mas terminas completar todas. ..de nuevo pide repetición .. Cómo cuatro veces ..y tiempo q dan da.m q cólera\\n permite entrar \\n Mala  dan solución problema app Atlas Bank debido Error-0029.  Terrible, puede trabajar medio. Una vez intentando El chat sirve nadie contesta recibir codigo dificulñtad pagar servicios : movistar luz sur . cuelga web píerdo tiempo . q entrar n veces , varios dias ....esta emperorando, lugar mejorar poruqeria quiero generar clave internet pide ingresar contraseña cajero deja espacio done  Pesimo calidad sitio wed generar clave internet Una mierda La pagina lenta\\n Ne sale panralla azul delante debo ingresar informacion acceder cuenta acaba tienpo acceder cuenta!!\\n avanza  funciona!!!!! pésimo, funciona internet nadie ayuda resolver problema Enojado quieren hacer clave Internet\\n encuentro generar clave 4 digitos! momento nunca ingresar Atlas Bank on line, generaron 3 preguntas seguridad quiero ingresar nunca mas aparecen preguntas, solo manejar app celular alli hacer giros ejemplo. Estoy intentando comunicarme correo Atlas Bank funciona extranjero llamar Totalmente mala hdp Quiero cambiar contraseña deja ver cuenta deja registrarme  funciona funciona Me rechaza numero tarjeta apezar q bien escrito puede tener clave internet La pagina \"Banca internet\", cada vez ingreso datos, aparece error indicando datos procesados, asi hace 2 semanas mas, aburre!!! cuentas pagar... entiende puede ASER rápido trámite \\n funciona simulador versión móvil funciona debería encuentro.  Plataforma digital.para poder hacer pregunta culo jodan mas ingresar  pagina Mal abrir cuentas, porque? Malisima Llevo escribiendo resto em colombia retirar dinero  amigable., crear clave internet continuar, quedo paso 1 entrar  Banca Internet, necesito hacer pago urgente.\\n Desde 10:00pm llamando cargan pago responden rapido Nunca responden chat, sale mensaje esperando agente nunca ponen línea rapida atencion Creo cuenta digital ,intento crear clave Internet ,y sale número cuenta existe ,horrible . funciona internet ver movimientos cuentas personas Quiero ver ofrece campañana mandando solicitudes da opción entrar abre link internet numero  Mala Mala pesar tener token fisico nunca podido hacer operaciones internet enviado multioles mails mes dan solucion \\nmi mail nez2020@outlook.com dni 09827185 Super complicada utilizar  carga interner atencion  !!!! ingresar PAGINA hacer operaciones via telecredito Para finalizar creación clave digital poder trabajar cuenta, piden responda 3 preguntas, preguntas aparecen. Quiero ingresar chat, clave. Pongo mail, aparezco registrado, nunca cree clave chat....no puede hacer nada. Pésimo servicio responde pongo enviar arrr Problema solo ne sale plinar  100 s El chat funciona correctamente, momento querer enviar reclamo funciona boton continuar. Porque soluciones pago hacen poner contraseña sale permite ingresar web trabajando tampoco pagar vía app pasajes Lan aparece empresa servicios, sino puede realizar dicho pago app.  Siempre mantenimiento realizar pagos.\\nUn dia mas retraso enviando mensajes estafadores numero 974845141, diciendo: Usted transferencia retenida, activar operaciones manera segura debe actualizar datos aquí: https://enlineaAtlas Bank.xyz/alertas/   favor denunciar pagina número seguro gente perjudicando. carga internet, abrirse,se toma segundos máscara celeste 4 bolitas blancas vaya deje escribir numero tarjeta, hace días pasa mismo, puede usar normal. página mierda carga Llevo mas 24 minutos comunicarme Banca Pyme siguen responder, sólo timbra timbra. Es imposible comunicarse ustedes\\nLa web ayuda nada. Una links manda corregir datos origen busco nada.\\nSolo dedican vender productos!! enoja momento atiendes vengo mas mes solicitando desafiliacion d seguro fecha gracias  puede hablar asesor señor ayuda orientar  dice comprar juegos targeta\\n nose puede crear clave internet entrar internet menos app puede realizar internet asesor linea da resultado \\nya ausente. El servicio pésimo respecto\\n Muy mal sabado 31 vencio tarjeta debito , nadie informa previo vencimiento solo puede pedir plataforma oficinas recien hoy pedir poder usar app q registrarla web funciona!!!! van 3 dias hacer ningun pago fin mes entendera problema\\n puede ser ir banco usar token digital, ahora nadie tiempooooo\\nDeberían dar poncho  Intento acceder enlaces informarme mas sale error q existen  Dejan n espera nunca contestan... encuentro ayuda necesaria  uan mrd , encuentro  , hace rato quiero ver movimiento cuanto dispongo .   tmr  Quiero obtener clave Internet  funciona bien app yega mensaje Mala atencion ver tarjeta credito si podia app hago  funciona internet\\n Ingrese internet, pedí clave poder hacer transferencia demoro darme clave, expirando sesión  arreglen Atlas Bank lenta hace varios dias. NO ES MIS DIDACTICA Muy mala pasa? Falla mujer internet 3 minutos hacer pago línea, además pago frecuente debería ser rápido. Y adicionalmente mas minuto cerrar internet, mismo sistema botó.\\nNo entiendo buscan mas cuentas clientes si pueden dar buen servicio tienen? puede ingresar internet!!!!!!! Arreglen x internet cae cada rato internet igual transferencias interbancarias. Horrible pagina, carga pueden hacer operaciones. funciona app descarga móvil  El sistema malo nose puede habrir internet obtener clave dice intente mas tarde \\n sistema reverenda mierda funciona  ACABAN DE ROBARME DINERO DE LA CUENTA BANCARIA DE MI MADRE solicitar pesar llenar requerido registrar internet tarjeta credito visa acceso internet, carga pagina Malo lento Quiero crear clave Internet puede carga página  especifica bien  Deseo ingresar 4 dígitos permite  pone disponibilidad solicitud  siento hacen caso problema Mala hacer pagos debe elegir abuso parte Mala Esta feo pagina\\n NO CARGA EL CHAT Y SU BANCA POR TELEFONO ES PEOR AUN mal servicio logro ver página cuentas luego haber  cumplir indicado. problema persiste 3 meses llamado asesora mandan canales digitales espero 15 minutos respuesta, ejemplo dia ayer martes 2 oportunidades enviaron canales digitales, tener respuesta dejándome telefono promedio 15 minutos respuesta alguna. QUE LAMENTABLE LOS SERVICIOS QUE OFRECE EL banco, QUE TIRAN AL SUELO TODO SUS PROPAGANDAS    Por solucionar solicitud ningún modo dan adelanto sueldo, hacen préstamos cuenta sueldo Cts Atlas Bank La opción dice trabaja desactivada menos borren opción  pésimo servicio funciona token digital extranjero necesito clave 4 dijitos, viejar llamando nadie repondia facilita menos da respuesta clara Mal ingresa app Muy molento contestan telefono Pesima ingresar cuenta Se cayo sistema? libro reclamaciones funciona Como siempre complicada Atlas Bank, peor servicio todos. pagar servicio agua... Dice q código usuario existe caso convenio q sirve pagar demás servicios si agua q perder día trabajo  UNA PORQUERÍA LA ATENCIÓN SE DEMORAN MUCHO EN ATENDER UNA LLAMADA, LOS ASESORES NO ESTÁN CAPACITADOS TE DERIVAN DE UNA ÁREA A OTRA Y LLEVO MEDIA HORA ESPERANDO QUE RESPONDAN UNA LLAMADA. PÉSIMO Malicima entra servicio pesimo abrir cuenta tengo\\nNo indica brindan información suficiente consultas adicionales chat pésimo  dar opcion aceptar, acepta entrar app deja puede entrar Banca intenet. Todo día intentado nada. Qué pasando? realizar pagos reniec entrar cuenta ver saldo pérdida tiempo total\\n Una mierda solucionan el. Inconveniente hace semana aplicación plin  encuentro quiero\\n funciona Pesimo Llevo casi 38 minutos espera, maltrato por. Dios  Quiero acceder página nose puede  Pesima hacer pago web app llega tokem digital  pesima El correo verificación llega email registrado beca universitaria, solicitar reenvío link verificación, aparece mensaje \"server error\". ingresar letras facturas internet. funciona Internet, intentando ingresar 09.01 12 (medianoche) ahora 09:04 am funciona, sale error.  entrar internet  abre internet abrir aplicación correctamente\\n Hace mes llamando casi dias Tolken solicite responde essere momento. Me hacen esperar cortan. Necesito urgente token. m ayudando n Envie transferencia online llego, ver internet qe paso, detalles, sale , disponible Nunca atienden llamadas Señorita Katherine chat web da información completa comisiones. Es segunda vez cierran chat dando información vaga nofunciona app piden token virtual ingresar ._. ver movimientos aquí conectarme intenet Por demoran contestar facebook messenger hacer eliminación cambio numero  Nadie responde llamadas, Facebook  ubicacion agentes Atlas Bank\\n Atlas Bank enalta pagar pasaje problemas ahora mas caro.  Exclusiva sirve nadie atiende tampoco teléfonos, servicio desastre, pésimo quejarse veo forma desafiliar servicio\\n puede crear cuenta crear clave Internet forma comunicarse medio llamada siquiera contestan  Necesito numero contacto, wl 3119898 NO FUNCIONA!!!!!! La información clara  visualizo  cuenta carga libro reclamaciones conatestan numero telefonk Trato comunicarme teléfono atienden, cogen llamada. Pésimo servicio. generar clave  lograr. ingresa clave desastre total dan solución   funciona  2 HORAS PARA UNA CONUSLTA Y ME TRASNFIEREN TRANSFIEREN ETC demora cargar cuelga generalmente. clave token pide acerqué lugar puto huellero si emergencia hacer transferencia acercarme buscar puto huellero mierda muero. Aprendan banco \"continental\" Lacras poder activar tarjeta compras internet ay forma activar token digital agencia Atlas Bank funciona lee tarjeta contestan teléfono responden web pésimo pésimo Atlas Bank rápido\\n ingresar cuenta , momento pide clave Internet  funciona generar clave visualizar cuenta  hacer giros plin!!! registrarme plin hacer si seguido pasos Pesimo necesito comunicarme algún teleperador alguien ayude resolver problema NO HAY NADIE!!!\\n Porque entrar mirar cuenta  deja terminar registro  generar clave internet Deseo consultar saldo trajera débito  complican revisión movimientos bancarios, sistema pide clave tocken coloco sale error\\nquiten página seguridad mas fastidio\\ndiganme reviso movimientos bancarios acceder, anteriormente tenia complicaciones ES DEMASIADO DIFÍCIL RESOLVER TUS INCONVENIENTES Y PROBLEMAS  PARA INGRESAR A BANCA POR INTERNET. Buenas noches, cajero encuentra ubicado Grifo Primax ubicado Auxiliar Panamericana Nte. 554, Trujillo 13008 ise operacion sacar efectivo, terminar operación nunca salió efectivo  cuenta figurando si recibido efectivo, llamando número Atlas Bank respuesta alguna, espero pronta solución. Att. Cacimiro Arcángel Pereda Briceño.  Debería ser fácil simple obtener dato agencias abiertas dirección, búsqueda web carga mapa salen opciones ningún navegador. Busco Google primeros enlaces dan datos quiero. Más pierdo tiempo. Simple sencillo, tabla nombre agencia dirección horario atención. Se complican tratando modernizar información debería formato simple sencillo día. entrar, igual llama llevo 4 días llamando jamás contestan entrar internet Intento crear clave web sale vez  Hubo herror  Pesimoo ingreso ceunta\\n NO llamar celular ayudó información buscando, quiero saber tas comisión retirar agentes cajeros, brindan información alguna respecto hallarla odisea web. Poco tiempo escribir dan oportunidad  puede acceder servicio parece q ahorrando cobrando dispuesta pagar comisión 8 tiempo subieron 12 7.50 8 mantenimiento  ahorra cambio q cobren  hacen depósito automáticamente cobran 9 soles mal entra aplicación Atlas Bank varias oportuidades intentando acceder internet logra ingresar, sale mensaje intenetlo mas tarde  pudo realizar\\n ingresar cuenta consultar reclamo agente Atlas Bank El teléfono funciona Se corta llamada cada vez marco 01- 3119898 Hasta wbas. Malísimo Busco horarios agencias mandan monserga agencia, bonitas muchas información CERO.  sé pasa entrar cuenta, después poner información pantalla demora recibo aviso tiempo terminó.  Qué hacer?  Como soluciono problema? Este sistema desastre, hacer pagos, grabada tarjeta ahora piden mil datos personales permite hacer operaciones. ver salto cuenta internet\\n\\n brinda buena información, acerca bloqueo tarjeta\\n Que pésima, atención Internet no, entiende encima siempre diciendo intente ves  Mi pide pregunta clave token, incomodo. Bataria solo clave web siempre Me molesta solución problema tan simple, registre tarjeta cuenta Atlas Bank número celular antiguo.\\nAhora nuevo número permite volver utilizar misma cuenta misma tarjeta. \\n\\nCuando pedir orientación dijeron debía borrar datos cache esperar cierto tiempo volver instalar crear cuenta nueva.\\n\\nResulta espere 72 horas mismo, usar aquella tarjeta aquella cuenta aplicación plin nuevo celular sencillamente usada número probablemente pertenezca. \\n Nadie contesta llamada  MALA generar clave den internet usar movil llegó dinero completo deja generar clave 4 digitos ingresar!!!!! junciona ayudan nada\\n contestan  Muy mala  registrar tarjeta Puse datos accedí calculadora  carga Internet tampoco carga app obliga descargar geogle crome pierdo tiempo Toda vida  misma huevada ustedes  solicitando formato solicitud credito vehicular hoy 29/11/2019 banco Atlas Bank agencia CAQUETA señorita dijo solicitud encontrar pag Atlas Bank mentira buscando pueden mentir gente :c ver inversiones, porque? aplicativo movil porqueria internet tambien... abiri cuenta si funcion hacre operaciones casi nunca funciona. funciona internet  muestra dónde cajeros  Señores Atlas Bank porq ustedes contestan llmadas porq mierdad ponen grabadora q dice q van atender solo escucha grabadora hora nunca contesto asesr telefono digan grabadora q atienden mañn mñn  haci  hagan perder tiempo esperand q van contestr desgracia sistema Atlas Bank deben mejorar ayuda Se demora xfa tedioso sale  Ni encuentro opción pagar tarjetas!!! ingresar ingresar ver cuentas hacer pagos. Espero solucionen rapido dicen facil segura necesidad ir agencia, embargo pueden activar clave toquen digital exclusiva, sino indican debo acercarme oficina. Pesima atencion, pues ir oficina demoran demasiado personal plataforma encuentra conversando lugar atender rapido. Pésimo  tratando ingresar via Atlas Bank zona segura problemas interfaz, pésimo, clave token digital funciona La internet crear clave arroja error, dar clic poner contacto mail link rompe. revisen web. PESIMA EXPERIENCIA parte. Hay personas jode aplicación web sólo quiere descargue aplicación ... parte dice consultas debería Link gente quiere hacer, queremos descargar puto archivo PDF sarta pendejos Es complicadaa Mala ingresar Me enoja da ingormacion estan agentes crear clave token contestan llamadas siempre anda mal peor....cada rato cae Ya deje datos llaman... existe ningún chat comunicarnos  pesimo ingresar BxI llamo nadie da solucion  quiero realizar operacion transferencia cuenta Atlas Bank dse demora dice correcto token digital contestan llamada mala\\n Hasta huee Me eh olvidado clave, llamé Atlas Bank dicho q generar nueva clave, ingreso móvil aún generar clave q piden anterior :/  pesimooooooo!!!!!\\nEstoy tratando entrar cuenta Estados Unidos permite ingresar.\\nMe pide escoja 3 preguntas ende poner ninguna respuesta. encuentro medio reclamos quejas, vista agencia sicuani - cusco atencion pesima, vista semana transferencia depositos CCI, presentando justificaciones absurdas ineptitud irresponsabilidad. trata cuenta NE, pallpata encuentro afiliar tarjeta visaoro verify by visa logro crear cuenta pesimo \\n Terrible experiencia ara agendar cita. Ni laptop cel. Simplemente puede. Arreglen pagina web cuelga minuto, da informacion pide. habre cuenta intente muchas veces....que frustación da esto! Mal entrar cuentas Hace hora  llamando banco contestan .. parece pésima manera hacernos perder tiempo \\n entiendo nada! entra fuck page funciona app \\n trar ber cuenta Muy mala atencion  Pésima pa internet ingresar menos app Nooooooooo Tengo serios problemas cambiado diseño página. Al parecer, serie bugs deben ser eliminados La facilidad deberían avisar usuarios acuerdo móvil cometer error tan grande actualizar aplicación quedarce aire.\\nO bancos ayudar cliente dando facilidad obtener nvo equipo, decepción, creo clientes desistieran guardar fondos banco tan convenido. Lamentable proceder Atlas Bank, pensé gran entidad resultó que, ahora adquirir equipo nvo, funcionaba maravilla aplicación plin, osea nombre aplicación, plin!, plin! entrar!, plin enviarte nada,plin tengo,plin! plin! vivos!, plin! chiwuan! plin! aplicación... Osea rogarle banco plin!! plin!!\\n Que desafortunada aplicación... Espero lean reclamlooo plin!!!  Estoy decepcionado aplicación plin Atlas Bank, hoy actualice aplicación salio jugarreta, aplicación ser actualizada solo puede abrir teléfono android 4.0 mio 5.0, venia utizando constantemente aplicación llevo desagradable sorpresa dicen volver usar plin comprar celular mejor, engaño!, fiasco! Una pésima logística usuarios continuos servicio, pretenden vez poniendo plata entidad bancaria ahora adquiramos nuevo equipo móvil, pusieron pensar aplicación actulizada clientes Atlas Bank utilizan podrán hacer pagos haciendo, algún convenio alguna empresa celulares? Que mal totalmente disgustado, deberían pensar usuarios aplicación, utilizan encima dinero puesto entidad bancaria, si así ubieran visto facilidad super molesta, ingresas cuenta, saber movimientos bancarios\\n Demasiado engorroso  Por favor llamando 3 días nadie contesta tomado tiempo hora contestar tarjeta bloqueo  Buenas noches hoy hice depósito cajeros multifuncional quedó 40 soles llamando banco logro comunicarme q mal servicio pueden ayudar solucionar deuda IDIOTES DE BANCA POR TELEFONO NO OBTENGO NINGUNA RESPSUESTA. ingresar interner tarjeta credito\\n funciona necesito entear cuenta \\n QUIERO ABRIR MI plin HACE RATO Y ME DICE QUE YA HAN REGISTRADO MIS DATOS, Y NADA, HACE TREES DIAS ESTOY ASÍ. Tengo urgencia imposibilita todo, gracias favor atender\\n pagar servicios clave tokin, generarla  consultar sueldo. ingresar internet pongo numero tarjeta Pésimo  número comunicarse Atlas Bank Malisima encuentro información pertinente casos cliente Atlas Bank acceso plin pueda registrarse aplicación  contestan llamada voy 1 hora\\n crear contraseña entrar internet hace horas entrar anca internet. Pésimo aparece encima acaba  tiempo haber empezao\\n \\n Pésimo servicio aplicativo Banca Móvil celular pa PC, necesito hacer pago 8.30am hacerlo! Es 3 vez ocurren fallas aplicativo Pesima Mucho demoran ingresar cuenta!! realizar operaciones  acceder  siempre presentan problemas Muy mala antees entraba asi facil   aki  ahora doy sorpresa  dice descargue  geoogle  croono horrible instala voy horas puedo,por favor  dejenlo    hacer paagos aki ingresar cuentas pesar hicieron instalar Google chrome Tengo saldo Targeta deseo realizar pago emergencia permite, malo quiero comunicar ustedes responden  Tengo saldo tarjeta plinar, dice saldo insuficiente si , prove varias formas reenicie teléfono , desinstalé app. Me desfile volví afiliarme nada. crear cuenta El trato pesimo ¿Qué sentido poner puede hacer Agente Atlas Bank si ofrecen ubicaciones mismos? sirve celular Una mierda generar clave internet Pesimo calidad sitio wed poruqeria quiero generar clave internet pide ingresar contraseña cajero deja espacio done  dificulñtad pagar servicios : movistar luz sur . cuelga web píerdo tiempo . q entrar n veces , varios dias ....esta emperorando, lugar mejorar recibir codigo El chat sirve nadie contesta Terrible, puede trabajar medio. Una vez intentando dan solución problema app Atlas Bank debido Error-0029.  Mala  permite entrar \\n Muy tiempo da .. X mas terminas completar todas. ..de nuevo pide repetición .. Cómo cuatro veces ..y tiempo q dan da.m q cólera\\n puede generar clave Porque rechasa si clave bien puesta entro app tampoco transferir dinero mierda\\n respuestas acceder cuenta Estoy tratando llamar oficinas, llamé central hable Arturito ninguno capaz compartir código swift banco si hacerlo cuenta soles dólares...  generar clave  sale opción directa!!!  Vg tener cuenta  Mucho tramite ingresar cuenta internet.\\n\\nLa propaganda información deberia diferenciado.\\n\\nAun hacer operación, paran cambiando ruta. i versar tarjetas nuevas cree clave token  aparece q existe Estoy extranjero, viaje llamé Atlas Bank comprar España, tarjeta bloqueada,,  Veo canales / agencias puede hacer, dónde están!  puede cambiar numero plin Muy mala\\n\\n\\n entrar internet Atlas Bank aparece opciones realizar transferencia iPhone  Su nueva pagina amigable \\ntengo cinco dis intentando efectuar transferencia extranjero paso 3 clave banco da opciones deja alimentar clave .\\nen pagina vieja tenia problema ´para transferencia extranjero \\nJorge Meza Viveros  realizar tranferencias ,pues paso 3 da opciones codigo banco El formato exporta información excel pésimo, sirve. Ese formato exportar excel debido cambiar menos mejorar, empeorado. Yo llevo control cuentas info, ahora horrible. entiende.\\n  Al exportar información cuentas excel  sale formato entienden fechas (Ej: 1570404400000, eso???) montos salen texto. sirve. El formato anterior mejor. llamando numero delAtlas Bank timbrando mas 30 minutos contestan malo servicio internet coloque 3 veces codigo paraver si robot mando datos bien intente mas tarde deseo paga4r vboleto avion perdera reserv acceder internet .. sistema malo  entrar cuentas Estoy tratando entrar pagina siempre deja pide descargar Crown después aprobar serie condiciones, favor siempre entro forma rápida amigable deja hacer operaciones formateadas. enlazar tarjeta débito Interbank  contestan  La internet asco  ingresar, sale cara quiere active google crom, asi\\n soluciona problema. De complicado comunicarse ustedes.  resuelven lascobaulrd teléfono asco contestan. llega nunca clave internet  Horrible conecta, mejor Bbva Se colgo.la pagina necesito hacer transferencia NO PUEDO INGREAR Malisima Un desastre habremi cuenta Lamentablemente Internet funciona mal. casi tiempo servicio. Hagan favor. ayuda A recuperar cuenta plin  Desde día 20 llevo esperando devuelvan dinero. Se demoran el.tiempo da gana responder teléfono. Para descontar dinero si hacen segundo. Rateros Sarta ladrones devuelvanme dinero contestan teléfono ingresar vez datos vuelve pedir fin mierda podido hacer operación día\\n\\n descargar aplicacion movil ingresar opción móvil, ver cuenta. Mala información NO  PASA NADA HASTA LA HUEVA \\n LO PEORR!!! entrar colocar numero tarjeta sale datos registrados  El código capcha aparece blanco permite ingresar internet Quiero generar clave seis digitos salen puras huevadas Es PORQUERÍA solo tarjetas crédito credimas Visa debito   Porque responden??\\nNunca canal llamadas!!! puede ingresar carga carga manda nuevo ingresar clave problemas web crear clave Internet  sale capcha \\n Pésimo. permite ingresar hacer transferencias BBVA. Inducen pregunta aplica afiliarme  ingresar cuenta.\\ncuando quiero ir Atlas Bank Chat opcion conversa nosotros, pide correo contraseña, pongo nuevo, crear dice dni registrado pongo olvide contraseña dice correo registrado. encuentro ver millan latam manera facil !!!! Mala  Nunca contestaron... Pésima 14 minutos nunca respondieron. Antes pasaron persona mandaron acá imposible entrar. Hablaré empresa ver si paso banco. generar clave internet dice basura\\n dan solución cambiar numero celular plin Mala Deseo visualizar depósitos día 12 /09 hacia atrás internet ejecutar.  obtener clave  ingresar plin Muy mala entrar internet piden token físico  Nunca carga aplicacion\\n generar clave, pide cambie clave 4 dígitos, cajero tampoco cambió. Es complicado banco,. Gracias  bad Estoy llamando asesor 4 veces comtesta Lenta dan créditos nunca mejoran  recomplicado  registrarme Xk sale tarjeta blokeada \\n puede\\nacceder\\n Pesimo servicio chat cortaron comunicacion malcriados aparte dieron respuestas soluciones dudas pesimo servicio aparece ningun lado link consultar movimientos cuenta El cambien condiciones cuenta costos mayores hará perder clientes trabajo varios consultando bancos continental cuenta sueldo cobran mantenimiento 13 años ustedes considerando retirar ahorros cuenta sueldo da soluciones Estoy tratando comunicarme área reclamos sale servidor accesible. hacer transferencias x móvil token digital Casi siempre quiero paga algún servicio, red habilitada hace perder tiempo, Quiero comunicarme ustedes contestan teléfono número ponen redes. favor necesito hacerles consultas..mil gracias numero figura pagina sirve, comunicar telefono\\n He intentado llamar 01 3119898 reiteradas oportunidades responda.\\nA primera siempre suena línea insistido timbrado minuto luego corta.\\n Malísima demora demasiado abrir cada opcion Hasta ahora buscando direcciones horarios atención encuentro. encontrar generar clave 4 dígitos. muchas ventanas advertencia hacen dudar realizar operacion da Mucha facilidad especifica cosas  ingresar realizar clave Internet carga pagina  especifican bien ahí mucha ayuda sirve cambiar claves interactúan whatsapp  encuentro busco eficiente ver movimientos piden muchas cosas especifican bien gusta forma trabajan Es dificil Quiero ver saldo puede  Muchísimas veces  funciona puede contestan llamada Se hace dificil hacer operaciones aplicación\\n\\n\\n\\n hola \\nstoy mejor dicho quiero registrarme pot internet Atlas Bank hago\\n Nome gusta atienden\\n servicio Mala resultados ultimos movimientos internet obtener clave ver saldos movimietos  dentrar banco internet pude enviar Pésimo  pude pagar cuota prestamo efectivo movil justo dia Domingo vence\\n entrar móvil\\n carga aplicativo página móvil deben arreglar urgente problema facilita cliente saber movimientos y/o transferencias  internet\\n Ya creado cuenta plin número telefónico ahora quiero cambiar número permite ingresar  Es complicado hacer cualquier cosa, solo quiero ver saldo cuenta da opción! cambios constantes faltra tutoriales banco WEB LENTA Y NO DEJA MANDAR QUEJAS O RECLAMOS puede simular Asta huevas tantas huevas sacan puras mas facil dni Mi tarjeta BBVA entra ingresa cuenta quiero ver ynoo puede\\n encuentro necesito atienden telefono funciona registrarme nuevo, dice datos registrados  sistema opción registrar token digital, solo hace oficinas perdida tiempo bancos si hacen app web, deben mejorar ello cambie teléfono debo ir banco nuevo perder tiempo llame dijeron enviarian área cortaron llamada incómodo tampoco devolvió llamada..  Poca información simulador sueldos  La nueva internet presenta bugs nueva interfaz.  permite crear clave internet  sale cuenta clave cajero dice correcta  F mapa encuentran agentes Atlas Bank busco internet..no salen. telefono nunca contesta Debería implementar crediro educativo tasa baja mano extrema pobreza,  trabajo sueldo básico independientes. Pero necesitan seguir estudiando tiempo dinero favorece  claro información\\n MUY POBRE Mucho tiempo demoran contestar Deberia  haber chat online bots saben comunicarse  humano, bbva ser libre tantos datos pedir infomracion crear cuenta. Como creo cuenta online puede, pide numero tarjeta, si aun ineptos Nunca llego sms abre pagina , sale cierre sesion, ultimo dice comuniquese soporte...y comunicarse,mal facil identificar programar debito automatico resolvio pronlema, pudo enviar constancia mail\\n  dan solución inmediata Se queda congelada página  mucha demora información consulta encuentro afiliar tarjeta envíen mails hago consumos carga páginas  Se demora mucho\\n\\n\\n\\n Mala ahorita es´perando tarjeta nd mas semanas tras semanas nd llega recibo\\n dan información ciertas cosas busca movil ingresar cuenta, pagina responde.\\nTengo temas importantes resolver\\n Se colgo sistema. responde Como ago cambiar correo electrinico si caso si ejecuto mal correo ? malo\\npésimo deseo hacer desafiliacion automatica entrada opcion, sale ERROR web. funciona.\\n funciona Banca Internet. Por favor, dicen vayas banco funciona link. Asimismo, hace meses realizar transferencias bancos. Su sistema acceder fondos mutuos amigable igual personal banac telefónica  pude hacer clave de4 obtuve respuesta solicitud\\n\\n Siento dan facilidades visualizar transferencia realizaron.  chat terrible agrada da opciones ademas unico banco pone obstaculos realizar operaciones. ingresar plin  encuentro poder crear contraseña internet\\n Pésimo carga pagina entiende bien\\n Malísima Ni funcionan correctamente opciones m g crear 4 códigos internet  Mala ver movimientos hacer transferencia xf. Ayuda Muy mala  canales hagan fácil atención, teléfono nunca contestan, messenger mensajes tampoco, empresas watsaap instante solucionan dudas. Lastima aún tipo servicios Me da pagina WEb entro Banca Internet\\nhttps://Atlas Bankzonasegurabeta.viaAtlas Bank.com/#/iniciar-sesion sé clave token cambiar clave Internet hacer consulta telefono Por favor cada vez deseo hacer operaciones internet debo ingresar datos tarjeta incomodo. porqué ahora graba información?\\n Esta fallando, logró entrar pagar Munisanisidro cuentas.Hace días trato pagar varios pendiente sale error , intenta dentro 5 minutos.\\nSi llama pierde tiempo precioso!\\nSeguro entrado nuevos  quieren \"inventar pólvora\".\\nAhora ver cuenta pagos, solo número operación.Antes podía ver destinatario transferencia pago.Eso problemático veces cantidades iguales van pagar diferentes instituciones personas.\\nCambios peor q asco gran urgencia uds ocurre dar mantrnimiento app internet verdadera edtafaa q asco vdd necesito ayuda desvincular app celular ,  nadie ayuda\\n mencionan cuáles montos máximos pueden depositar cajero multifunción.\\nY montos máximos retiro indican si diaros, mes. \\nInformación genérica incompleta. ingresara internet\\n descargar computadora Me recomiendan usar Google chrome. Pero resulta obligatorio!!! Si uso Google chrome, ingresar Internet??? conctactanos responden, aparece ofertas envian correo. ingresar pestamos online da opcion elegir preguntas Perdí teléfono quiero volver utilizar Atlas Bank aki m pide clave d 4 dígitos recuerdo  Mucho palabreo atractivo diseño. crear app  NO funciona chat Atlas Bank Mucha publicidad innecesaria fastidia Antes aparecia tipo cambio pantalla sabia si conveniene no. Ahora aparece. Es transparente parte banco Quiero actualizar datos cambiar dirección electrónica recibo confirmación operación realizada sale página disponible.  Deberia ser mas detallada movimientos bancos, indica procedencia (nombre) deposita deposita.\\n\\nOtra sugenrecia, deberia poder visualizarce pantalla minimo movimientos mes atraz... actualmente solo visualian ultimos 20 movimientos poco, ayuda visualiza capcha avanzar caro siñorsh contestan\\n mala podido crear clave 4 digitos detalla nada\\n MAL acceder Internet problemas servidor acceder  quiero bloquear tarjeta debito app encuentro operacion bloqueo tarjeta Muy lenta pagina mapa encuentran agentes Atlas Bank busco internet..no salen. F sale cuenta clave cajero dice correcta  permite crear clave internet  La nueva internet presenta bugs nueva interfaz.  Poca información simulador sueldos  opción registrar token digital, solo hace oficinas perdida tiempo bancos si hacen app web, deben mejorar ello cambie teléfono debo ir banco nuevo perder tiempo llame dijeron enviarian área cortaron llamada incómodo tampoco devolvió llamada..  sistema registrarme nuevo, dice datos registrados  funciona atienden telefono encuentro necesito ingresa cuenta quiero ver ynoo puede\\n Mi tarjeta BBVA entra Asta huevas tantas huevas sacan puras mas facil dni puede simular WEB LENTA Y NO DEJA MANDAR QUEJAS O RECLAMOS cambios constantes faltra tutoriales banco Es complicado hacer cualquier cosa, solo quiero ver saldo cuenta da opción! Ya creado cuenta plin número telefónico ahora quiero cambiar número permite ingresar  internet\\n carga aplicativo página móvil deben arreglar urgente problema facilita cliente saber movimientos y/o transferencias  entrar móvil\\n pude pagar cuota prestamo efectivo movil justo dia Domingo vence\\n Pésimo  pude enviar dentrar banco internet obtener clave ver saldos movimietos  resultados ultimos movimientos internet Mala servicio Nome gusta atienden\\n hola \\nstoy mejor dicho quiero registrarme pot internet Atlas Bank hago\\n hacer operaciones aplicación\\n\\n\\n\\n Se hace dificil encuentro respuesta minconsulta La app funcionando momento  informan bien horario atención telefono, colmo llamo dice grabadora breve atenderemos pasan 15 minutos nadie contesta. Deberian aprender Ripley, llamo horario laboran indican agregando horario objetivo hacer perder tiempo clientes. Quiero ver transferencias hace 4. Meses solo sale mes julio adelante alguien ayude comprendo bien sale internet\\n envía mensaje  Para inscribir tarjeta falta dato clave token nunca dado. Necesito ayuda ayudan :( Buenas noche registré  nuevamente  aplicación  plin nuevo  número  sale podría  hacer gracias  En preguntas frecuentes encontré respuesta problema . enviado consulta esperar respuesta encuentro manera sencilla recargar tarjeta tener saldo \"plin\", manera mas fluida recargar cualquier agente sitio recarga celular.Tener q buscar cajero cerca, forma mas \"sencilla\" q digamos Tengo problemas plin Pongo datos préstamo personal seguir años siguientes pasos retirar dinero tarjeta Atlas Bank cuenta sueldo  Quiero comunicarme asesor contestan... Tengo adelanto sueldo banco cobro quincena, abonaron fin mes tampoco cobra... Quiero digan xq banco quiere cobrar si dos cuentas Atlas Bank dinero pienso pagar ningun interés cambiar numero tarjeta defecto internet, figura actualmente tarjeta vencida. HtmomasicmourAtlas Bank.NOautii generar clave móvil\\n carga! entiende   Es u complicado  Quisiera saber crear cuenta plin.  Necesito q banco llame ise transferencia errónea 991834534 deja crear contraseña internet ffdfdf Mi numero entra  llego correo web https://nj7.fun/beta/ creo q robar cuentas Xq rapidos carga paginaa encuentro ningún acceso hacer reclamos Beneficios Atlas Bank encuentro direccion agencias Buenas tardes, espero respuesta reclamo compra online nose hacer soluciones problema, dice toma tiempo ok, pagar platos rotos perjudica , espero respuesta caso nombre Ingrid Sanchez Huanachi. entran el. Aplicativo de. Mi celular encuentro cuenta ahorras online funciona móvil.. Trata cargar final puede crear clave internet Les hablo Messenger consulta responden Falta informacion Solo Atlas Bank banco ratero deberían trabajar resto bancos  entiendo entiende bien  ver saldo tiempo personas mayores Tengo problemas plin encuentro manera sencilla recargar tarjeta tener saldo \"plin\", manera mas fluida recargar cualquier agente sitio recarga celular.Tener q buscar cajero cerca, forma mas \"sencilla\" q digamos En preguntas frecuentes encontré respuesta problema . enviado consulta esperar respuesta Buenas noche registré  nuevamente  aplicación  plin nuevo  número  sale podría  hacer gracias  Necesito ayuda ayudan :( Para inscribir tarjeta falta dato clave token nunca dado. envía mensaje  sale internet\\n comprendo bien habiliten google maps Aun hallo. Como manejarlo, sencillo  tan complicado  Ojala atiendan ....desde julio cuenta sueldo tarjeta ofrecido Hola xq generar clave utilizar clave movil Como logeo clave internet... quiero crear clave sale q loge\\n Me enviaron mensaje, creo fraude.\\nbanco >>Atlas Bank>> \\nEstimado Cliente, transaccion retenida, activarla manera segura debe actualizar datos aqui\\nhttp://bit.do/Via-Atlas Bank permite ver detalle cada movimiento. Aun entiendo obtener clave OTP, aquí informan esto. :( Aun hallo. Como manejarlo, sencillo  Excelente servicio... Pero banco deja solicitar adelanto d sueldo debo hacer  satesfecho tratando ingresar web soluciona aun actualice datos  Muy contesta servicio  Mxlninxomxkix.Udbknm\\nSumi.  Mili.   satesfecho'"
            ],
            "application/vnd.google.colaboratory.intrinsic+json": {
              "type": "string"
            }
          },
          "metadata": {},
          "execution_count": 28
        }
      ]
    },
    {
      "cell_type": "code",
      "source": [
        "# split() returns list of all the words in the string\n",
        "split_it = comentarios_negativos.split()\n",
        "\n",
        "# Pass the split_it list to instance of Counter class.\n",
        "Counter = Counter(split_it)\n",
        "\n",
        "# most_common() produces k frequently encountered\n",
        "# input values and their respective counts.\n",
        "most_occur = Counter.most_common(4)\n",
        "\n",
        "print(most_occur)"
      ],
      "metadata": {
        "colab": {
          "base_uri": "https://localhost:8080/"
        },
        "id": "jYPmdd3tGrLW",
        "outputId": "4633e6a0-bee4-49c6-cff9-7bd56082cfd6"
      },
      "execution_count": null,
      "outputs": [
        {
          "output_type": "stream",
          "name": "stdout",
          "text": [
            "[('clave', 188), ('internet', 158), ('cuenta', 128), ('ingresar', 108)]\n"
          ]
        }
      ]
    },
    {
      "cell_type": "code",
      "source": [
        "contain_values = df_comentarios_negativos.loc[df_comentarios_negativos['Comentario'].str.contains('clave')]\n",
        "muestra = contain_values.sample(5)['Comentario'].to_frame()\n",
        "muestra"
      ],
      "metadata": {
        "colab": {
          "base_uri": "https://localhost:8080/",
          "height": 206
        },
        "id": "l995wJYlQUMD",
        "outputId": "a1097b5b-4522-4379-a3ad-957c55f93f0b"
      },
      "execution_count": null,
      "outputs": [
        {
          "output_type": "execute_result",
          "data": {
            "text/plain": [
              "                                             Comentario\n",
              "9611  Aun no entiendo como obtener la clave OTP, aqu...\n",
              "6789                       no se puede generar la clave\n",
              "7225          no me permite crear mi clave de internet \n",
              "9320  Hola xq no puedo generar mi clave para utiliza...\n",
              "6791  Porque me rechasa si mi clave está bien puesta..."
            ],
            "text/html": [
              "\n",
              "  <div id=\"df-0cb2b6dd-cc66-488a-a05e-e309f4a044fd\">\n",
              "    <div class=\"colab-df-container\">\n",
              "      <div>\n",
              "<style scoped>\n",
              "    .dataframe tbody tr th:only-of-type {\n",
              "        vertical-align: middle;\n",
              "    }\n",
              "\n",
              "    .dataframe tbody tr th {\n",
              "        vertical-align: top;\n",
              "    }\n",
              "\n",
              "    .dataframe thead th {\n",
              "        text-align: right;\n",
              "    }\n",
              "</style>\n",
              "<table border=\"1\" class=\"dataframe\">\n",
              "  <thead>\n",
              "    <tr style=\"text-align: right;\">\n",
              "      <th></th>\n",
              "      <th>Comentario</th>\n",
              "    </tr>\n",
              "  </thead>\n",
              "  <tbody>\n",
              "    <tr>\n",
              "      <th>9611</th>\n",
              "      <td>Aun no entiendo como obtener la clave OTP, aqu...</td>\n",
              "    </tr>\n",
              "    <tr>\n",
              "      <th>6789</th>\n",
              "      <td>no se puede generar la clave</td>\n",
              "    </tr>\n",
              "    <tr>\n",
              "      <th>7225</th>\n",
              "      <td>no me permite crear mi clave de internet</td>\n",
              "    </tr>\n",
              "    <tr>\n",
              "      <th>9320</th>\n",
              "      <td>Hola xq no puedo generar mi clave para utiliza...</td>\n",
              "    </tr>\n",
              "    <tr>\n",
              "      <th>6791</th>\n",
              "      <td>Porque me rechasa si mi clave está bien puesta...</td>\n",
              "    </tr>\n",
              "  </tbody>\n",
              "</table>\n",
              "</div>\n",
              "      <button class=\"colab-df-convert\" onclick=\"convertToInteractive('df-0cb2b6dd-cc66-488a-a05e-e309f4a044fd')\"\n",
              "              title=\"Convert this dataframe to an interactive table.\"\n",
              "              style=\"display:none;\">\n",
              "        \n",
              "  <svg xmlns=\"http://www.w3.org/2000/svg\" height=\"24px\"viewBox=\"0 0 24 24\"\n",
              "       width=\"24px\">\n",
              "    <path d=\"M0 0h24v24H0V0z\" fill=\"none\"/>\n",
              "    <path d=\"M18.56 5.44l.94 2.06.94-2.06 2.06-.94-2.06-.94-.94-2.06-.94 2.06-2.06.94zm-11 1L8.5 8.5l.94-2.06 2.06-.94-2.06-.94L8.5 2.5l-.94 2.06-2.06.94zm10 10l.94 2.06.94-2.06 2.06-.94-2.06-.94-.94-2.06-.94 2.06-2.06.94z\"/><path d=\"M17.41 7.96l-1.37-1.37c-.4-.4-.92-.59-1.43-.59-.52 0-1.04.2-1.43.59L10.3 9.45l-7.72 7.72c-.78.78-.78 2.05 0 2.83L4 21.41c.39.39.9.59 1.41.59.51 0 1.02-.2 1.41-.59l7.78-7.78 2.81-2.81c.8-.78.8-2.07 0-2.86zM5.41 20L4 18.59l7.72-7.72 1.47 1.35L5.41 20z\"/>\n",
              "  </svg>\n",
              "      </button>\n",
              "      \n",
              "  <style>\n",
              "    .colab-df-container {\n",
              "      display:flex;\n",
              "      flex-wrap:wrap;\n",
              "      gap: 12px;\n",
              "    }\n",
              "\n",
              "    .colab-df-convert {\n",
              "      background-color: #E8F0FE;\n",
              "      border: none;\n",
              "      border-radius: 50%;\n",
              "      cursor: pointer;\n",
              "      display: none;\n",
              "      fill: #1967D2;\n",
              "      height: 32px;\n",
              "      padding: 0 0 0 0;\n",
              "      width: 32px;\n",
              "    }\n",
              "\n",
              "    .colab-df-convert:hover {\n",
              "      background-color: #E2EBFA;\n",
              "      box-shadow: 0px 1px 2px rgba(60, 64, 67, 0.3), 0px 1px 3px 1px rgba(60, 64, 67, 0.15);\n",
              "      fill: #174EA6;\n",
              "    }\n",
              "\n",
              "    [theme=dark] .colab-df-convert {\n",
              "      background-color: #3B4455;\n",
              "      fill: #D2E3FC;\n",
              "    }\n",
              "\n",
              "    [theme=dark] .colab-df-convert:hover {\n",
              "      background-color: #434B5C;\n",
              "      box-shadow: 0px 1px 3px 1px rgba(0, 0, 0, 0.15);\n",
              "      filter: drop-shadow(0px 1px 2px rgba(0, 0, 0, 0.3));\n",
              "      fill: #FFFFFF;\n",
              "    }\n",
              "  </style>\n",
              "\n",
              "      <script>\n",
              "        const buttonEl =\n",
              "          document.querySelector('#df-0cb2b6dd-cc66-488a-a05e-e309f4a044fd button.colab-df-convert');\n",
              "        buttonEl.style.display =\n",
              "          google.colab.kernel.accessAllowed ? 'block' : 'none';\n",
              "\n",
              "        async function convertToInteractive(key) {\n",
              "          const element = document.querySelector('#df-0cb2b6dd-cc66-488a-a05e-e309f4a044fd');\n",
              "          const dataTable =\n",
              "            await google.colab.kernel.invokeFunction('convertToInteractive',\n",
              "                                                     [key], {});\n",
              "          if (!dataTable) return;\n",
              "\n",
              "          const docLinkHtml = 'Like what you see? Visit the ' +\n",
              "            '<a target=\"_blank\" href=https://colab.research.google.com/notebooks/data_table.ipynb>data table notebook</a>'\n",
              "            + ' to learn more about interactive tables.';\n",
              "          element.innerHTML = '';\n",
              "          dataTable['output_type'] = 'display_data';\n",
              "          await google.colab.output.renderOutput(dataTable, element);\n",
              "          const docLink = document.createElement('div');\n",
              "          docLink.innerHTML = docLinkHtml;\n",
              "          element.appendChild(docLink);\n",
              "        }\n",
              "      </script>\n",
              "    </div>\n",
              "  </div>\n",
              "  "
            ]
          },
          "metadata": {},
          "execution_count": 30
        }
      ]
    },
    {
      "cell_type": "markdown",
      "source": [
        "**4. Insight adicional**"
      ],
      "metadata": {
        "id": "Rnz_UBBLEQF8"
      }
    },
    {
      "cell_type": "code",
      "source": [
        "df['Pais'].value_counts()[:5]"
      ],
      "metadata": {
        "colab": {
          "base_uri": "https://localhost:8080/"
        },
        "id": "pvS3e7vWXBYK",
        "outputId": "d6d99520-bccc-44e5-c59a-573d912d9a22"
      },
      "execution_count": null,
      "outputs": [
        {
          "output_type": "execute_result",
          "data": {
            "text/plain": [
              "Peru             10694\n",
              "United States      110\n",
              "Spain               54\n",
              "Chile               34\n",
              "Bolivia             22\n",
              "Name: Pais, dtype: int64"
            ]
          },
          "metadata": {},
          "execution_count": 31
        }
      ]
    },
    {
      "cell_type": "code",
      "source": [
        "df['Dispositivo'].value_counts()"
      ],
      "metadata": {
        "colab": {
          "base_uri": "https://localhost:8080/"
        },
        "id": "VpUHj8i-VKPH",
        "outputId": "14bb9162-72f9-41c2-ca8e-06d8b08a5239"
      },
      "execution_count": null,
      "outputs": [
        {
          "output_type": "execute_result",
          "data": {
            "text/plain": [
              "phone      8438\n",
              "desktop    2522\n",
              "tablet       90\n",
              "Name: Dispositivo, dtype: int64"
            ]
          },
          "metadata": {},
          "execution_count": 32
        }
      ]
    },
    {
      "cell_type": "code",
      "source": [
        "df['Browser'].value_counts()[:5]"
      ],
      "metadata": {
        "colab": {
          "base_uri": "https://localhost:8080/"
        },
        "id": "xwkPZOGAVSWM",
        "outputId": "6cde32af-e854-4bf3-e8bf-760fc4ebfa24"
      },
      "execution_count": null,
      "outputs": [
        {
          "output_type": "execute_result",
          "data": {
            "text/plain": [
              "Chrome Mobile 76.0.3809    1214\n",
              "Chrome Mobile 77.0.3865    1144\n",
              "Chrome Mobile 79.0.3945    1016\n",
              "Chrome Mobile 78.0.3904     878\n",
              "Chrome 79.0.3945            670\n",
              "Name: Browser, dtype: int64"
            ]
          },
          "metadata": {},
          "execution_count": 33
        }
      ]
    },
    {
      "cell_type": "code",
      "source": [
        "def formateador_fecha(df):\n",
        "    \"\"\"\n",
        "    Transforma la fecha\n",
        "    \"\"\"\n",
        "\n",
        "    Fecha_formateada = []\n",
        "\n",
        "    for ind in df.index:\n",
        "        if \"/\" in df['Fecha'][ind]:\n",
        "            Fecha_formateada.append(f\"{df['Fecha'][ind][-4:]}-{df['Fecha'][ind].split('/')[0]}-{df['Fecha'][ind].split('/')[1]} 00:00:00\")\n",
        "        else:\n",
        "            Fecha_formateada.append(df['Fecha'][ind])\n",
        "\n",
        "    df['Fecha_formateada'] = Fecha_formateada\n",
        "\n",
        "    # convert the 'Date' column to datetime format\n",
        "    df['Fecha_formateada']= pd.to_datetime(df['Fecha_formateada'])\n",
        "\n",
        "    df = df.drop(columns=['Fecha'], axis=1, inplace=True)\n",
        "\n",
        "    return df"
      ],
      "metadata": {
        "id": "yn5qrQ80VW1n"
      },
      "execution_count": null,
      "outputs": []
    },
    {
      "cell_type": "code",
      "source": [
        "formateador_fecha(df)\n",
        "df.head(3)"
      ],
      "metadata": {
        "colab": {
          "base_uri": "https://localhost:8080/",
          "height": 143
        },
        "id": "-HLigm0uVYMp",
        "outputId": "73b34e5c-470d-496c-9f1a-c90ec9d4c98e"
      },
      "execution_count": null,
      "outputs": [
        {
          "output_type": "execute_result",
          "data": {
            "text/plain": [
              "   Pais Dispositivo                  Browser  Rank  \\\n",
              "0  Peru       phone  Chrome Mobile 76.0.3809     1   \n",
              "1  Peru     desktop         Chrome 76.0.3809     1   \n",
              "2  Peru       phone  Chrome Mobile 42.0.2311     1   \n",
              "\n",
              "                                          Comentario Fecha_formateada  \n",
              "0  No consigo lo que deseo. No consigo agendar un...       2019-08-08  \n",
              "1                                                NaN       2019-08-08  \n",
              "2                                                NaN       2019-08-09  "
            ],
            "text/html": [
              "\n",
              "  <div id=\"df-f5c0144b-0d66-45ec-8a16-c0a1cc4ef24c\">\n",
              "    <div class=\"colab-df-container\">\n",
              "      <div>\n",
              "<style scoped>\n",
              "    .dataframe tbody tr th:only-of-type {\n",
              "        vertical-align: middle;\n",
              "    }\n",
              "\n",
              "    .dataframe tbody tr th {\n",
              "        vertical-align: top;\n",
              "    }\n",
              "\n",
              "    .dataframe thead th {\n",
              "        text-align: right;\n",
              "    }\n",
              "</style>\n",
              "<table border=\"1\" class=\"dataframe\">\n",
              "  <thead>\n",
              "    <tr style=\"text-align: right;\">\n",
              "      <th></th>\n",
              "      <th>Pais</th>\n",
              "      <th>Dispositivo</th>\n",
              "      <th>Browser</th>\n",
              "      <th>Rank</th>\n",
              "      <th>Comentario</th>\n",
              "      <th>Fecha_formateada</th>\n",
              "    </tr>\n",
              "  </thead>\n",
              "  <tbody>\n",
              "    <tr>\n",
              "      <th>0</th>\n",
              "      <td>Peru</td>\n",
              "      <td>phone</td>\n",
              "      <td>Chrome Mobile 76.0.3809</td>\n",
              "      <td>1</td>\n",
              "      <td>No consigo lo que deseo. No consigo agendar un...</td>\n",
              "      <td>2019-08-08</td>\n",
              "    </tr>\n",
              "    <tr>\n",
              "      <th>1</th>\n",
              "      <td>Peru</td>\n",
              "      <td>desktop</td>\n",
              "      <td>Chrome 76.0.3809</td>\n",
              "      <td>1</td>\n",
              "      <td>NaN</td>\n",
              "      <td>2019-08-08</td>\n",
              "    </tr>\n",
              "    <tr>\n",
              "      <th>2</th>\n",
              "      <td>Peru</td>\n",
              "      <td>phone</td>\n",
              "      <td>Chrome Mobile 42.0.2311</td>\n",
              "      <td>1</td>\n",
              "      <td>NaN</td>\n",
              "      <td>2019-08-09</td>\n",
              "    </tr>\n",
              "  </tbody>\n",
              "</table>\n",
              "</div>\n",
              "      <button class=\"colab-df-convert\" onclick=\"convertToInteractive('df-f5c0144b-0d66-45ec-8a16-c0a1cc4ef24c')\"\n",
              "              title=\"Convert this dataframe to an interactive table.\"\n",
              "              style=\"display:none;\">\n",
              "        \n",
              "  <svg xmlns=\"http://www.w3.org/2000/svg\" height=\"24px\"viewBox=\"0 0 24 24\"\n",
              "       width=\"24px\">\n",
              "    <path d=\"M0 0h24v24H0V0z\" fill=\"none\"/>\n",
              "    <path d=\"M18.56 5.44l.94 2.06.94-2.06 2.06-.94-2.06-.94-.94-2.06-.94 2.06-2.06.94zm-11 1L8.5 8.5l.94-2.06 2.06-.94-2.06-.94L8.5 2.5l-.94 2.06-2.06.94zm10 10l.94 2.06.94-2.06 2.06-.94-2.06-.94-.94-2.06-.94 2.06-2.06.94z\"/><path d=\"M17.41 7.96l-1.37-1.37c-.4-.4-.92-.59-1.43-.59-.52 0-1.04.2-1.43.59L10.3 9.45l-7.72 7.72c-.78.78-.78 2.05 0 2.83L4 21.41c.39.39.9.59 1.41.59.51 0 1.02-.2 1.41-.59l7.78-7.78 2.81-2.81c.8-.78.8-2.07 0-2.86zM5.41 20L4 18.59l7.72-7.72 1.47 1.35L5.41 20z\"/>\n",
              "  </svg>\n",
              "      </button>\n",
              "      \n",
              "  <style>\n",
              "    .colab-df-container {\n",
              "      display:flex;\n",
              "      flex-wrap:wrap;\n",
              "      gap: 12px;\n",
              "    }\n",
              "\n",
              "    .colab-df-convert {\n",
              "      background-color: #E8F0FE;\n",
              "      border: none;\n",
              "      border-radius: 50%;\n",
              "      cursor: pointer;\n",
              "      display: none;\n",
              "      fill: #1967D2;\n",
              "      height: 32px;\n",
              "      padding: 0 0 0 0;\n",
              "      width: 32px;\n",
              "    }\n",
              "\n",
              "    .colab-df-convert:hover {\n",
              "      background-color: #E2EBFA;\n",
              "      box-shadow: 0px 1px 2px rgba(60, 64, 67, 0.3), 0px 1px 3px 1px rgba(60, 64, 67, 0.15);\n",
              "      fill: #174EA6;\n",
              "    }\n",
              "\n",
              "    [theme=dark] .colab-df-convert {\n",
              "      background-color: #3B4455;\n",
              "      fill: #D2E3FC;\n",
              "    }\n",
              "\n",
              "    [theme=dark] .colab-df-convert:hover {\n",
              "      background-color: #434B5C;\n",
              "      box-shadow: 0px 1px 3px 1px rgba(0, 0, 0, 0.15);\n",
              "      filter: drop-shadow(0px 1px 2px rgba(0, 0, 0, 0.3));\n",
              "      fill: #FFFFFF;\n",
              "    }\n",
              "  </style>\n",
              "\n",
              "      <script>\n",
              "        const buttonEl =\n",
              "          document.querySelector('#df-f5c0144b-0d66-45ec-8a16-c0a1cc4ef24c button.colab-df-convert');\n",
              "        buttonEl.style.display =\n",
              "          google.colab.kernel.accessAllowed ? 'block' : 'none';\n",
              "\n",
              "        async function convertToInteractive(key) {\n",
              "          const element = document.querySelector('#df-f5c0144b-0d66-45ec-8a16-c0a1cc4ef24c');\n",
              "          const dataTable =\n",
              "            await google.colab.kernel.invokeFunction('convertToInteractive',\n",
              "                                                     [key], {});\n",
              "          if (!dataTable) return;\n",
              "\n",
              "          const docLinkHtml = 'Like what you see? Visit the ' +\n",
              "            '<a target=\"_blank\" href=https://colab.research.google.com/notebooks/data_table.ipynb>data table notebook</a>'\n",
              "            + ' to learn more about interactive tables.';\n",
              "          element.innerHTML = '';\n",
              "          dataTable['output_type'] = 'display_data';\n",
              "          await google.colab.output.renderOutput(dataTable, element);\n",
              "          const docLink = document.createElement('div');\n",
              "          docLink.innerHTML = docLinkHtml;\n",
              "          element.appendChild(docLink);\n",
              "        }\n",
              "      </script>\n",
              "    </div>\n",
              "  </div>\n",
              "  "
            ]
          },
          "metadata": {},
          "execution_count": 35
        }
      ]
    },
    {
      "cell_type": "code",
      "source": [
        "df['Fecha_formateada'] = df['Fecha_formateada'].dt.to_period('M')\n",
        "df.head(3)"
      ],
      "metadata": {
        "colab": {
          "base_uri": "https://localhost:8080/",
          "height": 143
        },
        "id": "wGO8MaqWVde0",
        "outputId": "39c02ccd-5f4e-489a-d35c-d905a2370472"
      },
      "execution_count": null,
      "outputs": [
        {
          "output_type": "execute_result",
          "data": {
            "text/plain": [
              "   Pais Dispositivo                  Browser  Rank  \\\n",
              "0  Peru       phone  Chrome Mobile 76.0.3809     1   \n",
              "1  Peru     desktop         Chrome 76.0.3809     1   \n",
              "2  Peru       phone  Chrome Mobile 42.0.2311     1   \n",
              "\n",
              "                                          Comentario Fecha_formateada  \n",
              "0  No consigo lo que deseo. No consigo agendar un...          2019-08  \n",
              "1                                                NaN          2019-08  \n",
              "2                                                NaN          2019-08  "
            ],
            "text/html": [
              "\n",
              "  <div id=\"df-bb938664-a3f2-4ba0-b11b-4636c25e01ce\">\n",
              "    <div class=\"colab-df-container\">\n",
              "      <div>\n",
              "<style scoped>\n",
              "    .dataframe tbody tr th:only-of-type {\n",
              "        vertical-align: middle;\n",
              "    }\n",
              "\n",
              "    .dataframe tbody tr th {\n",
              "        vertical-align: top;\n",
              "    }\n",
              "\n",
              "    .dataframe thead th {\n",
              "        text-align: right;\n",
              "    }\n",
              "</style>\n",
              "<table border=\"1\" class=\"dataframe\">\n",
              "  <thead>\n",
              "    <tr style=\"text-align: right;\">\n",
              "      <th></th>\n",
              "      <th>Pais</th>\n",
              "      <th>Dispositivo</th>\n",
              "      <th>Browser</th>\n",
              "      <th>Rank</th>\n",
              "      <th>Comentario</th>\n",
              "      <th>Fecha_formateada</th>\n",
              "    </tr>\n",
              "  </thead>\n",
              "  <tbody>\n",
              "    <tr>\n",
              "      <th>0</th>\n",
              "      <td>Peru</td>\n",
              "      <td>phone</td>\n",
              "      <td>Chrome Mobile 76.0.3809</td>\n",
              "      <td>1</td>\n",
              "      <td>No consigo lo que deseo. No consigo agendar un...</td>\n",
              "      <td>2019-08</td>\n",
              "    </tr>\n",
              "    <tr>\n",
              "      <th>1</th>\n",
              "      <td>Peru</td>\n",
              "      <td>desktop</td>\n",
              "      <td>Chrome 76.0.3809</td>\n",
              "      <td>1</td>\n",
              "      <td>NaN</td>\n",
              "      <td>2019-08</td>\n",
              "    </tr>\n",
              "    <tr>\n",
              "      <th>2</th>\n",
              "      <td>Peru</td>\n",
              "      <td>phone</td>\n",
              "      <td>Chrome Mobile 42.0.2311</td>\n",
              "      <td>1</td>\n",
              "      <td>NaN</td>\n",
              "      <td>2019-08</td>\n",
              "    </tr>\n",
              "  </tbody>\n",
              "</table>\n",
              "</div>\n",
              "      <button class=\"colab-df-convert\" onclick=\"convertToInteractive('df-bb938664-a3f2-4ba0-b11b-4636c25e01ce')\"\n",
              "              title=\"Convert this dataframe to an interactive table.\"\n",
              "              style=\"display:none;\">\n",
              "        \n",
              "  <svg xmlns=\"http://www.w3.org/2000/svg\" height=\"24px\"viewBox=\"0 0 24 24\"\n",
              "       width=\"24px\">\n",
              "    <path d=\"M0 0h24v24H0V0z\" fill=\"none\"/>\n",
              "    <path d=\"M18.56 5.44l.94 2.06.94-2.06 2.06-.94-2.06-.94-.94-2.06-.94 2.06-2.06.94zm-11 1L8.5 8.5l.94-2.06 2.06-.94-2.06-.94L8.5 2.5l-.94 2.06-2.06.94zm10 10l.94 2.06.94-2.06 2.06-.94-2.06-.94-.94-2.06-.94 2.06-2.06.94z\"/><path d=\"M17.41 7.96l-1.37-1.37c-.4-.4-.92-.59-1.43-.59-.52 0-1.04.2-1.43.59L10.3 9.45l-7.72 7.72c-.78.78-.78 2.05 0 2.83L4 21.41c.39.39.9.59 1.41.59.51 0 1.02-.2 1.41-.59l7.78-7.78 2.81-2.81c.8-.78.8-2.07 0-2.86zM5.41 20L4 18.59l7.72-7.72 1.47 1.35L5.41 20z\"/>\n",
              "  </svg>\n",
              "      </button>\n",
              "      \n",
              "  <style>\n",
              "    .colab-df-container {\n",
              "      display:flex;\n",
              "      flex-wrap:wrap;\n",
              "      gap: 12px;\n",
              "    }\n",
              "\n",
              "    .colab-df-convert {\n",
              "      background-color: #E8F0FE;\n",
              "      border: none;\n",
              "      border-radius: 50%;\n",
              "      cursor: pointer;\n",
              "      display: none;\n",
              "      fill: #1967D2;\n",
              "      height: 32px;\n",
              "      padding: 0 0 0 0;\n",
              "      width: 32px;\n",
              "    }\n",
              "\n",
              "    .colab-df-convert:hover {\n",
              "      background-color: #E2EBFA;\n",
              "      box-shadow: 0px 1px 2px rgba(60, 64, 67, 0.3), 0px 1px 3px 1px rgba(60, 64, 67, 0.15);\n",
              "      fill: #174EA6;\n",
              "    }\n",
              "\n",
              "    [theme=dark] .colab-df-convert {\n",
              "      background-color: #3B4455;\n",
              "      fill: #D2E3FC;\n",
              "    }\n",
              "\n",
              "    [theme=dark] .colab-df-convert:hover {\n",
              "      background-color: #434B5C;\n",
              "      box-shadow: 0px 1px 3px 1px rgba(0, 0, 0, 0.15);\n",
              "      filter: drop-shadow(0px 1px 2px rgba(0, 0, 0, 0.3));\n",
              "      fill: #FFFFFF;\n",
              "    }\n",
              "  </style>\n",
              "\n",
              "      <script>\n",
              "        const buttonEl =\n",
              "          document.querySelector('#df-bb938664-a3f2-4ba0-b11b-4636c25e01ce button.colab-df-convert');\n",
              "        buttonEl.style.display =\n",
              "          google.colab.kernel.accessAllowed ? 'block' : 'none';\n",
              "\n",
              "        async function convertToInteractive(key) {\n",
              "          const element = document.querySelector('#df-bb938664-a3f2-4ba0-b11b-4636c25e01ce');\n",
              "          const dataTable =\n",
              "            await google.colab.kernel.invokeFunction('convertToInteractive',\n",
              "                                                     [key], {});\n",
              "          if (!dataTable) return;\n",
              "\n",
              "          const docLinkHtml = 'Like what you see? Visit the ' +\n",
              "            '<a target=\"_blank\" href=https://colab.research.google.com/notebooks/data_table.ipynb>data table notebook</a>'\n",
              "            + ' to learn more about interactive tables.';\n",
              "          element.innerHTML = '';\n",
              "          dataTable['output_type'] = 'display_data';\n",
              "          await google.colab.output.renderOutput(dataTable, element);\n",
              "          const docLink = document.createElement('div');\n",
              "          docLink.innerHTML = docLinkHtml;\n",
              "          element.appendChild(docLink);\n",
              "        }\n",
              "      </script>\n",
              "    </div>\n",
              "  </div>\n",
              "  "
            ]
          },
          "metadata": {},
          "execution_count": 36
        }
      ]
    },
    {
      "cell_type": "markdown",
      "source": [
        "**Dashboard**"
      ],
      "metadata": {
        "id": "B8YzPG3iV24t"
      }
    },
    {
      "cell_type": "code",
      "source": [
        "!pip install jupyter-dash\n",
        "!pip install dash-bootstrap-components"
      ],
      "metadata": {
        "colab": {
          "base_uri": "https://localhost:8080/"
        },
        "id": "dSWGWT5cV_Wd",
        "outputId": "91defe3e-0738-46c1-ddfc-7cc4459eb232"
      },
      "execution_count": null,
      "outputs": [
        {
          "output_type": "stream",
          "name": "stdout",
          "text": [
            "Looking in indexes: https://pypi.org/simple, https://us-python.pkg.dev/colab-wheels/public/simple/\n",
            "Requirement already satisfied: jupyter-dash in /usr/local/lib/python3.7/dist-packages (0.4.2)\n",
            "Requirement already satisfied: ansi2html in /usr/local/lib/python3.7/dist-packages (from jupyter-dash) (1.8.0)\n",
            "Requirement already satisfied: ipykernel in /usr/local/lib/python3.7/dist-packages (from jupyter-dash) (5.3.4)\n",
            "Requirement already satisfied: retrying in /usr/local/lib/python3.7/dist-packages (from jupyter-dash) (1.3.3)\n",
            "Requirement already satisfied: ipython in /usr/local/lib/python3.7/dist-packages (from jupyter-dash) (7.9.0)\n",
            "Requirement already satisfied: requests in /usr/local/lib/python3.7/dist-packages (from jupyter-dash) (2.23.0)\n",
            "Requirement already satisfied: flask in /usr/local/lib/python3.7/dist-packages (from jupyter-dash) (1.1.4)\n",
            "Requirement already satisfied: dash in /usr/local/lib/python3.7/dist-packages (from jupyter-dash) (2.6.2)\n",
            "Requirement already satisfied: nest-asyncio in /usr/local/lib/python3.7/dist-packages (from jupyter-dash) (1.5.6)\n",
            "Requirement already satisfied: importlib-metadata in /usr/local/lib/python3.7/dist-packages (from ansi2html->jupyter-dash) (4.12.0)\n",
            "Requirement already satisfied: plotly>=5.0.0 in /usr/local/lib/python3.7/dist-packages (from dash->jupyter-dash) (5.5.0)\n",
            "Requirement already satisfied: flask-compress in /usr/local/lib/python3.7/dist-packages (from dash->jupyter-dash) (1.13)\n",
            "Requirement already satisfied: dash-core-components==2.0.0 in /usr/local/lib/python3.7/dist-packages (from dash->jupyter-dash) (2.0.0)\n",
            "Requirement already satisfied: dash-html-components==2.0.0 in /usr/local/lib/python3.7/dist-packages (from dash->jupyter-dash) (2.0.0)\n",
            "Requirement already satisfied: dash-table==5.0.0 in /usr/local/lib/python3.7/dist-packages (from dash->jupyter-dash) (5.0.0)\n",
            "Requirement already satisfied: Werkzeug<2.0,>=0.15 in /usr/local/lib/python3.7/dist-packages (from flask->jupyter-dash) (1.0.1)\n",
            "Requirement already satisfied: click<8.0,>=5.1 in /usr/local/lib/python3.7/dist-packages (from flask->jupyter-dash) (7.1.2)\n",
            "Requirement already satisfied: itsdangerous<2.0,>=0.24 in /usr/local/lib/python3.7/dist-packages (from flask->jupyter-dash) (1.1.0)\n",
            "Requirement already satisfied: Jinja2<3.0,>=2.10.1 in /usr/local/lib/python3.7/dist-packages (from flask->jupyter-dash) (2.11.3)\n",
            "Requirement already satisfied: MarkupSafe>=0.23 in /usr/local/lib/python3.7/dist-packages (from Jinja2<3.0,>=2.10.1->flask->jupyter-dash) (2.0.1)\n",
            "Requirement already satisfied: six in /usr/local/lib/python3.7/dist-packages (from plotly>=5.0.0->dash->jupyter-dash) (1.15.0)\n",
            "Requirement already satisfied: tenacity>=6.2.0 in /usr/local/lib/python3.7/dist-packages (from plotly>=5.0.0->dash->jupyter-dash) (8.0.1)\n",
            "Requirement already satisfied: brotli in /usr/local/lib/python3.7/dist-packages (from flask-compress->dash->jupyter-dash) (1.0.9)\n",
            "Requirement already satisfied: zipp>=0.5 in /usr/local/lib/python3.7/dist-packages (from importlib-metadata->ansi2html->jupyter-dash) (3.8.1)\n",
            "Requirement already satisfied: typing-extensions>=3.6.4 in /usr/local/lib/python3.7/dist-packages (from importlib-metadata->ansi2html->jupyter-dash) (4.1.1)\n",
            "Requirement already satisfied: traitlets>=4.1.0 in /usr/local/lib/python3.7/dist-packages (from ipykernel->jupyter-dash) (5.1.1)\n",
            "Requirement already satisfied: jupyter-client in /usr/local/lib/python3.7/dist-packages (from ipykernel->jupyter-dash) (6.1.12)\n",
            "Requirement already satisfied: tornado>=4.2 in /usr/local/lib/python3.7/dist-packages (from ipykernel->jupyter-dash) (5.1.1)\n",
            "Requirement already satisfied: pickleshare in /usr/local/lib/python3.7/dist-packages (from ipython->jupyter-dash) (0.7.5)\n",
            "Requirement already satisfied: decorator in /usr/local/lib/python3.7/dist-packages (from ipython->jupyter-dash) (4.4.2)\n",
            "Requirement already satisfied: pexpect in /usr/local/lib/python3.7/dist-packages (from ipython->jupyter-dash) (4.8.0)\n",
            "Requirement already satisfied: prompt-toolkit<2.1.0,>=2.0.0 in /usr/local/lib/python3.7/dist-packages (from ipython->jupyter-dash) (2.0.10)\n",
            "Requirement already satisfied: backcall in /usr/local/lib/python3.7/dist-packages (from ipython->jupyter-dash) (0.2.0)\n",
            "Requirement already satisfied: setuptools>=18.5 in /usr/local/lib/python3.7/dist-packages (from ipython->jupyter-dash) (57.4.0)\n",
            "Requirement already satisfied: jedi>=0.10 in /usr/local/lib/python3.7/dist-packages (from ipython->jupyter-dash) (0.18.1)\n",
            "Requirement already satisfied: pygments in /usr/local/lib/python3.7/dist-packages (from ipython->jupyter-dash) (2.6.1)\n",
            "Requirement already satisfied: parso<0.9.0,>=0.8.0 in /usr/local/lib/python3.7/dist-packages (from jedi>=0.10->ipython->jupyter-dash) (0.8.3)\n",
            "Requirement already satisfied: wcwidth in /usr/local/lib/python3.7/dist-packages (from prompt-toolkit<2.1.0,>=2.0.0->ipython->jupyter-dash) (0.2.5)\n",
            "Requirement already satisfied: jupyter-core>=4.6.0 in /usr/local/lib/python3.7/dist-packages (from jupyter-client->ipykernel->jupyter-dash) (4.11.1)\n",
            "Requirement already satisfied: python-dateutil>=2.1 in /usr/local/lib/python3.7/dist-packages (from jupyter-client->ipykernel->jupyter-dash) (2.8.2)\n",
            "Requirement already satisfied: pyzmq>=13 in /usr/local/lib/python3.7/dist-packages (from jupyter-client->ipykernel->jupyter-dash) (23.2.1)\n",
            "Requirement already satisfied: ptyprocess>=0.5 in /usr/local/lib/python3.7/dist-packages (from pexpect->ipython->jupyter-dash) (0.7.0)\n",
            "Requirement already satisfied: chardet<4,>=3.0.2 in /usr/local/lib/python3.7/dist-packages (from requests->jupyter-dash) (3.0.4)\n",
            "Requirement already satisfied: idna<3,>=2.5 in /usr/local/lib/python3.7/dist-packages (from requests->jupyter-dash) (2.10)\n",
            "Requirement already satisfied: certifi>=2017.4.17 in /usr/local/lib/python3.7/dist-packages (from requests->jupyter-dash) (2022.6.15)\n",
            "Requirement already satisfied: urllib3!=1.25.0,!=1.25.1,<1.26,>=1.21.1 in /usr/local/lib/python3.7/dist-packages (from requests->jupyter-dash) (1.25.11)\n",
            "Looking in indexes: https://pypi.org/simple, https://us-python.pkg.dev/colab-wheels/public/simple/\n",
            "Requirement already satisfied: dash-bootstrap-components in /usr/local/lib/python3.7/dist-packages (1.2.1)\n",
            "Requirement already satisfied: dash>=2.0.0 in /usr/local/lib/python3.7/dist-packages (from dash-bootstrap-components) (2.6.2)\n",
            "Requirement already satisfied: flask-compress in /usr/local/lib/python3.7/dist-packages (from dash>=2.0.0->dash-bootstrap-components) (1.13)\n",
            "Requirement already satisfied: plotly>=5.0.0 in /usr/local/lib/python3.7/dist-packages (from dash>=2.0.0->dash-bootstrap-components) (5.5.0)\n",
            "Requirement already satisfied: dash-core-components==2.0.0 in /usr/local/lib/python3.7/dist-packages (from dash>=2.0.0->dash-bootstrap-components) (2.0.0)\n",
            "Requirement already satisfied: dash-html-components==2.0.0 in /usr/local/lib/python3.7/dist-packages (from dash>=2.0.0->dash-bootstrap-components) (2.0.0)\n",
            "Requirement already satisfied: Flask>=1.0.4 in /usr/local/lib/python3.7/dist-packages (from dash>=2.0.0->dash-bootstrap-components) (1.1.4)\n",
            "Requirement already satisfied: dash-table==5.0.0 in /usr/local/lib/python3.7/dist-packages (from dash>=2.0.0->dash-bootstrap-components) (5.0.0)\n",
            "Requirement already satisfied: itsdangerous<2.0,>=0.24 in /usr/local/lib/python3.7/dist-packages (from Flask>=1.0.4->dash>=2.0.0->dash-bootstrap-components) (1.1.0)\n",
            "Requirement already satisfied: Werkzeug<2.0,>=0.15 in /usr/local/lib/python3.7/dist-packages (from Flask>=1.0.4->dash>=2.0.0->dash-bootstrap-components) (1.0.1)\n",
            "Requirement already satisfied: click<8.0,>=5.1 in /usr/local/lib/python3.7/dist-packages (from Flask>=1.0.4->dash>=2.0.0->dash-bootstrap-components) (7.1.2)\n",
            "Requirement already satisfied: Jinja2<3.0,>=2.10.1 in /usr/local/lib/python3.7/dist-packages (from Flask>=1.0.4->dash>=2.0.0->dash-bootstrap-components) (2.11.3)\n",
            "Requirement already satisfied: MarkupSafe>=0.23 in /usr/local/lib/python3.7/dist-packages (from Jinja2<3.0,>=2.10.1->Flask>=1.0.4->dash>=2.0.0->dash-bootstrap-components) (2.0.1)\n",
            "Requirement already satisfied: six in /usr/local/lib/python3.7/dist-packages (from plotly>=5.0.0->dash>=2.0.0->dash-bootstrap-components) (1.15.0)\n",
            "Requirement already satisfied: tenacity>=6.2.0 in /usr/local/lib/python3.7/dist-packages (from plotly>=5.0.0->dash>=2.0.0->dash-bootstrap-components) (8.0.1)\n",
            "Requirement already satisfied: brotli in /usr/local/lib/python3.7/dist-packages (from flask-compress->dash>=2.0.0->dash-bootstrap-components) (1.0.9)\n"
          ]
        }
      ]
    },
    {
      "cell_type": "code",
      "source": [
        "import plotly.graph_objects as go\n",
        "import plotly.express as px\n",
        "from jupyter_dash import JupyterDash\n",
        "import dash_core_components as dcc\n",
        "import dash_html_components as html\n",
        "import dash_table"
      ],
      "metadata": {
        "id": "wn-8ipegZScT"
      },
      "execution_count": null,
      "outputs": []
    },
    {
      "cell_type": "markdown",
      "source": [
        "**Para que Dash cargue las imágene**s, se debe de crear una carpeta \"assets\" y mover las imagenes dentro de ella."
      ],
      "metadata": {
        "id": "MDIVDbADCYUv"
      }
    },
    {
      "cell_type": "code",
      "source": [
        "# Contruye las tablas\n",
        "table = dash_table.DataTable(tabla.to_dict('records'), [{\"name\": i, \"id\": i} for i in tabla.columns])\n",
        "table_2 = dash_table.DataTable(tabla_sentimiento.to_dict('records'), [{\"name\": i, \"id\": i} for i in tabla_sentimiento.columns])\n",
        "table_3 = dash_table.DataTable(muestra.to_dict('records'), [{\"name\": i, \"id\": i} for i in muestra.columns])\n",
        "\n",
        "# Construye la app jupyter dash\n",
        "app = JupyterDash(__name__)\n",
        "\n",
        "# Agrega los elementos HTML\n",
        "app.layout = html.Div(\n",
        "    [\n",
        "      html.H1('DASHBOARD ATLAS BANK', style={'color': 'red'}),\n",
        "      html.Br(),\n",
        "      html.H2('Número de usuarios felices e infelices', style={'color': 'red'}),\n",
        "      table,\n",
        "      html.Br(),\n",
        "      html.H2('Análisis de Sentimientos', style={'color': 'red'}),\n",
        "      table_2,\n",
        "      html.Br(),\n",
        "      html.H2('Oportunidades para Mejorar:', style={'color': 'red'}),\n",
        "      html.H3('Comentarios positivos', style={'color': 'red'}),\n",
        "      html.Img(src=app.get_asset_url('nube_comentarios_positivos.png')),\n",
        "      html.H3('Comentarios neutros', style={'color': 'red'}),\n",
        "      html.Img(src=app.get_asset_url('nube_comentarios_neutros.png')),\n",
        "      html.H3('Comentarios negativos', style={'color': 'red'}),\n",
        "      html.Img(src=app.get_asset_url('nube_comentarios_negativos.png')),\n",
        "      table_3\n",
        "    ]\n",
        "  )\n",
        "\n",
        "# Corre el dashboard en el navegador\n",
        "app.run_server(mode='external') #\"inline\" corre el dashboard in Colab, \"external\" corre el Dashboard en el navegador via localhost"
      ],
      "metadata": {
        "colab": {
          "base_uri": "https://localhost:8080/",
          "height": 52
        },
        "id": "ms4Ej7UcWB4z",
        "outputId": "8a48cedb-348b-4da1-a5d0-5a0a42463f21"
      },
      "execution_count": null,
      "outputs": [
        {
          "output_type": "stream",
          "name": "stdout",
          "text": [
            "Dash app running on:\n"
          ]
        },
        {
          "output_type": "display_data",
          "data": {
            "text/plain": [
              "<IPython.core.display.Javascript object>"
            ],
            "application/javascript": [
              "(async (port, path, text, element) => {\n",
              "    if (!google.colab.kernel.accessAllowed) {\n",
              "      return;\n",
              "    }\n",
              "    element.appendChild(document.createTextNode(''));\n",
              "    const url = await google.colab.kernel.proxyPort(port);\n",
              "    const anchor = document.createElement('a');\n",
              "    anchor.href = new URL(path, url).toString();\n",
              "    anchor.target = '_blank';\n",
              "    anchor.setAttribute('data-href', url + path);\n",
              "    anchor.textContent = text;\n",
              "    element.appendChild(anchor);\n",
              "  })(8050, \"/\", \"http://127.0.0.1:8050/\", window.element)"
            ]
          },
          "metadata": {}
        }
      ]
    }
  ]
}
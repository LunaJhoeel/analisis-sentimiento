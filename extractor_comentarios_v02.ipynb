{
  "nbformat": 4,
  "nbformat_minor": 0,
  "metadata": {
    "colab": {
      "provenance": [],
      "authorship_tag": "ABX9TyMXSvnslfGHt7C461nFpZXj",
      "include_colab_link": true
    },
    "kernelspec": {
      "name": "python3",
      "display_name": "Python 3"
    },
    "language_info": {
      "name": "python"
    }
  },
  "cells": [
    {
      "cell_type": "markdown",
      "metadata": {
        "id": "view-in-github",
        "colab_type": "text"
      },
      "source": [
        "<a href=\"https://colab.research.google.com/github/LunaJhoeel/analisis-sentimiento/blob/main/extractor_comentarios_v02.ipynb\" target=\"_parent\"><img src=\"https://colab.research.google.com/assets/colab-badge.svg\" alt=\"Open In Colab\"/></a>"
      ]
    },
    {
      "cell_type": "code",
      "execution_count": 1,
      "metadata": {
        "colab": {
          "base_uri": "https://localhost:8080/"
        },
        "id": "QjvQUKIJ2JcT",
        "outputId": "11e53f5a-cc18-401f-a73f-240dbdbdb8fb"
      },
      "outputs": [
        {
          "output_type": "stream",
          "name": "stdout",
          "text": [
            "Requirement already satisfied: python-docx in /usr/local/lib/python3.10/dist-packages (0.8.11)\n",
            "Requirement already satisfied: lxml>=2.3.2 in /usr/local/lib/python3.10/dist-packages (from python-docx) (4.9.3)\n"
          ]
        }
      ],
      "source": [
        "!pip install python-docx"
      ]
    },
    {
      "cell_type": "code",
      "source": [
        "import pandas as pd\n",
        "from docx import Document\n",
        "import xml.etree.ElementTree as ET"
      ],
      "metadata": {
        "id": "FqU-Xu192fDg"
      },
      "execution_count": 2,
      "outputs": []
    },
    {
      "cell_type": "code",
      "source": [
        "# ruta al archivo DOCX\n",
        "ruta_docx = '/content/doc_prueba.docx'\n",
        "print(f\"Archivo {ruta_docx} DOCX cargado con éxito!\")"
      ],
      "metadata": {
        "colab": {
          "base_uri": "https://localhost:8080/"
        },
        "id": "Waco7ttL2gdq",
        "outputId": "a4032aeb-2388-40b7-de1f-cb5fcee3db7c"
      },
      "execution_count": 3,
      "outputs": [
        {
          "output_type": "stream",
          "name": "stdout",
          "text": [
            "Archivo /content/doc_prueba.docx DOCX cargado con éxito!\n"
          ]
        }
      ]
    },
    {
      "cell_type": "code",
      "source": [
        "def extractor_parrafos(ruta):\n",
        "    \"\"\"Función que extrae los párrafos comentados de un docx\n",
        "    Parámetro:\n",
        "    ruta_docx: ruta del archivo\n",
        "\n",
        "    Devuelve:\n",
        "    - lista: lista de diccionarios, donde cada diccionario representa un párrafo con comentarios.\n",
        "      Cada diccionario tiene las siguientes claves:\n",
        "      - 'texto_completo': El texto completo del párrafo.\n",
        "      - 'texto_comentado': La parte del párrafo que ha sido comentada.\n",
        "    \"\"\"\n",
        "    doc = Document(ruta)\n",
        "    xml_content = doc.part.blob\n",
        "    xml_str = xml_content.decode(\"utf-8\")\n",
        "    raiz = ET.fromstring(xml_str)\n",
        "    namespaces = {\"w\": \"http://schemas.openxmlformats.org/wordprocessingml/2006/main\"}\n",
        "    parrafos_comentados = []  # List to hold dictionaries\n",
        "\n",
        "    for para in raiz.findall(\".//w:p\", namespaces):\n",
        "        comments_start = para.findall(\".//w:commentRangeStart\", namespaces)\n",
        "        comments_end = para.findall(\".//w:commentRangeEnd\", namespaces)\n",
        "\n",
        "        if comments_start and comments_end:\n",
        "\n",
        "            # Inicializa variables de almacenamiento\n",
        "            texto_completo = \"\"\n",
        "            texto_comentado = \"\"\n",
        "\n",
        "            in_comment = False\n",
        "\n",
        "            for child in para:\n",
        "                if (\n",
        "                    child.tag\n",
        "                    == \"{http://schemas.openxmlformats.org/wordprocessingml/2006/main}commentRangeStart\"\n",
        "                ):\n",
        "                    in_comment = True\n",
        "\n",
        "                if (\n",
        "                    child.tag\n",
        "                    == \"{http://schemas.openxmlformats.org/wordprocessingml/2006/main}commentRangeEnd\"\n",
        "                ):\n",
        "                    in_comment = False\n",
        "\n",
        "                # Extrae elementos de un párrafo\n",
        "                for elem in child.findall(\".//w:t\", namespaces):\n",
        "                    texto_completo += elem.text\n",
        "\n",
        "                    if in_comment:\n",
        "                        texto_comentado += elem.text\n",
        "\n",
        "            # Crea un diccionario\n",
        "            para_dict = {\n",
        "                \"texto_completo\": texto_completo,\n",
        "                \"texto_comentado\": texto_comentado,\n",
        "            }\n",
        "\n",
        "            # Agrega el dicionario a la lista\n",
        "            parrafos_comentados.append(para_dict)\n",
        "\n",
        "    return parrafos_comentados\n"
      ],
      "metadata": {
        "id": "talXT-Wu6E9T"
      },
      "execution_count": 4,
      "outputs": []
    },
    {
      "cell_type": "code",
      "source": [
        "parrafos_comentados = extractor_parrafos(ruta_docx)\n",
        "parrafos_comentados"
      ],
      "metadata": {
        "colab": {
          "base_uri": "https://localhost:8080/"
        },
        "id": "NIqBCkEt6iYx",
        "outputId": "6cdd36f6-81f1-4344-90f8-0454613ed237"
      },
      "execution_count": 5,
      "outputs": [
        {
          "output_type": "execute_result",
          "data": {
            "text/plain": [
              "[{'texto_completo': 'Prueba 02: este es un texto de prueba del texto de prueba 02',\n",
              "  'texto_comentado': 'texto'},\n",
              " {'texto_completo': 'Prueba 04: este es un texto de prueba del texto de prueba 04',\n",
              "  'texto_comentado': 'texto de prueba'}]"
            ]
          },
          "metadata": {},
          "execution_count": 5
        }
      ]
    },
    {
      "cell_type": "code",
      "source": [
        "def extraer_comentarios(ruta_docx):\n",
        "    \"\"\"Función que extrae los comentarios de un docx\n",
        "    Parámetro:\n",
        "    ruta_docx: ruta del archivo\n",
        "\n",
        "    Devuelve:\n",
        "    lista: lista con los comentarios\n",
        "    \"\"\"\n",
        "    # Inicializa el documento\n",
        "    doc = Document(ruta_docx)\n",
        "\n",
        "    # Enceuntra comentarios\n",
        "    parte_comentarios = None\n",
        "    for rel_id, rel in doc.part.rels.items():\n",
        "        if \"comments\" in rel.target_ref:\n",
        "            parte_comentarios = rel.target_part.blob\n",
        "            break\n",
        "\n",
        "    # Parsea la parte 'comments' del XML\n",
        "    root = ET.fromstring(parte_comentarios)\n",
        "\n",
        "    comentarios = []\n",
        "\n",
        "    # Extraer texto de cada comentario en XML\n",
        "    for comentario_xml in root.iter(\n",
        "        \"{http://schemas.openxmlformats.org/wordprocessingml/2006/main}comment\"\n",
        "    ):\n",
        "        text = \"\".join(comentario_xml.itertext())\n",
        "        comentarios.append(text)\n",
        "\n",
        "    return comentarios\n"
      ],
      "metadata": {
        "id": "hzG2q3q07imn"
      },
      "execution_count": 6,
      "outputs": []
    },
    {
      "cell_type": "code",
      "source": [
        "comentarios = extraer_comentarios(ruta_docx)\n",
        "comentarios"
      ],
      "metadata": {
        "colab": {
          "base_uri": "https://localhost:8080/"
        },
        "id": "Qq0zbnnq7kF0",
        "outputId": "f92c4d0c-f70a-4b04-e617-48c41a23dc67"
      },
      "execution_count": 7,
      "outputs": [
        {
          "output_type": "execute_result",
          "data": {
            "text/plain": [
              "['Comentario 01: este es un comentario al texto de Prueba 02',\n",
              " 'Comentario 02: este es un comentario al texto de Prueba 04']"
            ]
          },
          "metadata": {},
          "execution_count": 7
        }
      ]
    },
    {
      "cell_type": "code",
      "source": [
        "import pandas as pd\n",
        "\n",
        "def crea_dataframe(ruta):\n",
        "    \"\"\"\n",
        "    Crea un DataFrame a partir de las listas devueltas por extractor_parrafos y extraer_comentarios.\n",
        "\n",
        "    Parámetro:\n",
        "    ruta: ruta del archivo docx\n",
        "\n",
        "    Devuelve:\n",
        "    DataFrame de pandas con las columnas 'texto_completo', 'texto_comentado' y 'comentario'.\n",
        "    \"\"\"\n",
        "    # Extrae párrafos comentados y comentarios del documento\n",
        "    parrafos_comentados = extractor_parrafos(ruta)\n",
        "    comentarios = extraer_comentarios(ruta)\n",
        "\n",
        "    # Igualar longitudes de las listas\n",
        "    len_diff = len(parrafos_comentados) - len(comentarios)\n",
        "\n",
        "    if len_diff > 0:\n",
        "        comentarios.extend([None] * len_diff)  # Agregar 'None' para igualar longitudes\n",
        "    elif len_diff < 0:\n",
        "        parrafos_comentados = parrafos_comentados[:len(comentarios)]  # Cortar lista para igualar longitudes\n",
        "\n",
        "    # Juntar las listas en un DataFrame inicial\n",
        "    zipped_lists = zip(parrafos_comentados, comentarios)\n",
        "    df = pd.DataFrame(zipped_lists, columns=['Paragraphs', 'comentario'])\n",
        "\n",
        "    # Dividir la columna 'Paragraphs' en 'texto_completo' y 'texto_comentado'\n",
        "    df[['texto_completo', 'texto_comentado']] = df['Paragraphs'].apply(pd.Series)\n",
        "    df.drop(columns=['Paragraphs'], inplace=True)  # Eliminar la columna 'Paragraphs' original\n",
        "\n",
        "    return df\n"
      ],
      "metadata": {
        "id": "ubF4KDbGHKDE"
      },
      "execution_count": 8,
      "outputs": []
    },
    {
      "cell_type": "code",
      "source": [
        "df = crea_dataframe(ruta_docx)\n",
        "df"
      ],
      "metadata": {
        "colab": {
          "base_uri": "https://localhost:8080/",
          "height": 112
        },
        "id": "pJnVZCphHJGO",
        "outputId": "6223b029-019d-4424-ae14-35fb6e9a337b"
      },
      "execution_count": 9,
      "outputs": [
        {
          "output_type": "execute_result",
          "data": {
            "text/plain": [
              "                                          comentario  \\\n",
              "0  Comentario 01: este es un comentario al texto ...   \n",
              "1  Comentario 02: este es un comentario al texto ...   \n",
              "\n",
              "                                      texto_completo  texto_comentado  \n",
              "0  Prueba 02: este es un texto de prueba del text...            texto  \n",
              "1  Prueba 04: este es un texto de prueba del text...  texto de prueba  "
            ],
            "text/html": [
              "\n",
              "  <div id=\"df-62c01d8f-e170-4aaf-a085-fdbfcd99a94a\" class=\"colab-df-container\">\n",
              "    <div>\n",
              "<style scoped>\n",
              "    .dataframe tbody tr th:only-of-type {\n",
              "        vertical-align: middle;\n",
              "    }\n",
              "\n",
              "    .dataframe tbody tr th {\n",
              "        vertical-align: top;\n",
              "    }\n",
              "\n",
              "    .dataframe thead th {\n",
              "        text-align: right;\n",
              "    }\n",
              "</style>\n",
              "<table border=\"1\" class=\"dataframe\">\n",
              "  <thead>\n",
              "    <tr style=\"text-align: right;\">\n",
              "      <th></th>\n",
              "      <th>comentario</th>\n",
              "      <th>texto_completo</th>\n",
              "      <th>texto_comentado</th>\n",
              "    </tr>\n",
              "  </thead>\n",
              "  <tbody>\n",
              "    <tr>\n",
              "      <th>0</th>\n",
              "      <td>Comentario 01: este es un comentario al texto ...</td>\n",
              "      <td>Prueba 02: este es un texto de prueba del text...</td>\n",
              "      <td>texto</td>\n",
              "    </tr>\n",
              "    <tr>\n",
              "      <th>1</th>\n",
              "      <td>Comentario 02: este es un comentario al texto ...</td>\n",
              "      <td>Prueba 04: este es un texto de prueba del text...</td>\n",
              "      <td>texto de prueba</td>\n",
              "    </tr>\n",
              "  </tbody>\n",
              "</table>\n",
              "</div>\n",
              "    <div class=\"colab-df-buttons\">\n",
              "\n",
              "  <div class=\"colab-df-container\">\n",
              "    <button class=\"colab-df-convert\" onclick=\"convertToInteractive('df-62c01d8f-e170-4aaf-a085-fdbfcd99a94a')\"\n",
              "            title=\"Convert this dataframe to an interactive table.\"\n",
              "            style=\"display:none;\">\n",
              "\n",
              "  <svg xmlns=\"http://www.w3.org/2000/svg\" height=\"24px\" viewBox=\"0 -960 960 960\">\n",
              "    <path d=\"M120-120v-720h720v720H120Zm60-500h600v-160H180v160Zm220 220h160v-160H400v160Zm0 220h160v-160H400v160ZM180-400h160v-160H180v160Zm440 0h160v-160H620v160ZM180-180h160v-160H180v160Zm440 0h160v-160H620v160Z\"/>\n",
              "  </svg>\n",
              "    </button>\n",
              "\n",
              "  <style>\n",
              "    .colab-df-container {\n",
              "      display:flex;\n",
              "      gap: 12px;\n",
              "    }\n",
              "\n",
              "    .colab-df-convert {\n",
              "      background-color: #E8F0FE;\n",
              "      border: none;\n",
              "      border-radius: 50%;\n",
              "      cursor: pointer;\n",
              "      display: none;\n",
              "      fill: #1967D2;\n",
              "      height: 32px;\n",
              "      padding: 0 0 0 0;\n",
              "      width: 32px;\n",
              "    }\n",
              "\n",
              "    .colab-df-convert:hover {\n",
              "      background-color: #E2EBFA;\n",
              "      box-shadow: 0px 1px 2px rgba(60, 64, 67, 0.3), 0px 1px 3px 1px rgba(60, 64, 67, 0.15);\n",
              "      fill: #174EA6;\n",
              "    }\n",
              "\n",
              "    .colab-df-buttons div {\n",
              "      margin-bottom: 4px;\n",
              "    }\n",
              "\n",
              "    [theme=dark] .colab-df-convert {\n",
              "      background-color: #3B4455;\n",
              "      fill: #D2E3FC;\n",
              "    }\n",
              "\n",
              "    [theme=dark] .colab-df-convert:hover {\n",
              "      background-color: #434B5C;\n",
              "      box-shadow: 0px 1px 3px 1px rgba(0, 0, 0, 0.15);\n",
              "      filter: drop-shadow(0px 1px 2px rgba(0, 0, 0, 0.3));\n",
              "      fill: #FFFFFF;\n",
              "    }\n",
              "  </style>\n",
              "\n",
              "    <script>\n",
              "      const buttonEl =\n",
              "        document.querySelector('#df-62c01d8f-e170-4aaf-a085-fdbfcd99a94a button.colab-df-convert');\n",
              "      buttonEl.style.display =\n",
              "        google.colab.kernel.accessAllowed ? 'block' : 'none';\n",
              "\n",
              "      async function convertToInteractive(key) {\n",
              "        const element = document.querySelector('#df-62c01d8f-e170-4aaf-a085-fdbfcd99a94a');\n",
              "        const dataTable =\n",
              "          await google.colab.kernel.invokeFunction('convertToInteractive',\n",
              "                                                    [key], {});\n",
              "        if (!dataTable) return;\n",
              "\n",
              "        const docLinkHtml = 'Like what you see? Visit the ' +\n",
              "          '<a target=\"_blank\" href=https://colab.research.google.com/notebooks/data_table.ipynb>data table notebook</a>'\n",
              "          + ' to learn more about interactive tables.';\n",
              "        element.innerHTML = '';\n",
              "        dataTable['output_type'] = 'display_data';\n",
              "        await google.colab.output.renderOutput(dataTable, element);\n",
              "        const docLink = document.createElement('div');\n",
              "        docLink.innerHTML = docLinkHtml;\n",
              "        element.appendChild(docLink);\n",
              "      }\n",
              "    </script>\n",
              "  </div>\n",
              "\n",
              "\n",
              "<div id=\"df-0823fc88-a136-4c69-8cc2-b132b6e98760\">\n",
              "  <button class=\"colab-df-quickchart\" onclick=\"quickchart('df-0823fc88-a136-4c69-8cc2-b132b6e98760')\"\n",
              "            title=\"Suggest charts.\"\n",
              "            style=\"display:none;\">\n",
              "\n",
              "<svg xmlns=\"http://www.w3.org/2000/svg\" height=\"24px\"viewBox=\"0 0 24 24\"\n",
              "     width=\"24px\">\n",
              "    <g>\n",
              "        <path d=\"M19 3H5c-1.1 0-2 .9-2 2v14c0 1.1.9 2 2 2h14c1.1 0 2-.9 2-2V5c0-1.1-.9-2-2-2zM9 17H7v-7h2v7zm4 0h-2V7h2v10zm4 0h-2v-4h2v4z\"/>\n",
              "    </g>\n",
              "</svg>\n",
              "  </button>\n",
              "\n",
              "<style>\n",
              "  .colab-df-quickchart {\n",
              "      --bg-color: #E8F0FE;\n",
              "      --fill-color: #1967D2;\n",
              "      --hover-bg-color: #E2EBFA;\n",
              "      --hover-fill-color: #174EA6;\n",
              "      --disabled-fill-color: #AAA;\n",
              "      --disabled-bg-color: #DDD;\n",
              "  }\n",
              "\n",
              "  [theme=dark] .colab-df-quickchart {\n",
              "      --bg-color: #3B4455;\n",
              "      --fill-color: #D2E3FC;\n",
              "      --hover-bg-color: #434B5C;\n",
              "      --hover-fill-color: #FFFFFF;\n",
              "      --disabled-bg-color: #3B4455;\n",
              "      --disabled-fill-color: #666;\n",
              "  }\n",
              "\n",
              "  .colab-df-quickchart {\n",
              "    background-color: var(--bg-color);\n",
              "    border: none;\n",
              "    border-radius: 50%;\n",
              "    cursor: pointer;\n",
              "    display: none;\n",
              "    fill: var(--fill-color);\n",
              "    height: 32px;\n",
              "    padding: 0;\n",
              "    width: 32px;\n",
              "  }\n",
              "\n",
              "  .colab-df-quickchart:hover {\n",
              "    background-color: var(--hover-bg-color);\n",
              "    box-shadow: 0 1px 2px rgba(60, 64, 67, 0.3), 0 1px 3px 1px rgba(60, 64, 67, 0.15);\n",
              "    fill: var(--button-hover-fill-color);\n",
              "  }\n",
              "\n",
              "  .colab-df-quickchart-complete:disabled,\n",
              "  .colab-df-quickchart-complete:disabled:hover {\n",
              "    background-color: var(--disabled-bg-color);\n",
              "    fill: var(--disabled-fill-color);\n",
              "    box-shadow: none;\n",
              "  }\n",
              "\n",
              "  .colab-df-spinner {\n",
              "    border: 2px solid var(--fill-color);\n",
              "    border-color: transparent;\n",
              "    border-bottom-color: var(--fill-color);\n",
              "    animation:\n",
              "      spin 1s steps(1) infinite;\n",
              "  }\n",
              "\n",
              "  @keyframes spin {\n",
              "    0% {\n",
              "      border-color: transparent;\n",
              "      border-bottom-color: var(--fill-color);\n",
              "      border-left-color: var(--fill-color);\n",
              "    }\n",
              "    20% {\n",
              "      border-color: transparent;\n",
              "      border-left-color: var(--fill-color);\n",
              "      border-top-color: var(--fill-color);\n",
              "    }\n",
              "    30% {\n",
              "      border-color: transparent;\n",
              "      border-left-color: var(--fill-color);\n",
              "      border-top-color: var(--fill-color);\n",
              "      border-right-color: var(--fill-color);\n",
              "    }\n",
              "    40% {\n",
              "      border-color: transparent;\n",
              "      border-right-color: var(--fill-color);\n",
              "      border-top-color: var(--fill-color);\n",
              "    }\n",
              "    60% {\n",
              "      border-color: transparent;\n",
              "      border-right-color: var(--fill-color);\n",
              "    }\n",
              "    80% {\n",
              "      border-color: transparent;\n",
              "      border-right-color: var(--fill-color);\n",
              "      border-bottom-color: var(--fill-color);\n",
              "    }\n",
              "    90% {\n",
              "      border-color: transparent;\n",
              "      border-bottom-color: var(--fill-color);\n",
              "    }\n",
              "  }\n",
              "</style>\n",
              "\n",
              "  <script>\n",
              "    async function quickchart(key) {\n",
              "      const quickchartButtonEl =\n",
              "        document.querySelector('#' + key + ' button');\n",
              "      quickchartButtonEl.disabled = true;  // To prevent multiple clicks.\n",
              "      quickchartButtonEl.classList.add('colab-df-spinner');\n",
              "      try {\n",
              "        const charts = await google.colab.kernel.invokeFunction(\n",
              "            'suggestCharts', [key], {});\n",
              "      } catch (error) {\n",
              "        console.error('Error during call to suggestCharts:', error);\n",
              "      }\n",
              "      quickchartButtonEl.classList.remove('colab-df-spinner');\n",
              "      quickchartButtonEl.classList.add('colab-df-quickchart-complete');\n",
              "    }\n",
              "    (() => {\n",
              "      let quickchartButtonEl =\n",
              "        document.querySelector('#df-0823fc88-a136-4c69-8cc2-b132b6e98760 button');\n",
              "      quickchartButtonEl.style.display =\n",
              "        google.colab.kernel.accessAllowed ? 'block' : 'none';\n",
              "    })();\n",
              "  </script>\n",
              "</div>\n",
              "    </div>\n",
              "  </div>\n"
            ]
          },
          "metadata": {},
          "execution_count": 9
        }
      ]
    }
  ]
}